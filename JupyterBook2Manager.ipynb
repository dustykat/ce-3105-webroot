{
 "cells": [
  {
   "cell_type": "code",
   "execution_count": 1,
   "metadata": {},
   "outputs": [
    {
     "name": "stdout",
     "output_type": "stream",
     "text": [
      "/home/webroot/ce-3105-webroot\n"
     ]
    }
   ],
   "source": [
    "! pwd"
   ]
  },
  {
   "cell_type": "code",
   "execution_count": 7,
   "metadata": {},
   "outputs": [
    {
     "name": "stdout",
     "output_type": "stream",
     "text": [
      "\n",
      "\u001b[92m===============================================================================\u001b[0m\n",
      "\n",
      "Your _build directory has been emptied except for .jupyter_cache\n",
      "\n",
      "\u001b[92m===============================================================================\u001b[0m\n",
      "\n"
     ]
    }
   ],
   "source": [
    "! jupyter-book clean 1-LabManual"
   ]
  },
  {
   "cell_type": "code",
   "execution_count": 16,
   "metadata": {},
   "outputs": [
    {
     "name": "stdout",
     "output_type": "stream",
     "text": [
      "\u001b[32m\u001b[1mRunning Jupyter-Book v1.0.2\u001b[0m\n",
      "Traceback (most recent call last):\n",
      "  File \"/opt/jupyterhub/lib/python3.10/site-packages/jupyter_book/cli/main.py\", line 242, in build\n",
      "    parse_toc_yaml(toc)\n",
      "  File \"/opt/jupyterhub/lib/python3.10/site-packages/sphinx_external_toc/parsing.py\", line 90, in parse_toc_yaml\n",
      "    return parse_toc_data(data)\n",
      "  File \"/opt/jupyterhub/lib/python3.10/site-packages/sphinx_external_toc/parsing.py\", line 125, in parse_toc_data\n",
      "    _parse_docs_list(docs_list, site_map, defaults, depth=1, file_format=file_format)\n",
      "  File \"/opt/jupyterhub/lib/python3.10/site-packages/sphinx_external_toc/parsing.py\", line 312, in _parse_docs_list\n",
      "    raise MalformedError(f\"document file used multiple times: '{docname}'\")\n",
      "sphinx_external_toc.parsing.MalformedError: document file used multiple times: 'experiments/5ex2-pipeflow/ex2'\n",
      "\n",
      "During handling of the above exception, another exception occurred:\n",
      "\n",
      "Traceback (most recent call last):\n",
      "  File \"/opt/jupyterhub/bin/jupyter-book\", line 8, in <module>\n",
      "    sys.exit(main())\n",
      "  File \"/opt/jupyterhub/lib/python3.10/site-packages/click/core.py\", line 1157, in __call__\n",
      "    return self.main(*args, **kwargs)\n",
      "  File \"/opt/jupyterhub/lib/python3.10/site-packages/click/core.py\", line 1078, in main\n",
      "    rv = self.invoke(ctx)\n",
      "  File \"/opt/jupyterhub/lib/python3.10/site-packages/click/core.py\", line 1688, in invoke\n",
      "    return _process_result(sub_ctx.command.invoke(sub_ctx))\n",
      "  File \"/opt/jupyterhub/lib/python3.10/site-packages/click/core.py\", line 1434, in invoke\n",
      "    return ctx.invoke(self.callback, **ctx.params)\n",
      "  File \"/opt/jupyterhub/lib/python3.10/site-packages/click/core.py\", line 783, in invoke\n",
      "    return __callback(*args, **kwargs)\n",
      "  File \"/opt/jupyterhub/lib/python3.10/site-packages/jupyter_book/cli/main.py\", line 244, in build\n",
      "    _error(\n",
      "  File \"/opt/jupyterhub/lib/python3.10/site-packages/jupyter_book/utils.py\", line 48, in _error\n",
      "    raise kind(box)\n",
      "RuntimeError: \n",
      "\u001b[91m===============================================================================\u001b[0m\n",
      "\n",
      "The Table of Contents file is malformed: document file used multiple times: 'experiments/5ex2-pipeflow/ex2'\n",
      "You may need to migrate from the old format, using:\n",
      "\n",
      "\tjupyter-book toc migrate /home/webroot/ce-3105-webroot/1-LabManual/_toc.yml -o /home/webroot/ce-3105-webroot/1-LabManual/_toc.yml\n",
      "\n",
      "\u001b[91m===============================================================================\u001b[0m\n",
      "\n"
     ]
    }
   ],
   "source": [
    "! jupyter-book build 1-LabManual"
   ]
  },
  {
   "cell_type": "code",
   "execution_count": null,
   "metadata": {},
   "outputs": [],
   "source": []
  },
  {
   "cell_type": "code",
   "execution_count": null,
   "metadata": {},
   "outputs": [],
   "source": []
  }
 ],
 "metadata": {
  "kernelspec": {
   "display_name": "Python Common Environment",
   "language": "python",
   "name": "python-my-env"
  },
  "language_info": {
   "codemirror_mode": {
    "name": "ipython",
    "version": 3
   },
   "file_extension": ".py",
   "mimetype": "text/x-python",
   "name": "python",
   "nbconvert_exporter": "python",
   "pygments_lexer": "ipython3",
   "version": "3.10.12"
  }
 },
 "nbformat": 4,
 "nbformat_minor": 4
}
