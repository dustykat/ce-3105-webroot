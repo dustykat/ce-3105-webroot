{
 "cells": [
  {
   "cell_type": "code",
   "execution_count": 1,
   "metadata": {},
   "outputs": [
    {
     "name": "stdout",
     "output_type": "stream",
     "text": [
      "/home/webroot/ce-3105-webroot\n"
     ]
    }
   ],
   "source": [
    "! pwd"
   ]
  },
  {
   "cell_type": "code",
   "execution_count": 15,
   "metadata": {},
   "outputs": [
    {
     "name": "stdout",
     "output_type": "stream",
     "text": [
      "\n",
      "\u001b[92m===============================================================================\u001b[0m\n",
      "\n",
      "Your _build directory has been emptied except for .jupyter_cache\n",
      "\n",
      "\u001b[92m===============================================================================\u001b[0m\n",
      "\n"
     ]
    }
   ],
   "source": [
    "! jupyter-book clean 1-LabManual"
   ]
  },
  {
   "cell_type": "code",
   "execution_count": 16,
   "metadata": {},
   "outputs": [
    {
     "name": "stdout",
     "output_type": "stream",
     "text": [
      "\u001b[32m\u001b[1mRunning Jupyter-Book v1.0.2\u001b[0m\n",
      "\u001b[34m\u001b[1mSource Folder: \u001b[0m/home/webroot/ce-3105-webroot/1-LabManual\n",
      "\u001b[34m\u001b[1mConfig Path: \u001b[0m/home/webroot/ce-3105-webroot/1-LabManual/_config.yml\n",
      "\u001b[34m\u001b[1mOutput Path: \u001b[0m/home/webroot/ce-3105-webroot/1-LabManual/_build/html\n",
      "\u001b[01mRunning Sphinx v7.4.7\u001b[39;49;00m\n",
      "\u001b[01mloading translations [en]... \u001b[39;49;00mdone\n",
      "\u001b[01mmaking output directory... \u001b[39;49;00mdone\n",
      "[etoc] Changing master_doc to 'intro'\n",
      "checking bibtex cache... out of date\n",
      "parsing bibtex file /home/webroot/ce-3105-webroot/1-LabManual/references.bib... parsed 5 entries\n",
      "\u001b[01mmyst v2.0.0:\u001b[39;49;00m MdParserConfig(commonmark_only=False, gfm_only=False, enable_extensions={'colon_fence', 'dollarmath', 'substitution', 'tasklist', 'linkify'}, disable_syntax=[], all_links_external=False, url_schemes=('mailto', 'http', 'https'), ref_domains=None, fence_as_directive=set(), number_code_blocks=[], title_to_header=False, heading_anchors=0, heading_slug_func=None, html_meta={}, footnote_transition=True, words_per_minute=200, substitutions={}, linkify_fuzzy_links=True, dmath_allow_labels=True, dmath_allow_space=True, dmath_allow_digits=True, dmath_double_inline=False, update_mathjax=True, mathjax_classes='tex2jax_process|mathjax_process|math|output_area', enable_checkboxes=False, suppress_warnings=[], highlight_code_blocks=True)\n",
      "\u001b[01mmyst-nb v1.1.1:\u001b[39;49;00m NbParserConfig(custom_formats={}, metadata_key='mystnb', cell_metadata_key='mystnb', kernel_rgx_aliases={}, eval_name_regex='^[a-zA-Z_][a-zA-Z0-9_]*$', execution_mode='cache', execution_cache_path='', execution_excludepatterns=[], execution_timeout=-1, execution_in_temp=False, execution_allow_errors=False, execution_raise_on_error=False, execution_show_tb=False, merge_streams=False, render_plugin='default', remove_code_source=False, remove_code_outputs=False, code_prompt_show='Show code cell {type}', code_prompt_hide='Hide code cell {type}', number_source_lines=False, output_stderr='show', render_text_lexer='myst-ansi', render_error_lexer='ipythontb', render_image_options={}, render_figure_options={}, render_markdown_format='commonmark', output_folder='build', append_css=True, metadata_to_fm=False)\n",
      "Using jupyter-cache at: /home/webroot/ce-3105-webroot/1-LabManual/_build/.jupyter_cache\n",
      "\u001b[01msphinx-multitoc-numbering v0.1.3:\u001b[39;49;00m Loaded\n",
      "\u001b[01mbuilding [mo]: \u001b[39;49;00mtargets for 0 po files that are out of date\n",
      "\u001b[01mwriting output... \u001b[39;49;00m\n",
      "\u001b[01mbuilding [html]: \u001b[39;49;00mtargets for 46 source files that are out of date\n",
      "\u001b[01mupdating environment: \u001b[39;49;00m[new config] 46 added, 0 changed, 0 removed\n",
      "/home/webroot/ce-3105-webroot/1-LabManual/experiments/0syllabus/ce-3105-syllabus-2025-3.ipynb: Using cached notebook: ID=28 [mystnb]\n",
      "/home/webroot/ce-3105-webroot/1-LabManual/experiments/10ex7-openflow/ex7.ipynb: Using cached notebook: ID=6 [mystnb]\n",
      "/home/webroot/ce-3105-webroot/1-LabManual/experiments/11ex8-backwater/0openchannel_gvf.ipynb: Using cached notebook: ID=9 [mystnb]\n",
      "/home/webroot/ce-3105-webroot/1-LabManual/experiments/11ex8-backwater/ex8.ipynb: Using cached notebook: ID=10 [mystnb]\n",
      "/home/webroot/ce-3105-webroot/1-LabManual/experiments/11ex8-backwater/ex8_sample_report-excel.ipynb: Using cached notebook: ID=8 [mystnb]\n",
      "/home/webroot/ce-3105-webroot/1-LabManual/experiments/11ex8-backwater/ex8_sample_report-python.ipynb: Using cached notebook: ID=11 [mystnb]\n",
      "/home/webroot/ce-3105-webroot/1-LabManual/experiments/12ex9-hydraulicjump/ex9.ipynb: Using cached notebook: ID=6 [mystnb]\n",
      "/home/webroot/ce-3105-webroot/1-LabManual/experiments/12ex9-hydraulicjump/ex9_sample_calculations.ipynb: Using cached notebook: ID=7 [mystnb]\n",
      "/home/webroot/ce-3105-webroot/1-LabManual/experiments/12ex9-hydraulicjump/ex9_sample_report.ipynb: Using cached notebook: ID=8 [mystnb]\n",
      "/home/webroot/ce-3105-webroot/1-LabManual/experiments/13ex10-waterhammer/ex10.ipynb: Using cached notebook: ID=16 [mystnb]\n",
      "/home/webroot/ce-3105-webroot/1-LabManual/experiments/14ex11-flownets/ex11.ipynb: Using cached notebook: ID=12 [mystnb]\n",
      "/home/webroot/ce-3105-webroot/1-LabManual/experiments/1safety/safety.ipynb: Using cached notebook: ID=6 [mystnb]\n",
      "/home/webroot/ce-3105-webroot/1-LabManual/experiments/2purpose/purpose.ipynb: Using cached notebook: ID=4 [mystnb]\n",
      "/home/webroot/ce-3105-webroot/1-LabManual/experiments/3experimentation/experimentation.ipynb: Using cached notebook: ID=4 [mystnb]\n",
      "/home/webroot/ce-3105-webroot/1-LabManual/experiments/3experimentation/lab-report-format.ipynb: Using cached notebook: ID=29 [mystnb]\n",
      "/home/webroot/ce-3105-webroot/1-LabManual/experiments/3experimentation/lab-report-rubric.ipynb: Using cached notebook: ID=4 [mystnb]\n",
      "/home/webroot/ce-3105-webroot/1-LabManual/experiments/4ex1-statics/ex1.ipynb: Using cached notebook: ID=23 [mystnb]\n",
      "/home/webroot/ce-3105-webroot/1-LabManual/experiments/4ex1-statics/ex1-Copy1.ipynb: Using cached notebook: ID=24 [mystnb]\n",
      "/home/webroot/ce-3105-webroot/1-LabManual/experiments/4ex1-statics/ex1_sample_report.ipynb: Using cached notebook: ID=26 [mystnb]\n",
      "/home/webroot/ce-3105-webroot/1-LabManual/experiments/5ex2-pipeflow/ex2.ipynb: Using cached notebook: ID=6 [mystnb]\n",
      "/home/webroot/ce-3105-webroot/1-LabManual/experiments/5ex2-pipeflow/ex2_sample_calculations.ipynb: Using cached notebook: ID=4 [mystnb]\n",
      "/home/webroot/ce-3105-webroot/1-LabManual/experiments/5ex2-pipeflow/ex2_sample_report.ipynb: Using cached notebook: ID=20 [mystnb]\n",
      "/home/webroot/ce-3105-webroot/1-LabManual/experiments/5ex2-pipeflow/ex2_sample_report-Copy1.ipynb: Using cached notebook: ID=4 [mystnb]\n",
      "/home/webroot/ce-3105-webroot/1-LabManual/experiments/5ex2-pipeflow/massflowmeters.ipynb: Using cached notebook: ID=4 [mystnb]\n",
      "/home/webroot/ce-3105-webroot/1-LabManual/experiments/6ex3-reynolds/ex3.ipynb: Using cached notebook: ID=6 [mystnb]\n",
      "/home/webroot/ce-3105-webroot/1-LabManual/experiments/7ex4-pipeloss/Lab 4 - solution.ipynb: Using cached notebook: ID=21 [mystnb]\n",
      "/home/webroot/ce-3105-webroot/1-LabManual/experiments/7ex4-pipeloss/Lab 5 - solution.ipynb: Using cached notebook: ID=22 [mystnb]\n",
      "/home/webroot/ce-3105-webroot/1-LabManual/experiments/7ex4-pipeloss/ex4.ipynb: Using cached notebook: ID=6 [mystnb]\n",
      "/home/webroot/ce-3105-webroot/1-LabManual/experiments/7ex4-pipeloss/ex4_sample_report.ipynb: Using cached notebook: ID=3 [mystnb]\n",
      "/home/webroot/ce-3105-webroot/1-LabManual/experiments/7ex4-pipeloss/laboratory4_sample_protocol.ipynb: Using cached notebook: ID=3 [mystnb]\n",
      "/home/webroot/ce-3105-webroot/1-LabManual/experiments/7ex4-pipeloss/laboratory5.ipynb: Using cached notebook: ID=6 [mystnb]\n",
      "/home/webroot/ce-3105-webroot/1-LabManual/experiments/7ex4-pipeloss/laboratory5_sample_protocol.ipynb: Using cached notebook: ID=6 [mystnb]\n",
      "/home/webroot/ce-3105-webroot/1-LabManual/experiments/8ex5-momentum/ex5.ipynb: Using cached notebook: ID=6 [mystnb]\n",
      "/home/webroot/ce-3105-webroot/1-LabManual/experiments/8ex5-momentum/ex5_sample_calculations.ipynb: Using cached notebook: ID=19 [mystnb]\n",
      "/home/webroot/ce-3105-webroot/1-LabManual/experiments/8ex5-momentum/ex5_sample_report.ipynb: Using cached notebook: ID=12 [mystnb]\n",
      "/home/webroot/ce-3105-webroot/1-LabManual/experiments/9ex6-pumps/ex6A.ipynb: Using cached notebook: ID=17 [mystnb]\n",
      "/home/webroot/ce-3105-webroot/1-LabManual/experiments/9ex6-pumps/ex6A_samplereport.ipynb: Using cached notebook: ID=18 [mystnb]\n",
      "/home/webroot/ce-3105-webroot/1-LabManual/experiments/abet_plan/abet_plan.ipynb: Using cached notebook: ID=4 [mystnb]\n",
      "/home/webroot/ce-3105-webroot/1-LabManual/markdown-notebooks.md: Using cached notebook: ID=1 [mystnb]\n",
      "/home/webroot/ce-3105-webroot/1-LabManual/notebooks.ipynb: Using cached notebook: ID=2 [mystnb]\n",
      "\n",
      "\u001b[91m/home/webroot/ce-3105-webroot/1-LabManual/experiments/3experimentation/lab_report_template.md:3: WARNING: Document headings start at H2, not H1 [myst.header]\u001b[39;49;00m\n",
      "\u001b[31m/home/webroot/ce-3105-webroot/1-LabManual/experiments/3experimentation/lab_report_template.md:2: ERROR: Document or section may not begin with a transition.\u001b[39;49;00m\n",
      "\u001b[31m/home/webroot/ce-3105-webroot/1-LabManual/experiments/3experimentation/lab_ta_coversheet.md:18: ERROR: Document or section may not begin with a transition.\u001b[39;49;00m\n",
      "\u001b[31m/home/webroot/ce-3105-webroot/1-LabManual/experiments/3experimentation/lab_ta_coversheet.md:19: ERROR: At least one body element must separate transitions; adjacent transitions are not allowed.\u001b[39;49;00m\n",
      "\u001b[31m/home/webroot/ce-3105-webroot/1-LabManual/experiments/3experimentation/lab_ta_coversheet.md:20: ERROR: At least one body element must separate transitions; adjacent transitions are not allowed.\u001b[39;49;00m\n",
      "\u001b[01mlooking for now-outdated files... \u001b[39;49;00mnone found\n",
      "\u001b[01mpickling environment... \u001b[39;49;00mdone\n",
      "\u001b[01mchecking consistency... \u001b[39;49;00m\u001b[91m/home/webroot/ce-3105-webroot/1-LabManual/experiments/11ex8-backwater/0openchannel_gvf.ipynb: WARNING: document isn't included in any toctree\u001b[39;49;00m\n",
      "\u001b[91m/home/webroot/ce-3105-webroot/1-LabManual/experiments/13ex10-waterhammer/ex10.ipynb: WARNING: document isn't included in any toctree\u001b[39;49;00m\n",
      "\u001b[91m/home/webroot/ce-3105-webroot/1-LabManual/experiments/2purpose/purpose.ipynb: WARNING: document isn't included in any toctree\u001b[39;49;00m\n",
      "\u001b[91m/home/webroot/ce-3105-webroot/1-LabManual/experiments/3experimentation/ce3105_lab_rubric.md: WARNING: document isn't included in any toctree\u001b[39;49;00m\n",
      "\u001b[91m/home/webroot/ce-3105-webroot/1-LabManual/experiments/3experimentation/lab_report_template.md: WARNING: document isn't included in any toctree\u001b[39;49;00m\n",
      "\u001b[91m/home/webroot/ce-3105-webroot/1-LabManual/experiments/3experimentation/lab_ta_coversheet.md: WARNING: document isn't included in any toctree\u001b[39;49;00m\n",
      "\u001b[91m/home/webroot/ce-3105-webroot/1-LabManual/experiments/4ex1-statics/ex1-Copy1.ipynb: WARNING: document isn't included in any toctree\u001b[39;49;00m\n",
      "\u001b[91m/home/webroot/ce-3105-webroot/1-LabManual/experiments/4ex1-statics/ex1_sample_report.ipynb: WARNING: document isn't included in any toctree\u001b[39;49;00m\n",
      "\u001b[91m/home/webroot/ce-3105-webroot/1-LabManual/experiments/5ex2-pipeflow/ex2_sample_calculations.ipynb: WARNING: document isn't included in any toctree\u001b[39;49;00m\n",
      "\u001b[91m/home/webroot/ce-3105-webroot/1-LabManual/experiments/5ex2-pipeflow/ex2_sample_report-Copy1.ipynb: WARNING: document isn't included in any toctree\u001b[39;49;00m\n",
      "\u001b[91m/home/webroot/ce-3105-webroot/1-LabManual/experiments/5ex2-pipeflow/laboratory3_sample_report.md: WARNING: document isn't included in any toctree\u001b[39;49;00m\n",
      "\u001b[91m/home/webroot/ce-3105-webroot/1-LabManual/experiments/5ex2-pipeflow/massflowmeters.ipynb: WARNING: document isn't included in any toctree\u001b[39;49;00m\n",
      "\u001b[91m/home/webroot/ce-3105-webroot/1-LabManual/experiments/6ex3-reynolds/ex3.ipynb: WARNING: document isn't included in any toctree\u001b[39;49;00m\n",
      "\u001b[91m/home/webroot/ce-3105-webroot/1-LabManual/experiments/7ex4-pipeloss/Lab 4 - solution.ipynb: WARNING: document isn't included in any toctree\u001b[39;49;00m\n",
      "\u001b[91m/home/webroot/ce-3105-webroot/1-LabManual/experiments/7ex4-pipeloss/Lab 5 - solution.ipynb: WARNING: document isn't included in any toctree\u001b[39;49;00m\n",
      "\u001b[91m/home/webroot/ce-3105-webroot/1-LabManual/experiments/7ex4-pipeloss/laboratory4_sample_protocol.ipynb: WARNING: document isn't included in any toctree\u001b[39;49;00m\n",
      "\u001b[91m/home/webroot/ce-3105-webroot/1-LabManual/experiments/7ex4-pipeloss/laboratory5.ipynb: WARNING: document isn't included in any toctree\u001b[39;49;00m\n",
      "\u001b[91m/home/webroot/ce-3105-webroot/1-LabManual/experiments/7ex4-pipeloss/laboratory5_sample_protocol.ipynb: WARNING: document isn't included in any toctree\u001b[39;49;00m\n",
      "\u001b[91m/home/webroot/ce-3105-webroot/1-LabManual/markdown.md: WARNING: document isn't included in any toctree\u001b[39;49;00m\n",
      "\u001b[91m/home/webroot/ce-3105-webroot/1-LabManual/markdown-notebooks.md: WARNING: document isn't included in any toctree\u001b[39;49;00m\n",
      "\u001b[91m/home/webroot/ce-3105-webroot/1-LabManual/notebooks.ipynb: WARNING: document isn't included in any toctree\u001b[39;49;00m\n",
      "done\n",
      "\u001b[01mpreparing documents... \u001b[39;49;00mdone\n",
      "\u001b[01mcopying assets... \u001b[39;49;00m\n",
      "\u001b[01mcopying static files... \u001b[39;49;00mdone\n",
      "\u001b[01mcopying extra files... \u001b[39;49;00mdone\n",
      "\u001b[01mcopying assets: \u001b[39;49;00mdone\n",
      "\u001b[2K\u001b[01mwriting output... \u001b[39;49;00m[100%] \u001b[32mnotebooks\u001b[39;49;00m39;49;00man\u001b[39;49;00m39;49;00m00m49;00m;00m0m\n",
      "\u001b[91m/home/webroot/ce-3105-webroot/1-LabManual/experiments/13ex10-waterhammer/ex10.ipynb:160006: WARNING: 'myst' cross-reference target not found: '' [myst.xref_missing]\u001b[39;49;00m\n",
      "\u001b[91m/home/webroot/ce-3105-webroot/1-LabManual/experiments/14ex11-flownets/ex11.ipynb:50006: WARNING: 'myst' cross-reference target not found: '' [myst.xref_missing]\u001b[39;49;00m\n",
      "\u001b[91m/home/webroot/ce-3105-webroot/1-LabManual/experiments/4ex1-statics/ex1.ipynb:30009: WARNING: 'myst' cross-reference target not found: '54.243.252.9/ce-3105-webroot/7-user-manuals/H314-HydrostaticsAndPropertiesofFluids.pdf' [myst.xref_missing]\u001b[39;49;00m\n",
      "\u001b[91m/home/webroot/ce-3105-webroot/1-LabManual/experiments/4ex1-statics/ex1.ipynb:270006: WARNING: 'myst' cross-reference target not found: '' [myst.xref_missing]\u001b[39;49;00m\n",
      "\u001b[91m/home/webroot/ce-3105-webroot/1-LabManual/experiments/4ex1-statics/ex1-Copy1.ipynb:30009: WARNING: 'myst' cross-reference target not found: '54.243.252.9/ce-3105-webroot/7-user-manuals/H314-HydrostaticsAndPropertiesofFluids.pdf' [myst.xref_missing]\u001b[39;49;00m\n",
      "\u001b[91m/home/webroot/ce-3105-webroot/1-LabManual/experiments/6ex3-reynolds/ex3.ipynb:30004: WARNING: 'myst' cross-reference target not found: '' [myst.xref_missing]\u001b[39;49;00m\n",
      "\u001b[91m/home/webroot/ce-3105-webroot/1-LabManual/experiments/6ex3-reynolds/ex3.ipynb:80004: WARNING: 'myst' cross-reference target not found: '' [myst.xref_missing]\u001b[39;49;00m\n",
      "\u001b[01mgenerating indices... \u001b[39;49;00mgenindex done\n",
      "\u001b[01mwriting additional pages... \u001b[39;49;00msearch done\n",
      "\u001b[2K\u001b[01mcopying images... \u001b[39;49;00m[100%] \u001b[33m_build/jupyter_execute/a31e63b1f6ca34376ef17d2b6c277648c6b47bb0a75c5165999735167a988593.png\u001b[39;49;00m\u001b[01mcopying images... \u001b[39;49;00m[ 40%] \u001b[33mexperiments/12ex9-hydraulicjump/cvcomplete.png\u001b[39;49;00m\n",
      "\u001b[01mdumping search index in English (code: en)... \u001b[39;49;00mdone\n",
      "\u001b[01mdumping object inventory... \u001b[39;49;00mdone\n",
      "[etoc] missing index.html written as redirect to 'intro.html'\n",
      "\u001b[01mbuild succeeded, 33 warnings.\u001b[39;49;00m\n",
      "\n",
      "The HTML pages are in 1-LabManual/_build/html.\n",
      "\n",
      "\u001b[92m===============================================================================\u001b[0m\n",
      "\n",
      "Finished generating HTML for book.\n",
      "Your book's HTML pages are here:\n",
      "    1-LabManual/_build/html/\n",
      "You can look at your book by opening this file in a browser:\n",
      "    1-LabManual/_build/html/index.html\n",
      "Or paste this line directly into your browser bar:\n",
      "    file:///home/webroot/ce-3105-webroot/1-LabManual/_build/html/index.html            \n",
      "\n",
      "\u001b[92m===============================================================================\u001b[0m\n",
      "\n"
     ]
    }
   ],
   "source": [
    "! jupyter-book build 1-LabManual"
   ]
  },
  {
   "cell_type": "code",
   "execution_count": null,
   "metadata": {},
   "outputs": [],
   "source": []
  },
  {
   "cell_type": "code",
   "execution_count": null,
   "metadata": {},
   "outputs": [],
   "source": []
  }
 ],
 "metadata": {
  "kernelspec": {
   "display_name": "Python Common Environment",
   "language": "python",
   "name": "python-my-env"
  },
  "language_info": {
   "codemirror_mode": {
    "name": "ipython",
    "version": 3
   },
   "file_extension": ".py",
   "mimetype": "text/x-python",
   "name": "python",
   "nbconvert_exporter": "python",
   "pygments_lexer": "ipython3",
   "version": "3.10.12"
  }
 },
 "nbformat": 4,
 "nbformat_minor": 4
}
