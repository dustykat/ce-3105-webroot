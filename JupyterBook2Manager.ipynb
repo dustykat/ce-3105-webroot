{
 "cells": [
  {
   "cell_type": "code",
   "execution_count": 1,
   "metadata": {},
   "outputs": [
    {
     "name": "stdout",
     "output_type": "stream",
     "text": [
      "/home/webroot/ce-3105-webroot\n"
     ]
    }
   ],
   "source": [
    "! pwd"
   ]
  },
  {
   "cell_type": "code",
   "execution_count": 7,
   "metadata": {},
   "outputs": [
    {
     "name": "stdout",
     "output_type": "stream",
     "text": [
      "\n",
      "\u001b[92m===============================================================================\u001b[0m\n",
      "\n",
      "Your _build directory has been emptied except for .jupyter_cache\n",
      "\n",
      "\u001b[92m===============================================================================\u001b[0m\n",
      "\n"
     ]
    }
   ],
   "source": [
    "! jupyter-book clean 1-LabManual"
   ]
  },
  {
   "cell_type": "code",
   "execution_count": 14,
   "metadata": {},
   "outputs": [
    {
     "name": "stdout",
     "output_type": "stream",
     "text": [
      "\u001b[32m\u001b[1mRunning Jupyter-Book v1.0.2\u001b[0m\n",
      "\u001b[34m\u001b[1mSource Folder: \u001b[0m/home/webroot/ce-3105-webroot/1-LabManual\n",
      "\u001b[34m\u001b[1mConfig Path: \u001b[0m/home/webroot/ce-3105-webroot/1-LabManual/_config.yml\n",
      "\u001b[34m\u001b[1mOutput Path: \u001b[0m/home/webroot/ce-3105-webroot/1-LabManual/_build/html\n",
      "\u001b[01mRunning Sphinx v7.4.7\u001b[39;49;00m\n",
      "\u001b[01mloading translations [en]... \u001b[39;49;00mdone\n",
      "[etoc] Changing master_doc to 'intro'\n",
      "\u001b[01mloading pickled environment... \u001b[39;49;00mchecking bibtex cache... up to date\n",
      "done\n",
      "\u001b[01mmyst v2.0.0:\u001b[39;49;00m MdParserConfig(commonmark_only=False, gfm_only=False, enable_extensions={'substitution', 'dollarmath', 'tasklist', 'colon_fence', 'linkify'}, disable_syntax=[], all_links_external=False, url_schemes=('mailto', 'http', 'https'), ref_domains=None, fence_as_directive=set(), number_code_blocks=[], title_to_header=False, heading_anchors=0, heading_slug_func=None, html_meta={}, footnote_transition=True, words_per_minute=200, substitutions={}, linkify_fuzzy_links=True, dmath_allow_labels=True, dmath_allow_space=True, dmath_allow_digits=True, dmath_double_inline=False, update_mathjax=True, mathjax_classes='tex2jax_process|mathjax_process|math|output_area', enable_checkboxes=False, suppress_warnings=[], highlight_code_blocks=True)\n",
      "\u001b[01mmyst-nb v1.1.1:\u001b[39;49;00m NbParserConfig(custom_formats={}, metadata_key='mystnb', cell_metadata_key='mystnb', kernel_rgx_aliases={}, eval_name_regex='^[a-zA-Z_][a-zA-Z0-9_]*$', execution_mode='force', execution_cache_path='', execution_excludepatterns=[], execution_timeout=-1, execution_in_temp=False, execution_allow_errors=False, execution_raise_on_error=False, execution_show_tb=False, merge_streams=False, render_plugin='default', remove_code_source=False, remove_code_outputs=False, code_prompt_show='Show code cell {type}', code_prompt_hide='Hide code cell {type}', number_source_lines=False, output_stderr='show', render_text_lexer='myst-ansi', render_error_lexer='ipythontb', render_image_options={}, render_figure_options={}, render_markdown_format='commonmark', output_folder='build', append_css=True, metadata_to_fm=False)\n",
      "Using jupyter-cache at: /home/webroot/ce-3105-webroot/1-LabManual/_build/.jupyter_cache\n",
      "\u001b[01msphinx-multitoc-numbering v0.1.3:\u001b[39;49;00m Loaded\n",
      "\u001b[01mbuilding [mo]: \u001b[39;49;00mtargets for 0 po files that are out of date\n",
      "\u001b[01mwriting output... \u001b[39;49;00m\n",
      "\u001b[01mbuilding [html]: \u001b[39;49;00mtargets for 0 source files that are out of date\n",
      "\u001b[01mupdating environment: \u001b[39;49;00m[config changed ('nb_execution_mode')] 39 added, 0 changed, 0 removed\n",
      "/home/webroot/ce-3105-webroot/1-LabManual/experiments/0syllabus/ce-3105-syllabus-2025-3.ipynb: Executing notebook using local CWD [mystnb]\n",
      "/home/webroot/ce-3105-webroot/1-LabManual/experiments/0syllabus/ce-3105-syllabus-2025-3.ipynb: Executed notebook in 1.02 seconds [mystnb]\n",
      "/home/webroot/ce-3105-webroot/1-LabManual/experiments/10ex7-openflow/ex7.ipynb: Executing notebook using local CWD [mystnb]\n",
      "/home/webroot/ce-3105-webroot/1-LabManual/experiments/10ex7-openflow/ex7.ipynb: Executed notebook in 1.13 seconds [mystnb]\n",
      "/home/webroot/ce-3105-webroot/1-LabManual/experiments/11ex8-backwater/0openchannel_gvf.ipynb: Executing notebook using local CWD [mystnb]\n",
      "/home/webroot/ce-3105-webroot/1-LabManual/experiments/11ex8-backwater/0openchannel_gvf.ipynb: Executed notebook in 1.01 seconds [mystnb]\n",
      "/home/webroot/ce-3105-webroot/1-LabManual/experiments/11ex8-backwater/ex8.ipynb: Executing notebook using local CWD [mystnb]\n",
      "/home/webroot/ce-3105-webroot/1-LabManual/experiments/11ex8-backwater/ex8.ipynb: Executed notebook in 9.98 seconds [mystnb]\n",
      "/home/webroot/ce-3105-webroot/1-LabManual/experiments/11ex8-backwater/ex8_sample_report-excel.ipynb: Executing notebook using local CWD [mystnb]\n",
      "/home/webroot/ce-3105-webroot/1-LabManual/experiments/11ex8-backwater/ex8_sample_report-excel.ipynb: Executed notebook in 0.95 seconds [mystnb]\n",
      "/home/webroot/ce-3105-webroot/1-LabManual/experiments/11ex8-backwater/ex8_sample_report-python.ipynb: Executing notebook using local CWD [mystnb]\n",
      "/home/webroot/ce-3105-webroot/1-LabManual/experiments/11ex8-backwater/ex8_sample_report-python.ipynb: Executed notebook in 3.83 seconds [mystnb]\n",
      "/home/webroot/ce-3105-webroot/1-LabManual/experiments/12ex9-hydraulicjump/ex9.ipynb: Executing notebook using local CWD [mystnb]\n",
      "/home/webroot/ce-3105-webroot/1-LabManual/experiments/12ex9-hydraulicjump/ex9.ipynb: Executed notebook in 0.93 seconds [mystnb]\n",
      "/home/webroot/ce-3105-webroot/1-LabManual/experiments/12ex9-hydraulicjump/ex9_sample_calculations.ipynb: Executing notebook using local CWD [mystnb]\n",
      "/home/webroot/ce-3105-webroot/1-LabManual/experiments/12ex9-hydraulicjump/ex9_sample_calculations.ipynb: Executed notebook in 2.22 seconds [mystnb]\n",
      "/home/webroot/ce-3105-webroot/1-LabManual/experiments/12ex9-hydraulicjump/ex9_sample_report.ipynb: Executing notebook using local CWD [mystnb]\n",
      "/home/webroot/ce-3105-webroot/1-LabManual/experiments/12ex9-hydraulicjump/ex9_sample_report.ipynb: Executed notebook in 1.01 seconds [mystnb]\n",
      "/home/webroot/ce-3105-webroot/1-LabManual/experiments/13ex10-waterhammer/ex10.ipynb: Executing notebook using local CWD [mystnb]\n",
      "/home/webroot/ce-3105-webroot/1-LabManual/experiments/13ex10-waterhammer/ex10.ipynb: Executed notebook in 2.39 seconds [mystnb]\n",
      "/home/webroot/ce-3105-webroot/1-LabManual/experiments/14ex11-flownets/ex11.ipynb: Executing notebook using local CWD [mystnb]\n",
      "/home/webroot/ce-3105-webroot/1-LabManual/experiments/14ex11-flownets/ex11.ipynb: Executed notebook in 1.03 seconds [mystnb]\n",
      "/home/webroot/ce-3105-webroot/1-LabManual/experiments/1safety/safety.ipynb: Executing notebook using local CWD [mystnb]\n",
      "/home/webroot/ce-3105-webroot/1-LabManual/experiments/1safety/safety.ipynb: Executed notebook in 4.02 seconds [mystnb]\n",
      "/home/webroot/ce-3105-webroot/1-LabManual/experiments/2purpose/purpose.ipynb: Executing notebook using local CWD [mystnb]\n",
      "/home/webroot/ce-3105-webroot/1-LabManual/experiments/2purpose/purpose.ipynb: Executed notebook in 1.16 seconds [mystnb]\n",
      "/home/webroot/ce-3105-webroot/1-LabManual/experiments/3experimentation/experimentation.ipynb: Executing notebook using local CWD [mystnb]\n",
      "/home/webroot/ce-3105-webroot/1-LabManual/experiments/3experimentation/experimentation.ipynb: Executed notebook in 0.96 seconds [mystnb]\n",
      "/home/webroot/ce-3105-webroot/1-LabManual/experiments/3experimentation/lab-report-format.ipynb: Executing notebook using local CWD [mystnb]\n",
      "/home/webroot/ce-3105-webroot/1-LabManual/experiments/3experimentation/lab-report-format.ipynb: Executed notebook in 2.02 seconds [mystnb]\n",
      "/home/webroot/ce-3105-webroot/1-LabManual/experiments/3experimentation/lab-report-rubric.ipynb: Executing notebook using local CWD [mystnb]\n",
      "/home/webroot/ce-3105-webroot/1-LabManual/experiments/3experimentation/lab-report-rubric.ipynb: Executed notebook in 1.13 seconds [mystnb]\n",
      "/home/webroot/ce-3105-webroot/1-LabManual/experiments/4ex1-statics/ex1.ipynb: Executing notebook using local CWD [mystnb]\n",
      "/home/webroot/ce-3105-webroot/1-LabManual/experiments/4ex1-statics/ex1.ipynb: Executed notebook in 2.84 seconds [mystnb]\n",
      "/home/webroot/ce-3105-webroot/1-LabManual/experiments/4ex1-statics/ex1_sample_report.ipynb: Executing notebook using local CWD [mystnb]\n",
      "/home/webroot/ce-3105-webroot/1-LabManual/experiments/4ex1-statics/ex1_sample_report.ipynb: Executed notebook in 1.14 seconds [mystnb]\n",
      "/home/webroot/ce-3105-webroot/1-LabManual/experiments/5ex2-pipeflow/ex2.ipynb: Executing notebook using local CWD [mystnb]\n",
      "/home/webroot/ce-3105-webroot/1-LabManual/experiments/5ex2-pipeflow/ex2.ipynb: Executed notebook in 1.15 seconds [mystnb]\n",
      "/home/webroot/ce-3105-webroot/1-LabManual/experiments/5ex2-pipeflow/ex2_sample_calculations.ipynb: Executing notebook using local CWD [mystnb]\n",
      "/home/webroot/ce-3105-webroot/1-LabManual/experiments/5ex2-pipeflow/ex2_sample_calculations.ipynb: Executed notebook in 1.09 seconds [mystnb]\n",
      "/home/webroot/ce-3105-webroot/1-LabManual/experiments/5ex2-pipeflow/ex2_sample_report.ipynb: Executing notebook using local CWD [mystnb]\n",
      "/home/webroot/ce-3105-webroot/1-LabManual/experiments/5ex2-pipeflow/ex2_sample_report.ipynb: Executed notebook in 1.09 seconds [mystnb]\n",
      "/home/webroot/ce-3105-webroot/1-LabManual/experiments/5ex2-pipeflow/ex2_sample_report-Copy1.ipynb: Executing notebook using local CWD [mystnb]\n",
      "/home/webroot/ce-3105-webroot/1-LabManual/experiments/5ex2-pipeflow/ex2_sample_report-Copy1.ipynb: Executed notebook in 1.07 seconds [mystnb]\n",
      "/home/webroot/ce-3105-webroot/1-LabManual/experiments/5ex2-pipeflow/massflowmeters.ipynb: Executing notebook using local CWD [mystnb]\n",
      "/home/webroot/ce-3105-webroot/1-LabManual/experiments/5ex2-pipeflow/massflowmeters.ipynb: Executed notebook in 1.15 seconds [mystnb]\n",
      "/home/webroot/ce-3105-webroot/1-LabManual/experiments/6ex3-reynolds/ex3.ipynb: Executing notebook using local CWD [mystnb]\n",
      "/home/webroot/ce-3105-webroot/1-LabManual/experiments/6ex3-reynolds/ex3.ipynb: Executed notebook in 1.14 seconds [mystnb]\n",
      "/home/webroot/ce-3105-webroot/1-LabManual/experiments/7ex4-pipeloss/Lab 4 - solution.ipynb: Executing notebook using local CWD [mystnb]\n",
      "/home/webroot/ce-3105-webroot/1-LabManual/experiments/7ex4-pipeloss/Lab 4 - solution.ipynb: Executed notebook in 2.96 seconds [mystnb]\n",
      "/home/webroot/ce-3105-webroot/1-LabManual/experiments/7ex4-pipeloss/Lab 5 - solution.ipynb: Executing notebook using local CWD [mystnb]\n",
      "/home/webroot/ce-3105-webroot/1-LabManual/experiments/7ex4-pipeloss/Lab 5 - solution.ipynb: Executed notebook in 4.40 seconds [mystnb]\n",
      "/home/webroot/ce-3105-webroot/1-LabManual/experiments/7ex4-pipeloss/ex4.ipynb: Executing notebook using local CWD [mystnb]\n",
      "/home/webroot/ce-3105-webroot/1-LabManual/experiments/7ex4-pipeloss/ex4.ipynb: Executed notebook in 1.20 seconds [mystnb]\n",
      "/home/webroot/ce-3105-webroot/1-LabManual/experiments/7ex4-pipeloss/ex4_sample_report.ipynb: Executing notebook using local CWD [mystnb]\n",
      "/home/webroot/ce-3105-webroot/1-LabManual/experiments/7ex4-pipeloss/ex4_sample_report.ipynb: Executed notebook in 1.09 seconds [mystnb]\n",
      "/home/webroot/ce-3105-webroot/1-LabManual/experiments/7ex4-pipeloss/laboratory4_sample_protocol.ipynb: Executing notebook using local CWD [mystnb]\n",
      "/home/webroot/ce-3105-webroot/1-LabManual/experiments/7ex4-pipeloss/laboratory4_sample_protocol.ipynb: Executed notebook in 1.01 seconds [mystnb]\n",
      "/home/webroot/ce-3105-webroot/1-LabManual/experiments/7ex4-pipeloss/laboratory5.ipynb: Executing notebook using local CWD [mystnb]\n",
      "/home/webroot/ce-3105-webroot/1-LabManual/experiments/7ex4-pipeloss/laboratory5.ipynb: Executed notebook in 1.25 seconds [mystnb]\n",
      "/home/webroot/ce-3105-webroot/1-LabManual/experiments/7ex4-pipeloss/laboratory5_sample_protocol.ipynb: Executing notebook using local CWD [mystnb]\n",
      "/home/webroot/ce-3105-webroot/1-LabManual/experiments/7ex4-pipeloss/laboratory5_sample_protocol.ipynb: Executed notebook in 0.98 seconds [mystnb]\n",
      "/home/webroot/ce-3105-webroot/1-LabManual/experiments/8ex5-momentum/ex5.ipynb: Executing notebook using local CWD [mystnb]\n",
      "/home/webroot/ce-3105-webroot/1-LabManual/experiments/8ex5-momentum/ex5.ipynb: Executed notebook in 1.00 seconds [mystnb]\n",
      "/home/webroot/ce-3105-webroot/1-LabManual/experiments/8ex5-momentum/ex5_sample_calculations.ipynb: Executing notebook using local CWD [mystnb]\n",
      "/home/webroot/ce-3105-webroot/1-LabManual/experiments/8ex5-momentum/ex5_sample_calculations.ipynb: Executed notebook in 5.16 seconds [mystnb]\n",
      "/home/webroot/ce-3105-webroot/1-LabManual/experiments/8ex5-momentum/ex5_sample_report.ipynb: Executing notebook using local CWD [mystnb]\n",
      "/home/webroot/ce-3105-webroot/1-LabManual/experiments/8ex5-momentum/ex5_sample_report.ipynb: Executed notebook in 1.02 seconds [mystnb]\n",
      "/home/webroot/ce-3105-webroot/1-LabManual/experiments/9ex6-pumps/ex6A.ipynb: Executing notebook using local CWD [mystnb]\n",
      "/home/webroot/ce-3105-webroot/1-LabManual/experiments/9ex6-pumps/ex6A.ipynb: Executed notebook in 3.70 seconds [mystnb]\n",
      "/home/webroot/ce-3105-webroot/1-LabManual/experiments/9ex6-pumps/ex6A_samplereport.ipynb: Executing notebook using local CWD [mystnb]\n",
      "/home/webroot/ce-3105-webroot/1-LabManual/experiments/9ex6-pumps/ex6A_samplereport.ipynb: Executed notebook in 2.24 seconds [mystnb]\n",
      "/home/webroot/ce-3105-webroot/1-LabManual/experiments/abet_plan/abet_plan.ipynb: Executing notebook using local CWD [mystnb]\n",
      "/home/webroot/ce-3105-webroot/1-LabManual/experiments/abet_plan/abet_plan.ipynb: Executed notebook in 0.94 seconds [mystnb]\n",
      "\u001b[2K\u001b[01mreading sources... \u001b[39;49;00m[100%] \u001b[35mintro\u001b[39;49;00m\n",
      "\u001b[01mlooking for now-outdated files... \u001b[39;49;00mnone found\n",
      "\u001b[01mpickling environment... \u001b[39;49;00mdone\n",
      "\u001b[01mchecking consistency... \u001b[39;49;00m\u001b[91m/home/webroot/ce-3105-webroot/1-LabManual/experiments/11ex8-backwater/0openchannel_gvf.ipynb: WARNING: document isn't included in any toctree\u001b[39;49;00m\n",
      "\u001b[91m/home/webroot/ce-3105-webroot/1-LabManual/experiments/13ex10-waterhammer/ex10.ipynb: WARNING: document isn't included in any toctree\u001b[39;49;00m\n",
      "\u001b[91m/home/webroot/ce-3105-webroot/1-LabManual/experiments/2purpose/purpose.ipynb: WARNING: document isn't included in any toctree\u001b[39;49;00m\n",
      "\u001b[91m/home/webroot/ce-3105-webroot/1-LabManual/experiments/5ex2-pipeflow/ex2_sample_calculations.ipynb: WARNING: document isn't included in any toctree\u001b[39;49;00m\n",
      "\u001b[91m/home/webroot/ce-3105-webroot/1-LabManual/experiments/5ex2-pipeflow/ex2_sample_report-Copy1.ipynb: WARNING: document isn't included in any toctree\u001b[39;49;00m\n",
      "\u001b[91m/home/webroot/ce-3105-webroot/1-LabManual/experiments/5ex2-pipeflow/laboratory3_sample_report.md: WARNING: document isn't included in any toctree\u001b[39;49;00m\n",
      "\u001b[91m/home/webroot/ce-3105-webroot/1-LabManual/experiments/5ex2-pipeflow/massflowmeters.ipynb: WARNING: document isn't included in any toctree\u001b[39;49;00m\n",
      "\u001b[91m/home/webroot/ce-3105-webroot/1-LabManual/experiments/6ex3-reynolds/ex3.ipynb: WARNING: document isn't included in any toctree\u001b[39;49;00m\n",
      "\u001b[91m/home/webroot/ce-3105-webroot/1-LabManual/experiments/7ex4-pipeloss/Lab 4 - solution.ipynb: WARNING: document isn't included in any toctree\u001b[39;49;00m\n",
      "\u001b[91m/home/webroot/ce-3105-webroot/1-LabManual/experiments/7ex4-pipeloss/Lab 5 - solution.ipynb: WARNING: document isn't included in any toctree\u001b[39;49;00m\n",
      "\u001b[91m/home/webroot/ce-3105-webroot/1-LabManual/experiments/7ex4-pipeloss/laboratory4_sample_protocol.ipynb: WARNING: document isn't included in any toctree\u001b[39;49;00m\n",
      "\u001b[91m/home/webroot/ce-3105-webroot/1-LabManual/experiments/7ex4-pipeloss/laboratory5.ipynb: WARNING: document isn't included in any toctree\u001b[39;49;00m\n",
      "\u001b[91m/home/webroot/ce-3105-webroot/1-LabManual/experiments/7ex4-pipeloss/laboratory5_sample_protocol.ipynb: WARNING: document isn't included in any toctree\u001b[39;49;00m\n",
      "done\n",
      "\u001b[01mpreparing documents... \u001b[39;49;00mdone\n",
      "\u001b[01mcopying assets... \u001b[39;49;00m\n",
      "\u001b[01mcopying static files... \u001b[39;49;00mdone\n",
      "\u001b[01mcopying extra files... \u001b[39;49;00mdone\n",
      "\u001b[01mcopying assets: \u001b[39;49;00mdone\n",
      "\u001b[2K\u001b[01mwriting output... \u001b[39;49;00m[100%] \u001b[32mintro\u001b[39;49;00m_plan/abet_plan\u001b[39;49;00m39;49;00m00m49;00m;00m0m\n",
      "\u001b[91m/home/webroot/ce-3105-webroot/1-LabManual/experiments/13ex10-waterhammer/ex10.ipynb:160006: WARNING: 'myst' cross-reference target not found: '' [myst.xref_missing]\u001b[39;49;00m\n",
      "\u001b[91m/home/webroot/ce-3105-webroot/1-LabManual/experiments/14ex11-flownets/ex11.ipynb:50006: WARNING: 'myst' cross-reference target not found: '' [myst.xref_missing]\u001b[39;49;00m\n",
      "\u001b[91m/home/webroot/ce-3105-webroot/1-LabManual/experiments/6ex3-reynolds/ex3.ipynb:30004: WARNING: 'myst' cross-reference target not found: '' [myst.xref_missing]\u001b[39;49;00m\n",
      "\u001b[91m/home/webroot/ce-3105-webroot/1-LabManual/experiments/6ex3-reynolds/ex3.ipynb:80004: WARNING: 'myst' cross-reference target not found: '' [myst.xref_missing]\u001b[39;49;00m\n",
      "\u001b[01mgenerating indices... \u001b[39;49;00mgenindex done\n",
      "\u001b[01mwriting additional pages... \u001b[39;49;00msearch done\n",
      "\u001b[2K\u001b[01mcopying images... \u001b[39;49;00m[100%] \u001b[33m_build/jupyter_execute/f20ef81f9ac32bec0d6507f5dabc9bbb73a6ef274f22eee509259f79b1b0457c.png\u001b[39;49;00m\n",
      "\u001b[01mdumping search index in English (code: en)... \u001b[39;49;00mdone\n",
      "\u001b[01mdumping object inventory... \u001b[39;49;00mdone\n",
      "\u001b[01mbuild succeeded, 17 warnings.\u001b[39;49;00m\n",
      "\n",
      "The HTML pages are in 1-LabManual/_build/html.\n",
      "\n",
      "\u001b[92m===============================================================================\u001b[0m\n",
      "\n",
      "Finished generating HTML for book.\n",
      "Your book's HTML pages are here:\n",
      "    1-LabManual/_build/html/\n",
      "You can look at your book by opening this file in a browser:\n",
      "    1-LabManual/_build/html/index.html\n",
      "Or paste this line directly into your browser bar:\n",
      "    file:///home/webroot/ce-3105-webroot/1-LabManual/_build/html/index.html            \n",
      "\n",
      "\u001b[92m===============================================================================\u001b[0m\n",
      "\n"
     ]
    }
   ],
   "source": [
    "! jupyter-book build 1-LabManual"
   ]
  },
  {
   "cell_type": "code",
   "execution_count": null,
   "metadata": {},
   "outputs": [],
   "source": []
  },
  {
   "cell_type": "code",
   "execution_count": null,
   "metadata": {},
   "outputs": [],
   "source": []
  }
 ],
 "metadata": {
  "kernelspec": {
   "display_name": "Python Common Environment",
   "language": "python",
   "name": "python-my-env"
  },
  "language_info": {
   "codemirror_mode": {
    "name": "ipython",
    "version": 3
   },
   "file_extension": ".py",
   "mimetype": "text/x-python",
   "name": "python",
   "nbconvert_exporter": "python",
   "pygments_lexer": "ipython3",
   "version": "3.10.12"
  }
 },
 "nbformat": 4,
 "nbformat_minor": 4
}
