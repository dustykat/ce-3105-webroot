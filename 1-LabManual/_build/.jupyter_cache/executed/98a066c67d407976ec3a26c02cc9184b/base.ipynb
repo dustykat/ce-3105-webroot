{
 "cells": [
  {
   "cell_type": "code",
   "execution_count": null,
   "id": "bee3f9b6-1715-46be-9ffa-7d12528a27a7",
   "metadata": {},
   "outputs": [],
   "source": []
  }
 ],
 "metadata": {
  "kernelspec": {
   "display_name": "Python Common Environment",
   "language": "python",
   "name": "python-my-env"
  },
  "language_info": {
   "codemirror_mode": {
    "name": "ipython",
    "version": 3
   },
   "file_extension": ".py",
   "mimetype": "text/x-python",
   "name": "python",
   "nbconvert_exporter": "python",
   "pygments_lexer": "ipython3",
   "version": "3.10.12"
  }
 },
 "nbformat": 4,
 "nbformat_minor": 5
}