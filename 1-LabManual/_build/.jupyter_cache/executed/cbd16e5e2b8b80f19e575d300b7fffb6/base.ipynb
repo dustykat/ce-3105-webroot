{
 "cells": [
  {
   "cell_type": "code",
   "execution_count": 1,
   "id": "f3a8b924-8bf2-4312-bf97-9c08d5b07037",
   "metadata": {},
   "outputs": [],
   "source": [
    "# code here to make tables left justified"
   ]
  },
  {
   "cell_type": "code",
   "execution_count": 2,
   "id": "6db4d20d-8285-45bc-b03d-4248aa9e4c49",
   "metadata": {},
   "outputs": [],
   "source": [
    "# Compute Area for a Circular Pipe\n",
    "def area_circle(diameter):\n",
    "    import math\n",
    "    area_circle = (math.pi*diameter**2)/4.0\n",
    "    return area_circle"
   ]
  },
  {
   "cell_type": "code",
   "execution_count": 3,
   "id": "f7fab1c4-fd82-4ff5-a098-1311f8a5e0a9",
   "metadata": {},
   "outputs": [
    {
     "name": "stdout",
     "output_type": "stream",
     "text": [
      "Pipe Flow Area:  7.069e-06 square meters\n"
     ]
    }
   ],
   "source": [
    "print(f\"Pipe Flow Area: {area_circle(0.003):10.3e} square meters\")"
   ]
  }
 ],
 "metadata": {
  "kernelspec": {
   "display_name": "Python Common Environment",
   "language": "python",
   "name": "python-my-env"
  },
  "language_info": {
   "codemirror_mode": {
    "name": "ipython",
    "version": 3
   },
   "file_extension": ".py",
   "mimetype": "text/x-python",
   "name": "python",
   "nbconvert_exporter": "python",
   "pygments_lexer": "ipython3",
   "version": "3.10.12"
  }
 },
 "nbformat": 4,
 "nbformat_minor": 5
}