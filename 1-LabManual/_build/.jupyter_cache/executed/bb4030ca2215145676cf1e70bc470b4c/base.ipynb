{
 "cells": [
  {
   "cell_type": "code",
   "execution_count": 1,
   "id": "f2a354ce-9e3d-4b06-aedb-9265d57ac4bb",
   "metadata": {},
   "outputs": [
    {
     "data": {
      "text/html": [
       "<style> table {margin-left: 0 !important;} </style>\n"
      ],
      "text/plain": [
       "<IPython.core.display.HTML object>"
      ]
     },
     "metadata": {},
     "output_type": "display_data"
    }
   ],
   "source": [
    "%%html\n",
    "<style> table {margin-left: 0 !important;} </style>"
   ]
  },
  {
   "cell_type": "code",
   "execution_count": 2,
   "id": "0af864f6-bf2f-4569-b882-57275ea5a66c",
   "metadata": {},
   "outputs": [
    {
     "name": "stdout",
     "output_type": "stream",
     "text": [
      "Iter  1: x = 9771.62281270, f(x) = 0.97020000\n",
      "Iter  2: x = 9771.62281254, f(x) = 0.97020000\n",
      "\n",
      "Root found: x ≈ 9771.62281254\n",
      "func1(x) ≈ 0.97020000, target = 0.9702\n"
     ]
    }
   ],
   "source": [
    "import numpy as np\n",
    "\n",
    "# === User-defined function ===\n",
    "def func1(x):\n",
    "    # Replace with your own function definition\n",
    "    return 9.92875E-05 \t * x\n",
    "\n",
    "# === Root-finding parameters ===\n",
    "target_constant = 0.9702     # Change this as needed\n",
    "initial_guess = 0.5                 # Starting point for iteration\n",
    "tolerance = 1e-6                    # Convergence tolerance\n",
    "max_iterations = 20                # Limit to avoid infinite loop\n",
    "dx = 1e-6                           # Step size for numerical derivative\n",
    "\n",
    "# === Newton's Method Implementation ===\n",
    "def newton_solve(func1, target_constant, x0, tol=1e-6, max_iter=20, dx=1e-6):\n",
    "    for i in range(max_iter):\n",
    "        f_val = func1(x0) - target_constant\n",
    "        f_prime = (func1(x0 + dx) - func1(x0 - dx)) / (2 * dx)\n",
    "        \n",
    "        if abs(f_prime) < 1e-12:\n",
    "            raise ZeroDivisionError(f\"Derivative too small at iteration {i}, x = {x0}\")\n",
    "        \n",
    "        x1 = x0 - f_val / f_prime\n",
    "\n",
    "        print(f\"Iter {i+1:2d}: x = {x1:.8f}, f(x) = {func1(x1):.8f}\")\n",
    "\n",
    "        if abs(x1 - x0) < tol:\n",
    "            return x1\n",
    "        \n",
    "        x0 = x1\n",
    "    \n",
    "    raise RuntimeError(\"Newton's method did not converge.\")\n",
    "\n",
    "# === Run the solver ===\n",
    "try:\n",
    "    root = newton_solve(func1, target_constant, initial_guess, tolerance, max_iterations)\n",
    "    print(f\"\\nRoot found: x ≈ {root:.8f}\")\n",
    "    print(f\"func1(x) ≈ {func1(root):.8f}, target = {target_constant}\")\n",
    "except Exception as e:\n",
    "    print(f\"Error: {e}\")"
   ]
  }
 ],
 "metadata": {
  "kernelspec": {
   "display_name": "Python Common Environment",
   "language": "python",
   "name": "python-my-env"
  },
  "language_info": {
   "codemirror_mode": {
    "name": "ipython",
    "version": 3
   },
   "file_extension": ".py",
   "mimetype": "text/x-python",
   "name": "python",
   "nbconvert_exporter": "python",
   "pygments_lexer": "ipython3",
   "version": "3.10.12"
  }
 },
 "nbformat": 4,
 "nbformat_minor": 5
}