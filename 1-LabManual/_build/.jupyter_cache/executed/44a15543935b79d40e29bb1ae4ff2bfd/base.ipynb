{
 "cells": [
  {
   "cell_type": "code",
   "execution_count": 1,
   "id": "0af864f6-bf2f-4569-b882-57275ea5a66c",
   "metadata": {},
   "outputs": [
    {
     "name": "stdout",
     "output_type": "stream",
     "text": [
      "Iter  1: x = 9771.62281270, f(x) = 0.97020000\n",
      "Iter  2: x = 9771.62281254, f(x) = 0.97020000\n",
      "\n",
      "Root found: x ≈ 9771.62281254\n",
      "func1(x) ≈ 0.97020000, target = 0.9702\n"
     ]
    }
   ],
   "source": [
    "import numpy as np\n",
    "\n",
    "# === User-defined function ===\n",
    "def func1(x):\n",
    "    # Replace with your own function definition\n",
    "    return 9.92875E-05 \t * x\n",
    "\n",
    "# === Root-finding parameters ===\n",
    "target_constant = 0.9702     # Change this as needed\n",
    "initial_guess = 0.5                 # Starting point for iteration\n",
    "tolerance = 1e-6                    # Convergence tolerance\n",
    "max_iterations = 20                # Limit to avoid infinite loop\n",
    "dx = 1e-6                           # Step size for numerical derivative\n",
    "\n",
    "# === Newton's Method Implementation ===\n",
    "def newton_solve(func1, target_constant, x0, tol=1e-6, max_iter=20, dx=1e-6):\n",
    "    for i in range(max_iter):\n",
    "        f_val = func1(x0) - target_constant\n",
    "        f_prime = (func1(x0 + dx) - func1(x0 - dx)) / (2 * dx)\n",
    "        \n",
    "        if abs(f_prime) < 1e-12:\n",
    "            raise ZeroDivisionError(f\"Derivative too small at iteration {i}, x = {x0}\")\n",
    "        \n",
    "        x1 = x0 - f_val / f_prime\n",
    "\n",
    "        print(f\"Iter {i+1:2d}: x = {x1:.8f}, f(x) = {func1(x1):.8f}\")\n",
    "\n",
    "        if abs(x1 - x0) < tol:\n",
    "            return x1\n",
    "        \n",
    "        x0 = x1\n",
    "    \n",
    "    raise RuntimeError(\"Newton's method did not converge.\")\n",
    "\n",
    "# === Run the solver ===\n",
    "try:\n",
    "    root = newton_solve(func1, target_constant, initial_guess, tolerance, max_iterations)\n",
    "    print(f\"\\nRoot found: x ≈ {root:.8f}\")\n",
    "    print(f\"func1(x) ≈ {func1(root):.8f}, target = {target_constant}\")\n",
    "except Exception as e:\n",
    "    print(f\"Error: {e}\")"
   ]
  },
  {
   "cell_type": "code",
   "execution_count": null,
   "id": "6d7b656b-5597-4bc6-89e1-db2636b64559",
   "metadata": {},
   "outputs": [],
   "source": []
  },
  {
   "cell_type": "code",
   "execution_count": null,
   "id": "b725be8f-19df-43b1-983a-dccf48850b49",
   "metadata": {},
   "outputs": [],
   "source": []
  },
  {
   "cell_type": "code",
   "execution_count": 2,
   "id": "162b6c9e-d798-43fa-86e9-b66442bf8a9a",
   "metadata": {},
   "outputs": [
    {
     "name": "stdout",
     "output_type": "stream",
     "text": [
      "882.0 1862.0\n",
      "6.614999999999999 7.3500000000000005 13.965\n",
      "0.15000000000000002 0.16666666666666669\n",
      "0.9922500000000001 1.2250000000000003 2.2172500000000004\n",
      "0.15877192982456143 2.2172500000000004 2.2172500000000004\n",
      "pbar: 1372.0000000000002\n",
      "area 0.0075\n",
      "fbar 10.290000000000001\n",
      "mbar 1.5435000000000003\n"
     ]
    }
   ],
   "source": [
    "y = 0.190\n",
    "R1 = .100\n",
    "R2 = .200\n",
    "gamma = 9800\n",
    "W = .075\n",
    "p1 = gamma*(y-(R2-R1))\n",
    "p2 = gamma*(y)\n",
    "print(p1,p2)\n",
    "F1 = p1*W*(R2-R1)\n",
    "F2 = (p2-p1)*W*(R2-R1)\n",
    "print(F1,F2,F1+F2)\n",
    "L1 = R1+(R2-R1)/2\n",
    "L2 = R2-(R2-R1)/3\n",
    "print(L1,L2)\n",
    "m1 =F1*L1\n",
    "m2 =F2*L2\n",
    "print(m1,m2,m1+m2)\n",
    "FP = F1+F2\n",
    "LP = (m1+m2)/FP\n",
    "mnet = FP*LP\n",
    "print(LP,m1+m2,mnet)\n",
    "\n",
    "pbar = gamma*(y - ((R2-R1)/2))\n",
    "print(\"pbar:\",pbar)\n",
    "area = (R2-R1)*W\n",
    "print(\"area\",area)\n",
    "fbar = pbar*area\n",
    "print(\"fbar\",fbar)\n",
    "mbar = (R1+((R2-R1)/2))*fbar\n",
    "print(\"mbar\",mbar)"
   ]
  },
  {
   "cell_type": "code",
   "execution_count": 3,
   "id": "3b607c11-97fd-4806-b608-66dfead6e5c7",
   "metadata": {},
   "outputs": [],
   "source": [
    "y = 0.110\n"
   ]
  }
 ],
 "metadata": {
  "kernelspec": {
   "display_name": "Python Common Environment",
   "language": "python",
   "name": "python-my-env"
  },
  "language_info": {
   "codemirror_mode": {
    "name": "ipython",
    "version": 3
   },
   "file_extension": ".py",
   "mimetype": "text/x-python",
   "name": "python",
   "nbconvert_exporter": "python",
   "pygments_lexer": "ipython3",
   "version": "3.10.12"
  }
 },
 "nbformat": 4,
 "nbformat_minor": 5
}