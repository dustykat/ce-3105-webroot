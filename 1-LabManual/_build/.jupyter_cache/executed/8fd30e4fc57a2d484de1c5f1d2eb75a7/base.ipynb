{
 "cells": [
  {
   "cell_type": "code",
   "execution_count": 1,
   "id": "f3a8b924-8bf2-4312-bf97-9c08d5b07037",
   "metadata": {},
   "outputs": [
    {
     "data": {
      "text/html": [
       "<style> table {margin-left: 0 !important;} </style>\n"
      ],
      "text/plain": [
       "<IPython.core.display.HTML object>"
      ]
     },
     "metadata": {},
     "output_type": "display_data"
    }
   ],
   "source": [
    "%%html\n",
    "<style> table {margin-left: 0 !important;} </style>"
   ]
  },
  {
   "cell_type": "code",
   "execution_count": 2,
   "id": "437dee08-ce28-4424-ad15-6730e176c22d",
   "metadata": {},
   "outputs": [
    {
     "name": "stdout",
     "output_type": "stream",
     "text": [
      "Flow rate  5.888e-04 cubic meters per second\n",
      "Angular velocity        249 radians per second\n",
      "Mechanical power        174 watts\n",
      "Added head       3.06 meters\n"
     ]
    }
   ],
   "source": [
    "def Qventuri(deltaP,cd,area1,area2,rho):\n",
    "    import math\n",
    "    term1=cd*area1\n",
    "    term2=2*deltaP*100000 # Convert pressure in bar into N/m^2\n",
    "    term3=rho*((area1**2)/(area2**2)-1.0)\n",
    "    Qventuri=term1*math.sqrt(term2/term3)\n",
    "    return(Qventuri)\n",
    "\n",
    "def Omega(rpm):\n",
    "    import math\n",
    "    Omega=rpm*2*math.pi/60\n",
    "    return(Omega)\n",
    "\n",
    "def Pmech(omega,torque):\n",
    "    Pmech=torque*omega\n",
    "    return(Pmech)\n",
    "\n",
    "def addedH(pout,pin,rho,gee):\n",
    "    po=pout*100000\n",
    "    pi=pin*100000\n",
    "    addedH=(po-pi)/(rho*gee)\n",
    "    return(addedH)\n",
    "\n",
    "print(f\"Flow rate {Qventuri(0.02,0.97,0.000581,0.000269,1000):10.3e} cubic meters per second\")\n",
    "print(f\"Angular velocity {Omega(2375):10.3g} radians per second\")\n",
    "print(f\"Mechanical power {Pmech(249,0.70):10.3g} watts\")\n",
    "print(f\"Added head {addedH(0.05,-0.25,1000,9.81):10.3g} meters\")"
   ]
  }
 ],
 "metadata": {
  "kernelspec": {
   "display_name": "Python Common Environment",
   "language": "python",
   "name": "python-my-env"
  },
  "language_info": {
   "codemirror_mode": {
    "name": "ipython",
    "version": 3
   },
   "file_extension": ".py",
   "mimetype": "text/x-python",
   "name": "python",
   "nbconvert_exporter": "python",
   "pygments_lexer": "ipython3",
   "version": "3.10.12"
  }
 },
 "nbformat": 4,
 "nbformat_minor": 5
}