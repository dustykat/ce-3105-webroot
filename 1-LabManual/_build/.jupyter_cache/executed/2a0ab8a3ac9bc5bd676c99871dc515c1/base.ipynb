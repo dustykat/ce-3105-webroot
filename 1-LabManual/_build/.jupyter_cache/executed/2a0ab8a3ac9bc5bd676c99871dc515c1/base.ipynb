{
 "cells": [
  {
   "cell_type": "code",
   "execution_count": 1,
   "id": "eff0f406-0534-4203-8449-6bde7ecf283b",
   "metadata": {},
   "outputs": [],
   "source": [
    "# Autobuild the example report for this section.\n",
    "import subprocess\n",
    "\n",
    "try:\n",
    "    subprocess.run([\"pdflatex\", \"example_report.ce3105-2025-1.tex\"], \n",
    "                   stdout=subprocess.DEVNULL, stderr=subprocess.DEVNULL, check=True)\n",
    "except subprocess.CalledProcessError:\n",
    "    print(\"Build failed. Check your LaTeX source file.\")"
   ]
  },
  {
   "cell_type": "code",
   "execution_count": null,
   "id": "09a177ff-be96-48c0-be93-6168bd4c77dd",
   "metadata": {},
   "outputs": [],
   "source": []
  }
 ],
 "metadata": {
  "kernelspec": {
   "display_name": "Python Common Environment",
   "language": "python",
   "name": "python-my-env"
  },
  "language_info": {
   "codemirror_mode": {
    "name": "ipython",
    "version": 3
   },
   "file_extension": ".py",
   "mimetype": "text/x-python",
   "name": "python",
   "nbconvert_exporter": "python",
   "pygments_lexer": "ipython3",
   "version": "3.10.12"
  }
 },
 "nbformat": 4,
 "nbformat_minor": 5
}