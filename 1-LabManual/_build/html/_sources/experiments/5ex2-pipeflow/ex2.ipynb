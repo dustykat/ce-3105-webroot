{
 "cells": [
  {
   "cell_type": "markdown",
   "metadata": {},
   "source": [
    "# Lab 2 - Flow Measurement in Conduits\n",
    "\n",
    ":::{admonition} Course Website\n",
    "[http://54.243.252.9/ce-3105-webroot/](http://54.243.252.9/ce-3105-webroot/)\n",
    ":::"
   ]
  },
  {
   "cell_type": "markdown",
   "metadata": {
    "tags": []
   },
   "source": [
    "## Readings\n",
    "\n",
    "1. [Engineering Fluid Mechanics - Chapter 2](http://54.243.252.9/ce-3105-webroot/2-Exercises/laboratory1/EFM-2.pdf)\n",
    "2. [Engineering Fluid Mechanics - Chapter 11 (Cd for spheres, p.414)](http://54.243.252.9/ce-3105-webroot/2-Exercises/laboratory1/EFM-22.pdf)\n",
    "3. [Holman, J.P. (2012) *Experimental Methods for Engineers*, 8th Ed. (Chapters 1-3)](https://mech.at.ua/HolmanICS.pdf)\n",
    "4. [Mass Flow Meter & Datalogger Scripts](http://54.243.252.9/ce-3105-webroot/ce3105notes/_build/html/lessons/laboratory3/massflowmeters.html)  Programs used in the laboratory (this section is also in the left navigation bar)\n",
    "5. [Home Utility Management System  (Flowmeters)](http://theodore-odroid.ttu.edu/129.118.101.130/index.html) A research site that implements mass flow meters to study resedintal water use.\n",
    "6. [Introduction to Programming](https://www.kaggle.com/learn/intro-to-programming?utm_medium=email&utm_source=gamma&utm_campaign=intro-programming-announcement)  A good on-line **programming** course.\n",
    "7. [Python Programming](https://www.kaggle.com/learn/python) **Python** specific.\n",
    "8. [Computational Thinking and Data Science](http://54.243.252.9/engr-1330-webroot/engr1330jb/_build/html/intro.html) Python applied to a variety of topics, has some good graphing discourse. These are older **ENGR-1330** instructor notes"
   ]
  },
  {
   "cell_type": "markdown",
   "metadata": {
    "jp-MarkdownHeadingCollapsed": true,
    "tags": []
   },
   "source": [
    "## Videos\n",
    "\n",
    "1. [Laboratory 2 Instructional Video by Dr. Uddameri](https://www.youtube.com/watch?v=rIiR-dSHYvM)\n",
    "2. [Flowmeter (Venturi/Orifice) Theory and Experiments (TQ 2020) (YouTube)](https://www.youtube.com/watch?v=tStj2r5c7U8)  This video uses nearly identical apparatus as used here at TTU.  The entire video is theory and demonstration of the apparatus; the demonstration starts at time stamp 10:41 (if you want to skip the theory)\n",
    "3. [Rotameter Working Explanation with 3D Animation (YouTube)](https://www.youtube.com/watch?v=yuMXTJadFXM)\n",
    "4. [Installing a cheap water flow meter with attached Raspberry Pi ZeroW](https://www.youtube.com/watch?v=bMrSYEAVLwM)  Nearly identical to the mass flow meter used in the laboratory.  The script in the laboratory uses a different GPIO pin than used in this video.\n",
    "5. [CE-3105-FlowMeter-Datalogger Connection (Component of Laboratory 2)](https://youtu.be/dp-LujkiMRQ) Video showing how to connect to the datalogger."
   ]
  },
  {
   "cell_type": "markdown",
   "metadata": {},
   "source": [
    "## Objective\n",
    "\n",
    "Measure the flow rate of an incompressible fluid using several devices—Venturi meter, orifice plate, rotameter, external mass flow meter, internal turbine meter, and the time-to-fill method—and compare their apparent accuracy and efficiency.\n",
    "\n",
    ":::{note}\n",
    "In this exercise, **time-to-fill** is treated as the ground-truth measurement.\n",
    ":::"
   ]
  },
  {
   "cell_type": "markdown",
   "metadata": {},
   "source": [
    "## Background\n",
    "\n",
    "Flowrate can be measured indirectly with venturi meter, orifice plate meter and rotameter by a combination of continuity, the modified Bernoulli equation, and mass flowrate concepts. \n",
    "\n",
    "They are be combined together to make the flow measurement apparatus below:.\n",
    "\n",
    "![](flowapparatus.png)"
   ]
  },
  {
   "cell_type": "markdown",
   "metadata": {},
   "source": [
    "## Venturi Meter\n",
    "\n",
    "The venturi meter is a combination of a converging tube, a throat and a diverging tube. \n",
    "The discharge of liquid is calculated by measuring the pressure differential between the inlet and the\n",
    "throat which is caused by the differences in diameters.  The shape of the venturi is designed to minimize energy loss in the device.\n",
    "\n",
    "![](venturimeter1.png) ![](venturidrawing.png)\n",
    "\n",
    "Using continunity\n",
    "\n",
    "$$ \\rho V_1 A_1 = \\rho V_2 A_2 $$\n",
    "\n",
    "Defninition of discharge and modified Bernoulli equation is:\n",
    "\n",
    "\n",
    "$$Q = A_2~V_2 = A_2~(\\frac{2g}{1-\\frac{A_2^2}{A_1^2}})~\\sqrt{\\frac{P_1}{\\rho g}-\\frac{P_2}{\\rho g}}$$\n"
   ]
  },
  {
   "cell_type": "markdown",
   "metadata": {},
   "source": [
    "## Orifice Plate Meter\n",
    "\n",
    "An orifice meter is a round opening in a plate. \n",
    "This device is then put within the pipe so that it is perpendicular to the direction of flow. \n",
    "\n",
    " ![](orificeplatemeter.png) ![](orificemeterdrawing.png)\n",
    "\n",
    "Externally they look like a very short section of pipe between two flanges as in the photograph above\n",
    "\n",
    "\n",
    "\n",
    "Discharge is determined by measuring the head loss between the upstream and downstream of the device. \n",
    "\n",
    "Head loss can be written in terms of a coefficient $K$, which varies with the type of the orifice meter.\n",
    "\n",
    "First consider a modified Bernoulli equation across the orifice plate\n",
    "\n",
    "$$\\frac{V_u^2}{2g}-\\frac{V_d^2}{2g}=K^2(\\frac{P_u}{\\rho g}-\\frac{P_d}{\\rho g})$$\n",
    "\n",
    "Then continunity to arrive at a structure to estimate discharge\n",
    "\n",
    "$$Q = A_u~V_u = KA_u~(\\frac{2g}{1-\\frac{A_d^2}{A_u^2}})~\\sqrt{\\frac{P_u}{\\rho g}-\\frac{P_d}{\\rho g}}$$\n"
   ]
  },
  {
   "cell_type": "markdown",
   "metadata": {},
   "source": [
    "## Rotameter\n",
    "\n",
    "\n",
    "\n",
    "The rotameter measures flowrate by detecting the position of the float. It is a vertical tapered tube with a moveable plug inside. It is one kind of variable-area flow-meter. \n",
    "\n",
    "![](rotameterinstalled.png) ![](rotameterprinciples.png)\n",
    "\n",
    "Because of the greater flow area at the top, velocity is lower than the bottom of the tapered tube. \n",
    "The flowing fluid lifts the plug up by the drag force (just like Stoke's Law) created by the fluid. \n",
    "The weight of the plug acts downward. The equilibrium position of the plug depends on the flowrate which is indicative of the rate with which the fluid is passing."
   ]
  },
  {
   "cell_type": "markdown",
   "metadata": {},
   "source": [
    "## Mass Flow Meters\n",
    "\n",
    "A mass flow meter directly measures the flow by means of a near zero-inertia turbine that is rotated by liquid moving through the device (a mass flow sensor), the rotating turbine has a small ring that is magnetic, but is interrupted in one portion. Inside the cap is a hall detector (a coil) that converts the rotating magnetic field into a digital pulse that the microprocessor can count. These scale in size to very large devices but the general principle of operation is the same.  The figure below shows a small (20L/minute) flowmeter.\n",
    "\n",
    "![](massflowmeter.png)\n",
    "\n",
    "This flowmeter is placed in-line with the water outlet (or inlet) to provide an total flow.  \n",
    "\n",
    "The laboratory may incorporate the newer hydraulic bench ([model H1F](http://54.243.252.9/ce-3105-webroot/1-LabManual/experiments/5ex2-pipeflow/H1F.pdf)) with a built-in flowmeter (herein labeled as *internal turbine flow meter* which is to be used to compare the result from the external mass flow meter, time-to-fill, and the various pressure drop devices.\n",
    ">The (New) TecQuipment H1F Digital Hydraulic Bench uses an electronic flowmeter that operates on the turbine flowmeter principle. A turbine flowmeter measures the volumetric flow rate of a fluid by having the fluid pass through a pipe and cause a rotor to spin. <br> How the H1F's flowmeter works\n",
    "> - A rotor with angled blades is positioned within the path of the water flowing from the submersible pump.\n",
    "> - As water flows through the meter, it causes the rotor to spin. The speed at which the rotor spins is directly proportional to the flow rate of the water.\n",
    "> - As the blades of the rotor pass a magnetic pickup sensor, an electrical pulse is generated. The faster the rotor spins, the more pulses are generated per unit of time.\n",
    "> - The frequency of these electrical pulses is measured by a transmitter, which processes the signal and sends the data to the hydraulic bench's digital display.\n",
    "> - The digital display then shows the flow rate in units like litres per second (L·s⁻¹) or litres per minute (L·min⁻¹). \n",
    " \n",
    "If your instructor uses the older bench ([model H1D](http://54.243.252.9/ce-3105-webroot/1-LabManual/experiments/5ex2-pipeflow/H1D-VolumetricHydraulicBench.pdf)) without the built-in flowmeter you will only report the esternal mass flow meter, time-to-fill and the various pressure drop devices.  Simply leave the *turbine meter* entries unfilled (or N/A).\n"
   ]
  },
  {
   "cell_type": "markdown",
   "metadata": {},
   "source": [
    "### 1. Laboratory Report\n",
    "After completing the experiment, students must submit a detailed laboratory report. The report should include:\n",
    "- **Introduction**: Overview of the principles of flow measurement and the objectives of the experiment.\n",
    "- **Methods**: Detailed description of the experimental procedure and setup.  The section must include:\n",
    "  - **Apparatus and Materials**: List all equipment and materials used, including flow meters and auxiliary devices.\n",
    "  - **Procedure**: Provide a step-by-step outline of how the experiment will be performed, ensuring it aligns with the provided laboratory datasheets.\n",
    "  - **Safety Considerations**: Include all safety measures relevant to the setup and execution of the experiment.\n",
    "- **Results**: Present all collected data, calculations, and graphical representations (e.g., calibration curves).\n",
    "- **Discussion**: Analyze results, including errors and observations, and compare findings to theoretical expectations.\n",
    "- **Conclusion**: Summarize findings and their implications.\n",
    "- **References**: Cite all sources, including textbooks, manuals, and instructional videos."
   ]
  },
  {
   "cell_type": "markdown",
   "metadata": {},
   "source": [
    "## End of Section"
   ]
  },
  {
   "cell_type": "markdown",
   "metadata": {},
   "source": [
    "<!--# Laboratory 3: Flow Measurement\n",
    "\n",
    "## Deliverables\n",
    "### 1. Experimental Protocol\n",
    "Students must prepare and submit an experimental protocol before conducting the laboratory exercise. This protocol should include:\n",
    "- **Objective**: Clearly state the aim of the experiment.\n",
    "- **Apparatus and Materials**: List all equipment and materials used, including flow meters and auxiliary devices.\n",
    "- **Procedure**: Provide a step-by-step outline of how the experiment will be performed, ensuring it aligns with the provided laboratory datasheets.\n",
    "- **Safety Considerations**: Include all safety measures relevant to the setup and execution of the experiment.\n",
    "\n",
    "### 2. Laboratory Report\n",
    "After completing the experiment, students must submit a detailed laboratory report. The report should include:\n",
    "- **Introduction**: Overview of the principles of flow measurement and the objectives of the experiment.\n",
    "- **Methods**: Detailed description of the experimental procedure and setup.\n",
    "- **Results**: Present all collected data, calculations, and graphical representations (e.g., calibration curves).\n",
    "- **Discussion**: Analyze results, including errors and observations, and compare findings to theoretical expectations.\n",
    "- **Conclusion**: Summarize findings and their implications.\n",
    "- **References**: Cite all sources, including textbooks, manuals, and instructional videos.\n",
    "\n",
    "## Background\n",
    "Flow measurement is a fundamental aspect of fluid mechanics, used to quantify the movement of fluid in a system. Several methods exist for measuring flow rate:\n",
    "\n",
    "### Venturi Meter\n",
    "The Venturi meter employs a combination of a converging tube, throat, and diverging tube to measure flow rate. The pressure differential between the inlet and throat, caused by differing diameters, is used to calculate discharge. This method minimizes energy loss and adheres to the continuity and Bernoulli equations.\n",
    "\n",
    "### Orifice Plate Meter\n",
    "An orifice plate meter utilizes a round opening in a plate inserted into the flow path. By measuring the head loss upstream and downstream of the plate, the flow rate can be determined using a discharge coefficient and continuity principles.\n",
    "\n",
    "### Rotameter\n",
    "The rotameter is a variable-area flow meter, where the position of a float within a tapered tube indicates flow rate. The float reaches equilibrium based on the balance between drag force and its weight.\n",
    "\n",
    "### Mass Flow Meter\n",
    "Mass flow meters measure flow directly using near-zero-inertia turbines. These turbines generate digital pulses correlated with flow rate, making this method suitable for high-accuracy applications.\n",
    "\n",
    "## References\n",
    "1. Holman, J.P., *Experimental Methods for Engineers*, 8th Ed. (Chapters 6 and 7)\n",
    "2. Laboratory Instructional Video by Dr. Uddameri\n",
    "3. Engineering Fluid Mechanics Textbook, Chapters 2 and 11 -->\n"
   ]
  }
 ],
 "metadata": {
  "kernelspec": {
   "display_name": "Python 3 (ipykernel)",
   "language": "python",
   "name": "python3"
  },
  "language_info": {
   "codemirror_mode": {
    "name": "ipython",
    "version": 3
   },
   "file_extension": ".py",
   "mimetype": "text/x-python",
   "name": "python",
   "nbconvert_exporter": "python",
   "pygments_lexer": "ipython3",
   "version": "3.10.12"
  }
 },
 "nbformat": 4,
 "nbformat_minor": 4
}
