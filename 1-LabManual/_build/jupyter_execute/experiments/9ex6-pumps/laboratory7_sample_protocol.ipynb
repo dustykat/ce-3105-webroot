{
 "cells": [
  {
   "cell_type": "markdown",
   "metadata": {},
   "source": [
    "###### Laboratory 6 Sample Report\n",
    "\n",
    "Two-Stage Centrifugal Pump Characteristics"
   ]
  },
  {
   "cell_type": "markdown",
   "metadata": {},
   "source": [
    "## Objectives\n",
    "- Observe the performance of single, parallel and series connected pumps\n",
    "- Collect data using a computerized data acquisition system (Versatile Data Acquisition System or VDAS)"
   ]
  },
  {
   "cell_type": "markdown",
   "metadata": {},
   "source": [
    "## Safety Considerations\n",
    "\n",
    "These are prompts only, you need to supply details.\n",
    "\n",
    "1. clothing\n",
    "2. alertness\n",
    "3. food and drink\n",
    "4. personal protective equipment\n",
    "5. 240-V 3-Phase AC Electricity Supply and Water"
   ]
  },
  {
   "cell_type": "markdown",
   "metadata": {},
   "source": [
    "## Data Acquisition\n",
    "\n",
    "### Procedure (Single Pump using Pump 1)\n",
    "\n",
    "1. Switch off both Motor Drive Isolators\n",
    "2. Fully open Pump 1 inlet (suction) and delivery valves. Make sure the **Pump 2 inlet valve is CLOSED** and the two-way valve is set to the direct flow straight to the delivery pipe\n",
    "3. Start Pump 1 and run it to a maximum speed\n",
    "4. Bleed all pressure gauges using the bleed line\n",
    "5. Set the motor speed to 3000 rev./min and make sure the delivery valve is fully open\n",
    "6. Use the delivery valve to change outlet pressure, adjust the motor speed back to its initial setting and take pressure readings\n",
    "7. Repeat step 6 to take 5 readings (manual readings from the digital readouts)\n",
    "8. Turn on VDAS and laptop computer, someone in your group should log on to the laptop using their TTU credentials, does not matter whom.  Once running attempt to establish communications with the VDAS computer (the TA or instructor will show you how).  Upon sucessful connection the computer will be reporting data as the apparatus is running.  Use the data tab to record data by pressing F3 (again the TA will show you how) - repeat the 5 readings above (as best you can to match pump speeds), then collect 10 additional readings over a large range of pump speeds.  Save the data file and email it to yourself for the group to use."
   ]
  },
  {
   "cell_type": "markdown",
   "metadata": {},
   "source": [
    "### Procedure (Parallel Pumps)\n",
    "1. Switch off both Motor Drive Isolators\n",
    "2. Open both Pump 1 and 2 inlet (suction) valves. Make sure the two-way valve is set to the direct flow straight to the delivery pipe (same as above). Fully open the delivery valve\n",
    "3. Start both Pump 1 and 2, and run them to a maximum speed\n",
    "4. Bleed all pressure gauges using the bleed line\n",
    "5. Set the motor speed to 3000 rev./min and make sure the delivery valve is fully open\n",
    "6. Use the delivery valve to change outlet pressure, adjust the motor speed back to its initial setting and take pressure readings\n",
    "7. Repeat step 6 to take 5 readings (manual readings from the digital readouts)\n",
    "8. Turn on VDAS and laptop computer, someone in your group should log on to the laptop using their TTU credentials, does not matter whom.  Once running attempt to establish communications with the VDAS computer (the TA or instructor will show you how).  Upon sucessful connection the computer will be reporting data as the apparatus is running.  Use the data tab to record data by pressing F3 (again the TA will show you how) - repeat the 5 readings above (as best you can to match pump speeds), then collect 10 additional readings over a large range of pump speeds.  Save the data file and email it to yourself for the group to use."
   ]
  },
  {
   "cell_type": "markdown",
   "metadata": {
    "jp-MarkdownHeadingCollapsed": true
   },
   "source": [
    "### Procedure (Series Pumps: Pump 1 into Pump 2)\n",
    "1. Switch off both Motor Drive Isolators\n",
    "2. Open Pump 1 inlet (suction) valve. Make sure the **Pump 2 inlet valve is CLOSED**. Make sure the two-way valve is set to the direct flow to the inlet of Pump 2 (opposite of settings above procedures. Fully open the delivery valve\n",
    "3. Start both Pump 1 and 2, and run them to a maximum speed\n",
    "4. Bleed all pressure gauges using the bleed line\n",
    "5. Set the motor speed to 3000 rev./min and make sure the delivery valve is fully open\n",
    "6. Use the delivery valve to change outlet pressure, adjust the motor speed back to its initial setting and take pressure readings\n",
    "7. Repeat the steps 6 to take 5 readings\n",
    "8. Turn on VDAS and laptop computer, someone in your group should log on to the laptop using their TTU credentials, does not matter whom.  Once running attempt to establish communications with the VDAS computer (the TA or instructor will show you how).  Upon sucessful connection the computer will be reporting data as the apparatus is running.  Use the data tab to record data by pressing F3 (again the TA will show you how) - repeat the 5 readings above (as best you can to match pump speeds), then collect 10 additional readings over a large range of pump speeds.  Save the data file and email it to yourself for the group to use."
   ]
  },
  {
   "cell_type": "markdown",
   "metadata": {},
   "source": [
    "## Data Analysis\n",
    "1. Plot graphs of efficiency, power input and Net Pressure against flow rate for the single, parallel and series pump settings.  Indicate on your plots the data that were manually collected in contrast to those from the VDAS \n",
    "2. For single pump test, plot the dimensionless characteristics of head coefficient and power coefficient against flow coefficient. Calculate and compare the Reynolds Numbers\n",
    "3. Tabulate all results."
   ]
  },
  {
   "cell_type": "markdown",
   "metadata": {},
   "source": [
    "## Discussion/Interpretation\n",
    "1. For the Single Pump Test, explain the performance (relation between efficiency, head and flowrate). What is the best efficiency you think possible?\n",
    "2. Compare the performance of series and parallel pump tests against the single pump test.\n",
    "3. How does the total head curve change by parallel and series connections?\n",
    "4. How does the efficiency change by parallel and series connections?\n",
    "5. Do the efficiencies of this experiment match with the typical large industrial pump efficiency (which is normally about 75%)? Why or why not?"
   ]
  },
  {
   "cell_type": "markdown",
   "metadata": {},
   "source": [
    "## Data Records\n",
    "\n",
    "![](datasheetp1.png)\n",
    "\n",
    "![](datasheetp2.png)"
   ]
  },
  {
   "cell_type": "markdown",
   "metadata": {},
   "source": [
    "## References\n",
    "\n",
    "1. [Laboratory 7 Circa (2021)](http://54.243.252.9/ce-3105-webroot/pdf-source/Experiment7Pumptest.pdf)\n",
    "2. [Laboratory 7 Video by Dr. Uddameri](https://www.youtube.com/watch?v=AOJljxHDtms)\n",
    "3. [Descriptive Statistics](http://54.243.252.9/engr-1330-webroot/engr1330notes/_build/html/examples/8statistical/1descriptivestatistics.html)\n",
    "4. [Plotting Data](http://54.243.252.9/engr-1330-webroot/engr1330notes/_build/html/examples/7graphing/example05.html)\n",
    "5. [Fitting Data Models](http://54.243.252.9/engr-1330-webroot/engr1330notes/_build/html/examples/10datamodels/datamodels.html)\n",
    "6. [Holman, J.P., (2012) Experimental Methods for Engineers, 8th Ed. (Chapters 1-3)](https://mech.at.ua/HolmanICS.pdf)\n",
    "7. [Holman, J.P., (2012) Experimental Methods for Engineers, 8th Ed. (Chapter 15 Report Writing)](https://mech.at.ua/HolmanICS.pdf)"
   ]
  },
  {
   "cell_type": "code",
   "execution_count": null,
   "metadata": {},
   "outputs": [],
   "source": []
  }
 ],
 "metadata": {
  "kernelspec": {
   "display_name": "Python 3 (ipykernel)",
   "language": "python",
   "name": "python3"
  },
  "language_info": {
   "codemirror_mode": {
    "name": "ipython",
    "version": 3
   },
   "file_extension": ".py",
   "mimetype": "text/x-python",
   "name": "python",
   "nbconvert_exporter": "python",
   "pygments_lexer": "ipython3",
   "version": "3.10.12"
  }
 },
 "nbformat": 4,
 "nbformat_minor": 4
}