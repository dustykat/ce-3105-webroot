{
 "cells": [
  {
   "cell_type": "markdown",
   "metadata": {},
   "source": [
    "# Lab 6. - Pump Performance\n",
    "\n",
    ":::{admonition} Course Website\n",
    "[http://54.243.252.9/ce-3105-webroot/](http://54.243.252.9/ce-3105-webroot/)\n",
    ":::\n",
    "\n",
    "This laboratory demonstrates how to experimentally determine performance characteristics of pumps, and gives students practice applying these principles using a pump test bed."
   ]
  },
  {
   "cell_type": "markdown",
   "metadata": {},
   "source": [
    "## Readings\n",
    "\n",
    "1. [Centrifugal Pump Test Station (User Manual)](http://54.243.252.9/ce-3105-webroot/7-user-manuals/H83-Two-stageCentrifugalPumpTestSet.pdf)\n",
    "2. [Pressure Readout (User Manual)](http://54.243.252.9/ce-3105-webroot/7-user-manuals/DP1-DigitalPressureDisplay.pdf)\n",
    "3. [Data Acquisition System (User Manual)](http://54.243.252.9/ce-3105-webroot/7-user-manuals/VersatileDataAcquisitionSystem.pdf)\n",
    "4. [Holman, J.P., (2012) Experimental Methods for Engineers, 8th Ed. (Chapters 5,6, and 10)](https://mech.at.ua/HolmanICS.pdf)\n",
    "5. [Laboratory 7 Circa (2019)](http://54.243.252.9/ce-3105-webroot/pdf-source/Experiment7Pumptest.pdf)\n",
    "1. [Pump Selection](http://54.243.252.9/ce-3105-webroot/1-LabManual/experiments/9ex6-pumps/PumpSelection.pdf)\n",
    "2. [Pump Suction Conditions](http://54.243.252.9/ce-3105-webroot/1-LabManual/experiments/9ex6-pumps/PumpSuctionConditions.pdf)\n",
    "3. [Net Positive Suction Head](http://54.243.252.9/ce-3105-webroot/1-LabManual/experiments/9ex6-pumps/NPSH-Explain.pdf)\n",
    "4. [Pumps and Lift Stations (excerpt from Water Systems Design)](http://54.243.252.9/ce-3105-webroot/1-LabManual/experiments/9ex6-pumps/Lecture06.pdf)\n",
    "5. [Submersible Lift Stations Design (City of Houston Manual)](http://54.243.252.9/ce-3105-webroot/1-LabManual/experiments/9ex6-pumps/2011_coh_design_manual_submersible_lift_stations.pdf)\n",
    "6. [FHWA Lift Station Design](http://54.243.252.9/ce-3105-webroot/1-LabManual/experiments/9ex6-pumps/FHWA-NHI-01-007-LiftStationDesign.pdf)\n",
    "\n",
    "<!--9. [Laboratory 7 Example Report](http://54.243.252.9/ce-3105-webroot/2-Exercises/laboratory7/Goby7.pdf)-->"
   ]
  },
  {
   "cell_type": "markdown",
   "metadata": {},
   "source": [
    "## Videos\n",
    "\n",
    "1.  [Instructional Video by Dr. Uddameri](https://www.youtube.com/watch?v=AOJljxHDtms)\n",
    "2.  [Two Stage Series and Parallel Pumps Experiment (H83) - TecQuipment](https://www.youtube.com/watch?v=zKOq6w5nMiU)\n",
    "3.  [Centrifugal Pumps Experiments - Demonstration - Two Stage (Series and Parallel)](https://www.youtube.com/watch?v=b7cypARafiY)\n",
    "4.  [Understanding Series and Parallel Pumps | TecQuipment Demonstration | Fluid Mechanics](https://www.youtube.com/watch?v=dWcxOxl5Pjg)\n",
    "5.  [Do Pumps Create Pressure or Flow?](https://www.youtube.com/watch?v=m3i_5xP9PYU)\n",
    "6.  [What is Cavitation? (with AvE)](https://www.youtube.com/watch?v=zCE26J0cYWA)"
   ]
  },
  {
   "cell_type": "markdown",
   "metadata": {},
   "source": [
    "## Background\n",
    "\n",
    "Pumps are mechanical devices that transfer energy to fluids, enabling them to overcome elevation changes or system resistance. They are used in lift stations to raise fluid from a lower elevation and in booster stations to increase pressure.\n",
    "\n",
    "Pumps fall into two main categories:\n",
    "\n",
    "- Positive Displacement Pumps: These displace a fixed volume of fluid per cycle, typically providing low flow rates at high heads.\n",
    "- Variable Displacement Pumps (e.g., centrifugal pumps): The flow rate depends on the system's static head or pressure.\n",
    "\n",
    "Pump performance is described using curves that include parameters like discharge, head, efficiency, power, and Net Positive Suction Head (NPSH). System hydraulics are represented as system curves, plotting required head versus flow rate. Pumps are selected to match these curves at the desired operating point.\n",
    "\n",
    "To increase operational flexibility:\n",
    "\n",
    "- Parallel pump configurations increase flow rates with minimal impact on head.\n",
    "- Series pump configurations increase head while maintaining a similar flow rate.\n",
    "\n",
    "This lab investigates the performance of two identical pumps operating individually, in series, and in parallel configurations.\n",
    "\n",
    "<!--### What is a pump?\n",
    "A mechanical device that transfers mechanical energy to move fluid\n",
    "- Lift from lower to higher elevation (Lift stations)\n",
    "- Increase pressure (Booster stations)\n",
    "\n",
    ">Pump Types:\n",
    ">- Positive Displacement Pumps (e.g. Archimedes Pumps; Piston Pumps; Progressive Cavity Pumps)\n",
    ">  - Fixed volume of fluid is displaced each cycle regardless of static head/pressure\n",
    ">  - Low flow rates and higher head than variable displacement pumps\n",
    ">-Variable Displacement Pumps (e.g. Axial Pumps; Centrifugal Pumps)\n",
    ">  - Volume of fluid is dependent on static head/pressure in system (back pressure)\n",
    "-->\n"
   ]
  },
  {
   "cell_type": "markdown",
   "metadata": {},
   "source": [
    "### Pump Hydraulics\n",
    "\n",
    "When selecting a pump for a specific design, engineers rely on performance data provided by the manufacturer, most commonly in the form of pump curves.\n",
    "\n",
    "Information typically includes: \n",
    "- discharge on the x-axis\n",
    "- head on the left y-axis\n",
    "- pump power input on the right y-axis\n",
    "- pump efficiency as a percentage\n",
    "- speed of the pump (rpm)\n",
    "- NPSH of the pump\n",
    "\n",
    "![](pumpcurve.png)\n",
    "\n",
    "Pumps are chosen to match the system hydraulics (shown below) so that the design operates efficiently and reliably."
   ]
  },
  {
   "cell_type": "markdown",
   "metadata": {},
   "source": [
    "### System Hydraulics\n",
    "\n",
    "A system (or characteristic) curve shows the relationship between the required head and the flow rate in a hydraulic system (H vs. Q). \n",
    "It represents how much energy is needed to maintain a steady flow under the given conditions.\n",
    "\n",
    "The total supplied (added) head, $H_p$ , is the sum of elevation head and any head losses \n",
    "\n",
    "$H_p$, = elevation head + head losses\n",
    "\n",
    "![](systemcurve.png)\n",
    "\n",
    "The system curve is a graphical representation of these hydraulics and is based on the governing equation for the particular system:\n",
    "\n",
    "![](systemequation.png)"
   ]
  },
  {
   "cell_type": "markdown",
   "metadata": {},
   "source": [
    "### Pump Performance/Selection\n",
    "\n",
    "A pump is selected so that its performance curve intersects the system curve at the desired design flow rate. While a range of acceptable flow rates is often considered, a single [operating point](http://54.243.252.9/ce-3305-webroot/ce3305s22book/_build/html/lessons/lesson15/pumpoppoint.html) is typically used for discussion, as shown below:\n",
    "\n",
    "![](operatingpoint.png)\n",
    "\n",
    "Different pumps deliver different combinations of head and flow:\n",
    "\n",
    "![](pumpAandB.png) \n",
    "\n",
    "If more flow is needed, it usually comes at the expense of head. If more head is required, it often means sacrificing flow. To increase flexibility in a pump station, multiple pumps are commonly used.\n",
    "\n",
    "![](multiplepumps.png)\n",
    "\n",
    "Parallel pump configurations increase total flow rate while maintaining approximately the same head:\n",
    "\n",
    "![](parallelpumps.png)\n",
    "\n",
    "Series pump configurations increase total head while maintaining approximately the same flow rate:\n",
    "\n",
    "![](seriespumps.png)\n",
    "\n",
    "In this laboratory (Lab 6), two identical pumps are installed in a flow circuit that allows the following configurations:\n",
    "\n",
    "- Either pump operating alone\n",
    "- Both pumps operating in series\n",
    "- Both pumps operating in parallel\n",
    "\n",
    "This setup allows students to compare how pump performance changes with configuration."
   ]
  },
  {
   "cell_type": "markdown",
   "metadata": {},
   "source": [
    "## Apparatus Overview\n",
    "\n",
    "The machine is comprised of two pumps with special arrangements of pipework and valves. It is possible to set the pumps in single, parallel and series connections. Water is pumped from a reservoir through one-way valves and strainers. Water flows through inlet valves, pumps, pipework arrangement and directional valves before it goes through the venturi meter back to the reservoir.\n",
    "Pressures readings at different locations in the pipework and across the venturi meter can be observed in digital display. Flow can be calculated using the venturi meter. The pipe flow schematic is shown below\n",
    "\n",
    "![](flowcircuit.png)\n",
    "\n",
    "A photograph of the test station is annotated in the figure below\n",
    "\n",
    "![](pumpteststation.png)\n",
    "\n",
    "Total head is related to the pressure change across the pump:\n",
    "\n",
    "$$\\rho g H = P_{out}-P_{in}~~~ (1)$$\n",
    "\n",
    "It is the difference between the outlet and inlet pressures for single test (with pump 1). \n",
    "\n",
    "For the parallel pump it is the difference between the combined outlet pressure and the average of the two inlet pressures. \n",
    "\n",
    "For the series connection, it is the difference between outlet pressure of the second pump and the inlet pressure of the first pump.\n",
    "\n",
    "The total input power (mechanical power) is\n",
    "\n",
    "$$W_1 = \\frac{2\\pi N T}{60}~~~ (2)$$\n",
    "\n",
    "The motor drive display calculates the power automatically.\n",
    "\n",
    "The hydraulic power or the horsepower of the pump is\n",
    "\n",
    "$$W_2 = (\\rho g H)Q~~~ (3)$$\n",
    "\n",
    "The overall efficiency of the pump is\n",
    "\n",
    "$$\\eta = \\frac{W_2}{W_1}~~~ (4)$$\n",
    "\n",
    "The flowrate can be calculated directly from the pressure drop along the venturi:\n",
    "\n",
    "$$Q = C_d~A_1 \\sqrt{\\frac{2 \\Delta P}{\\rho (\\frac{A_1^2}{A_2^2} - 1)}}~~~ (5)$$\n",
    "\n",
    "Dimensionlal analysis and [similarity laws](http://54.243.252.9/ce-3305-webroot/ce3305s22book/_build/html/lessons/lesson15/affinitylaws.html) are often used to represent the performance of a morphologically similar class of pump.\n",
    "\n",
    "The useful dimensionless groups for homologous pumps (similar morphology) are:\n",
    "> $$C_Q = \\frac{Q}{ND^3}$$\n",
    "> $$C_H = \\frac{gH}{N^2D^2}$$\n",
    "> $$C_P = \\frac{W_2}{\\rho N^3 D^5}$$\n",
    "> $$Re_D = \\frac{\\rho N D^2}{\\mu}$$\n",
    "> $$N \\text{ is in radians per second.}$$\n",
    "\n",
    "These dimensionless groups will allow you to plot your data onto a single chart for a given design, usually Reynolds number is on the horizontal axis and the dimensionless group on the vertical axis.\n",
    "\n",
    "The relevant variables for the apparatus are:\n",
    "\n",
    "![](Variables.png)\n",
    "\n",
    "<hr>\n"
   ]
  },
  {
   "cell_type": "markdown",
   "metadata": {},
   "source": [
    "## Experimental Procedures\n",
    "\n",
    ":::{tip}\n",
    "The instructor or teaching assistant should operate the test station.  Those tasks are typeset in <font color=\"red\"> red </font>  Be sure to wear safety goggles if you are tasked with any of the <font color=\"red\"> red </font> tasks, such as bleeding the data aquisition system. \n",
    ":::\n",
    "\n",
    "### Single Pump using Pump 1\n",
    "\n",
    "1. <font color=\"red\"> Switch off both Motor Drive Isolators </font>\n",
    "2. <font color=\"red\"> Fully open Pump 1 inlet (suction) and delivery valves. Make sure the **Pump 2 inlet valve is CLOSED** and the two-way valve is set to the direct flow straight to the delivery pipe </font>\n",
    "3. <font color=\"red\"> Start Pump 1 and run it to a maximum speed </font>\n",
    "4. <font color=\"red\"> Bleed all pressure gauges using the bleed line </font>\n",
    "5. Set the motor speed to 3000 rev./min and make sure the delivery valve is fully open\n",
    "6. Use the delivery valve to change outlet pressure, adjust the motor speed back to its initial setting and take pressure readings\n",
    "7. Repeat step 6 to take 5 readings (manual readings from the digital readouts)\n",
    "8. Turn on VDAS and laptop computer, someone in your group should log on to the laptop using their TTU credentials, does not matter whom.  Once running attempt to establish communications with the VDAS computer (the TA or instructor will show you how).  Upon sucessful connection the computer will be reporting data as the apparatus is running.  Use the data tab to record data by pressing F3 (again the TA will show you how) - repeat the 5 readings above (as best you can to match pump speeds), then collect 10 additional readings over a large range of pump speeds.  Save the data file."
   ]
  },
  {
   "cell_type": "markdown",
   "metadata": {
    "jp-MarkdownHeadingCollapsed": true
   },
   "source": [
    "### Parallel Pumps\n",
    "1. <font color=\"red\"> Switch off both Motor Drive Isolators </font>\n",
    "2. <font color=\"red\"> Open both Pump 1 and 2 inlet (suction) valves. Make sure the two-way valve is set to the direct flow straight to the delivery pipe (same as above). Fully open the delivery valve </font>\n",
    "3. <font color=\"red\"> Start both Pump 1 and 2, and run them to a maximum speed </font>\n",
    "4. <font color=\"red\"> Bleed all pressure gauges using the bleed line </font>\n",
    "5. Set the motor speed to 3000 rev./min and make sure the delivery valve is fully open\n",
    "6. Use the delivery valve to change outlet pressure, adjust the motor speed back to its initial setting and take pressure readings\n",
    "7. Repeat step 6 to take 5 readings (manual readings from the digital readouts)\n",
    "8. Turn on VDAS and laptop computer, someone in your group should log on to the laptop using their TTU credentials, does not matter whom.  Once running attempt to establish communications with the VDAS computer (the TA or instructor will show you how).  Upon sucessful connection the computer will be reporting data as the apparatus is running.  Use the data tab to record data by pressing F3 (again the TA will show you how) - repeat the 5 readings above (as best you can to match pump speeds), then collect 10 additional readings over a large range of pump speeds.  Save the data file."
   ]
  },
  {
   "cell_type": "markdown",
   "metadata": {},
   "source": [
    "### Series Pumps: Pump 1 => Pump 2\n",
    "1. <font color=\"red\"> Switch off both Motor Drive Isolators </font>\n",
    "2. <font color=\"red\"> Open Pump 1 inlet (suction) valve. Make sure the **Pump 2 inlet valve is CLOSED**. Make sure the two-way valve is set to the direct flow to the inlet of Pump 2 (opposite of settings above procedures. Fully open the delivery valve </font>\n",
    "3. <font color=\"red\"> Start both Pump 1 and 2, and run them to a maximum speed </font>\n",
    "4. <font color=\"red\"> Bleed all pressure gauges using the bleed line </font>\n",
    "5. Set the motor speed to 3000 rev./min and make sure the delivery valve is fully open\n",
    "6. Use the delivery valve to change outlet pressure, adjust the motor speed back to its initial setting and take pressure readings\n",
    "7. Repeat the steps 6 to take 5 readings\n",
    "8. Turn on VDAS and laptop computer, someone in your group should log on to the laptop using their TTU credentials, does not matter whom.  Once running attempt to establish communications with the VDAS computer (the TA or instructor will show you how).  Upon sucessful connection the computer will be reporting data as the apparatus is running.  Use the data tab to record data by pressing F3 (again the TA will show you how) - repeat the 5 readings above (as best you can to match pump speeds), then collect 10 additional readings over a large range of pump speeds.  Save the data file."
   ]
  },
  {
   "cell_type": "markdown",
   "metadata": {},
   "source": [
    "## Deliverables\n",
    "\n",
    "Each student must submit the following deliverables:\n",
    "\n",
    "1. **Laboratory Report**\n",
    "\n",
    "The report must include the following sections:\n",
    "  - Introduction: Brief overview of pump performance testing and the significance of series and parallel configurations.\n",
    "  - Apparatus and Methods: Description of the equipment, including the commercial ADC data acquisition system, and a summary of the experimental procedure.\n",
    "  - Data and Results: Tabulated data for torque, input power, rpm, head, and flow rate for each configuration.\n",
    "  - Performance Curves: Construct performance curves showing head versus flow rate, efficiency versus flow rate, and power versus flow rate.\n",
    "  - Analysis: Discuss trends observed in the performance curves and explain the differences in pump behavior in single, series, and parallel configurations.\n",
    "  - Discussion: Evaluate how well the experimental results match theoretical performance expectations and comment on potential sources of error.\n",
    "  - Conclusion: Summarize key findings and their engineering relevance.\n",
    "  - Supplementary Calculations: Include calculations for pump efficiency and power output using the provided equations and data from the ADC system.\n",
    "\n",
    ":::{note}\n",
    "The above list is roughly the same heading list as the generic report format at the beginning of the manual.\n",
    ":::\n",
    "\n",
    "These deliverables must be submitted through the course's learning management system by the specified deadline."
   ]
  },
  {
   "cell_type": "markdown",
   "metadata": {},
   "source": [
    "## End of Section"
   ]
  }
 ],
 "metadata": {
  "kernelspec": {
   "display_name": "Python 3 (ipykernel)",
   "language": "python",
   "name": "python3"
  },
  "language_info": {
   "codemirror_mode": {
    "name": "ipython",
    "version": 3
   },
   "file_extension": ".py",
   "mimetype": "text/x-python",
   "name": "python",
   "nbconvert_exporter": "python",
   "pygments_lexer": "ipython3",
   "version": "3.10.12"
  }
 },
 "nbformat": 4,
 "nbformat_minor": 4
}