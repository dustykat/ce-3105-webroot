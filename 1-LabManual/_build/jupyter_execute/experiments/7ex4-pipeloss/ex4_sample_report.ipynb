{
 "cells": [
  {
   "cell_type": "markdown",
   "id": "14389927-8aa7-4b6f-96c2-3763b69a73ab",
   "metadata": {},
   "source": [
    "# Laboratory 4 Sample Report\n",
    "\n",
    "## Title: \n",
    "Investigation of Friction Losses in a Pipe\n",
    "\n",
    "## Authors:\n",
    "\n",
    "P.N. Guinn, and P. Olar Bear\n",
    "\n",
    "## Purpose\n",
    "\n",
    "This experiment aimed to investigate frictional losses in a pipe system under varying flow conditions. Measurements of flow rate, pressure drop, and head loss were recorded using both manual methods (stopwatch and bucket) and automated data acquisition systems (flowmeter and pressure transducers). The results were analyzed for accuracy, repeatability, and potential sources of error. The behavior of the friction factor was observed, and Reynolds number was computed for each set of measurements.\n",
    "Introduction\n",
    "\n",
    "Friction loss in pipes is a critical factor in designing efficient fluid transport systems. This experiment utilized the Darcy-Weisbach equation to quantify friction losses based on measured parameters, including flow velocity, pressure drop, and pipe characteristics. The effect of Reynolds number on flow regime classification was also examined.\n",
    "\n",
    "## Experimental Setup and Methods\n",
    "\n",
    "The experiment was conducted using a hydraulic bench, a header tank, a test pipe, and both manual and automated measurement devices. Flow rate was measured using both the stopwatch and bucket method, and a calibrated flowmeter connected to a Raspberry Pi.\n",
    "Pressure drop was measured with manometers, handheld pressure meters, and electronic pressure transducers interfaced with an automated data logger.\n",
    "\n",
    "Each manual measurement was repeated in triplicate to ensure reliability.  \n",
    "\n",
    "## Results and Discussion\n",
    "\n",
    "Flow Rate Comparisons:\n",
    "- The flowmeter and stopwatch/bucket method provided similar results for high flow rates, but discrepancies were noted at low flow rates.\n",
    "- The flowmeter was less accurate for very low flows, where small variations were more difficult to detect.\n",
    "\n",
    "Pressure Drop Comparisons:\n",
    "- The manometer and handheld pressure meter readings closely matched, serving as reliable \"ground truth.\"\n",
    "- The automated datalogger system, after applying the necessary voltage-to-pressure conversion, provided consistent results but required calibration for accurate pressure readings.\n",
    "- The transducers demonstrated a slight non-linearity at extreme pressure ranges, which was corrected using a conversion factor.\n",
    "\n",
    "## Accuracy and Repeatability:\n",
    "- The mean and standard deviation of measurements were calculated for each set.\n",
    "- The high precision of the automated data logger, with its high sampling rate, reduced variance in pressure readings compared to manual methods.\n",
    "\n",
    "## Sources of Error:\n",
    "- Potential sources of error included slight inaccuracies in manual flow measurement (due to timing inconsistencies) and sensor calibration errors for the automated data acquisition system.\n",
    "- Environmental factors such as temperature variations could also have affected viscosity and other fluid properties.\n",
    "\n",
    "## Conclusion\n",
    "\n",
    "The experiment successfully demonstrated the application of both manual and automated methods for measuring frictional losses in a pipe system. While automated systems offered advantages in data precision, manual methods remained valuable for calibration and verification. Further improvements to the flowmeter’s sensitivity and pressure transducer calibration will enhance measurement accuracy for low flow rates.\n",
    "\n",
    "## References\n"
   ]
  }
 ],
 "metadata": {
  "kernelspec": {
   "display_name": "Python Common Environment",
   "language": "python",
   "name": "python-my-env"
  },
  "language_info": {
   "codemirror_mode": {
    "name": "ipython",
    "version": 3
   },
   "file_extension": ".py",
   "mimetype": "text/x-python",
   "name": "python",
   "nbconvert_exporter": "python",
   "pygments_lexer": "ipython3",
   "version": "3.10.12"
  }
 },
 "nbformat": 4,
 "nbformat_minor": 5
}