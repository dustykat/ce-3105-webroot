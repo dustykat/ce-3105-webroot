{
 "cells": [
  {
   "cell_type": "markdown",
   "metadata": {},
   "source": [
    "# 14. Lab 11 - Porous Media : Flow Nets\n",
    "\n",
    ":::{admonition} Course Website\n",
    "[http://54.243.252.9/ce-3105-webroot/](http://54.243.252.9/ce-3105-webroot/)\n",
    ":::\n",
    "\n",
    ":::{Warning}\n",
    "Under development.\n",
    ":::"
   ]
  },
  {
   "cell_type": "markdown",
   "metadata": {},
   "source": [
    "## Readings \n",
    "\n",
    "1. [Julien, P. Y. (2022) pp. 109-140 from *Essentials of Hydraulics*. Cambridge University Press. ISBN 978-1-108-81630-4. DOI: 10.1017/9781108907466](http://54.243.252.9/ce-3105-webroot/ce3105notes/lessons/laboratory9/Essentials_of_Hydraulics.pdf)\n",
    "\n",
    "2. [Crowe, C. T., Elger, D. F. , Williams, B.C., Roberson, J. A. (2009). pp 187-192 from *Engineering Fluid Mechanics, 9th Edition*. J. Wiley & Sons. ISBN 0-471-66161-9](http://54.243.252.9/ce-3105-webroot/ce3105notes/lessons/laboratory9/Crowe-et-al.-2009-Engineering-Fluid-Mechnaics-Excerpt.pdf)\n",
    "\n",
    "3.  [Koutitas, C. G. (1983) pp. 55-64 from *Elements of computational hydraulics*. Pentech Press](http://54.243.252.9/ce-3105-webroot/ce3105notes/lessons/laboratory9/ElementsOfComputationalHydraulicsExcerpt.pdf)\n",
    "\n",
    "4. [Watters, G. Z. (1979). pp 1-46 from *Modern analysis and control of unsteady flow in pipelines.* Ann Arbor Science Publishers.](http://54.243.252.9/ce-3105-webroot/ce3105notes/lessons/laboratory9/ModernAnalysisandControlofUnsteadyFlowinPipelines.pdf)\n",
    "\n",
    "5. [TecQuipment Ltd. (2024) H405 Pipe Surge and Water Hammer -- User Guide.](http://54.243.252.9/ce-3105-webroot/7-user-manuals/H405-WaterHammer.pdf)\n",
    "\n",
    " \n",
    "<!--2. [Gupta, R.S., 2017. Hydrology and Hydraulic Systems, pp 668](https://www.waveland.com/browse.php?t=384) This is usually the CE 3354/3372 Textbook -->\n",
    "\n"
   ]
  },
  {
   "cell_type": "markdown",
   "metadata": {},
   "source": [
    "## Videos\n",
    "\n",
    "1. [none](https://www.youtube.com/watch?v=9NYs3Y-IjGw)"
   ]
  },
  {
   "cell_type": "markdown",
   "metadata": {
    "jp-MarkdownHeadingCollapsed": true
   },
   "source": [
    "## Background\n",
    "\n",
    "Items this subsection:\n",
    "\n",
    "- Flow net (mathematics)\n",
    "- Importance/uses\n",
    "  "
   ]
  },
  {
   "cell_type": "markdown",
   "metadata": {},
   "source": [
    "## Laboratory Apparatus\n",
    "\n",
    "Items this sub-section:\n",
    "\n",
    "- [Insert Photograph of Apparatus Here](#)\n",
    "- Description (from user manual here).\n",
    "- Links to relevant documents .\n",
    "\n",
    ":::{Warning}\n",
    "Under development - The hardware is present at time of writing. not completed.\n",
    ":::"
   ]
  },
  {
   "cell_type": "markdown",
   "metadata": {},
   "source": [
    "## Laboratory Objectives\n",
    "\n",
    "Items this sub-section\n",
    "\n",
    "- Objectives/purpose\n",
    "- Experimental protocol\n"
   ]
  },
  {
   "cell_type": "markdown",
   "metadata": {},
   "source": [
    "## Deliverables\n",
    "\n",
    "Items this sub-section\n",
    "- Laboratory Report documenting the actual experiments, and other required content including comparison to computer model(s)."
   ]
  },
  {
   "cell_type": "markdown",
   "metadata": {},
   "source": [
    "## End of Section"
   ]
  },
  {
   "cell_type": "code",
   "execution_count": null,
   "metadata": {},
   "outputs": [],
   "source": []
  }
 ],
 "metadata": {
  "kernelspec": {
   "display_name": "Python 3 (ipykernel)",
   "language": "python",
   "name": "python3"
  },
  "language_info": {
   "codemirror_mode": {
    "name": "ipython",
    "version": 3
   },
   "file_extension": ".py",
   "mimetype": "text/x-python",
   "name": "python",
   "nbconvert_exporter": "python",
   "pygments_lexer": "ipython3",
   "version": "3.10.12"
  }
 },
 "nbformat": 4,
 "nbformat_minor": 4
}