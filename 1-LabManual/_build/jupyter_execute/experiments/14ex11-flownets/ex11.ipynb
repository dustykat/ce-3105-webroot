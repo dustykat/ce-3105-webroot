{
 "cells": [
  {
   "cell_type": "markdown",
   "metadata": {},
   "source": [
    "# 14. Lab 11 - Porous Media : Flow Nets\n",
    "\n",
    ":::{admonition} Course Website\n",
    "[http://54.243.252.9/ce-3105-webroot/](http://54.243.252.9/ce-3105-webroot/)\n",
    ":::\n",
    "\n",
    ":::{Warning}\n",
    "Under development - The hardware is present at time of writing (14 Jan 2025), but the commercial ADC data acquision system is not installed (if incomplete by time of scheduled laboratory) can use Lab 4.9 for 2025-1 semester.\n",
    ":::"
   ]
  },
  {
   "cell_type": "markdown",
   "metadata": {},
   "source": [
    "## Readings \n",
    "\n",
    "1. [Julien, P. Y. (2022) pp. 109-140 from *Essentials of Hydraulics*. Cambridge University Press. ISBN 978-1-108-81630-4. DOI: 10.1017/9781108907466](http://54.243.252.9/ce-3105-webroot/ce3105notes/lessons/laboratory9/Essentials_of_Hydraulics.pdf)\n",
    "\n",
    "2. [Crowe, C. T., Elger, D. F. , Williams, B.C., Roberson, J. A. (2009). pp 187-192 from *Engineering Fluid Mechanics, 9th Edition*. J. Wiley & Sons. ISBN 0-471-66161-9](http://54.243.252.9/ce-3105-webroot/ce3105notes/lessons/laboratory9/Crowe-et-al.-2009-Engineering-Fluid-Mechnaics-Excerpt.pdf)\n",
    "\n",
    "3.  [Koutitas, C. G. (1983) pp. 55-64 from *Elements of computational hydraulics*. Pentech Press](http://54.243.252.9/ce-3105-webroot/ce3105notes/lessons/laboratory9/ElementsOfComputationalHydraulicsExcerpt.pdf)\n",
    "\n",
    "4. [Watters, G. Z. (1979). pp 1-46 from *Modern analysis and control of unsteady flow in pipelines.* Ann Arbor Science Publishers.](http://54.243.252.9/ce-3105-webroot/ce3105notes/lessons/laboratory9/ModernAnalysisandControlofUnsteadyFlowinPipelines.pdf)\n",
    "\n",
    "5. [TecQuipment Ltd. (2024) H405 Pipe Surge and Water Hammer -- User Guide.](http://54.243.252.9/ce-3105-webroot/7-user-manuals/H405-WaterHammer.pdf)\n",
    "\n",
    " \n",
    "<!--2. [Gupta, R.S., 2017. Hydrology and Hydraulic Systems, pp 668](https://www.waveland.com/browse.php?t=384) This is usually the CE 3354/3372 Textbook -->\n",
    "\n"
   ]
  },
  {
   "cell_type": "markdown",
   "metadata": {},
   "source": [
    "## Videos\n",
    "\n",
    "1. [none](https://www.youtube.com/watch?v=9NYs3Y-IjGw)"
   ]
  },
  {
   "cell_type": "markdown",
   "metadata": {},
   "source": [
    "## Lesson Outline\n",
    "1. Background\n",
    "\n",
    "4. Calculations"
   ]
  },
  {
   "cell_type": "markdown",
   "metadata": {},
   "source": [
    "## Background\n",
    "Unsteady flow in closed conduits is important for estimating the forces involved from a sudden change in discharge from a pump failing (or starting), or the closing (or opening) of a valve. The flow variation will create a pressure wave traveling along the pipe.\n",
    "\n",
    ":::{note} \n",
    "These waves will travel in alternating directions as they find boundaries as each end of the disturbed discharge conduit -- in some sense the pipeline becomes a resonant chamber.  Over time the magnitude of the waves will decrease as friction dissipates the energy.  During these transients high and low pressures are applied to the pipe walls and fixtures and can concievably damage them.\n",
    ":::\n",
    "\n",
    "The engineering/computational goal is to estimate the magnitude and timing of these extreme pressures to evaluate the safety of the conduit, or design a pump shutdown (or startup) or valve operation protocol to control these extreme pressures to some acceptable magnitude."
   ]
  },
  {
   "cell_type": "markdown",
   "metadata": {},
   "source": [
    "## Calculations"
   ]
  },
  {
   "cell_type": "markdown",
   "metadata": {},
   "source": [
    "## Laboratory Apparatus\n",
    "\n",
    "Items this sub-section:\n",
    "\n",
    "- [Insert Photograph of Apparatus Here](#)\n",
    "- Description (from user manual here).\n",
    "- Links to relevant documents regarding ADC hardware/software.\n",
    "- Abbreviated protocol here or sample protocol section.\n",
    "\n",
    ":::{Warning}\n",
    "Under development - The hardware is present at time of writing (14 Jan 2025), but the commercial ADC data acquision system is not installed (if incomplete by time of scheduled laboratory) can use Lab 4.9 for 2025-1 semester.\n",
    ":::"
   ]
  },
  {
   "cell_type": "markdown",
   "metadata": {},
   "source": [
    "## Laboratory Objectives\n",
    "1. Configure the water hammer apparatus to measure heads at the pipeline midpoint.\n",
    "2. Develop an experimental protocol (step-by-step instructions) to measure heads at the midpoint in the pipeline for a rapid valve closure, and to estimate initial velocity in the pipeline before the closure.\n",
    "3. Upon approval of the protocol, conduct a set of experiments in triplicate to measure the head versus time at the pipeline midpoint.\n",
    "4. Modify the script(s) above to predict the head/pressure in the pipeline at the midpoint using the actual material properties, geometric properties, and the hydraulic settings of the water hammer experimental apparatus.\n",
    "5. Document the experiment(s) into a laboratory report and comment on the fidelity of the numerical model's ability to replicate actual measurements."
   ]
  },
  {
   "cell_type": "markdown",
   "metadata": {},
   "source": [
    "## Deliverables\n",
    "\n",
    "1. Experimental Protocol (step-by-step instructions) to measure heads at the midpoint in the pipeline for a rapid valve closure, and to estimate initial velocity in the pipeline before the closure.  Submitted in advance for instructor approval - the protocol will become part of your laboratory report.\n",
    "2. Laboratory Report documenting the actual experiments, and other required content including comparison to computer model(s)."
   ]
  },
  {
   "cell_type": "markdown",
   "metadata": {},
   "source": [
    "## End of Section"
   ]
  }
 ],
 "metadata": {
  "kernelspec": {
   "display_name": "Python 3 (ipykernel)",
   "language": "python",
   "name": "python3"
  },
  "language_info": {
   "codemirror_mode": {
    "name": "ipython",
    "version": 3
   },
   "file_extension": ".py",
   "mimetype": "text/x-python",
   "name": "python",
   "nbconvert_exporter": "python",
   "pygments_lexer": "ipython3",
   "version": "3.10.12"
  }
 },
 "nbformat": 4,
 "nbformat_minor": 4
}