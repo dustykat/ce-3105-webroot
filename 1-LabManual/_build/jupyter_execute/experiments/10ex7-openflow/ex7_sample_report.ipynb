{
 "cells": [
  {
   "cell_type": "markdown",
   "metadata": {},
   "source": [
    "# Laboratory 7 - Sample Report\n",
    "\n",
    "## Title\n",
    "\n",
    "## Purpose\n",
    "\n",
    "Examine behavior in open channels, in particular determining Manning's n for a portion of a channel, and cerating and observing the alternate and sequent depths in a hydraulic jump."
   ]
  },
  {
   "cell_type": "markdown",
   "metadata": {},
   "source": [
    "## Objective(s)\n",
    "1. Validate the manufacturer calibration using a V-Notch Weir.\n",
    "3. Measure depth and flow over a rock bed (already in the flume) and determine Manning's n for the rock bed and compare to literature values, and \n",
    "3. Create a hydraulic jump, stabilizing it, then measuring the alternate and sequent depths and comparing these to calculated values based on the discharge."
   ]
  },
  {
   "cell_type": "markdown",
   "metadata": {},
   "source": [
    "## Data Acquisition\n",
    "\n",
    "**Part 1**\n",
    "This part is to validate the flow calibration chart and equation.\n",
    "0. Set the slope to 1-percent.\n",
    "1. Ensure flume tailgate is down.\n",
    "2. Close the red valves for both pumps.\n",
    "3. Start the pumps.\n",
    "4. Move the depth logger to the same elevation as the height of V notch and reset the value to zero.\n",
    "5. Make sure the manometer valves corresponding to the selected orifice(s) is(are) open.\n",
    "4. Ensure the manometers are free of air bubbles.\n",
    "5. Open the red valve(s) to let flow into the flume.\n",
    "6. Move the depth logger till it touches the top of the water level. Measure the height. Record this measurement.\n",
    "7. Record the manometer readings for each pump.\n",
    "8. Repeat the procedure for 4 different flowrates keeping the slope constant.  Use the red valves to adjust flowrates.\n",
    "\n",
    "**Part2**\n",
    "This can be conducted with the weir in place\n",
    "1. Move the depth logger to top of one of the rocks and reset the value to zero.\n",
    "2. Make sure the manometer valves corresponding to the selected orifice is/are open\n",
    "3. Ensure the manometers are free of air bubbles.\n",
    "4. Open the Orifice to let flow into the flume\n",
    "5. Move the depth logger till it touches the top of the water level. Measure the height\n",
    "6. Repeat the procedure for 2 other flowrates keep the slope constant\n",
    "7. Repeat the above steps for a total of 3 different **slopes**\n",
    "\n",
    "**Part 3**\n",
    "This part will create a stable hydraulic jump.  It is easiest to remove the weir.\n",
    "1. Shut down the pumps, close the red valves, and remove the weir - everything else can be left as-is.\n",
    "2. Set the slope to 4-percent (its going to look steep, but the machine can handle it!)\n",
    "3. Start the pumps (you can try with just a single pump if you wish).\n",
    "4. Raise the tailgate a lot!\n",
    "5. Zero the depth gage to the channel bottom.\n",
    "6. Open the red valve(s) to start the flow.  \n",
    "7. Raise the headgate to just above the water height.\n",
    "8. Lower the tailgate a little bit at a time - you will likely observe two jumps, one near the head gate and one after the rocks.  The stable one is the one at the head gate.\n",
    "9. Lower the headgate until it just touches the water surface - you are forcing supercritical depth at this location.  You should be able to create a stable jump about 0.5 to 1-foot from the head gate, and the water surface after the jump should be fairly established at the rocks.\n",
    "10. Record the manometer readings for the pump(s)\n",
    "11. Measure the flow depth befor the jump (halfway between the headgate and the jump should do). This is the alternate depth.\n",
    "12. Measure the flow depth after the jump where the surface waves have dissipated (probably at the rocks).  This is the sequent depth.\n"
   ]
  },
  {
   "cell_type": "markdown",
   "metadata": {},
   "source": [
    "## Data Analysis\n",
    "\n",
    "**Part 1**\n",
    "1. Use the calibration chart provided to calculate the flowate based on the difference of the manometers's readings.\n",
    "2. Use the V-Notch weir data to calculate the flowrate based on those measurements.\n",
    "2. Create a \"Stage Discharge Plot\" of \"log of Flowrate (Manometer)\", Q (y-axis) ,\"log of Flowrate (Weir)\", Q (y-axis)vs. \"Depth\" y (x-axis)\n",
    "3. Tabulate all results\n",
    "\n",
    "**Part 2**\n",
    "1. For each flow depth (over the rock bed) calculate the wetted perimeter and hydraulic radius.\n",
    "2. Use the calibration chart provided to calculate the flowate based on the difference of the manometers's readings.\n",
    "3. For each flowrate and depth calculate the Manning's n. Make sure you are using consistent set of units.\n",
    "4. Calculate the mean and standard deviation of the computed Manning's n.\n",
    "5. Create a plot of Flowrate, Q (y-axis) vs. $K_nAR^{2/3}S^{1/2}$ (x-axis). The slope will be equal to 1/n. Compare this value obtained graphically with the mean value obtained from individual calculations\n",
    "6. Tabulate all results\n",
    "**Part3**\n",
    "\n",
    "![](hydjumppicture.png)\n",
    "1. Compute the Froude Number upstream and downstream of the stable jump\n",
    "2. Using the flowrate from your calibration chart(s) determine the anticipated sequent depth downstream of the jump. You can use an on-line [hydraulic jump calculator](https://www.omnicalculator.com/physics/hydraulic-jump) or the formula from your fluids textbook.\n",
    "3. Compare the computed result to the measured result."
   ]
  },
  {
   "cell_type": "markdown",
   "metadata": {},
   "source": [
    "## Discussion/Interpretation\n",
    "\n",
    "Interpretation Questions (for Report)\n",
    "1. The Manning's coefficient for a bed rock channel flowing partially full is in the range of 0.035 - 0.050. How do your values compare to this reported range?\n",
    "2. Why is it important to know the channel bed material in a river or a stream?\n",
    "3. Many rivers and streams have submerged vegetation. How would these vegetation affect Manning's n?\n",
    "4. What is the purpose of a Hydraulic Jump and where might it occur? \n",
    "5. Errors between experiment and theory have multiple sources. Which of the following do you think are most significant in your experiment, and why?\n",
    "- inadequate theory (assumptions violated) \n",
    "- errors in experimental measurement (instrument precision)\n",
    "- calculation errors\n"
   ]
  },
  {
   "cell_type": "markdown",
   "metadata": {},
   "source": [
    "## Data Records\n",
    "\n",
    "**Part 1**\n",
    "Some values are to be computed afterwards\n",
    "\n",
    "|Trial|$\\Delta H$-Pump 1|$\\Delta H$-Pump 2|$H_{weir}$|$S_0$|$Q_{chart}$|$Q_{weir}$|\n",
    "|:---|---:|---:|---:|---:|---:|---:|\n",
    "|1||||||\n",
    "|2||||||\n",
    "|3||||||\n",
    "|4||||||\n",
    "|5||||||\n",
    "\n",
    "**Part 2**\n",
    "\n",
    "Some values are to be computed afterwards (if weir is removed, ignore that column).  Three different slopes!\n",
    "\n",
    "|Trial|$\\Delta H$-Pump 1|$\\Delta H$-Pump 2|$H_{weir}$|$S_0$|$Q_{chart}$|$Q_{weir}$|$P_W$|$R_h$|$n$|\n",
    "|:---|---:|---:|---:|---:|---:|---:|---:|---:|---:|\n",
    "|1|||||||||\n",
    "|2|||||||||\n",
    "|3|||||||||\n",
    "\n",
    "|Trial|$\\Delta H$-Pump 1|$\\Delta H$-Pump 2|$H_{weir}$|$S_0$|$Q_{chart}$|$Q_{weir}$|$P_W$|$R_h$|$n$|\n",
    "|:---|---:|---:|---:|---:|---:|---:|---:|---:|---:|\n",
    "|1|||||||||\n",
    "|2|||||||||\n",
    "|3|||||||||\n",
    "\n",
    "|Trial|$\\Delta H$-Pump 1|$\\Delta H$-Pump 2|$H_{weir}$|$S_0$|$Q_{chart}$|$Q_{weir}$|$P_W$|$R_h$|$n$|\n",
    "|:---|---:|---:|---:|---:|---:|---:|---:|---:|---:|\n",
    "|1|||||||||\n",
    "|2|||||||||\n",
    "|3|||||||||\n",
    "\n",
    "**Part 3**\n",
    "This will involve a single experiment, take a photograph of your jump and include it in the report.\n",
    "\n",
    "|$\\Delta H$-Pump 1|$\\Delta H$-Pump 2|$S_0$|$Q_{chart}$|$h_{up}$|$h_{down}$|\n",
    "|---:|---:|---:|---:|---:|---:|\n",
    "|||||||"
   ]
  },
  {
   "cell_type": "code",
   "execution_count": null,
   "metadata": {},
   "outputs": [],
   "source": []
  },
  {
   "cell_type": "markdown",
   "metadata": {},
   "source": [
    "## References\n",
    "\n",
    "1. [Laboratory 8 circa 2021](http://54.243.252.9/ce-3105-webroot/pdf-source/Experiment8OpenChannelHydraulics.pdf)\n",
    "3. [Descriptive Statistics](http://54.243.252.9/engr-1330-webroot/engr1330notes/_build/html/examples/8statistical/1descriptivestatistics.html)\n",
    "4. [Plotting Data](http://54.243.252.9/engr-1330-webroot/engr1330notes/_build/html/examples/7graphing/example05.html)\n",
    "5. [Fitting Data Models](http://54.243.252.9/engr-1330-webroot/engr1330notes/_build/html/examples/10datamodels/datamodels.html)\n",
    "7. [Holman, J.P., (2012) Experimental Methods for Engineers, 8th Ed. (Chapters 1-3)](https://mech.at.ua/HolmanICS.pdf)\n",
    "8. [Holman, J.P., (2012) Experimental Methods for Engineers, 8th Ed. (Chapter 15 Report Writing)](https://mech.at.ua/HolmanICS.pdf)\n",
    "9. [V-Notch Weir Theory](https://siris.co.uk/v-notch-weir-design-how-does-it-work/)\n",
    "10. [Hydraulic Jump Theory](https://en.wikipedia.org/wiki/Hydraulic_jump)\n",
    "11. [Hydraulic Jump Calculator](https://www.omnicalculator.com/physics/hydraulic-jump)\n",
    "12. [V-Notch Weir Calculator](http://ponce.sdsu.edu/onlineveenotchdescription.html)"
   ]
  },
  {
   "cell_type": "markdown",
   "metadata": {},
   "source": [
    "## Videos\n",
    "\n",
    "1. [Laboratory 8 Video by Dr. Uddameri](https://www.youtube.com/watch?v=_3ZBN_Ec9q4)"
   ]
  },
  {
   "cell_type": "code",
   "execution_count": null,
   "metadata": {},
   "outputs": [],
   "source": []
  }
 ],
 "metadata": {
  "kernelspec": {
   "display_name": "Python 3 (ipykernel)",
   "language": "python",
   "name": "python3"
  },
  "language_info": {
   "codemirror_mode": {
    "name": "ipython",
    "version": 3
   },
   "file_extension": ".py",
   "mimetype": "text/x-python",
   "name": "python",
   "nbconvert_exporter": "python",
   "pygments_lexer": "ipython3",
   "version": "3.10.12"
  }
 },
 "nbformat": 4,
 "nbformat_minor": 4
}