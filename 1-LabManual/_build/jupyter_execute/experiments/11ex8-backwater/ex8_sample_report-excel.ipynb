{
 "cells": [
  {
   "cell_type": "code",
   "execution_count": null,
   "metadata": {},
   "outputs": [],
   "source": []
  },
  {
   "cell_type": "markdown",
   "metadata": {},
   "source": [
    "# Lab 8. - Sample Report (Spreadsheet Version)"
   ]
  },
  {
   "cell_type": "markdown",
   "metadata": {
    "jp-MarkdownHeadingCollapsed": true
   },
   "source": [
    "## Title: \n",
    "Water Surface Profiles: Testing Hydraulic Predictions in the Lab\n",
    "\n",
    "*An exploration of fixed-step methods and weir-based discharge estimation in open channel flow*\n",
    "\n"
   ]
  },
  {
   "cell_type": "markdown",
   "metadata": {},
   "source": [
    "## Purpose:\n",
    "The purpose of Laboratory 81 is to compare a computed water surface profile to an experimental profile and confirm or refute the ability of computational hydraulics to predict behavior of real systems.  \n",
    "\n",
    ":::{note}\n",
    "Because Laboratory 81 is a *practical* laboratory examination, the report is abbreviated considerably compared to an ordinary laboratory report.\n",
    ":::\n",
    "\n",
    "## Methods:\n",
    "Using a computer and provided algorithms, create a computed water surface profile for the conditions of the laboratory flume.  \n",
    "\n",
    "The computer program will need the channel cross-section geometry (rectangular), channel discharge ($Q$ - unknown, but measurable using principles of sharp-crested weir), the channel slope, the channel resistance term (Manning's $n$).\n",
    "\n",
    "The experimental measurements include the depth of flow over the weir crest (assumed critical depth - this is the only reliable way to estimate discharge), the channel slope, the depth of flow at stations $-30,-60, ... ,300 cm$ marked on the channel walls."
   ]
  },
  {
   "cell_type": "markdown",
   "metadata": {},
   "source": [
    "## Deliverables\n",
    "\n",
    "1. Data tables populated with measurements\n",
    "2. Calculations to estimate flow over a sharp crested weir (spreadsheet, Jupyter Notebook, or by-hand calculations)\n",
    "3. The computer script (code) used; if a spreadsheet is used, be sure to turn on \"display equations\" mode, so the actual code shows, not just tabl;es of values.\n",
    "4. The plot of the *simulated water surface profile* and the *measured water surface profile* on the same graph."
   ]
  },
  {
   "cell_type": "markdown",
   "metadata": {
    "jp-MarkdownHeadingCollapsed": true
   },
   "source": [
    "## Procedure:\n",
    "1. Measure the height of the weir crest. (Use DTW probe - take some care to make an accurate measurement)\n",
    "2. Set the DTW probe to read 0 at weir crest height, with probe in middle of its up-down range.  This will make later calculations easier.\n",
    "3. Measure flume width.\n",
    "4. The laboratory instructor will set a channel slope and a flow-rate.  Once a steady condition is obtained the student(s) will\n",
    "5. Determine channel slope by direct measurement(s); measure distance on two points on the flume to the floor, calculate the slope.\n",
    "6. Determine channel slope from the channel slope indicator.\n",
    "7. Measure the height of the water surface above the weir crest.\n",
    "8. Measure the height of the water surface above the channel bottom at the 12 stations marked on the flume.\n",
    "9. Calculate the flow rate based on the weir measurements.\n",
    "10. Calculate the water-surface position using an appropriate tool to produce a *simulated water surface profile*\n",
    "11. Plot the *simulated water surface profile* and the *measured water surface profile* on the same graph.\n",
    "12. Adjust the value of Manning's $n$, until the *simulated water surface profile* and the *measured water surface profile* are as similar.\n",
    "13. Report the \"best\" value of Manning's $n$.\n",
    "14. Compute a metric of the modeling error.\n",
    "\n",
    "The photograph below shows the experiment in progress, with particular focus at the weir end of the appratus.  \n",
    "\n",
    "<p style=\"text-align: center;\">\n",
    "  <img src=\"http://54.243.252.9/ce-3105-webroot/ce3105notes/lessons/laboratory81/sample-report81-pic1.png\" alt=\"Experimental setup\" width=\"400\"/>\n",
    "</p>\n",
    "\n",
    "The next photograph (below) showns a portion of the experiment on the downstream half.  The stations are clearly indicated by vertical lines, the small crosses, and annotations are the readings from the DTW gage.\n",
    "\n",
    "<p style=\"text-align: center;\">\n",
    "  <img src=\"http://54.243.252.9/ce-3105-webroot/ce3105notes/lessons/laboratory81/sample-report81-pic2.png\" alt=\"Experimental setup 2\" width=\"400\"/>\n",
    "</p>\n",
    "\n",
    "The next photograph (below) showns a portion of the experiment on the upstream half.  The stations are clearly indicated by vertical lines, the small crosses, and annotations are the readings from the DTW gage.\n",
    "\n",
    "<p style=\"text-align: center;\">\n",
    "  <img src=\"http://54.243.252.9/ce-3105-webroot/ce3105notes/lessons/laboratory81/sample-report81-pic3.png\" alt=\"Experimental setup 2\" width=\"400\"/>\n",
    "</p>"
   ]
  },
  {
   "cell_type": "markdown",
   "metadata": {},
   "source": [
    "## 1. Data Table (measurements and experiment notes)\n",
    "\n",
    "$P$ = weir crest height (m): **0.230** <br>\n",
    "$L$  = weir crest width (m):  **0.3048** <br>\n",
    "$S_0$ = channel slope ($\\%$): **1.50** From slope indicator on device<br>\n",
    "\n",
    "\n",
    "|STATION_ID      |x-coordinate (m)   |DTW (mm)      |water depth(mm)    |DTF (mm)           |Channel Slope |\n",
    "|----------------|-----------------:|--------------:|-------------:|----------------|--------------|\n",
    "|0 : ~ weir      |        ~0.00     |**37.88**      |**0.26788**   | **157.5**      |   --N/A--    |\n",
    "|1               |        -0.30     |**37.06**      |**0.26706**   | **157.9**      |  **0.0133**  |\n",
    "|2               |        -0.60     |**32.14**      |**0.26214**   | **158.5**      |  **0.0200**  |\n",
    "|3               |        -0.90     |**28.49**      |**0.25849**   | **159.5**      |  **0.0333**  |\n",
    "|4               |        -1.20     |**23.92**      |**0.25392**   | **159.9**      |  **0.0133**  |\n",
    "|5               |        -1.50     |**19.10**      |**0.24910**   | **160.2**      |  **0.0100**  |\n",
    "|6               |        -1.80     |**14.56**      |**0.24456**   | **160.4**      |  **0.0067**  |\n",
    "|7               |        -2.10     |**10.18**      |**0.24018**   | **160.7**      |  **0.0100**  |\n",
    "|8               |        -2.40     |**5.11**       |**0.23511**   | **161.4**      |  **0.0233**  |\n",
    "|9               |        -2.70     |**0.18**       |**0.23018**   | **161.7**      |  **0.0100**  |\n",
    "|10              |        -3.00     |**-4.26**      |**0.22574**   | **162.4**      |  **0.0233**  |\n",
    "|11              |        -3.30     |**-9.83**      |**0.22017**   | **163.1**      |  **0.0233**  |\n",
    "|12 : ~ head tank|        -3.60     |**-15.44**     |**0.21456**   | **163.5**      |  **0.0133**  |\n",
    "\n",
    "*Note(s):* \n",
    "1. The DTW gage was set to read 00.00 at the weir crest, with the gage set about the middle of the moveable range.  Water depth = DTW + 230.00 (mm) for the data below.\n",
    "2. The distance to floor (DTF) is measured from the top rail to the floor at each station location - assuming the epoxy coating is uniform and the floor was placed using self-leveling concrete these values are used to determine an average slope for the apparatus, which is used to validate or refute the channel slope device on the flume.  The slopes are computed using adjacent stations\n",
    "3. The average slope and standard deviation computed from the last column are:\n",
    "$$ \\bar S_o = 0.01695 ~~;~~ \\sigma = 0.821 $$ The variation is moderate — the standard deviation is nearly 50% of the mean. This result suggests either inherent variability in the floor (not level, hence unsuitable as a datum) or of the flume (the top rail is not parallel to the flume bottom), and/or instrument noise (tape measure is hard to read), or setup differences between trials.  Nevertheless, the value is reasonably close to the slope indicator value of 0.015.  Or more precisely, the slope indicator value of 0.015 is within the +/- 1 standard deviation range from the distance to floor measurements."
   ]
  },
  {
   "cell_type": "markdown",
   "metadata": {},
   "source": [
    "### 2. Sharp Crested Weir Discharge Formula\n",
    "\n",
    "A sketch of the elevation view at a weir is \n",
    "\n",
    "<p style=\"text-align: center;\">\n",
    "  <img src=\"http://54.243.252.9/ce-3105-webroot/ce3105notes/lessons/laboratory81/sideviewweir.png\" alt=\"Side view weir\" width=\"400\"/>\n",
    "</p>\n",
    "\n",
    "An end view of the weir is\n",
    "\n",
    "<p style=\"text-align: center;\">\n",
    "  <img src=\"http://54.243.252.9/ce-3105-webroot/ce3105notes/lessons/laboratory81/endviewweir.png\" alt=\"End view weir\" width=\"400\"/>\n",
    "</p>\n",
    "\n",
    "A simple formula to compute discharge over a *suppressed* sharp crested weir (in SI units) is\n",
    "\n",
    "$$ Q = 1.84LH^{3/2} $$\n",
    "\n",
    "where,\n",
    "\n",
    "$Q$ is the discharge in $m^3/sec$ <br>\n",
    "$L$ is the weir crest width (channel width, $B$, in this case) in $m$ <br>\n",
    "$H$ is the water surface height above the elevation of the weir crest in $m$ <br>\n",
    "\n",
    "In the experimental apparatus, and the flow depths used, the weir is indeed a suppressed weir. Consult [USBR (United States Bureau of Reclamation) (2001). Water Measurement Manual, 3rd Edition Revised Reprinted. Technical report, Water Resources Research Laboratory, US Department of the Interior (p. 317). ](https://www.usbr.gov/tsc/techreferences/mands/wmm/WMM_3rd_2001.pdf) to learn the conditions for a *suppressed* sharp crested weir formula to be applicable.\n",
    "\n",
    "The water surface height approaching the weir is made at a location just upstream of where \"curvature\" of the free surface appears - it is a bit subjective, but in the above experiment (photographs) this point is about 40 mm upstream of the weir crest.\n",
    "\n",
    "The image below shows the Weir Flow Formulas in Excel\n",
    "\n",
    "![](weirFormula.png)\n",
    "\n",
    "The next image is the worksheet rendered in usual Excel format.\n",
    "\n",
    "![](weirExcel.png)"
   ]
  },
  {
   "cell_type": "raw",
   "metadata": {},
   "source": [
    "# Weir Flow Calculator\n",
    "import math\n",
    "\n",
    "H = 0.03788   # Flow depth above weir crest (meters)\n",
    "P = 0.230     # Height of weir crest (meters)\n",
    "L = 0.3048    # Channel Width (meters)\n",
    "g = 9.81      # Gravity acceleration constant\n",
    "Cd = 0.622    # Discharge coefficient for Kindsvater-Carter (1959) formula\n",
    "Q = (2/3)*math.sqrt(2*g)*Cd*L*H**(3/2) # Kindsvater-Carter (1959) formula\n",
    "print(\"Discharge by Kindsvater-Carter method: \", round(Q,4),\" CMS \")\n",
    "Q8=1.84*L*(H**(3/2))\n",
    "print(\"Discharge by Simplified method: \",round(Q8,4),\" CMS ** Use this value in script \")"
   ]
  },
  {
   "cell_type": "markdown",
   "metadata": {},
   "source": [
    "## 3. Backwater Method Script using Experiment Values"
   ]
  },
  {
   "cell_type": "markdown",
   "metadata": {},
   "source": [
    "The variable-step backwater method is employed using an Excel spreadsheet. \n",
    "\n",
    "The example spreadsheet is used, but with the experimental conditions.  Because the spacing is constant, the analyst must sucessively guess values of depth to obtain the known $\\Delta~x$ value in the experiment.  By far the easiest way is to use `Goal Seek` where the target value is $-0.30$, and the cell to change is the same-row **Mod. Depth**\n",
    "\n",
    "The value for Manning's $n$ was obtained from an on-line database, a screen capture of the interaction is shown below\n",
    "\n",
    "<p style=\"text-align: center;\">\n",
    "  <img src=\"http://54.243.252.9/ce-3105-webroot/ce3105notes/lessons/laboratory81/manningsN.png\" alt=\"mannings\" width=\"800\"/>\n",
    "</p>\n",
    "\n",
    "The image below is the spreadsheet as formulas (the **Goal Seek** process is already completed)"
   ]
  },
  {
   "cell_type": "markdown",
   "metadata": {},
   "source": [
    "![](GVF-ExcelFormulas.png)\n",
    "\n",
    "The next image is the spreadsheet rendered normally\n",
    "\n",
    "![](GVF-Excel1.png)"
   ]
  },
  {
   "cell_type": "raw",
   "metadata": {
    "scrolled": true
   },
   "source": [
    "# Hamming's Method for Backwater Curve - Laboratory 81 \n",
    "# 2025-0422 Experiment\n",
    "# Team: P. Olar Bear and P.N. Guinn\n",
    "############### SIMULATION CONTROL AND INPUTS ###################\n",
    "verbose   = False          #Control some oututs\n",
    "imax      = 13            #number of computational stations\n",
    "dx        = -0.3          #spacing between stations (meters) MEASURED VALUE\n",
    "manningsN = 0.009         #mannings n value (adjusted by trial-and-error to match measured profile)\n",
    "slopeChan = 0.015         #channel slope MEASURED VALUE\n",
    "normalD   = 0.21456       #upstream station normal depth USE MOST UPSTREAM VALUE \n",
    "controlD  = 0.26788       #downstream station control depth USE WEIR CREST + HEIGHT ABOVE CREST\n",
    "discharge = 0.00413       #steady discharge (compute from weir measurement) KEPT THIS SEPARATE; BUT COULD BUILD INTO THE SCRIPT\n",
    "topwidth = [0.3048 for i in range(imax)] # MEASURED VALUE\n",
    "topwidth = [float(i) for i in topwidth] # use of range() to set indices\n",
    "#### List of observed/measured values of flow depth ###\n",
    "observeD = [0.26788,0.26706,0.26214,0.25849,0.25392,0.24910,0.24456,0.24018,0.23511,0.23018,0.22574,0.22017,0.21456] # MEASURED DEPTHS\n",
    "############# BUILD LISTS TO STORE RESULTS #################\n",
    "velo = [0] * imax # allocate a velocity vector, put zeroes everywhere\n",
    "velo[0] = discharge/topwidth[0]/controlD #set velocity at control section\n",
    "depth = [controlD for i in range(0,imax)] # allocate a depth vector, put zeroes everywhere\n",
    "spDepth = [0 for i in range(0,imax)] # allocate a sp. depth vector, put zeroes everywhere\n",
    "spDepthT = [0 for i in range(0,imax)] # allocate a sp. depth vector, put zeroes everywheredepth[0] = controlD # set control section depth\n",
    "spDepth[0] = ((velo[0]**2)/(2.0*9.81)) + depth[0]## begin for loop 0 \n",
    "############# COMPUTATION LOOP(S) ##########################\n",
    "for i in range(1,imax):\n",
    "    depth[i] = 1.0 # modifed to get convergence - should be about order of magnitude of measurements\n",
    "    difn = 1.0\n",
    "    dh = 0.00001 # modify as needed for convergence\n",
    "### begin do while loop 1\n",
    "    while (dh > 0.00000001): # adjust to control shooting method\n",
    "        dif = difn\n",
    "        ntest = 0\n",
    "        depth[i] = depth[i]-dh\n",
    "#### begin do while loop 2\n",
    "        while (dh > 0):\n",
    "            velo[i] =discharge/topwidth[i]/depth[i]\n",
    "            avgDepth = 0.5*(depth[i-1]+depth[i])\n",
    "            avgTopW = 0.5*(topwidth[i-1]+topwidth[i])\n",
    "            avgV = discharge/avgTopW/avgDepth\n",
    "            hydR = avgDepth*avgTopW/(avgTopW+2.0*avgDepth)\n",
    "            sFric = (avgV**2)*(manningsN**2)/(hydR**(1.33))\n",
    "            spDepth[i] = spDepth[i-1]+(slopeChan-sFric)*dx\n",
    "            spDepthT[i] = depth[i]+(velo[i]**2/(2.0*9.81))\n",
    "            difn = spDepthT[i]-spDepth[i]\n",
    "# update    print(ntest)\n",
    "            if(ntest > 0):\n",
    "                dh = dh/10.0\n",
    "                break #break from do while loop 2\n",
    "            if(dif*difn > 0):\n",
    "                break #break from do while loop 2\n",
    "            depth[i] = depth[i] + dh\n",
    "            ntest = 1\n",
    "#### end do while loop 2\n",
    "### end do while loop 1\n",
    "## end for loop 0\n",
    "############ PREPARE LISTS FOR PLOTTING ################\n",
    "distance = [0]*imax\n",
    "bottom = [0]*imax\n",
    "watersurface = [0]*imax\n",
    "observedsurface = [0]*imax # added for observations\n",
    "for i in range(1,imax):\n",
    "    distance[i] = distance[i-1]+dx \n",
    "    bottom[i] = -distance[i]*slopeChan\n",
    "    watersurface[i] = depth[i]+bottom[i]\n",
    "    observedsurface[i] = observeD[i]+bottom[i]\n",
    "watersurface[0] = depth[0]+bottom[0] # don't forget the control section!\n",
    "observedsurface[0]=observeD[0]+bottom[0] # added observations\n",
    "# Compute some error metrics\n",
    "sse = 0.0\n",
    "rpe = 0.0\n",
    "mae = 0.0\n",
    "for i in range(imax):\n",
    "    err=(watersurface[i]-observedsurface[i])\n",
    "    sse=sse+err**2\n",
    "    rpe= rpe + (err)/observedsurface[i]\n",
    "    \n",
    "mse = sse/float(imax)\n",
    "rms = math.sqrt(mse)\n",
    "mpe = rpe/float(imax)\n",
    "if verbose:\n",
    "# list output\n",
    "    for i in range(imax):\n",
    "        print(round(distance[i],3),round(depth[i],4),round(observeD[i],4))\n",
    "#"
   ]
  },
  {
   "cell_type": "code",
   "execution_count": null,
   "metadata": {},
   "outputs": [],
   "source": []
  },
  {
   "cell_type": "markdown",
   "metadata": {},
   "source": [
    "## 4. Plot(s) of Simulated and Measured Water Surface Profiles \n",
    "\n",
    "The spreadsheet above generates a plot of the simulated (solid blue line), measured (open circle markers only), and the channel bottom (assuming the base of the weir is the origin).\n",
    "\n",
    "The spreadsheet also reports some performance metrics\n",
    "\n",
    "- MSE (mean squared error) = $\\frac{1}{n}\\sum_{i=1}^{n}{(model_i-measured_i)^2}$\n",
    "- MRPE (mean relative prediction error = $\\frac{1}{n}\\sum_{i=1}^{n}{\\frac{model_i-measured_i}{measured_i}}$\n",
    "- RMSE (root mean square error) = $\\sqrt(MSE)$\n",
    "\n",
    "A negative value of MRPE means the model underpredicts the water surface profile, a positive value means it overpredicts the profile. The error scale is the same magnitude as the values, so the results can be interpreted as an average percent error.  \n",
    "\n",
    "The RMSE provides an estimate of the typical magnitude of model prediction error — also in the same units as the measured data (e.g., meters). It reflects how far, on average, the simulated water surface elevations deviate from the observed values.\n",
    "\n",
    "Lower RMSE values indicate better model agreement with observations. For example, an RMSE of 0.001 m suggests that, on average, the model's predicted water surface elevations differ from the measured profile by about 1 millimeter."
   ]
  },
  {
   "cell_type": "raw",
   "metadata": {
    "scrolled": true
   },
   "source": [
    "# Now plot the water surface profile\n",
    "import matplotlib.pyplot\n",
    "myfigure = matplotlib.pyplot.figure(figsize = (8,4)) # generate a object from the figure class, set aspect ratio\n",
    "# Built the plot\n",
    "matplotlib.pyplot.plot(distance, bottom, label=\"Channel Bottom\",  color ='brown', linewidth=5)\n",
    "matplotlib.pyplot.plot(distance, watersurface, label=\"Computed Water Surface\", color ='blue', linewidth=3)\n",
    "matplotlib.pyplot.plot(distance, observedsurface, label=\"Observed Water Surface\",  color ='black', marker='o',linestyle='none', markersize=10,markerfacecolor='none')\n",
    "matplotlib.pyplot.ylabel(\"Elevation (meters)\")\n",
    "matplotlib.pyplot.xlabel(\"Distance (meters)\")\n",
    "mytitle = \"Water Surface Profile - Fixed Spatial Step Method\" + \\\n",
    "\"\\n Q = \" + str(round(discharge,4)) + \\\n",
    "\" So = \" + str(round(slopeChan,4)) + \\\n",
    "\" n = \" + str(round(manningsN,4)) + \\\n",
    "\"\\n MSE = \" + str(round(mse, 8)) + \\\n",
    "\" MRPE = \" + str(round(mpe, 4)) + \\\n",
    "\" RMSE = \"  + str(round(rms, 4)) + \"\\n\"\n",
    "matplotlib.pyplot.title(mytitle)\n",
    "matplotlib.pyplot.legend()\n",
    "matplotlib.pyplot.grid(True)\n",
    "matplotlib.pyplot.show()"
   ]
  },
  {
   "cell_type": "markdown",
   "metadata": {},
   "source": [
    "## Summary and Conclusions\n",
    "\n",
    "The comparison between measured and simulated water surface profiles shows close agreement under the experimental conditions. The simulation, based on a fixed spatial step method and calibrated inputs, captures the overall shape and gradient of the observed profile with high fidelity.\n",
    "\n",
    "Several sources of experimental error may contribute to the small discrepancies observed:\n",
    "\n",
    "- **Channel bed irregularities:** The laboratory floor is not perfectly level and is therefore unsuitable as a true datum, introducing bias into depth readings.\n",
    "\n",
    "- **Flume construction tolerances:** The top rail of the flume is not precisely parallel to the bottom, affecting alignment and potentially skewing visual depth references.\n",
    "\n",
    "- **Instrument noise and operator variability:** The primary measurement tool for determining channel slope (a tape measure) is difficult to read accurately across multiple stations.\n",
    "\n",
    "- **Datum and stationing uncertainty:** The digital depth-to-water (DTW) sensor may not maintain a consistent zero point, and the physical stationing of measurements along the flume is imprecise.\n",
    "\n",
    "- **Weir crest elevation:** Uncertainty in the weir crest measurement directly affects flow estimates and introduces variability in the control section depth.\n",
    "\n",
    "- **Simplified hydraulics:** The use of a standard sharp-crested weir formula, while appropriate for first-order calculations, may not capture all the subtleties of the laboratory flow conditions.\n",
    "\n",
    "Among these, errors associated with channel slope estimation are particularly impactful, as slope directly influences computed friction losses and governs the profile shape. Likewise, the weir-based discharge estimate significantly affects velocity and energy gradient calculations. Incorporating an alternate or supplementary method for measuring discharge (e.g., timed volumetric collection or electromagnetic flow sensor) would enhance the reliability of input parameters.\n",
    "\n",
    "Despite these uncertainties, the model prediction error remains small—with a root mean squared error (RMSE) under 4 mm. This level of discrepancy is measurable with high-resolution laboratory tools but would likely fall within the uncertainty band of standard field instruments (e.g., staff gages, velocity meters, wading rods).\n",
    "\n",
    "It is also important to recognize that these computational methods are typically applied to **riverine-scale** systems, not centimeter-scale laboratory models. That they produce meaningful and accurate results at all at such a small small scale is both surprising and reassuring. It speaks to the robustness of the governing hydraulic principles and underscores the utility of such models in real-world applications.\n",
    "\n",
    "The primary conclusion is that computational hydraulic methods provide accurate predictions of water surface profiles, even under imperfect laboratory conditions. With thoughtful calibration and awareness of key sensitivities—particularly slope and discharge—such models are valuable tools for both design and analysis in hydraulic engineering."
   ]
  },
  {
   "cell_type": "markdown",
   "metadata": {},
   "source": [
    "## End of Section"
   ]
  }
 ],
 "metadata": {
  "kernelspec": {
   "display_name": "Python 3 (ipykernel)",
   "language": "python",
   "name": "python3"
  },
  "language_info": {
   "codemirror_mode": {
    "name": "ipython",
    "version": 3
   },
   "file_extension": ".py",
   "mimetype": "text/x-python",
   "name": "python",
   "nbconvert_exporter": "python",
   "pygments_lexer": "ipython3",
   "version": "3.10.12"
  }
 },
 "nbformat": 4,
 "nbformat_minor": 4
}