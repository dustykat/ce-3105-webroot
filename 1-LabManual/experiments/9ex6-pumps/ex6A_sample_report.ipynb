{
 "cells": [
  {
   "cell_type": "markdown",
   "id": "895c6c90-e488-4dd3-87f8-df6882aa1bef",
   "metadata": {},
   "source": [
    "# Laboratory 6 Sample Report\n",
    "\n",
    "## Title: \n",
    "\n",
    "Pump Performance\n",
    "\n",
    "## Authors:\n",
    "\n",
    "P.N. Guinn, and P. Olar Bear"
   ]
  },
  {
   "cell_type": "code",
   "execution_count": 2,
   "id": "f3a8b924-8bf2-4312-bf97-9c08d5b07037",
   "metadata": {},
   "outputs": [
    {
     "data": {
      "text/html": [
       "<style> table {margin-left: 0 !important;} </style>\n"
      ],
      "text/plain": [
       "<IPython.core.display.HTML object>"
      ]
     },
     "metadata": {},
     "output_type": "display_data"
    }
   ],
   "source": [
    "%%html\n",
    "<style> table {margin-left: 0 !important;} </style>"
   ]
  },
  {
   "cell_type": "markdown",
   "id": "155a94f2-ab58-4494-9a2a-3233aec87c17",
   "metadata": {},
   "source": [
    "\n",
    "\n",
    "## Introduction: \n",
    "\n",
    "Brief overview of pump performance testing and the significance of series and parallel configurations.\n"
   ]
  },
  {
   "cell_type": "markdown",
   "id": "6818ed8d-828b-46ca-8611-da724adf9cb2",
   "metadata": {},
   "source": [
    "## Apparatus and Methods: \n",
    "\n",
    "Description of the equipment, including the commercial ADC data acquisition system, and a summary of the experimental procedure.\n"
   ]
  },
  {
   "cell_type": "markdown",
   "id": "b9e018fd-c8ee-4d63-aeb6-ef9e9e24fae0",
   "metadata": {},
   "source": [
    "## Data and Results: \n",
    "\n",
    "Tabulated data for torque, input power, rpm, head, and flow rate for each configuration.\n",
    "\n",
    "**Selected Manual Readings (and calculations)**\n",
    "\n",
    "\n",
    "\n",
    "Computed values in <font color=\"blue\"> blue </font>\n",
    "\n",
    "**System Discharge**\n",
    "\n",
    "$Q_{venturi} = C_d~A_1~~~\\sqrt{~~~\\frac{~2 \\Delta P}{\\rho (\\frac{A_1^2}{A_2^2} - 1)} }$\n",
    "\n",
    "|$\\Delta P_{venturi}~(bar)$|               $Q_{venturi}~(m^3/s)$|\n",
    "|-------------------------:|-----------------------------------:|\n",
    "|            0.02          | <font color=\"blue\">5.888e-04</font>|\n",
    "|            0.07          | <font color=\"blue\">1.101e-03</font>|\n",
    "|            0.07          | <font color=\"blue\">1.101e-03</font>|\n",
    "\n",
    "**System Mechanical Input Power**\n",
    "\n",
    "$P_{input} = \\Omega \\cdot T$\n",
    "\n",
    "|$\\Delta P_{venturi}$ (bar)|               $Q_{venturi}~(m^3/s)$|Torque $T~(Nm)$|$\\omega~(RPM)$|$\\Omega~(\\text{radians/sec})$|    Mechanical Power (watts)|$P_{out}$ (bar)|$P_{in}$ (bar)|$H_p$ (m)|$P_{pump}$ (watts)|\n",
    "|-------------------------:|-----------------------------------:|--------------:|-------------:|----------------------------:|---------------------------:|-------------:|------------:|---:|---------:|\n",
    "|            0.02          | <font color=\"blue\">5.888e-04</font>|       0.44    |          2000|<font color=\"blue\">209</font>|<font color=\"blue\">92</font>|          0.05|  -0.25           | <font color=\"blue\">3.06</font>|  <font color=\"blue\">17.6</font>        |\n",
    "|       0.71    |          2500|<font color=\"blue\">262</font>|<font color=\"blue\">186</font>|\n",
    "|       0.44    |          2375|<font color=\"blue\">209</font>|<font color=\"blue\">174</font>|\n",
    "\n",
    "**Pump Added Head**\n",
    "\n",
    "$H_p = \\frac{P_{out} - P_{in}}{\\rho~g}$\n",
    "\n",
    "|                        $Q~(m^3/s)$|$P_{out}~(bar)$|$P_{in}~(bar)$|$H_p$~(m)|\n",
    "|----------------------------------:|-------------:|------------:|---:|\n",
    "|<font color=\"blue\">5.888e-04</font>|          0.05|  -0.25           | <font color=\"blue\">3.06</font>|\n",
    "|<font color=\"blue\">1.101e-03</font>|||\n",
    "|<font color=\"blue\">1.101e-03</font>||\n",
    "\n",
    "\n",
    "**Pump Hydraulic Output Power**\n",
    "\n",
    "$P_{pump} = {Q~\\rho~g~H_p}$\n",
    "\n",
    "|$Q~(m^3/s)$|$H_p$~(m)|$P_{pump}$|\n",
    "|----------:|--------:|---------:|\n",
    "|<font color=\"blue\">5.888e-04</font> | <font color=\"blue\">3.06</font>        |  <font color=\"blue\">17.6</font>        |\n",
    "|<font color=\"blue\">1.101e-03</font>|||\n",
    "|<font color=\"blue\">1.101e-03</font>|||\n",
    "\n",
    "**Pump Efficiency**\n",
    "\n",
    "$\\eta = \\frac{P_{pump}}{P_{input}}$"
   ]
  },
  {
   "cell_type": "code",
   "execution_count": 2,
   "id": "437dee08-ce28-4424-ad15-6730e176c22d",
   "metadata": {},
   "outputs": [
    {
     "name": "stdout",
     "output_type": "stream",
     "text": [
      "Flow rate  5.888e-04 cubic meters per second\n",
      "Angular velocity        249 radians per second\n",
      "Mechanical power        174 watts\n",
      "Added head       3.06 meters\n",
      "Hydraulic power       17.6 watts\n"
     ]
    }
   ],
   "source": [
    "def Qventuri(deltaP,cd,area1,area2,rho):\n",
    "    import math\n",
    "    term1=cd*area1\n",
    "    term2=2*deltaP*100000 # Convert pressure in bar into N/m^2\n",
    "    term3=rho*((area1**2)/(area2**2)-1.0)\n",
    "    Qventuri=term1*math.sqrt(term2/term3)\n",
    "    return(Qventuri)\n",
    "\n",
    "def Omega(rpm):\n",
    "    import math\n",
    "    Omega=rpm*2*math.pi/60\n",
    "    return(Omega)\n",
    "\n",
    "def Pmech(omega,torque):\n",
    "    Pmech=torque*omega\n",
    "    return(Pmech)\n",
    "\n",
    "def addedH(pout,pin,rho,gee):\n",
    "    po=pout*100000\n",
    "    pi=pin*100000\n",
    "    addedH=(po-pi)/(rho*gee)\n",
    "    return(addedH)\n",
    "\n",
    "def Phydr(flow,gamma,head):\n",
    "    Phydr=(flow*gamma*head)\n",
    "    return(Phydr)\n",
    "\n",
    "flow=Qventuri(0.02,0.97,0.000581,0.000269,1000)\n",
    "angV=Omega(2375)\n",
    "mechP=Pmech(249,0.70)\n",
    "headA=addedH(0.05,-0.25,1000,9.81)\n",
    "hydrP=Phydr(flow,9800,headA)\n",
    "print(f\"Flow rate {flow:10.3e} cubic meters per second\")\n",
    "print(f\"Angular velocity {angV:10.3g} radians per second\")\n",
    "print(f\"Mechanical power {mechP:10.3g} watts\")\n",
    "print(f\"Added head {headA:10.3g} meters\")\n",
    "print(f\"Hydraulic power {hydrP:10.3g} watts\")"
   ]
  },
  {
   "cell_type": "markdown",
   "id": "02d2bc97-0689-4285-ae98-bf01d37d428c",
   "metadata": {},
   "source": [
    "## Performance Curves: \n",
    "\n",
    "Construct performance curves showing head versus flow rate, efficiency versus flow rate, and power versus flow rate.\n"
   ]
  },
  {
   "cell_type": "markdown",
   "id": "3dc7f968-fa0c-406b-97d5-54f4adba742c",
   "metadata": {},
   "source": [
    "## Analysis: \n",
    "\n",
    "Discuss trends observed in the performance curves and explain the differences in pump behavior in single, series, and parallel configurations.\n"
   ]
  },
  {
   "cell_type": "markdown",
   "id": "ea4cc649-5dce-4bcd-a74f-844dbf5f5370",
   "metadata": {},
   "source": [
    "## Conclusion: \n",
    "\n",
    "Summarize key findings and their engineering relevance.\n",
    "\n",
    "## References\n",
    "\n"
   ]
  },
  {
   "cell_type": "markdown",
   "id": "fd425ac0-321e-4de2-b6be-47035b5c3da0",
   "metadata": {},
   "source": [
    "## Supplementary Calculations: \n",
    "\n",
    "Include calculations for pump efficiency and power output using the provided equations and data from the ADC system.\n",
    "\n",
    "## Appendix \n",
    "\n",
    "Include any Scripts "
   ]
  }
 ],
 "metadata": {
  "kernelspec": {
   "display_name": "Python Common Environment",
   "language": "python",
   "name": "python-my-env"
  },
  "language_info": {
   "codemirror_mode": {
    "name": "ipython",
    "version": 3
   },
   "file_extension": ".py",
   "mimetype": "text/x-python",
   "name": "python",
   "nbconvert_exporter": "python",
   "pygments_lexer": "ipython3",
   "version": "3.10.12"
  }
 },
 "nbformat": 4,
 "nbformat_minor": 5
}
