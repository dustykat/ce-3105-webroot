{
 "cells": [
  {
   "cell_type": "markdown",
   "id": "895c6c90-e488-4dd3-87f8-df6882aa1bef",
   "metadata": {},
   "source": [
    "# Laboratory 6 Sample Report\n",
    "\n",
    "## Title: \n",
    "\n",
    "Pump Performance\n",
    "\n",
    "## Authors:\n",
    "\n",
    "P.N. Guinn, and P. Olar Bear"
   ]
  },
  {
   "cell_type": "code",
   "execution_count": 2,
   "id": "f3a8b924-8bf2-4312-bf97-9c08d5b07037",
   "metadata": {},
   "outputs": [
    {
     "data": {
      "text/html": [
       "<style> table {margin-left: 0 !important;} </style>\n"
      ],
      "text/plain": [
       "<IPython.core.display.HTML object>"
      ]
     },
     "metadata": {},
     "output_type": "display_data"
    }
   ],
   "source": [
    "%%html\n",
    "<style> table {margin-left: 0 !important;} </style>"
   ]
  },
  {
   "cell_type": "markdown",
   "id": "155a94f2-ab58-4494-9a2a-3233aec87c17",
   "metadata": {},
   "source": [
    "\n",
    "\n",
    "## Introduction: \n",
    "\n",
    "Brief overview of pump performance testing and the significance of series and parallel configurations.\n"
   ]
  },
  {
   "cell_type": "markdown",
   "id": "6818ed8d-828b-46ca-8611-da724adf9cb2",
   "metadata": {},
   "source": [
    "## Apparatus and Methods: \n",
    "\n",
    "Description of the equipment, including the commercial ADC data acquisition system, and a summary of the experimental procedure.\n"
   ]
  },
  {
   "cell_type": "markdown",
   "id": "b9e018fd-c8ee-4d63-aeb6-ef9e9e24fae0",
   "metadata": {},
   "source": [
    "## Data and Results: \n",
    "\n",
    "Tabulated data for torque, input power, rpm, head, and flow rate for each configuration.\n"
   ]
  },
  {
   "cell_type": "markdown",
   "id": "02d2bc97-0689-4285-ae98-bf01d37d428c",
   "metadata": {},
   "source": [
    "## Performance Curves: \n",
    "\n",
    "Construct performance curves showing head versus flow rate, efficiency versus flow rate, and power versus flow rate.\n"
   ]
  },
  {
   "cell_type": "markdown",
   "id": "3dc7f968-fa0c-406b-97d5-54f4adba742c",
   "metadata": {},
   "source": [
    "## Analysis: \n",
    "\n",
    "Discuss trends observed in the performance curves and explain the differences in pump behavior in single, series, and parallel configurations.\n"
   ]
  },
  {
   "cell_type": "markdown",
   "id": "ea4cc649-5dce-4bcd-a74f-844dbf5f5370",
   "metadata": {},
   "source": [
    "## Conclusion: \n",
    "\n",
    "Summarize key findings and their engineering relevance.\n",
    "\n",
    "## References\n",
    "\n"
   ]
  },
  {
   "cell_type": "markdown",
   "id": "fd425ac0-321e-4de2-b6be-47035b5c3da0",
   "metadata": {},
   "source": [
    "## Supplementary Calculations: \n",
    "\n",
    "Include calculations for pump efficiency and power output using the provided equations and data from the ADC system.\n",
    "\n",
    "## Appendix \n",
    "\n",
    "Include any Scripts "
   ]
  }
 ],
 "metadata": {
  "kernelspec": {
   "display_name": "Python Common Environment",
   "language": "python",
   "name": "python-my-env"
  },
  "language_info": {
   "codemirror_mode": {
    "name": "ipython",
    "version": 3
   },
   "file_extension": ".py",
   "mimetype": "text/x-python",
   "name": "python",
   "nbconvert_exporter": "python",
   "pygments_lexer": "ipython3",
   "version": "3.10.12"
  }
 },
 "nbformat": 4,
 "nbformat_minor": 5
}
