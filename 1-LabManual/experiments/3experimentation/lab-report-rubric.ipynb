{
 "cells": [
  {
   "cell_type": "markdown",
   "id": "d6b30b81-ad7c-4f30-b396-c4797305db34",
   "metadata": {},
   "source": [
    "# Report Evaluation Rubric \n",
    "\n",
    "**Total: 100 points**  \n",
    "- Format & Presentation: 30 points  \n",
    "- Grammar & Clarity: 20 points  \n",
    "- Technical Content: 50 points  \n",
    "\n",
    "---\n",
    "\n",
    "## I. Format & Presentation (30 points)\n",
    "\n",
    "| Criterion | Points |\n",
    "|----------|--------|\n",
    "| Proper section headings used (Title/Objectives, Theory, Materials, Setup, Procedure, Data, Analysis, Conclusion) | 6 |\n",
    "| Equations clearly typeset and variables defined | 4 |\n",
    "| Tables and figures labeled and referenced in the text | 6 |\n",
    "| Units consistently included for all measurements and variables | 4 |\n",
    "| Overall visual clarity and structure (indents, spacing, font, logical flow) | 5 |\n",
    "| Citations and references properly formatted and included | 5 |\n",
    "| **Subtotal** | **/30** |\n",
    "\n",
    "---\n",
    "\n",
    "## II. Grammar & Clarity (20 points)\n",
    "\n",
    "| Criterion | Points |\n",
    "|----------|--------|\n",
    "| Sentence-level grammar and mechanics (spelling, punctuation, structure) | 6 |\n",
    "| Clarity and conciseness of writing (avoidance of redundancy, clear explanation) | 6 |\n",
    "| Correct and consistent use of technical terms | 4 |\n",
    "| Smooth transitions between sections and logical sequencing of ideas | 4 |\n",
    "| **Subtotal** | **/20** |\n",
    "\n",
    "---\n",
    "\n",
    "## III. Technical Content (50 points)\n",
    "\n",
    "| Criterion | Points |\n",
    "|----------|--------|\n",
    "| **Model Presentation**: Correct identification of the governing equation and model assumptions | 8 |\n",
    "| **Data Collection**: Sufficient trials, completeness, and proper documentation | 8 |\n",
    "| **Calculations**: Proper use of formulas and appropriate units | 8 |\n",
    "| **Graphing/Plotting**: Calibration curves or result graphs properly labeled and interpreted | 8 |\n",
    "| **Analysis**: Comparison of predicted vs. measured outcomes, error analysis, and explanation of discrepancies | 10 |\n",
    "| **Conclusion**: Thoughtful summary, limitations, and future improvements clearly stated | 8 |\n",
    "| **Subtotal** | **/50** |\n",
    "\n",
    "---\n",
    "\n",
    "## ✅ Final Score:\n",
    "\n",
    "- **Format:** ____ / 30  \n",
    "- **Grammar:** ____ / 20  \n",
    "- **Technical Content:** ____ / 50  \n",
    "\n",
    "**Total:** ____ / 100\n"
   ]
  }
 ],
 "metadata": {
  "kernelspec": {
   "display_name": "Python Common Environment",
   "language": "python",
   "name": "python-my-env"
  },
  "language_info": {
   "codemirror_mode": {
    "name": "ipython",
    "version": 3
   },
   "file_extension": ".py",
   "mimetype": "text/x-python",
   "name": "python",
   "nbconvert_exporter": "python",
   "pygments_lexer": "ipython3",
   "version": "3.10.12"
  }
 },
 "nbformat": 4,
 "nbformat_minor": 5
}
