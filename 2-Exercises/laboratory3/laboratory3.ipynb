{
 "cells": [
  {
   "cell_type": "markdown",
   "metadata": {},
   "source": [
    "# CE 3105 - Mechanics of Fluids Laboratory\n",
    "\n",
    "## Laboratory 3 - Flow Measurement"
   ]
  },
  {
   "cell_type": "markdown",
   "metadata": {},
   "source": [
    "## Objectives\n",
    "- Objectives\n",
    "- To understand the typical methods of measuring the discharge of an essentially incompressible uid\n",
    "- Apply Continuity equation and Bernoulli's equation to determine owrates"
   ]
  },
  {
   "cell_type": "markdown",
   "metadata": {},
   "source": [
    "## Data Acquisition\n",
    "\n",
    "1. Close the inlet and discharge valves.\n",
    "2. Turn on the hydraulic bench pump \n",
    "3. Open the inlet valve, and open and adjust the discharge valve  valve until the rotameter shows a reading of about 10mm\n",
    "3. Measure the volumetric discharge at the outlet of the Hydraulic Bench to ensure steady-state flow\n",
    "  1. Use the large beaker and video capture on your phone, time how long to fill the beaker - that gives you the flowrate in beakers/second, convert into meaningfu units\n",
    "  1. Your successive measurements must be close to one another\n",
    "4. Verify that the manometers have a free surface (i.e. the tube at the top is not flooded)\n",
    "  1. If it is flooded, air has to be added using a pump - its an elaborate process, but the TA should be able to help.  If you have to add air **WEAR SAFETY GOGGLES**\n",
    "5. Record the readings of the manometers and rotameter\n",
    "6. Repeat this procedure for a number of equidistant values of rotameter readings up to a maximum of approximately 220mm\n",
    "  1. Take at least 6 measurements\n",
    "6. Close the discharge valve, then close the inlet valve, then shut off the pump motor."
   ]
  },
  {
   "cell_type": "markdown",
   "metadata": {},
   "source": [
    "## Data Analysis\n",
    "\n",
    "Perform necessary computation(s) to complete the table below\n",
    "\n",
    "![](computationsheet.png)"
   ]
  },
  {
   "cell_type": "markdown",
   "metadata": {},
   "source": [
    "## Discussion/Interpretation"
   ]
  },
  {
   "cell_type": "markdown",
   "metadata": {},
   "source": [
    "## Data Records\n",
    "\n",
    "Experiment Date: _______<br>\n",
    "Water Temperature:______$^oC$<br>\n",
    "\n",
    "![](datasheet.png)\n",
    "\n"
   ]
  },
  {
   "cell_type": "markdown",
   "metadata": {},
   "source": [
    "## References\n",
    "\n",
    "1. [Laboratory 3 circa 2021](http://54.243.252.9/ce-3105-webroot/pdf-source/Experiment-1-Fluid-Properties.pdf)\n",
    "3. [Descriptive Statistics](http://54.243.252.9/engr-1330-webroot/engr1330notes/_build/html/examples/8statistical/1descriptivestatistics.html)\n",
    "4. [Plotting Data](http://54.243.252.9/engr-1330-webroot/engr1330notes/_build/html/examples/7graphing/example05.html)\n",
    "5. [Fitting Data Models](http://54.243.252.9/engr-1330-webroot/engr1330notes/_build/html/examples/10datamodels/datamodels.html)\n",
    "6. [This page as Jupyter ipynb file](http://54.243.252.9/ce-3105-webroot/2-Exercises/laboratory3/laboratory3.ipynb)\n",
    "7. [Holman, J.P., (2012) Experimental Methods for Engineers, 8th Ed. (Chapters 1-3)](https://mech.at.ua/HolmanICS.pdf)\n",
    "8. [Holman, J.P., (2012) Experimental Methods for Engineers, 8th Ed. (Chapter 15 Report Writing)](https://mech.at.ua/HolmanICS.pdf)\n",
    "9. [Example Lab Report](http://54.243.252.9/ce-3105-webroot/2-Exercises/laboratory3/CE3105-Lab3_GOBY.pdf)"
   ]
  },
  {
   "cell_type": "markdown",
   "metadata": {},
   "source": [
    "## Videos\n",
    "\n",
    "1. [Laboratory 3 Video by Dr. Uddameri](https://www.youtube.com/watch?v=rIiR-dSHYvM)"
   ]
  },
  {
   "cell_type": "markdown",
   "metadata": {},
   "source": []
  },
  {
   "cell_type": "code",
   "execution_count": null,
   "metadata": {},
   "outputs": [],
   "source": []
  }
 ],
 "metadata": {
  "kernelspec": {
   "display_name": "Python 3",
   "language": "python",
   "name": "python3"
  },
  "language_info": {
   "codemirror_mode": {
    "name": "ipython",
    "version": 3
   },
   "file_extension": ".py",
   "mimetype": "text/x-python",
   "name": "python",
   "nbconvert_exporter": "python",
   "pygments_lexer": "ipython3",
   "version": "3.8.10"
  }
 },
 "nbformat": 4,
 "nbformat_minor": 4
}
