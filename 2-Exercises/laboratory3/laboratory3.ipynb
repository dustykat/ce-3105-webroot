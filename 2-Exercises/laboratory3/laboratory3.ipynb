{
 "cells": [
  {
   "cell_type": "markdown",
   "metadata": {},
   "source": [
    "# CE 3105 - Mechanics of Fluids Laboratory\n",
    "\n",
    "## Laboratory 3 - Flow Measurement"
   ]
  },
  {
   "cell_type": "markdown",
   "metadata": {},
   "source": [
    "## Objectives\n",
    "- Objectives\n",
    "- To understand the typical methods of measuring the discharge of an essentially incompressible uid\n",
    "- Apply Continuity equation and Bernoulli's equation to determine owrates"
   ]
  },
  {
   "cell_type": "markdown",
   "metadata": {},
   "source": [
    "## Data Acquisition\n",
    "\n",
    "1. Close the inlet and discharge valves.\n",
    "2. Turn on the hydraulic bench pump \n",
    "3. Open the inlet valve, and open and adjust the discharge valve  valve until the rotameter shows a reading of about 10mm\n",
    "3. Measure the volumetric discharge at the outlet of the Hydraulic Bench to ensure steady-state flow\n",
    "  1. Use the large beaker and video capture on your phone, time how long to fill the beaker - that gives you the flowrate in beakers/second, convert into meaningful units\n",
    "  1. Your successive measurements must be close to one another\n",
    "4. Verify that the manometers have a free surface (i.e. the tube at the top is not flooded)\n",
    "  1. If it is flooded, air has to be added using a pump - its an elaborate process, but the TA should be able to help.  If you have to add air **WEAR SAFETY GOGGLES**\n",
    "5. Record the readings of the manometers and rotameter\n",
    "6. Repeat this procedure for a number of equidistant values of rotameter readings up to a maximum of approximately 220mm\n",
    "  1. Take at least 6 measurements\n",
    "6. Close the discharge valve, then close the inlet valve, then shut off the pump motor."
   ]
  },
  {
   "cell_type": "markdown",
   "metadata": {},
   "source": [
    "## Data Analysis\n",
    "\n",
    "1. For each flow rate observed, calculate the discharge and mass flow using the venturi meter\n",
    "2. For each flow rate observed, calculate the discharge and mass flow using the orifice meter\n",
    "3. Use 3 measurements of the rotameter to construct a calibration curve\n",
    "4. Calculate the discharge and the mass flow for the remaining 3 flows using the rotameter calibration curve constructed in step 3\n",
    "5. For each flow rate observed, calculate the discharge and mass ow using the weigh tank\n",
    "\n",
    "Perform necessary computation(s) to complete the table below\n",
    "\n",
    "![](computationsheet.png)"
   ]
  },
  {
   "cell_type": "markdown",
   "metadata": {},
   "source": [
    "## Discussion/Interpretation"
   ]
  },
  {
   "cell_type": "markdown",
   "metadata": {},
   "source": [
    "## Data Records\n",
    "\n",
    "Experiment Date: _______<br>\n",
    "Water Temperature:______$^oC$<br>\n",
    "\n",
    "![](datasheet.png)\n",
    "\n"
   ]
  },
  {
   "cell_type": "markdown",
   "metadata": {},
   "source": [
    "## References\n",
    "\n",
    "1. [Laboratory 3 circa 2021](http://54.243.252.9/ce-3105-webroot/pdf-source/Experiment3FlowMeasurementApparatus.pdf)\n",
    "3. [Descriptive Statistics](http://54.243.252.9/engr-1330-webroot/engr1330notes/_build/html/examples/8statistical/1descriptivestatistics.html)\n",
    "4. [Plotting Data](http://54.243.252.9/engr-1330-webroot/engr1330notes/_build/html/examples/7graphing/example05.html)\n",
    "5. [Fitting Data Models](http://54.243.252.9/engr-1330-webroot/engr1330notes/_build/html/examples/10datamodels/datamodels.html)\n",
    "6. [This page as Jupyter ipynb file](http://54.243.252.9/ce-3105-webroot/2-Exercises/laboratory3/laboratory3.ipynb)\n",
    "7. [Holman, J.P., (2012) Experimental Methods for Engineers, 8th Ed. (Chapters 1-3)](https://mech.at.ua/HolmanICS.pdf)\n",
    "8. [Holman, J.P., (2012) Experimental Methods for Engineers, 8th Ed. (Chapter 15 Report Writing)](https://mech.at.ua/HolmanICS.pdf)\n",
    "9. [Example Lab Report](http://54.243.252.9/ce-3105-webroot/2-Exercises/laboratory3/CE3105-Lab3_GOBY.pdf)"
   ]
  },
  {
   "cell_type": "markdown",
   "metadata": {},
   "source": [
    "## Videos\n",
    "\n",
    "1. [Laboratory 3 Video by Dr. Uddameri](https://www.youtube.com/watch?v=rIiR-dSHYvM)"
   ]
  },
  {
   "cell_type": "markdown",
   "metadata": {},
   "source": []
  },
  {
   "cell_type": "markdown",
   "metadata": {},
   "source": [
    "# Example Experimental Protocol\n",
    "\n",
    "## Objective\n",
    "To determine the flow rate of an incompressible fluid using various flow measurement devices, including Venturi meter, orifice plate meter, and rotameter, and to evaluate their accuracy and efficiency.\n",
    "\n",
    "## Apparatus and Materials\n",
    "- Hydraulic bench with adjustable flow control\n",
    "- Venturi meter\n",
    "- Orifice plate meter\n",
    "- Rotameter\n",
    "- Stopwatch\n",
    "- Measuring beaker\n",
    "- Manometer tubes\n",
    "- Raspberry Pi Zero-W computer\n",
    "- Mass Flow Meter\n",
    "- Safety goggles\n",
    "\n",
    "## Procedure\n",
    "1. **Setup Preparation**:\n",
    "   - Close all valves and ensure the hydraulic bench pump is turned off.\n",
    "   - Connect the Venturi meter, orifice plate meter, and rotameter to the hydraulic bench in series.\n",
    "\n",
    "2. **Flow Initialization**:\n",
    "   - Open the inlet valve gradually.\n",
    "   - Start the pump and adjust the discharge valve until the rotameter indicates a reading of approximately 10 mm.\n",
    "   \n",
    "3. **Data Collection**:\n",
    "   - Use the beaker and stopwatch to measure volumetric discharge at the outlet.  Usually record time to fill the beaker, repeat several times (at least 3), then compute the average time to fill the beaker.\n",
    "   - Record the rotameter and manometer readings for each flow condition.\n",
    "   - Incrementally increase the rotameter reading to approximately 220 mm, recording at least six measurements.\n",
    "   - Connect to the Raspberry Pi computer, find and start the measurement program (the instructor will usually get this working in advance as well as plumb the mass flow meter into the system)\n",
    "\n",
    "4. **Calibration Curve**:\n",
    "   - Use three different rotameter readings to construct a calibration curve.\n",
    "   - Calculate discharge and mass flow using the Venturi meter and orifice meter equations for each condition.\n",
    "   - Record the flow rate from the Raspberry Pi computer.\n",
    "\n",
    "5. **Shutdown**:\n",
    "   - Close the discharge valve, then the inlet valve, and turn off the pump.\n",
    "\n",
    "## Safety Considerations\n",
    "- Always wear safety goggles when handling pressurized systems and adding air to manometers.\n",
    "- Ensure that the bench and surrounding area are free of obstructions to avoid tripping hazards.\n",
    "- Follow TA instructions when troubleshooting equipment, especially when dealing with flooded manometer tubes.\n",
    "\n",
    "---\n",
    "\n",
    "# Laboratory Report Template\n",
    "\n",
    "## Title: [Insert Experiment Title]\n",
    "\n",
    "### 1. Introduction\n",
    "- Provide an overview of flow measurement principles.\n",
    "- State the objectives of the experiment.\n",
    "\n",
    "### 2. Methods\n",
    "- Describe the experimental setup and procedure in detail.\n",
    "\n",
    "### 3. Results\n",
    "- Present recorded data in tables and graphs (e.g., calibration curves).\n",
    "- Include sample calculations for discharge and mass flow.\n",
    "\n",
    "### 4. Discussion\n",
    "- Analyze the accuracy and reliability of each device.\n",
    "- Compare experimental results with theoretical predictions.\n",
    "- Does the mass flow meter have the correct meter constant (a value that relates turbine rotations to flow rate); if not suggest a better constant.\n",
    "- Identify potential sources of error and their impact.\n",
    "\n",
    "### 5. Conclusion\n",
    "- Summarize key findings and their implications for fluid mechanics.\n",
    "\n",
    "### 6. References\n",
    "- List all sources, including manuals, instructional videos, and textbooks.\n"
   ]
  }
 ],
 "metadata": {
  "kernelspec": {
   "display_name": "Python 3 (ipykernel)",
   "language": "python",
   "name": "python3"
  },
  "language_info": {
   "codemirror_mode": {
    "name": "ipython",
    "version": 3
   },
   "file_extension": ".py",
   "mimetype": "text/x-python",
   "name": "python",
   "nbconvert_exporter": "python",
   "pygments_lexer": "ipython3",
   "version": "3.10.12"
  }
 },
 "nbformat": 4,
 "nbformat_minor": 4
}
