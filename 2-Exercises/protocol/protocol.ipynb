{
 "cells": [
  {
   "cell_type": "markdown",
   "metadata": {},
   "source": [
    "# 1. Report for Fluid Mechanics Laboratory\n",
    "\n",
    "Objective: The goal of this section is to guide students through the process of developing a detailed and effective experimental protocol. The report serves as a **step-by-step** instruction manual for conducting fluid mechanics experiments. Students will learn to structure their protocols with precision, ensuring repeatability, safety, and accurate data collection. Later, you will use your protocol to conduct the experiment.  \n",
    "\n",
    ":::{admonition} Required Component for Each Laboratory Report\n",
    "Each laboratory report (the main deliverable) must contain an detailed **Procedure** section; The **Procedure** must be written in such a way that another student could follow it step-by-step and replicate the experiment exactly.\n",
    ":::\n",
    "\n",
    "## Overview:\n",
    "\n",
    "You must create an experimental report for each laboratory in the syllabus (as of this writing, there are 8 experiments). This report must include a clear objective, a list of necessary materials, detailed procedures, and guidelines for analyzing data. Your procedures (and analysis) should be written in such a way that another student could follow it step-by-step and replicate the experiment exactly.\n",
    "\n",
    "## Sections to Include in Your Report:\n",
    "\n",
    "Listed below are sections of\n",
    "\n",
    "1. **Title and Objective:** Begin with a clear, concise title for your experiment. Write a short objective explaining the purpose of the experiment and what you aim to achieve. This section should answer the question: What is the experiment designed to measure or demonstrate? \n",
    ">Example: “To measure the flow rate through a venturi meter and verify the Bernoulli equation.”\n",
    "2. **Background/Theory:** Provide a brief overview of the key fluid mechanics principles involved in the experiment. Explain any equations or theoretical concepts that are relevant (e.g., continuity equation, Bernoulli’s equation, Reynolds number). Keep this section concise but informative, ensuring that the reader understands the theoretical basis of the experiment.\n",
    "3. **Materials and Equipment:** List all the materials and equipment needed to conduct the experiment. Be specific about the type and quantity of each item (e.g., \"3 pressure sensors, flow meter model XYZ, 1 measuring tank\"). Include any specific software or tools required for data analysis.\n",
    "4. **Experimental Setup:** Provide a clear, step-by-step description of how to set up the equipment. Use diagrams or photos to illustrate the experimental setup if necessary. Be sure to mention safety precautions, calibration steps, or equipment configurations needed before starting the experiment.\n",
    "5. **Procedure:** Outline the step-by-step process for conducting the experiment. Be clear and precise. Divide the procedure into logical steps, ensuring the order of actions is easy to follow. Each step should be specific, mentioning time durations, measurements to take, and points of observation.\n",
    "> Example: “Open the valve slowly to allow water to flow through the pipe and record the pressure at Points A and B using the manometers.”\n",
    "6. **Data Collection:** Provide instructions on how to collect data, including what measurements to take and how frequently. Specify any instruments or sensors being used to gather data and ensure that the method of data recording is clear (e.g., manual recording, data logging software). Include any tables or templates the students can use for recording their data.\n",
    "7. **Data Analysis:** Explain how to analyze the data collected. Include formulas or methods needed for calculations (e.g., calculating flow velocity, applying Bernoulli’s equation). If applicable, outline how to compare the experimental results with theoretical predictions or accepted values. Indicate any anticipated sources of error and how they can be minimized.\n",
    "8. **Conclusion and Discussion:** Summarize findings in this section after conducting the experiment. Interpret the results, discussing any deviations from theory or expected outcomes. Discuss potential errors or limitations of their experiment and suggest improvements.\n",
    "9. **References:** Include any references for theoretical background, equations, or standards used in their protocol (e.g., textbooks, research papers).\n",
    "\n",
    "## Report Writing Guidelines\n",
    "- Write in the third person and in the past tense as if you were giving instructions to another person.\n",
    "- Use precise language and avoid ambiguity.\n",
    "- Ensure each section flows logically to the next.\n",
    "- Proofread for spelling, grammar, and clarity.\n",
    "\n",
    "## Submission Requirements\n",
    "- Your report should be typed, with appropriate headings for each section.\n",
    "- Submit your report as a **PDF** through the course management system.\n",
    "\n",
    ":::{warning}\n",
    "The Learning Management System (LMS) accepts submissions in file formats other than PDF, however these don't always render (are not readable). ; A non-PDF file will be considered non-responsive and you will recieve no credit for the report.\n",
    ":::"
   ]
  },
  {
   "cell_type": "markdown",
   "metadata": {},
   "source": [
    "## References\n",
    "\n",
    "1. Markel, Michael (1998) Technical Communication, Situations and Strategies, 5th addition, St. Martins Press, New York\n",
    "2. Purdue University Online Writing Laboratory (Google)\n",
    "3. Young, Trevor M. (2005). Technical Writing from A-Z: A common sense guide to engineering reports and theses. ASME Press, New York"
   ]
  },
  {
   "cell_type": "code",
   "execution_count": null,
   "metadata": {},
   "outputs": [],
   "source": []
  }
 ],
 "metadata": {
  "kernelspec": {
   "display_name": "Python 3",
   "language": "python",
   "name": "python3"
  },
  "language_info": {
   "codemirror_mode": {
    "name": "ipython",
    "version": 3
   },
   "file_extension": ".py",
   "mimetype": "text/x-python",
   "name": "python",
   "nbconvert_exporter": "python",
   "pygments_lexer": "ipython3",
   "version": "3.8.10"
  }
 },
 "nbformat": 4,
 "nbformat_minor": 4
}
