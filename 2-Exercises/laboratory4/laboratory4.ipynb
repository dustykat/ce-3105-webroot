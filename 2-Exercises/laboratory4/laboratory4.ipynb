{
 "cells": [
  {
   "cell_type": "markdown",
   "metadata": {},
   "source": [
    "# CE 3105 - Mechanics of Fluids Laboratory\n",
    "\n",
    "## Laboratory 4 - Friction Losses in a Pipe"
   ]
  },
  {
   "cell_type": "markdown",
   "metadata": {},
   "source": [
    "## Objectives\n",
    "- Observe the behavior of flow with change in velocity and Reynolds number\n",
    "- Observe the variation of frictional loss with change in velocity"
   ]
  },
  {
   "cell_type": "markdown",
   "metadata": {},
   "source": [
    "## Data Acquisition\n",
    " \n",
    "**Low Flow Rates**\n",
    "    \n",
    "1. Connect the output of the hydraulic bench to the header tank, and the output of the header tank to the inlet of the test pipe\n",
    "2. Turn on the hydraulic bench pipe and adjust its supply valve carefully to ensure a steady ow without over owing the header tank\n",
    "3. Partly open the needle valve of the test pipe at the downstream to pass the water through it\n",
    "4. Bleed the trapped air as necessary using the bleed pipe and connect the hand-held pressure meter\n",
    "5. Record the pressure meter readings (you may need to use the manomeeters if the $\\Delta p$ is too small for the instrument to detect.\n",
    "6. Measure the discharge by collecting a known amount of water in a given time using a beaker and a stopwatch\n",
    "7. Change the flow rate by operating the needle valve and repeat steps 5 and 6 to have 6-7 records\n",
    "\n",
    "**High Flow Rates**\n",
    "\n",
    "1. Connect the output of the hydraulic bench to the inlet of the test pipe directly\n",
    "2. Turn on the hydraulic bench pipe and adjust half open the supply valve\n",
    "3. Fully open the needle valve of the test pipe at the downstream to pass the water through it\n",
    "4. Bleed the trapped air as necessary using the bleed pipe and connect the hand-held pressure meter\n",
    "5. Record the pressure meter readings.\n",
    "6. Measure the discharge by collecting a known amount of water in a given time using a beaker and a stopwatch\n",
    "7. Change the flow rate by operating the needle valve and repeat steps 5 and 6 to have 6-7 records"
   ]
  },
  {
   "cell_type": "markdown",
   "metadata": {},
   "source": [
    "## Data Analysis\n",
    "\n",
    "1. Find the head differences from the instrument readings.\n",
    "2. Find the velocity for each reading using continuity.\n",
    "3. Calculate the hydraulic gradient.\n",
    "4. Find the Reynolds number.\n",
    "5. Calculate the friction factor.\n",
    "6. Plot hydraulic gradient VS flow velocity for both low and high flow\n",
    "7. For higher flow, plot a chart of log $i$ VS log $u$\n",
    "8. Tabulate all results\n"
   ]
  },
  {
   "cell_type": "markdown",
   "metadata": {},
   "source": [
    "## Discussion/Interpretation\n",
    "\n",
    "1. Identify laminar and turbulent flow from lower flow results and identify the transition point (look at the Hydraulic gradient VS Flow velocity plot)\n",
    "2. Get the slope of the i VS u plot (i/u) from the laminar flow results. Use the following equation to calculate the water viscosity:\n",
    "$$\\mu = \\frac{i}{v}\\frac{\\rho gd^2}{32}$$\n",
    "\n",
    ">Check this theoretical value with the value used in this experiment. In\n",
    "the equation above, make sure you are putting $\\frac{slugs}{ft^3}$ for $\\rho$\n",
    "\n",
    "3. How do lower and higher flow results compare?\n",
    "4. For the higher flow $log/log$ plot, get the slope, $n$ from the most linear part, and check it with the relation ${i}\\propto{v^n}$\n",
    "5. What are some of the sources of errors?\n",
    "6. Discuss the practical applications of this experiment"
   ]
  },
  {
   "cell_type": "markdown",
   "metadata": {},
   "source": [
    "## Data Records\n",
    "\n",
    "**Low Flow Rates**\n",
    "\n",
    "|ID|Volume|Time|Q|u|$\\Delta h$|$i$|log$i$|log$u$|$Re$|$f$|\n",
    "|---:|---:|---:|---:|---:|---:|---:|---:|---:|---:|---:|\n",
    "|L1|...||||||||||\n",
    "|L2|...||||||||||\n",
    "|L3|...||||||||||\n",
    "|L4|...||||||||||\n",
    "|L5|...||||||||||\n",
    "|L6|...||||||||||\n",
    "\n",
    "**High Flow Rates**\n",
    "\n",
    "|ID|Volume|Time|Q|u|$\\Delta h$|$i$|log$i$|log$u$|$Re$|$f$|\n",
    "|---:|---:|---:|---:|---:|---:|---:|---:|---:|---:|---:|\n",
    "|H1|...||||||||||\n",
    "|H2|...||||||||||\n",
    "|H3|...||||||||||\n",
    "|H4|...||||||||||\n",
    "|H5|...||||||||||\n",
    "|H6|...||||||||||\n"
   ]
  },
  {
   "cell_type": "markdown",
   "metadata": {},
   "source": [
    "## References\n",
    "\n",
    "1. [Laboratory 4 circa 2021](http://54.243.252.9/ce-3105-webroot/pdf-source/Experiment4FrictionLossinaPipe.pdf)\n",
    "2. [Descriptive Statistics](http://54.243.252.9/engr-1330-webroot/engr1330notes/_build/html/examples/8statistical/1descriptivestatistics.html)\n",
    "3. [Plotting Data](http://54.243.252.9/engr-1330-webroot/engr1330notes/_build/html/examples/7graphing/example05.html)\n",
    "4. [Fitting Data Models](http://54.243.252.9/engr-1330-webroot/engr1330notes/_build/html/examples/10datamodels/datamodels.html)\n",
    "5. [This page as Jupyter ipynb file](http://54.243.252.9/ce-3105-webroot/2-Exercises/laboratory1/laboratory4.ipynb)\n",
    "6. [Holman, J.P., (2012) Experimental Methods for Engineers, 8th Ed. (Chapters 1-3)](https://mech.at.ua/HolmanICS.pdf)\n",
    "7. [Holman, J.P., (2012) Experimental Methods for Engineers, 8th Ed. (Chapter 15 Report Writing)](https://mech.at.ua/HolmanICS.pdf)"
   ]
  },
  {
   "cell_type": "markdown",
   "metadata": {},
   "source": [
    "## Videos\n",
    "\n",
    "1. [Laboratory 4  Video by Dr. Uddameri](https://www.youtube.com/watch?v=Xu132UBglpw)"
   ]
  },
  {
   "cell_type": "code",
   "execution_count": null,
   "metadata": {},
   "outputs": [],
   "source": []
  }
 ],
 "metadata": {
  "kernelspec": {
   "display_name": "Python 3",
   "language": "python",
   "name": "python3"
  },
  "language_info": {
   "codemirror_mode": {
    "name": "ipython",
    "version": 3
   },
   "file_extension": ".py",
   "mimetype": "text/x-python",
   "name": "python",
   "nbconvert_exporter": "python",
   "pygments_lexer": "ipython3",
   "version": "3.8.10"
  }
 },
 "nbformat": 4,
 "nbformat_minor": 4
}
