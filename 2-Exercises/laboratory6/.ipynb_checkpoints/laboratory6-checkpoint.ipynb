{
 "cells": [
  {
   "cell_type": "markdown",
   "metadata": {},
   "source": [
    "# CE 3105 - Mechanics of Fluids Laboratory\n",
    "\n",
    "## Laboratory 6 - Momentum Transfer in a Jet"
   ]
  },
  {
   "cell_type": "markdown",
   "metadata": {},
   "source": [
    "## Objectives\n",
    "- Understand the fluid statics and forces on a body\n",
    "- Measure the buoyancy force on a number of objects\n",
    "- Determine the hydrostatic thrust acting on a plane surface immersed in water when the surface is fully submerged"
   ]
  },
  {
   "cell_type": "markdown",
   "metadata": {},
   "source": [
    "## Data Acquisition\n",
    "\n",
    "<!--![](variablelist.png)-->\n",
    "\n",
    "Follow the procedure in the instructor notes, be sure to record your trails in the tables below\n",
    "\n",
    "**Flat Plate**\n",
    "\n",
    "|Trial|Distance ($y$)|Volume ($ml$)|Time ($s$)|\n",
    "|:---|:---|:---|:---|\n",
    "|1||||\n",
    "|2||||\n",
    "|3||||\n",
    "|4||||\n",
    "|5||||\n",
    "\n",
    "**Hemispherical Cup**\n",
    "\n",
    "|Trial|Distance ($y$)|Volume ($ml$)|Time ($s$)|\n",
    "|:---|:---|:---|:---|\n",
    "|1||||\n",
    "|2||||\n",
    "|3||||\n",
    "|4||||\n",
    "|5||||\n"
   ]
  },
  {
   "cell_type": "markdown",
   "metadata": {},
   "source": [
    "## Data Analysis\n",
    "\n",
    "The table below contains some constants you will need to complete the analysis described below\n",
    "\n",
    "![](variablelist.png)\n",
    "\n",
    "<hr>\n",
    "\n",
    "**Flat Plate**\n",
    "1. Convert flow rate to mass flow rate, $\\dot m$\n",
    "2. Calculate the flow velocity, $u$\n",
    "3. Calculate $u_0$\n",
    "4. Calculate rate of delivery of momentum, $\\dot m u_0$\n",
    "5. Calculate force, $F$\n",
    "6. Create a plot of force, $F$ (y-axis) vs. rate of delivery of momentum, $\\dot m u_0$(x-axis)\n",
    "  - Create a trendline for the data points\n",
    "  - The slope of the trendline indicates the coefficient for theoretical force\n",
    "  \n",
    "|Trial|Discharge ($Q$)|Mass Flow ($\\dot m$)|Distance ($y$)|Velocity ($u$)|Velocity ($u_0$)|Momentum Flux ($\\dot m u_0$)|Force ($F$)|\n",
    "|:---|:---|:---|:---|:---|:---|:---|:---|\n",
    "|1||||||||\n",
    "|2||||||||\n",
    "|3||||||||\n",
    "|4||||||||\n",
    "|5||||||||\n",
    "\n",
    "<hr>\n",
    "  \n",
    "**Hemispherical Cup**\n",
    "1. Convert flow rate to mass flow rate, $\\dot m$\n",
    "2. Calculate the flow velocity, $u$\n",
    "3. Calculate $u_0$\n",
    "4. Calculate rate of delivery of momentum, $\\dot m u_0$\n",
    "5. Calculate force, $F$\n",
    "6. Create a plot of force, $F$ (y-axis) vs. rate of delivery of momentum, $\\dot m u_0$(x-axis)\n",
    "  - Create a trendline for the data points\n",
    "  - The slope of the trendline indicates the coefficient for theoretical force\n",
    "\n",
    "|Trial|Discharge ($Q$)|Mass Flow ($\\dot m$)|Distance ($y$)|Velocity ($u$)|Velocity ($u_0$)|Momentum Flux ($\\dot m u_0$)|Force ($F$)|\n",
    "|:---|:---|:---|:---|:---|:---|:---|:---|\n",
    "|1||||||||\n",
    "|2||||||||\n",
    "|3||||||||\n",
    "|4||||||||\n",
    "|5||||||||"
   ]
  },
  {
   "cell_type": "markdown",
   "metadata": {},
   "source": [
    "## Discussion/Interpretation\n",
    "\n",
    "1. What percentage of velocity compared to that exiting the nozzle is lost as the jet deflects from the Flat Plate Vane?\n",
    "2. What percentage of velocity compared to that exiting the nozzle is lost as the jet deflects from the Hemispherical Cup Vane?\n",
    "3. Compare the coefficient of theoretical force found using the plot in Calculations 6b with the given, typical values for the coefficient of theoretical force on a Flat Plate Vane\n",
    "  - Compare your values for each trial using difference or some other mathematical comparison.\n",
    "4. Compare the coefficient of theoretical force found using the plot in Calculations 6b with the given, typical values for the coefficient of theoretical force on a Hemispherical Cup Vane\n",
    "  - Compare your values for each trial using percentage difference or some other mathematical comparison\n",
    "5. If an Angled Plate Vane, with an angle of 300, was examined using Impact Jets, would you expect the coefficient of theoretical force to be higher or lower than the coefficients of theoretical force for Flat Plate and Hemispherical Cup Vanes?\n",
    "  - Justify your answer using data found in this experiment\n",
    "6. Which source of error do you think is most significant in your experi- ment, and why?\n",
    "7. Give an example of a real-life application of the principles and theories explored in this lab"
   ]
  },
  {
   "cell_type": "markdown",
   "metadata": {},
   "source": [
    "## Data Records\n",
    "\n",
    "Record your readings in the tables already provided."
   ]
  },
  {
   "cell_type": "markdown",
   "metadata": {},
   "source": [
    "## References\n",
    "\n",
    "1. [Laboratory 6 circa 2021](http://54.243.252.9/ce-3105-webroot/pdf-source/Experiment6ImpactofJet.pdf)\n",
    "3. [Descriptive Statistics](http://54.243.252.9/engr-1330-webroot/engr1330notes/_build/html/examples/8statistical/1descriptivestatistics.html)\n",
    "4. [Plotting Data](http://54.243.252.9/engr-1330-webroot/engr1330notes/_build/html/examples/7graphing/example05.html)\n",
    "5. [Fitting Data Models](http://54.243.252.9/engr-1330-webroot/engr1330notes/_build/html/examples/10datamodels/datamodels.html)\n",
    "6. [This page as Jupyter ipynb file](http://54.243.252.9/ce-3105-webroot/2-Exercises/laboratory6/laboratory6.ipynb)\n",
    "7. [Holman, J.P., (2012) Experimental Methods for Engineers, 8th Ed. (Chapters 1-3)](https://mech.at.ua/HolmanICS.pdf)\n",
    "8. [Holman, J.P., (2012) Experimental Methods for Engineers, 8th Ed. (Chapter 15 Report Writing)](https://mech.at.ua/HolmanICS.pdf)"
   ]
  },
  {
   "cell_type": "markdown",
   "metadata": {},
   "source": [
    "## Videos\n",
    "\n",
    "1. [Laboratory 6 Video by Dr. Uddameri](https://www.youtube.com/watch?v=ObcsCdlnIVM)"
   ]
  },
  {
   "cell_type": "code",
   "execution_count": null,
   "metadata": {},
   "outputs": [],
   "source": []
  }
 ],
 "metadata": {
  "kernelspec": {
   "display_name": "Python 3",
   "language": "python",
   "name": "python3"
  },
  "language_info": {
   "codemirror_mode": {
    "name": "ipython",
    "version": 3
   },
   "file_extension": ".py",
   "mimetype": "text/x-python",
   "name": "python",
   "nbconvert_exporter": "python",
   "pygments_lexer": "ipython3",
   "version": "3.8.10"
  }
 },
 "nbformat": 4,
 "nbformat_minor": 4
}
