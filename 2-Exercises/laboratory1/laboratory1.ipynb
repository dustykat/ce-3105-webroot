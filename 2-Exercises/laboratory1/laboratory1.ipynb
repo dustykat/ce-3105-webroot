{
 "cells": [
  {
   "cell_type": "code",
   "execution_count": 13,
   "metadata": {},
   "outputs": [
    {
     "data": {
      "text/html": [
       "<style> table {margin-left: 0 !important;} </style>\n"
      ],
      "text/plain": [
       "<IPython.core.display.HTML object>"
      ]
     },
     "metadata": {},
     "output_type": "display_data"
    }
   ],
   "source": [
    "%%html\n",
    "<style> table {margin-left: 0 !important;} </style>"
   ]
  },
  {
   "cell_type": "markdown",
   "metadata": {},
   "source": [
    "# CE 3105 - Mechanics of Fluids Laboratory\n",
    "\n",
    "## Laboratory 1 - Fluid Properties"
   ]
  },
  {
   "cell_type": "markdown",
   "metadata": {},
   "source": [
    "## Objectives\n",
    "- Measure density, specific gravity of various fluids\n",
    "- Measure the viscosity of a fluid"
   ]
  },
  {
   "cell_type": "markdown",
   "metadata": {},
   "source": [
    "## Data Aquisition\n",
    "\n",
    "### PART I - Density Measurements\n",
    "1. Measure the temperature of the fluid\n",
    "2. Weigh the beaker provided\n",
    "3. Fill the beaker with fluid, and measure its mass (beaker + fluid)\n",
    "4. Carefully measure or estimate the volume of the fluid in the beaker\n",
    "5. Repeat your measurements (3 duplicates for each fluid assigned to you)"
   ]
  },
  {
   "cell_type": "markdown",
   "metadata": {},
   "source": [
    "### PART II - Specific Gravity\n",
    "1. Carefully place the calibrated hydrometer into the uid and record the value corresponding to the lower [meniscus](https://en.wikipedia.org/wiki/Meniscus_(liquid)),\n",
    "2. Make 3 duplicate measurements for each fluid assigned to you"
   ]
  },
  {
   "cell_type": "markdown",
   "metadata": {},
   "source": [
    "### PART III - Viscosity\n",
    "1. Take a steel ball (sphere) assigned to your group and note its diameter\n",
    "2. Carefully drop the ball into the ball guide\n",
    "3. Note the volume readings corresponding to the upper and lower level markers (i.e., the two rubber bands)\n",
    "4. Start the stopwatch when the ball reaches the first level marker (upperrubber band).\n",
    "5. Stop the stopwatch when the ball reaches the second level marker (lower rubber band).\n",
    "6. The density of the stainless steel sphere is 7800 $\\frac{kg}{m^3}$\n",
    "7. Repeat the above steps for each sphere assigned to you"
   ]
  },
  {
   "cell_type": "markdown",
   "metadata": {},
   "source": [
    "## Data Analysis\n",
    "\n",
    "### PART I - Density\n",
    "1. Calculate the density of the uid by dividing the mass over volume for each fluid and sample\n",
    "2. Calculate the mean and standard deviation for the estimated density of each fluid\n",
    "3. Calculate the mass of salt present in the brackish water sample. Calculate mean and standard deviation over all samples.\n",
    "\n",
    "### PART II - Specific Gravity\n",
    "1. Tabulate the specific gravity measurements for each fluid.\n",
    "2. For each fluid calculate [mean and standard deviations](http://54.243.252.9/engr-1330-webroot/engr1330notes/_build/html/examples/8statistical/1descriptivestatistics.html)\n",
    "3. [Plot](http://54.243.252.9/engr-1330-webroot/engr1330notes/_build/html/examples/7graphing/example05.html) density (calculated from PART I) (on X-axis) and specific gravity (on Y-axis). [Fit](http://54.243.252.9/engr-1330-webroot/engr1330notes/_build/html/examples/10datamodels/datamodels.html) a straight line and record the slope, intercept and coefficient of determination $R^2$\n",
    "\n",
    "### PART III - Viscosity\n",
    "1. Calculate kinematic viscosity for each sample using Equation 8.\n",
    "2. Use the density calculated in PART I to calculate dynamic viscosity for each sample.\n",
    "3. Compute and tabulate the [mean and standard deviation](http://54.243.252.9/engr-1330-webroot/engr1330notes/_build/html/examples/8statistical/1descriptivestatistics.html) for both kinematic and dynamic viscosity measurements."
   ]
  },
  {
   "cell_type": "markdown",
   "metadata": {},
   "source": [
    "## Discussion/Interpretation Questions (for the Lab Report)\n",
    "1. *Derive* the fall velocity equation, starting from the force balance on the sphere and assuming that $C_d=\\frac{24}{Re_D}$\n",
    "2. Why is it important to measure temperature when measuring density and viscosity?\n",
    "3. How do you think the density and viscosity of water would change with temperature.\n",
    "4. How do salts alter the density of groundwater? Why is measurement of brackish water density important for civil and environmental engineers.\n",
    "5. What is standard deviation? \n",
    "  - What does it tell us about the accuracy of the measurements?\n",
    "  - What does it tell us about the repeatability of the measurements?\n",
    "6. What are some potential sources of errors in your lab experiments. Discuss in the context of measuring density, specific gravity and viscosity."
   ]
  },
  {
   "cell_type": "markdown",
   "metadata": {},
   "source": [
    "## Data Records\n",
    "\n",
    "### Part I - Gravimetric Determination of Density\n",
    "\n",
    "Complete the table using Jupyter Notebook or Excel and cut-and-paste into the Laboratory Report\n",
    "\n",
    "|Substance|Measurement ID|Temp ($^o$C)| Mass (Dry Beaker)| Mass (Beaker + Fluid) |Volume (ml) |Density, $\\rho$| SG (computed)|\n",
    "|---|---:|---:| ---:| ---:|---:|---:|---:|\n",
    "|Water| 1|||||||\n",
    "|Water| 2|||||||\n",
    "|Water| 3|||||||\n",
    "|Salt Water| 1|||||||\n",
    "|Salt Water| 2|||||||\n",
    "|Salt Water| 3|||||||\n",
    "|Glycerine| 1|||||||\n",
    "|Glycerine| 2|||||||\n",
    "|Glycerine| 3|||||||"
   ]
  },
  {
   "cell_type": "markdown",
   "metadata": {},
   "source": [
    "### Part II - Specific Gravity (by Hydrometer)\n",
    "\n",
    "Complete the table using Jupyter Notebook or Excel and cut-and-paste into the Laboratory Report\n",
    "\n",
    "|Substance|Measurement ID| SG (computed from above)|SG Hydrometer Reading|\n",
    "|---|---:|---:| ---:| \n",
    "|Water| 1|||\n",
    "|Water| 2|||\n",
    "|Water| 3|||\n",
    "|Salt Water| 1|||\n",
    "|Salt Water| 2|||\n",
    "|Salt Water| 3|||\n",
    "|Glycerine| 1|||\n",
    "|Glycerine| 2|||\n",
    "|Glycerine| 3|||"
   ]
  },
  {
   "cell_type": "markdown",
   "metadata": {},
   "source": [
    "### Part III - Viscosity Determination by Stokes Law\n",
    "\n",
    "Complete the table using Jupyter Notebook or Excel and cut-and-paste into the Laboratory Report\n",
    "\n",
    "|Team ID |$d_{ball}$|$\\sigma$|$\\Delta V$|$d_{cyl.}$|L|$t_1$(sec)|$t_2$(sec)|$\\nu_{liq.}$|$\\rho_{liq.}$|$\\mu$|\n",
    "|------|---:|---:| ---:| ---:|---:|-----:|-----:|---:|---:|---:|\n",
    "|Team 1|$\\frac{5}{32}$||||||||||\n",
    "|Team 1|$\\frac{1}{16}$||||||||||\n",
    "|Team 2|$\\frac{3}{32}$||||||||||\n",
    "|Team 2|$\\frac{1}{8}$||||||||||\n",
    "|Team 3|$\\frac{5}{32}$||||||||||\n",
    "|Team 3|$\\frac{1}{16}$||||||||||\n",
    "|Team 4|$\\frac{3}{32}$||||||||||\n",
    "|Team 4|$\\frac{1}{8}$||||||||||\n",
    "|Team 5|$\\frac{5}{32}$||||||||||\n",
    "|Team 5|$\\frac{1}{16}$||||||||||"
   ]
  },
  {
   "cell_type": "markdown",
   "metadata": {
    "jupyter": {
     "source_hidden": true
    }
   },
   "source": [
    "## References\n",
    "\n",
    "1. [Laboratory 1 circa 2021](http://54.243.252.9/ce-3105-webroot/pdf-source/Experiment-1-Fluid-Properties.pdf)\n",
    "2. [Engineering Fluid Mechanics (Cd for spheres) go to p.414](http://54.243.252.9/ce-3105-webroot/2-Exercises/laboratory1/EFM-22.pdf)\n",
    "3. [Descriptive Statistics](http://54.243.252.9/engr-1330-webroot/engr1330notes/_build/html/examples/8statistical/1descriptivestatistics.html)\n",
    "4. [Plotting Data](http://54.243.252.9/engr-1330-webroot/engr1330notes/_build/html/examples/7graphing/example05.html)\n",
    "5. [Fitting Data Models](http://54.243.252.9/engr-1330-webroot/engr1330notes/_build/html/examples/10datamodels/datamodels.html)\n",
    "6. [This page as Jupyter ipynb file](http://54.243.252.9/ce-3105-webroot/2-Exercises/laboratory1/laboratory1.ipynb)\n",
    "7. [Holman, J.P., (2012) Experimental Methods for Engineers, 8th Ed. (Chapters 1-3)](https://mech.at.ua/HolmanICS.pdf)\n",
    "8. [Holman, J.P., (2012) Experimental Methods for Engineers, 8th Ed. (Chapter 15 Report Writing)](https://mech.at.ua/HolmanICS.pdf)"
   ]
  },
  {
   "cell_type": "markdown",
   "metadata": {},
   "source": [
    "## Videos\n",
    "\n",
    "1. [Laboratory 1 Video by Dr. Uddameri](https://www.youtube.com/watch?v=WwV-azCJWis)"
   ]
  },
  {
   "cell_type": "code",
   "execution_count": null,
   "metadata": {},
   "outputs": [],
   "source": []
  },
  {
   "cell_type": "markdown",
   "metadata": {},
   "source": [
    "<!-- ## Background \n",
    "\n",
    "**Density** is a fundamental property of all materials including fluids. Density\n",
    "is typically denoted using symbol $\\rho$ and is defined as the ratio of mass to\n",
    "volume of the material of interest. \n",
    "\n",
    "As an equation in words:\n",
    "$$\\text{Density} = \\frac{\\text{Mass of the Fluid}}{\\text{Volume occupied by the fluid}}$$\n",
    "\n",
    "or more conventionally\n",
    "\n",
    "$$\\rho = \\frac{M}{V}$$\n",
    "\n",
    "At a given temperature and pressure the density of a given fluid is constant.\n",
    "Let us say we keep pouring some liquid into a beaker, as the mass increases\n",
    "so does the volume and density which is the ratio of mass to volume stays\n",
    "constant. \n",
    "\n",
    "In SI, the units of density are $\\frac{kg}{m^3}$. \n",
    "\n",
    "In FPS system density is reported either as $\\frac{\\text{slugs}}{ft^3}$ or  $\\frac{\\text{lbm}}{ft^3}$ where [*lbm*](https://en.wikipedia.org/wiki/Pound_(mass)) is pound mass. -->"
   ]
  },
  {
   "cell_type": "markdown",
   "metadata": {},
   "source": [
    "<!-- **Specific Weight** is the **weight** per unit volume of the material. \n",
    "Remember that weight is a force obtained by multiplying mass and gravitational acceleration (g). \n",
    "\n",
    "As an equation in words:\n",
    "\n",
    "$$\\text{Specific Weight} = \\frac{\\text{weight}}{\\text{volume}}$$\n",
    "\n",
    "or more conventionally\n",
    "\n",
    "$$\\gamma = \\frac{W}{V} = \\frac{m \\cdot g}{V}$$\n",
    "\n",
    "At a given temperature, pressure and location, the specific weight of a fluid\n",
    "is constant. However, the acceleration due to gravity varies slightly with\n",
    "location. The specific weight of a fluid is slightly lower at the poles than at the equator even when the temperature and pressure of the fluid are the same at both\n",
    "locations. -->"
   ]
  },
  {
   "cell_type": "markdown",
   "metadata": {},
   "source": [
    "<!-- **Specific Gravity** is another important fluid property which is defined as the\n",
    "ratio of the density of a fluid to the density of water at the same temperature.\n",
    "Clearly, the specific gravity is equal to 1.0 for water. Fluids denser than\n",
    "water have a specific gravity greater than 1 while those lighter than water\n",
    "have specific gravity less than 1.\n",
    "\n",
    "$$SG = \\frac{\\rho_s}{\\rho_{H2O}} $$\n",
    "\n",
    "Being a ratio of two densities, specific gravity is a dimensionless quantity.\n",
    "Specific gravity can tell us whether an object will float or sink in water. Specific\n",
    "Gravity also provides consistency to compare fluids across different units. -->"
   ]
  },
  {
   "cell_type": "markdown",
   "metadata": {},
   "source": [
    "<!-- **Viscosity** quantifies the ability of the fluid to resist shear stress (i.e.,\n",
    "internal resistance). One can also conceptualize viscosity as the frictional\n",
    "forces that exist between two layers of fluid that are in relative motion.\n",
    "\n",
    "**Dynamic Viscosity** measures the tangential force per unit area required to move one horizonal plane relative to another at a unit velocity when maintaining unit distance separation. The shear stress applied causes the fluid to flow (or flow causes stress). \n",
    "\n",
    "Newton's law of viscosity states that the shear stress, $\\tau$, is proportional to the velocity gradient (across the flow flow), $\\frac{du}{dy}$ (see Figure 1). \n",
    "Dynamic viscosity ,$\\mu$, is the constant of proportionality.\n",
    "\n",
    "<figure align=\"center\">\n",
    "<!--<img src=\"./Hydropower.png\" width=\"300\" >\n",
    "<img src=\"http://54.243.252.9/ce-3105-webroot/2-Exercises/laboratory1/shearstress.png\" width=\"300\" >\n",
    "<figcaption>Figure 1: Shear stress conceptual diagram </figcaption>\n",
    "</figure>\n",
    "\n",
    "Newton's law expressed as an equation is:\n",
    "$$\\tau = \\mu \\cdot \\frac{du}{dy} $$\n",
    "\n",
    "thus dynamic viscosity is the ratio of shear force to the velocity gradient. It has units of $ Pa \\cdot s = \\frac{kg \\cdot m}{s^2} \\cdot \\frac{s}{m^2}$. \n",
    "\n",
    "In cgs system the units of dynamic viscosity is Poise (or more commonly centipoise, cP). \n",
    "\n",
    "In US Customary units we express viscosity as $\\frac{lbf}{ft \\cdot s}$. \n",
    "\n",
    "In practical fluid mechanics, we often encounter the ratio of dynamic viscosity to density. This term is the **kinematic viscosity**. \n",
    "\n",
    "Expressed as an equation in commonly used notation:\n",
    "\n",
    "$$ \\nu = \\frac{\\mu}{\\rho}$$\n",
    "\n",
    "The kinematic viscosity has SI units of $$\\frac{m^2}{s}$$.\n",
    "\n",
    "A useful method to determine viscosity of liquids is to record the rate at which a\n",
    "sphere will fall through a liquid of interest. \n",
    "Under equilibrium conditions, the frictional forces experienced by the sphere will be equal to its weight. The sphere will fall at a constant speed known as the terminal velocity. \n",
    "The phenomenon is called Stokes law (or Stokes flow). \n",
    "\n",
    "A simple force balance is depicted in Figure 2, where the bouyant force and drag force are equal to the weight of the sphere.\n",
    "\n",
    "<figure align=\"center\">\n",
    "<!--<img src=\"./Hydropower.png\" width=\"300\" >\n",
    "<img src=\"http://54.243.252.9/ce-3105-webroot/2-Exercises/laboratory1/sphereforces.png\" width=\"300\" >\n",
    "<figcaption>Figure 2: Force balance on a sphere falling at constant velocity </figcaption>\n",
    "</figure>\n",
    "\n",
    "Stokes flow occurs at pretty low Reynolds numbers so the laminar correlation for the drag coefficient is appropriate\n",
    "\n",
    "$$ c_d = \\frac{24}{Re}+\\frac{4}{\\sqrt{Re}}+0.4 $$\n",
    "\n",
    "If the Reynolds number is less than $\\frac{1}{2}$ the drag coefficient is $c_d = \\frac{24}{Re}$, using this representation of drag the force balance for the sphere allows us to solve for velocity, $V$,\n",
    "\n",
    "$$ V = \\frac{g \\cdot d^2}{18 \\nu}(\\frac{\\sigma}{\\rho} -1)$$\n",
    "\n",
    "where, *g* is the acceleration due to gravity, *d* is the diameter of the sphere,\n",
    "$\\nu$ is the kinematic viscosity, $\\rho$ is the density of the sphere, $\\rho$ is the density of the fluid. -->"
   ]
  }
 ],
 "metadata": {
  "kernelspec": {
   "display_name": "Python 3",
   "language": "python",
   "name": "python3"
  },
  "language_info": {
   "codemirror_mode": {
    "name": "ipython",
    "version": 3
   },
   "file_extension": ".py",
   "mimetype": "text/x-python",
   "name": "python",
   "nbconvert_exporter": "python",
   "pygments_lexer": "ipython3",
   "version": "3.8.10"
  }
 },
 "nbformat": 4,
 "nbformat_minor": 4
}
