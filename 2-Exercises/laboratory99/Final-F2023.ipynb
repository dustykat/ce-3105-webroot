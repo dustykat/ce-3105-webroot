{
 "cells": [
  {
   "cell_type": "markdown",
   "metadata": {},
   "source": [
    "# CE 3105 - Mechanics of Fluids Laboratory\n",
    "\n",
    "## Laboratory Final Exam\n",
    "\n",
    "Your Name: $\\underline{~~~~~~~~~~~~~~~~~~~~~~~~~~~~~~~~~~~~~~~~~~~~~~~~~~~~~~~~~~~~~}$<br><br>\n",
    "R Number : $\\underline{~~~~~~~~~~~~~~~~~~~~~~~~~~~~~~~~~~~~~~~~~~~~~~~~~~~~~~~~~~~~~}$<br><br>"
   ]
  },
  {
   "cell_type": "markdown",
   "metadata": {},
   "source": [
    "---\n",
    "\n",
    "## Question 1\n",
    "\n",
    "What are the names of your laboratory team members:\n",
    "    \n",
    "1. TEAM MEMBER 0 (YOU): $\\underline{~~~~~~~~~~~~~~~~~~~~~~~~~~~~~~~~~~~~~~~~}$<br><br>\n",
    "2. TEAM MEMBER 1: $\\underline{~~~~~~~~~~~~~~~~~~~~~~~~~~~~~~~~~~~~~~~~~~~~~~}$<br><br>\n",
    "2. TEAM MEMBER 2: $\\underline{~~~~~~~~~~~~~~~~~~~~~~~~~~~~~~~~~~~~~~~~~~~~~~}$<br><br>\n",
    "2. TEAM MEMBER 3: $\\underline{~~~~~~~~~~~~~~~~~~~~~~~~~~~~~~~~~~~~~~~~~~~~~~}$<br><br>\n",
    "2. TEAM MEMBER 4: $\\underline{~~~~~~~~~~~~~~~~~~~~~~~~~~~~~~~~~~~~~~~~~~~~~~}$<br><br>\n",
    "2. TEAM MEMBER 5: $\\underline{~~~~~~~~~~~~~~~~~~~~~~~~~~~~~~~~~~~~~~~~~~~~~~}$<br><br>"
   ]
  },
  {
   "cell_type": "markdown",
   "metadata": {},
   "source": [
    "---\n",
    "\n",
    "## Question 2\n",
    "\n",
    "Which of the members of your team would most likely state <font color = \"green\">\"On the Laboratory 4 Report I did most, if not all, of the work\"?</font>\n",
    "\n",
    "<br><br>TEAM MEMBER: $\\underline{~~~~~~~~~~~~~~~~~~~~~~~~~~~~~~~~~~~~~~~~~~}$<br><br>\n"
   ]
  },
  {
   "cell_type": "markdown",
   "metadata": {},
   "source": [
    "---\n",
    "\n",
    "## Question 3\n",
    "\n",
    "Before each laboratory you received a safety breifing.  What were the three most frequently stated safety reminders before each laboratory?\n",
    "\n",
    "1. REMINDER 1: $\\underline{~~~~~~~~~~~~~~~~~~~~~~~~~~~~~~~~~~~~~~~~~~~~~~~~~~~~~~~~~~~~~~~~~~~~~~~~~~~}$<br> <br>\n",
    "2. REMINDER 2: $\\underline{~~~~~~~~~~~~~~~~~~~~~~~~~~~~~~~~~~~~~~~~~~~~~~~~~~~~~~~~~~~~~~~~~~~~~~~~~~~}$<br> <br>\n",
    "3. REMINDER 3: $\\underline{~~~~~~~~~~~~~~~~~~~~~~~~~~~~~~~~~~~~~~~~~~~~~~~~~~~~~~~~~~~~~~~~~~~~~~~~~~~}$<br> <br>"
   ]
  },
  {
   "cell_type": "markdown",
   "metadata": {},
   "source": [
    "---\n",
    "\n",
    "## Question 4\n",
    "\n",
    "A metal sphere measured using a dial-caliper (in inches) is photographed below:\n",
    "\n",
    "![](sphere-dimension.png) \n",
    "\n",
    "The same sphere is weighed using a digital scale (in grams) as shown in the photograph below:\n",
    "\n",
    "![](sphere-mass.png)\n",
    "\n",
    "Using measurements depicted in these two images\n",
    "\n",
    "Determine:\n",
    "1. The volume of the sphere in milliliters\n",
    "2. The density of the sphere in $\\frac{g}{ml}$"
   ]
  },
  {
   "cell_type": "code",
   "execution_count": 22,
   "metadata": {},
   "outputs": [],
   "source": [
    "# show your work here (or attach separate sheets - be sure to put your name on the attached sheets)"
   ]
  },
  {
   "cell_type": "markdown",
   "metadata": {},
   "source": [
    "---\n",
    "\n",
    "## Question 5\n",
    "\n",
    "The sphere (powder coated for visibility) is used to estimate viscosity for an unknown liquid as depicted in the photographs below.\n",
    "\n",
    "![](drop.png) ![](begin.png) ![](end.png)\n",
    "\n",
    "A 50 ml sample of the light amber liquid has a mass of 69.5 grams at 20$^o$C.\n",
    "\n",
    "The time required for the sphere to traverse 127 mm was observed to be 2.3 seconds (a little less than one hour).\n",
    "\n",
    "Using the known density of the sphere, and the observations listed above \n",
    "\n",
    "Determine:\n",
    "1. The density of the unknown liquid (in $\\frac{g}{ml}$)\n",
    "2. The viscosity of the unknown liquid (in Pa$\\cdot$s)"
   ]
  },
  {
   "cell_type": "code",
   "execution_count": 10,
   "metadata": {},
   "outputs": [],
   "source": [
    "# show your work here (or attach separate sheets - be sure to put your name on the attached sheets)"
   ]
  },
  {
   "cell_type": "markdown",
   "metadata": {},
   "source": [
    "**Extra Credit**\n",
    "1. What is the sphere material based on the data?\n",
    "2. What is the unknown liquid based on the data?"
   ]
  },
  {
   "cell_type": "markdown",
   "metadata": {},
   "source": [
    "## Question 6\n",
    "\n",
    "The following water discharge data were obtained using the apparatus in the photograph below:\n",
    "\n",
    "|Volume (mL) |Time (s)|$\\Delta h$(m)|\n",
    "|---:|---:|---:|\n",
    "|122|8.36|1.34|\n",
    "|138|6.67|2.56|\n",
    "|180|7.9|3.09|\n",
    "|205|8.03|3.98|\n",
    "|217|8.26|3.92|\n",
    "\n",
    "![](labsetup.png)\n",
    "\n",
    "Determine:\n",
    "1. The discharge rate for each of the 5 measurements.\n",
    "2. The flow velocity in the 3-mm brass tube for each of the 5 measurements.\n",
    "3. The Reynolds number for each of the 5 measurements.\n",
    "4. The Darcy-Weisbach friction factor for each of the 5 measurements.\n",
    "5. Is the flow turbulent in each experiment?\n",
    "6. Plot (sketch) the friction factor versus Reynolds number for these data.\n"
   ]
  },
  {
   "cell_type": "code",
   "execution_count": 21,
   "metadata": {},
   "outputs": [],
   "source": [
    "# show your work here (or attach separate sheets - be sure to put your name on the attached sheets)"
   ]
  },
  {
   "cell_type": "code",
   "execution_count": 4,
   "metadata": {},
   "outputs": [
    {
     "name": "stdout",
     "output_type": "stream",
     "text": [
      "This is pdfTeX, Version 3.14159265-2.6-1.40.20 (TeX Live 2019/Debian) (preloaded format=pdflatex)\n",
      " restricted \\write18 enabled.\n",
      "entering extended mode\n",
      "(./lab_exam-f23.tex\n",
      "LaTeX2e <2020-02-02> patch level 2\n",
      "L3 programming layer <2020-02-14>\n",
      "(/usr/share/texlive/texmf-dist/tex/latex/base/article.cls\n",
      "Document Class: article 2019/12/20 v1.4l Standard LaTeX document class\n",
      "(/usr/share/texlive/texmf-dist/tex/latex/base/size12.clo))\n",
      "(/usr/share/texlive/texmf-dist/tex/latex/geometry/geometry.sty\n",
      "(/usr/share/texlive/texmf-dist/tex/latex/graphics/keyval.sty)\n",
      "(/usr/share/texlive/texmf-dist/tex/generic/iftex/ifvtex.sty\n",
      "(/usr/share/texlive/texmf-dist/tex/generic/iftex/iftex.sty)))\n",
      "(/usr/share/texlive/texmf-dist/tex/latex/parskip/parskip.sty\n",
      "(/usr/share/texlive/texmf-dist/tex/latex/kvoptions/kvoptions.sty\n",
      "(/usr/share/texlive/texmf-dist/tex/generic/ltxcmds/ltxcmds.sty)\n",
      "(/usr/share/texlive/texmf-dist/tex/generic/kvsetkeys/kvsetkeys.sty))\n",
      "(/usr/share/texlive/texmf-dist/tex/latex/etoolbox/etoolbox.sty)) (./daves.sty\n",
      "Dave's standard definitions: Last modified Friday, July 7, 1995.\n",
      ".....dbt changed footnote indentation\n",
      ".....dbt changed labels to arabic\n",
      ".....dbt included milestone charts\n",
      ") (/usr/share/texlive/texmf-dist/tex/latex/fancyhdr/fancyhdr.sty)\n",
      "(/usr/share/texlive/texmf-dist/tex/latex/natbib/natbib.sty)\n",
      "(/usr/share/texlive/texmf-dist/tex/latex/graphics/graphicx.sty\n",
      "(/usr/share/texlive/texmf-dist/tex/latex/graphics/graphics.sty\n",
      "(/usr/share/texlive/texmf-dist/tex/latex/graphics/trig.sty)\n",
      "(/usr/share/texlive/texmf-dist/tex/latex/graphics-cfg/graphics.cfg)\n",
      "(/usr/share/texlive/texmf-dist/tex/latex/graphics-def/pdftex.def)))\n",
      "(/usr/share/texlive/texmf-dist/tex/latex/tools/dcolumn.sty\n",
      "(/usr/share/texlive/texmf-dist/tex/latex/tools/array.sty))\n",
      "(/usr/share/texlive/texmf-dist/tex/latex/amsmath/amsmath.sty\n",
      "For additional information on amsmath, use the `?' option.\n",
      "(/usr/share/texlive/texmf-dist/tex/latex/amsmath/amstext.sty\n",
      "(/usr/share/texlive/texmf-dist/tex/latex/amsmath/amsgen.sty))\n",
      "(/usr/share/texlive/texmf-dist/tex/latex/amsmath/amsbsy.sty)\n",
      "(/usr/share/texlive/texmf-dist/tex/latex/amsmath/amsopn.sty))\n",
      "(/usr/share/texlive/texmf-dist/tex/latex/lastpage/lastpage.sty)\n",
      "(/usr/share/texlive/texmf-dist/tex/latex/url/url.sty)\n",
      "(/usr/share/texlive/texmf-dist/tex/latex/amsfonts/amssymb.sty\n",
      "(/usr/share/texlive/texmf-dist/tex/latex/amsfonts/amsfonts.sty))\n",
      "(/usr/share/texlive/texmf-dist/tex/latex/epstopdf-pkg/epstopdf.sty\n",
      "(/usr/share/texlive/texmf-dist/tex/generic/infwarerr/infwarerr.sty)\n",
      "(/usr/share/texlive/texmf-dist/tex/latex/grfext/grfext.sty\n",
      "(/usr/share/texlive/texmf-dist/tex/generic/kvdefinekeys/kvdefinekeys.sty))\n",
      "(/usr/share/texlive/texmf-dist/tex/latex/pdftexcmds/pdftexcmds.sty)\n",
      "(/usr/share/texlive/texmf-dist/tex/latex/epstopdf-pkg/epstopdf-base.sty\n",
      "(/usr/share/texlive/texmf-dist/tex/latex/latexconfig/epstopdf-sys.cfg)))\n",
      "(/usr/share/texlive/texmf-dist/tex/latex/tools/longtable.sty)\n",
      "(/usr/share/texlive/texmf-dist/tex/latex/caption/caption.sty\n",
      "(/usr/share/texlive/texmf-dist/tex/latex/caption/caption3.sty)\n",
      "(/usr/share/texlive/texmf-dist/tex/latex/caption/ltcaption.sty))\n",
      "(/usr/share/texlive/texmf-dist/tex/latex/caption/subcaption.sty)\n",
      "(/usr/share/texlive/texmf-dist/tex/latex/pdfpages/pdfpages.sty\n",
      "(/usr/share/texlive/texmf-dist/tex/latex/base/ifthen.sty)\n",
      "(/usr/share/texlive/texmf-dist/tex/latex/tools/calc.sty)\n",
      "(/usr/share/texlive/texmf-dist/tex/latex/eso-pic/eso-pic.sty\n",
      "(/usr/share/texlive/texmf-dist/tex/generic/atbegshi/atbegshi.sty)\n",
      "(/usr/share/texlive/texmf-dist/tex/latex/xcolor/xcolor.sty\n",
      "(/usr/share/texlive/texmf-dist/tex/latex/graphics-cfg/color.cfg)))\n",
      "(/usr/share/texlive/texmf-dist/tex/latex/pdfpages/pppdftex.def))\n",
      "(/usr/share/texlive/texmf-dist/tex/latex/l3backend/l3backend-pdfmode.def)\n",
      "(./lab_exam-f23.aux\n",
      "\n",
      "LaTeX Warning: Label `fig:sub2' multiply defined.\n",
      "\n",
      "\n",
      "LaTeX Warning: Label `sub@fig:sub2' multiply defined.\n",
      "\n",
      ")\n",
      "*geometry* driver: auto-detecting\n",
      "*geometry* detected driver: pdftex\n",
      "(/usr/share/texlive/texmf-dist/tex/context/base/mkii/supp-pdf.mkii\n",
      "[Loading MPS to PDF converter (version 2006.09.02).]\n",
      ") (/usr/share/texlive/texmf-dist/tex/latex/pdflscape/pdflscape.sty\n",
      "(/usr/share/texlive/texmf-dist/tex/latex/graphics/lscape.sty))\n",
      "(/usr/share/texlive/texmf-dist/tex/latex/amsfonts/umsa.fd)\n",
      "(/usr/share/texlive/texmf-dist/tex/latex/amsfonts/umsb.fd)\n",
      "\n",
      "Package Fancyhdr Warning: \\headheight is too small (12.0pt): \n",
      "Make it at least 14.49998pt.\n",
      "We now make it that large for the rest of the document.\n",
      "This may cause the page layout to be inconsistent, however.\n",
      "\n",
      "[1{/var/lib/texmf/fonts/map/pdftex/updmap/pdftex.map}] [2] [3 <./sphere-dimensi\n",
      "on.png> <./sphere-mass.png>] [4] [5] [6 <./drop.png> <./begin.png> <./end.png>]\n",
      " [7] [8 <./labsetup.png>] [9] [10] \n",
      "AED: lastpage setting LastPage\n",
      "(./lab_exam-f23.aux)\n",
      "\n",
      "LaTeX Warning: There were multiply-defined labels.\n",
      "\n",
      " ) </home/sensei/.texlive2019/texmf-var/fonts/pk/ljfour/jknappen/ec/tcrm1200.60\n",
      "0pk></usr/share/texlive/texmf-dist/fonts/type1/public/amsfonts/cm/cmbx12.pfb></\n",
      "usr/share/texlive/texmf-dist/fonts/type1/public/amsfonts/cm/cmmi12.pfb></usr/sh\n",
      "are/texlive/texmf-dist/fonts/type1/public/amsfonts/cm/cmmi8.pfb></usr/share/tex\n",
      "live/texmf-dist/fonts/type1/public/amsfonts/cm/cmr10.pfb></usr/share/texlive/te\n",
      "xmf-dist/fonts/type1/public/amsfonts/cm/cmr12.pfb></usr/share/texlive/texmf-dis\n",
      "t/fonts/type1/public/amsfonts/cm/cmr6.pfb></usr/share/texlive/texmf-dist/fonts/\n",
      "type1/public/amsfonts/cm/cmsy10.pfb>\n",
      "Output written on lab_exam-f23.pdf (10 pages, 3190062 bytes).\n",
      "Transcript written on lab_exam-f23.log.\n"
     ]
    }
   ],
   "source": [
    "! pdflatex lab_exam-f23.tex"
   ]
  },
  {
   "cell_type": "code",
   "execution_count": null,
   "metadata": {},
   "outputs": [],
   "source": []
  }
 ],
 "metadata": {
  "kernelspec": {
   "display_name": "Python 3",
   "language": "python",
   "name": "python3"
  },
  "language_info": {
   "codemirror_mode": {
    "name": "ipython",
    "version": 3
   },
   "file_extension": ".py",
   "mimetype": "text/x-python",
   "name": "python",
   "nbconvert_exporter": "python",
   "pygments_lexer": "ipython3",
   "version": "3.8.10"
  }
 },
 "nbformat": 4,
 "nbformat_minor": 4
}
