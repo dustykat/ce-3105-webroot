{
 "cells": [
  {
   "cell_type": "markdown",
   "metadata": {},
   "source": [
    "# CE 3105 - Mechanics of Fluids Laboratory\n",
    "\n",
    "## Laboratory 5 - Fitting Losses in a Pipe System"
   ]
  },
  {
   "cell_type": "markdown",
   "metadata": {},
   "source": [
    "## Objectives\n",
    "- To understand and calculate the losses in pipe networks due to bends, changes in diameter, junctions and valves.\n",
    "- To evaluate characteristics of flow in different pipe fittings and determine minor loss coefficients.\n"
   ]
  },
  {
   "cell_type": "markdown",
   "metadata": {},
   "source": [
    "## Data Acquisition\n",
    "\n",
    "Follow the procedure below (and in the preamble), remember to record pipe diameters (these are stenciled onto the apparatus).\n",
    "\n",
    "1. Close the exit valve on the left side of the flow circuit, and then turn on the water source\n",
    "2. Slowly open the exit valve on the apparatus, and watch the water levels in the manometer tubes\n",
    "3. Determine the flow rate of the liquid by measuring the time it takes to fill a known volume.\n",
    "4. Record the differential pressure readings across each of the fittings\n",
    "5. Repeat step 3 and 4 to obtain data for at least five different flow rates by adjusting the exit valve"
   ]
  },
  {
   "cell_type": "markdown",
   "metadata": {},
   "source": [
    "## Data Analysis\n",
    "\n",
    "1. For the mitre, elbow and bend, plot the measured head loss (y- axis) vs. the velocity head for the smaller bore pipes (x- axis) on the same plot\n",
    "2. For the sudden expansion and contraction, plot the total head loss (y-axis) vs. the velocity head for the smaller bore pipes (x- axis) on the same plot\n",
    "3. Add a best fit line through the data points and determine the \"slope\" of the line, which is the empirical value of the loss coefficient. Remember to ignore any excess scatter at the lower and higher flow rates for the expansion and contraction"
   ]
  },
  {
   "cell_type": "markdown",
   "metadata": {},
   "source": [
    "## Discussion/Interpretation\n",
    "\n",
    "1. Explain the calculated loss coefficient values for different fittings. How do they differ?\n",
    "2. Compare the calculated loss coefficient values with the theoretical values. How do they differ?\n",
    "3. Which fitting is best to design a pipe system?\n",
    "4. Describe the characteristics of flow through bends where loss coefficient, K is a function of the geometric ratio R/D"
   ]
  },
  {
   "cell_type": "markdown",
   "metadata": {},
   "source": [
    "## Data Records\n",
    "\n",
    "Record the relevant measurements in the table below (or make your own).  Remember to record the various pipe diameters on the device.\n",
    "\n",
    "<!--![](datasheet.png)-->"
   ]
  },
  {
   "cell_type": "markdown",
   "metadata": {},
   "source": [
    "Water Temperature: \\____ $^o$C<br>\n",
    "\n",
    "Density: \\____ $\\frac{kg}{m^3}$<br>\n",
    "\n",
    "|Reading_ID|Volume (L)|Time (s)|Flow Rate|$m_1$ (mm)|$m_2$ (mm)|$m_3$ (mm)|$m_4$ (mm)|$m_5$ (mm)|$m_6$ (mm)|$m_7$ (mm)|$m_8$ (mm)|$m_9$ (mm)|$m_{10}$ (mm)|\n",
    "|:---|---:|---:|---:|---:|---:|---:|---:|---:|---:|---:|---:|---:|---:|\n",
    "|1||||||||||||||\n",
    "|2||||||||||||||\n",
    "|3||||||||||||||\n",
    "|4||||||||||||||\n",
    "|5||||||||||||||\n",
    "\n",
    "$m_i$ is the manometer reading (numbered from left to right)"
   ]
  },
  {
   "cell_type": "markdown",
   "metadata": {},
   "source": [
    "## References\n",
    "\n",
    "1. [Laboratory 5 circa 2021](http://54.243.252.9/ce-3105-webroot/pdf-source/Experiment5MinorLossesinaPipeNetwork.pdf)\n",
    "3. [Descriptive Statistics](http://54.243.252.9/engr-1330-webroot/engr1330notes/_build/html/examples/8statistical/1descriptivestatistics.html)\n",
    "4. [Plotting Data](http://54.243.252.9/engr-1330-webroot/engr1330notes/_build/html/examples/7graphing/example05.html)\n",
    "5. [Fitting Data Models](http://54.243.252.9/engr-1330-webroot/engr1330notes/_build/html/examples/10datamodels/datamodels.html)\n",
    "6. [This page as Jupyter ipynb file](http://54.243.252.9/ce-3105-webroot/2-Exercises/laboratory5/laboratory5.ipynb)\n",
    "7. [Holman, J.P., (2012) Experimental Methods for Engineers, 8th Ed. (Chapters 1-3)](https://mech.at.ua/HolmanICS.pdf)\n",
    "8. [Holman, J.P., (2012) Experimental Methods for Engineers, 8th Ed. (Chapter 15 Report Writing)](https://mech.at.ua/HolmanICS.pdf)\n",
    "9. [Laboratory 5 Sample Report](http://54.243.252.9/ce-3105-webroot/2-Exercises/laboratory5/ExampleLabReport5.pdf)"
   ]
  },
  {
   "cell_type": "markdown",
   "metadata": {},
   "source": [
    "## Videos\n",
    "\n",
    "1. [Laboratory 5 Video by Dr. Uddameri](https://www.youtube.com/watch?v=TXKumBf9Pdc)"
   ]
  }
 ],
 "metadata": {
  "kernelspec": {
   "display_name": "Python 3",
   "language": "python",
   "name": "python3"
  },
  "language_info": {
   "codemirror_mode": {
    "name": "ipython",
    "version": 3
   },
   "file_extension": ".py",
   "mimetype": "text/x-python",
   "name": "python",
   "nbconvert_exporter": "python",
   "pygments_lexer": "ipython3",
   "version": "3.8.10"
  }
 },
 "nbformat": 4,
 "nbformat_minor": 4
}
