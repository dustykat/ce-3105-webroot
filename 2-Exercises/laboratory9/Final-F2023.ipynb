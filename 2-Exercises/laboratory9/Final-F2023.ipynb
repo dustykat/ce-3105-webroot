{
 "cells": [
  {
   "cell_type": "markdown",
   "metadata": {},
   "source": [
    "# CE 3105 - Mechanics of Fluids Laboratory\n",
    "\n",
    "## Laboratory Final Exam\n",
    "\n",
    "Your Name: $\\underline{~~~~~~~~~~~~~~~~~~~~~~~~~~~~~~~~~~~~~~~~~~~~~~~~~~~~~~~~~~~~~}$<br><br>\n",
    "R Number : $\\underline{~~~~~~~~~~~~~~~~~~~~~~~~~~~~~~~~~~~~~~~~~~~~~~~~~~~~~~~~~~~~~}$<br><br>"
   ]
  },
  {
   "cell_type": "markdown",
   "metadata": {},
   "source": [
    "---\n",
    "\n",
    "## Question 1\n",
    "\n",
    "What are the names of your laboratory team members:\n",
    "    \n",
    "1. TEAM MEMBER 0 (YOU): $\\underline{~~~~~~~~~~~~~~~~~~~~~~~~~~~~~~~~~~~~~~~~}$<br><br>\n",
    "2. TEAM MEMBER 1: $\\underline{~~~~~~~~~~~~~~~~~~~~~~~~~~~~~~~~~~~~~~~~~~~~~~}$<br><br>\n",
    "2. TEAM MEMBER 2: $\\underline{~~~~~~~~~~~~~~~~~~~~~~~~~~~~~~~~~~~~~~~~~~~~~~}$<br><br>\n",
    "2. TEAM MEMBER 3: $\\underline{~~~~~~~~~~~~~~~~~~~~~~~~~~~~~~~~~~~~~~~~~~~~~~}$<br><br>\n",
    "2. TEAM MEMBER 4: $\\underline{~~~~~~~~~~~~~~~~~~~~~~~~~~~~~~~~~~~~~~~~~~~~~~}$<br><br>\n",
    "2. TEAM MEMBER 5: $\\underline{~~~~~~~~~~~~~~~~~~~~~~~~~~~~~~~~~~~~~~~~~~~~~~}$<br><br>"
   ]
  },
  {
   "cell_type": "markdown",
   "metadata": {},
   "source": [
    "---\n",
    "\n",
    "## Question 2\n",
    "\n",
    "Which of the members of your team would most likely state <font color = \"green\">\"On the Laboratory 4 Report I did most, if not all, of the work\"?</font>\n",
    "\n",
    "<br><br>TEAM MEMBER: $\\underline{~~~~~~~~~~~~~~~~~~~~~~~~~~~~~~~~~~~~~~~~~~}$<br><br>\n"
   ]
  },
  {
   "cell_type": "markdown",
   "metadata": {},
   "source": [
    "---\n",
    "\n",
    "## Question 3\n",
    "\n",
    "Before each laboratory you received a safety breifing.  What were the three most frequently stated safety reminders before each laboratory?\n",
    "\n",
    "1. REMINDER 1: $\\underline{~~~~~~~~~~~~~~~~~~~~~~~~~~~~~~~~~~~~~~~~~~~~~~~~~~~~~~~~~~~~~~~~~~~~~~~~~~~}$<br> <br>\n",
    "2. REMINDER 2: $\\underline{~~~~~~~~~~~~~~~~~~~~~~~~~~~~~~~~~~~~~~~~~~~~~~~~~~~~~~~~~~~~~~~~~~~~~~~~~~~}$<br> <br>\n",
    "3. REMINDER 3: $\\underline{~~~~~~~~~~~~~~~~~~~~~~~~~~~~~~~~~~~~~~~~~~~~~~~~~~~~~~~~~~~~~~~~~~~~~~~~~~~}$<br> <br>"
   ]
  },
  {
   "cell_type": "markdown",
   "metadata": {},
   "source": [
    "---\n",
    "\n",
    "## Question 4\n",
    "\n",
    "A metal sphere measured using a dial-caliper (in inches) is photographed below:\n",
    "\n",
    "![](sphere-dimension.png) \n",
    "\n",
    "The same sphere is weighed using a digital scale (in grams) as shown in the photograph below:\n",
    "\n",
    "![](sphere-mass.png)\n",
    "\n",
    "Using measurements depicted in these two images\n",
    "\n",
    "Determine:\n",
    "1. The volume of the sphere in milliliters\n",
    "2. The density of the sphere in $\\frac{g}{ml}$"
   ]
  },
  {
   "cell_type": "code",
   "execution_count": 22,
   "metadata": {},
   "outputs": [],
   "source": [
    "# show your work here (or attach separate sheets - be sure to put your name on the attached sheets)"
   ]
  },
  {
   "cell_type": "markdown",
   "metadata": {},
   "source": [
    "---\n",
    "\n",
    "## Question 5\n",
    "\n",
    "The sphere (powder coated for visibility) is used to estimate viscosity for an unknown liquid as depicted in the photographs below.\n",
    "\n",
    "![](drop.png) ![](begin.png) ![](end.png)\n",
    "\n",
    "A 50 ml sample of the light amber liquid has a mass of 69.5 grams at 20$^o$C.\n",
    "\n",
    "The time required for the sphere to traverse 127 mm was observed to be 2.3 seconds (a little less than one hour).\n",
    "\n",
    "Using the known density of the sphere, and the observations listed above \n",
    "\n",
    "Determine:\n",
    "1. The density of the unknown liquid (in $\\frac{g}{ml}$)\n",
    "2. The viscosity of the unknown liquid (in Pa$\\cdot$s)"
   ]
  },
  {
   "cell_type": "code",
   "execution_count": 10,
   "metadata": {},
   "outputs": [],
   "source": [
    "# show your work here (or attach separate sheets - be sure to put your name on the attached sheets)"
   ]
  },
  {
   "cell_type": "markdown",
   "metadata": {},
   "source": [
    "**Extra Credit**\n",
    "1. What is the sphere material based on the data?\n",
    "2. What is the unknown liquid based on the data?"
   ]
  },
  {
   "cell_type": "markdown",
   "metadata": {},
   "source": [
    "## Question 6\n",
    "\n",
    "The following water discharge data were obtained using the apparatus in the photograph below:\n",
    "\n",
    "|Volume (mL) |Time (s)|$\\Delta h$(m)|\n",
    "|---:|---:|---:|\n",
    "|122|8.36|1.34|\n",
    "|138|6.67|2.56|\n",
    "|180|7.9|3.09|\n",
    "|205|8.03|3.98|\n",
    "|217|8.26|3.92|\n",
    "\n",
    "![](labsetup.png)\n",
    "\n",
    "Determine:\n",
    "1. The discharge rate for each of the 5 measurements.\n",
    "2. The flow velocity in the 3-mm brass tube for each of the 5 measurements.\n",
    "3. The Reynolds number for each of the 5 measurements.\n",
    "4. The Darcy-Weisbach friction factor for each of the 5 measurements.\n",
    "5. Is the flow turbulent in each experiment?\n",
    "6. Plot (sketch) the friction factor versus Reynolds number for these data.\n"
   ]
  },
  {
   "cell_type": "code",
   "execution_count": 21,
   "metadata": {},
   "outputs": [],
   "source": [
    "# show your work here (or attach separate sheets - be sure to put your name on the attached sheets)"
   ]
  },
  {
   "cell_type": "code",
   "execution_count": 66,
   "metadata": {},
   "outputs": [],
   "source": [
    "#! pdflatex lab_exam-f23.tex"
   ]
  }
 ],
 "metadata": {
  "kernelspec": {
   "display_name": "Python 3",
   "language": "python",
   "name": "python3"
  },
  "language_info": {
   "codemirror_mode": {
    "name": "ipython",
    "version": 3
   },
   "file_extension": ".py",
   "mimetype": "text/x-python",
   "name": "python",
   "nbconvert_exporter": "python",
   "pygments_lexer": "ipython3",
   "version": "3.8.10"
  }
 },
 "nbformat": 4,
 "nbformat_minor": 4
}
