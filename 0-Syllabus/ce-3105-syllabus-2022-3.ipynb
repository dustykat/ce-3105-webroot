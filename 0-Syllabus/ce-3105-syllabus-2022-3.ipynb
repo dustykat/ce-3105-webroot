{
 "cells": [
  {
   "cell_type": "markdown",
   "metadata": {},
   "source": [
    "# CE 3105 Mechanics of Fluids Laboratory\n",
    "\n",
    "## Course Catalog Description: \n",
    "\n",
    "(1) Mechanics of Fluids Laboratory. Prerequisite: CE 3305. Experimental studies of fluid behavior.\n",
    "\n",
    "\n",
    "## Prerequisites: \n",
    "CE 3305 or equivalent"
   ]
  },
  {
   "cell_type": "markdown",
   "metadata": {},
   "source": [
    "<!-- ## COVID-19 Important Guidelines:\n",
    "* If Texas Tech University campus operations are required to change because of health concerns related to the COVID-19 pandemic, it is possible that this course will move to a fully online delivery format.  Should that be necessary, students will be advised of technical and/or equipment requirements, including remote proctoring software.  \n",
    "\n",
    "* Policy on absences resulting from illness: We anticipate that some students may have extended absences.  To avoid students feeling compelled to attend in-person class periods when having symptoms or feeling unwell, a standard policy is provided that holds students harmless for illness-related absences (see Section A below).\n",
    "\n",
    "\n",
    "### A. Illness-Based Absence Policy (Face-to-Face Classes)\n",
    "If at any time during the semester you are ill, in the interest of your own health and safety as well as the health and safety of your instructors and classmates, you are encouraged not to attend face-to-face class meetings or events.  Please review the steps outlined below that you should follow to ensure your absence for illness will be excused.  These steps also apply to not participating in synchronous online class meetings if you feel too ill to do so and missing specified assignment due dates in asynchronous online classes because of illness.\n",
    "\n",
    "1. If you are ill and think the symptoms might be COVID-19-related:\n",
    "\n",
    "    1. Call Student Health Services at 806.743.2848 or your health care provider.  During after-hours and on weekends, contact TTU COVID-19 Helpline at TBD.\n",
    "    2. Self-report as soon as possible using the Dean of Students COVID-19 webpage. This website has specific directions about how to upload documentation from a medical provider and what will happen if your illness renders you unable to participate in classes for more than one week.\n",
    "    3. If your illness is determined to be COVID-19-related, all remaining documentation and communication will be handled through the Office of the Dean of Students, including notification of your instructors of the time you may be absent from and may return to classes.\n",
    "    4. If your illness is determined not to be COVID-19-related, please follow steps 2.a-d below.\n",
    "\n",
    "\n",
    "2. If you are ill and can attribute your symptoms to something other than COVID-19:\n",
    "\n",
    "    1. If your illness renders you unable to attend face-to-face classes, participate in synchronous online classes, or miss specified assignment due dates in asynchronous online classes, you are encouraged to contact either Student Health Services at 806.743.2848 or your health care provider.  Note that Student Health Services and your own and other health care providers may arrange virtual visits.\n",
    "    2. During the health provider visit, request a “return to school” note.\n",
    "    3. E-mail the instructor a picture of that note.\n",
    "    4. Return to class by the next class period after the date indicated on your note.\n",
    "\n",
    "Following the steps outlined above helps to keep your instructors informed about your absences and ensures your absence or missing an assignment due date because of illness will be marked excused.  You will still be responsible to complete within a week of returning to class any assignments, quizzes, or exams you miss because of illness.\n",
    "\n",
    "### B. Illness-Based Absence Policy (Telepresence/On-Line Classes)\n",
    "Same as above with respect potential to infect others; go to a health care provider if you are ill.  Telepresence courses are recorded and will be available on TTU MediaSite and/or YouTube (unlisted).  Exercises, Quizzes, and Examinations are all administered by a Learning Management System (Blackboard) and students need to allow enough time to complete and upload their work.  Due date adjustments/late submits on case-by-case basis; documentation required as in subsection **A** above. -->"
   ]
  },
  {
   "cell_type": "markdown",
   "metadata": {},
   "source": [
    "## Course Sections\n",
    "Lesson time, days, and location: \n",
    "\n",
    "1. Section 301; CRN #####; 0900-1150 M ; CE ###\n",
    "2. Section 303; CRN #####; 1200-1450 M ; CE ###\n",
    "3. Section 302; CRN #####; 1200-1450 W ; CE ###\n",
    "4. Section 304; CRN #####; 1500-1750 F ; CE ###"
   ]
  },
  {
   "cell_type": "markdown",
   "metadata": {},
   "source": [
    "## Course Instructor:\n",
    "\n",
    "Instructor: Theodore G. Cleveland, Ph.D., P.E., M. ASCE, F. EWRI\n",
    "\n",
    "Email: theodore.cleveland@ttu.edu  (put CE 3105 in subject line for email related to this class)\n",
    "\n",
    "Office location: CECE 203F\n",
    "\n",
    "Office hours: TBD "
   ]
  },
  {
   "cell_type": "markdown",
   "metadata": {},
   "source": [
    "## Teaching Assistant:\n",
    "\n",
    "Teaching Assistant: Lorena Albuquerque Zanandreis\n",
    "\n",
    "Email : lzanandr@ttu.edu (put CE 3105 in subject line for email related to this class)\n",
    "\n",
    "Office location: TBD\n",
    "\n",
    "Office hours: TBD"
   ]
  },
  {
   "cell_type": "markdown",
   "metadata": {},
   "source": []
  },
  {
   "cell_type": "markdown",
   "metadata": {},
   "source": []
  },
  {
   "cell_type": "markdown",
   "metadata": {},
   "source": [
    "## Textbook(s): \n",
    "Gupta, R.S., 2017. Hydrology and Hydraulic Systems, Waveland Press, ISBN 10: 1-4786-3091-4; ISBN 13: 978-1-4786-3091-3, 888p. <br>\n",
    "[Waveland Press - purchase](https://www.waveland.com/browse.php?t=384)<br>\n",
    "[Amazon - purchase or rent](https://www.amazon.com/Hydrology-Hydraulic-Systems-Fourth-Gupta-dp-1478630914/dp/1478630914/ref=dp_ob_title_bk)<br>\n",
    "\n",
    "[Supplimental Readings](http://54.243.252.9/ce-3354-webroot/3-Readings/) are stored on the class server.  Many are linked below in the schedule; However if you browse, you will need to open the target files to see the topic."
   ]
  },
  {
   "cell_type": "markdown",
   "metadata": {},
   "source": [
    "## Course Objectives: \n",
    "Draw the student's attention the behavior of real fluids and to  expose  students  to  the  experimental  method.    The  class  will  also  improve  technical  writing skills and prepare students for the fluid mechanics section of the FE Exam. This course emphasizes collaboration through group work, and as such, a portion of the course grade will be based upon peer assessment. "
   ]
  },
  {
   "cell_type": "markdown",
   "metadata": {},
   "source": [
    "## Knowledge, Skills, Abilities (KSA) :\n",
    "During this course the student will\n",
    "1. Use measured and tabulated fluid properties with correct units to solve fluid problems. \n",
    "2. Solve manometer problems through application of fundamental equation of fluid statics. \n",
    "3. Determine the pressures, and forces and their line of action, for a fluid at rest on plane and curved surfaces. 4. Identify a control volume. \n",
    "5. Be able to apply the conservation of mass principle to a control volume. \n",
    "6. Be able to apply the conservation of energy principle to a control volume. \n",
    "7. Be able to apply the conservation of momentum principle to a control volume. \n",
    "8. Solve channel transitions (width/bed level changes) in open channel flow problems. \n",
    "9. Observe the difference between the behavior of a real and a theoretical fluid. "
   ]
  },
  {
   "cell_type": "markdown",
   "metadata": {},
   "source": [
    "## ABET Student Outcomes\n",
    "* Engineering:\n",
    "    1. An ability to identify, formulate, and solve complex engineering problems by applying principles of engineering, science, and mathematics.\n",
    "    2. An ability to acquire and apply new knowledge as needed, using appropriate learning strategies. \n",
    " "
   ]
  },
  {
   "cell_type": "markdown",
   "metadata": {},
   "source": [
    "## Resources/Tools\n",
    "\n",
    "Computational tools equivalent to those used in ENGR 1330 are expected.  Professional software is used in the course; these are downloaded from the original sources (USGS and COE)\n",
    "\n",
    "### Hardware Requirements\n",
    "The college of engineering has specific laptop requirements for courses that are listed at https://www.depts.ttu.edu/coe/dean/engineeringitservices/buyingtherightcomputer.php\n",
    "\n",
    "A minimal AWS Lightsail Instance (use Windows Server 2000 template; lowest resource provision tier; AWS RDP client, or download and install own RDP client) is sufficient to run the course software if you are incapable of installation onto your own laptop.\n",
    "\n",
    "### Learning Management System\n",
    "Blackboard(BB) is used as the learning management system (LMS) for this class and all exercises are to be uploaded to BB.  Late submissions are accepted, but scores are be reduced by at least 50%. \n",
    "\n",
    "### Instructor Notes \n",
    "The instructor notes are located at [http://54.243.252.9/ce-3354-webroot/ce3354book/_build/html/intro.html](http://54.243.252.9/ce-3354-webroot/ce3354book/_build/html/intro.html)"
   ]
  },
  {
   "cell_type": "code",
   "execution_count": 11,
   "metadata": {},
   "outputs": [
    {
     "data": {
      "text/html": [
       "<style> table {margin-left: 0 !important;} </style>\n"
      ],
      "text/plain": [
       "<IPython.core.display.HTML object>"
      ]
     },
     "metadata": {},
     "output_type": "display_data"
    }
   ],
   "source": [
    "%%html\n",
    "<style> table {margin-left: 0 !important;} </style>"
   ]
  },
  {
   "cell_type": "markdown",
   "metadata": {},
   "source": [
    "## Course Schedule ##"
   ]
  },
  {
   "cell_type": "markdown",
   "metadata": {},
   "source": [
    "|date|topic|readings|homework|\n",
    "|:---|:---|:---|:---|\n",
    "|21-28 Aug 2022|Week 1 - No Labs (Partial Week)|Link 2 Syllabus||\n",
    "|29 Aug - 3 Sep 22|Week 2 - Introduction <br> - Laboratory Safety <br> - Team Assignments <br> - Lab Reports|- reading link to lab1||\n",
    "|5-11 Sep 2022|Week 3 - No Labs (Labor Day)|Link 2 Syllabus|- [Online Safety Training](https://www.depts.ttu.edu/ehs/Training/index.php)|\n",
    "|12-18 Sep 2022|Week 4 - Fluid Properties <br> - Syllabus <br> - Team Assignments |- reading link||\n",
    "|19-25 Sep 2022|Week 5 - No Labs (Job Fair)|||\n",
    "|26 Sep - 2 Oct 2022|Week 6 - Displacement  <br> - Archimedes Principle <br> - Bouyancy |- reading link||\n",
    "|3-9 Oct 2022|Week 7 - Flow Measurement <br> - Syllabus <br> - Team Assignments |- reading link||\n",
    "|10-16 Oct 2022|Week 8 - Friction Loss in a Pipe <br> - Syllabus <br> - Team Assignments |- reading link||\n",
    "|17-23 Oct 2022|Week 9 - Fitting Losses in a Pipe Network <br> - Syllabus <br> - Team Assignments |- reading link||\n",
    "|24-30 Oct 2022|Week 10 - Momentum Transfer <br> - Jet Impact on a Plate <br> - Team Assignments |- reading link||\n",
    "|31 Oct - 6 Nov 2022|Week 11 - Pump Performance <br> - Syllabus <br> - Team Assignments |- reading link||\n",
    "|7-13 Nov 2022|Week 12 - Friction Losses in an Open Channel <br> - Syllabus <br> - Team Assignments |- reading link||\n",
    "|14-20 Nov 2022|Week 13 <br> - Syllabus <br> - Team Assignments |- reading link||\n",
    "|21-27 Nov 2022|Week 14<br> - Syllabus <br> - Team Assignments |- reading link||\n",
    "|28 Nov - 4 Dec 2022||||\n",
    "|5-10 Dec||||"
   ]
  },
  {
   "cell_type": "markdown",
   "metadata": {},
   "source": [
    "---\n",
    "## Course Assessment and Grading Criteria:\n",
    "There will be 20 homework assignments, five tests, and a final project report and presentation for this course.  \n",
    "<strong>Late</strong> assignments will be scored at 50% reduced value \n",
    "\n",
    "Grades will be based on the following components; weighting is approximate:\n",
    "\n",
    "|Assessment Instrument|Weight(%)|\n",
    "|---|---:|\n",
    "|Test-1| 8|\n",
    "|Test-2|10|\n",
    "|Test-3|10|\n",
    "|Test-4|10|\n",
    "|Test-5|10|\n",
    "|Homework|30|\n",
    "|Final Project Report|10|\n",
    "|Final Project Presentation|10|\n",
    "|Overall total|100|\n",
    "\n",
    "Letter grades will be assigned using the following proportions:\n",
    "\n",
    "|Normalized Score Range|Letter Grade|\n",
    "|:-|---:|\n",
    "|≥ 90|A| \n",
    "|80-89|B|\n",
    "|70-79|C|\n",
    "|55-69|D|\n",
    "|< 55|F|\n",
    "\n",
    "<!-- Scores as Quantiles Ranges\n",
    "|81-100|A| \n",
    "|61-80|B|\n",
    "|41-60|C|\n",
    "|21-40|D|\n",
    "|0-20|F|\n",
    "-->\n"
   ]
  },
  {
   "cell_type": "markdown",
   "metadata": {},
   "source": [
    "## Classroom Policy:\n",
    "The following activities are not allowed in the classroom: Texting or talking on the cellphone or other electronic devices, and reading non-course related materials.\n",
    "### Telepresence (On-line) Courses\n",
    "Obviously electronic devices are vital; disrupting the conference is prohibited, please mute your microphone unless you have a question - consider typing your question into the chat window as well. Be aware of bandwidth issues and remember most lessons and laboratory sessions are recorded and posted on youtube.  Recording, editing, and rendering takes awhile, so expect 24-36 hour delay before video is available. "
   ]
  },
  {
   "cell_type": "markdown",
   "metadata": {},
   "source": [
    "---\n",
    "## ADA Statement: \n",
    "Any student who, because of a disability, may require special arrangements in order to meet the course requirements should contact the instructor as soon as possible to make necessary arrangements.  Students must present appropriate verification from Student Disability Services during the instructor's office hours.  Please note that instructors are not allowed to provide classroom accommodation to a student until appropriate verification from Student Disability Services has been provided.  For additional information, please contact Student Disability Services \n",
    "office in 335 West Hall or call 806.742.2405.\n",
    "\n",
    "## Academic Integrity Statement:\n",
    "Academic integrity is taking responsibility for one’s own class and/or course work, being individually accountable, and demonstrating intellectual honesty and ethical behavior.  Academic integrity is a personal choice to abide by the standards of intellectual honesty and responsibility.  Because education is a shared effort to achieve learning through the exchange of ideas, students, faculty, and staff have the collective responsibility to build mutual trust and respect.  Ethical behavior and independent thought are essential for the highest level of academic achievement, which then must be measured.  Academic achievement includes scholarship, teaching, and learning, all of which are shared endeavors.  Grades are a device used to quantify the successful accumulation of knowledge through learning.  Adhering to the standards of academic integrity ensures grades are earned honestly.  Academic integrity is the foundation upon which students, faculty, and staff build their educational and professional careers.  [Texas Tech University (“University”) Quality Enhancement Plan, Academic Integrity Task Force, 2010].\n",
    "\n",
    "## Religious Holy Day Statement: \n",
    "“Religious holy day” means a holy day observed by a religion whose places of worship are exempt from property taxation under Texas Tax Code §11.20.  A student who intends to observe a religious holy day should make that intention known to the instructor prior to the absence.  A student who is absent from classes for the observance of a religious holy day shall be allowed to take an examination or complete an assignment scheduled for that day within a reasonable time after the absence.  A student who is excused may not be penalized for the absence; however, the instructor may respond appropriately if the student fails to complete the assignment satisfactorily.\n",
    "\n",
    "## Ethical Conduct Policy:\n",
    "Cheating is prohibited, and the representation of the work of another person as your own will be grounds for receiving a failing grade in the course.\n",
    "\n",
    "**DISCRIMINATION, HARASSMENT, AND SEXUAL VIOLENCE STATEMENT:**\n",
    "Texas Tech University is committed to providing and strengthening an educational, working, and living environment where students, faculty, staff, and visitors are free from gender and/or sex discrimination of any kind. Sexual assault, discrimination, harassment, and other Title IX violations are not tolerated by the University. Report any incidents to the Office for Student Rights & Resolution, (806)-742-SAFE (7233) or file a report online at titleix.ttu.edu/students. Faculty and staff members at TTU are committed to connecting you to resources on campus. Some of these available resources are: TTU Student Counseling Center, 806- 742-3674, https://www.depts.ttu.edu/scc/(Provides confidential support on campus.) TTU 24-hour Crisis Helpline, 806-742-5555, (Assists students who are experiencing a mental health or interpersonal violence crisis. If you call the helpline, you will speak with a mental health counselor.) Voice of Hope Lubbock Rape Crisis Center, 806-763-7273, voiceofhopelubbock.org (24-hour hotline that provides support for survivors of sexual violence.) The Risk, Intervention, Safety and Education (RISE) Office, 806-742-2110,  https://www.depts.ttu.edu/rise/ (Provides a range of resources and support options focused on prevention education and student wellness.) Texas Tech Police Department, 806-742- 3931,http://www.depts.ttu.edu/ttpd/ (To report criminal activity that occurs on or near Texas Tech campus.)\n",
    "\n",
    "**CIVILITY IN THE CLASSROOM STATEMENT:**\n",
    "Texas Tech University is a community of faculty, students, and staff that enjoys an expectation of cooperation, professionalism, and civility during the conduct of all forms of university business, including the conduct of student–student and student–faculty interactions in and out of the classroom. Further, the classroom is a setting in which an exchange of ideas and creative thinking should be encouraged and where intellectual growth and development are fostered. Students who disrupt this classroom mission by rude, sarcastic, threatening, abusive or obscene language and/or behavior will be subject to appropriate sanctions according to university policy. Likewise, faculty members are expected to maintain the highest standards of professionalism in all interactions with all constituents of the university.\n",
    "To ensure that you are fully engaged in class discussions and account team meetings during class time, you are expected to do the following:\n",
    "- Maintain the same level of civility and professionalism that would be expected in a face-to-face classroom setting.\n",
    "- Attend all classes regularly.\n",
    "- Log into the video conference on time and remain logged in for the duration of the class period.\n",
    "- Activate your camera so that you are visible to the instructor and other students in the class. If you have concerns about leaving your camera on (such as childcare obligations, privacy issues, or a particular circumstance during a class period), please talk to the instructor.\n",
    "- Refrain from engaging in non-class related activities during class time that create a distraction for other students in the class and/or limit your ability to engage in the course.\n",
    "Failure to meet these expectations may result in the following consequences:\n",
    "1. Being counted as absent for the class meeting.\n",
    "2. Not receiving credit for class participation for that class period.\n",
    "3. Other consequences as stipulated in the syllabus, Texas Tech Code of Student Conduct, or other university policy.\n",
    "Repeated failure to meet expectations (e.g., attendance, participation in class, etc.), in addition to the above consequences, may result in the one or more of the following consequences:\n",
    "1. Referral to the appropriate Associate Dean.\n",
    "2. Academic penalty, ranging from a warning to failure of the course.\n",
    "(www.depts.ttu.edu/ethics/matadorchallenge/ethicalprinciples.php).\n",
    "\n",
    "**LGBTQIA SUPPORT STATEMENT:**\n",
    "I identify as an ally to the lesbian, gay, bisexual, transgender, queer, intersex, and asexual (LGBTQIA) community, and I am available to listen and support you in an affirming manner. I can assist in connecting you with resources on campus to address problems you may face pertaining to sexual orientation and/or gender identity that could interfere with your success at Texas Tech. Please note that additional resources are available through the Office of LGBTQIA within the Center for Campus Life, Student Union Building Room 201, www.lgbtqia.ttu.edu, 806.742.5433.”\n",
    "\n",
    "Office of LGBTQIA, Student Union Building Room 201, www.lgbtqia.ttu.edu, 806.742.5433\n",
    "Within the Center for Campus Life, the Office serves the Texas Tech community through facilitation and leadership of programming and advocacy efforts. This work is aimed at strengthening the lesbian, gay, bisexual, transgender, queer, intersex, and asexual (LGBTQIA) community and sustaining an inclusive campus that welcomes people of all sexual orientations, gender identities, and gender expressions.\n"
   ]
  },
  {
   "cell_type": "code",
   "execution_count": null,
   "metadata": {},
   "outputs": [],
   "source": []
  }
 ],
 "metadata": {
  "kernelspec": {
   "display_name": "Python 3",
   "language": "python",
   "name": "python3"
  },
  "language_info": {
   "codemirror_mode": {
    "name": "ipython",
    "version": 3
   },
   "file_extension": ".py",
   "mimetype": "text/x-python",
   "name": "python",
   "nbconvert_exporter": "python",
   "pygments_lexer": "ipython3",
   "version": "3.8.10"
  }
 },
 "nbformat": 4,
 "nbformat_minor": 4
}
