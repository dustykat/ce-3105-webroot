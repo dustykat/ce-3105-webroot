{
 "cells": [
  {
   "cell_type": "code",
   "execution_count": 4,
   "metadata": {},
   "outputs": [
    {
     "name": "stdout",
     "output_type": "stream",
     "text": [
      "/home/webroot/ce-3105-webroot\n"
     ]
    }
   ],
   "source": [
    "! pwd"
   ]
  },
  {
   "cell_type": "code",
   "execution_count": 21,
   "metadata": {},
   "outputs": [
    {
     "name": "stdout",
     "output_type": "stream",
     "text": [
      "\n",
      "\u001b[92m===============================================================================\u001b[0m\n",
      "\n",
      "Your _build directory has been emptied except for .jupyter_cache\n",
      "\n",
      "\u001b[92m===============================================================================\u001b[0m\n",
      "\n"
     ]
    }
   ],
   "source": [
    "! jupyter-book clean ce3105notes"
   ]
  },
  {
   "cell_type": "code",
   "execution_count": 13,
   "metadata": {},
   "outputs": [
    {
     "name": "stdout",
     "output_type": "stream",
     "text": [
      "\u001b[32m\u001b[1mRunning Jupyter-Book v1.0.2\u001b[0m\n",
      "\u001b[34m\u001b[1mSource Folder: \u001b[0m/home/webroot/ce-3105-webroot/ce3105notes\n",
      "\u001b[34m\u001b[1mConfig Path: \u001b[0m/home/webroot/ce-3105-webroot/ce3105notes/_config.yml\n",
      "\u001b[34m\u001b[1mOutput Path: \u001b[0m/home/webroot/ce-3105-webroot/ce3105notes/_build/html\n",
      "\u001b[01mRunning Sphinx v7.4.7\u001b[39;49;00m\n",
      "\u001b[01mloading translations [en]... \u001b[39;49;00mdone\n",
      "[etoc] Changing master_doc to 'intro'\n",
      "\u001b[01mloading pickled environment... \u001b[39;49;00mchecking bibtex cache... up to date\n",
      "done\n",
      "\u001b[01mmyst v2.0.0:\u001b[39;49;00m MdParserConfig(commonmark_only=False, gfm_only=False, enable_extensions={'tasklist', 'linkify', 'dollarmath', 'colon_fence', 'substitution'}, disable_syntax=[], all_links_external=False, url_schemes=('mailto', 'http', 'https'), ref_domains=None, fence_as_directive=set(), number_code_blocks=[], title_to_header=False, heading_anchors=0, heading_slug_func=None, html_meta={}, footnote_transition=True, words_per_minute=200, substitutions={}, linkify_fuzzy_links=True, dmath_allow_labels=True, dmath_allow_space=True, dmath_allow_digits=True, dmath_double_inline=False, update_mathjax=True, mathjax_classes='tex2jax_process|mathjax_process|math|output_area', enable_checkboxes=False, suppress_warnings=[], highlight_code_blocks=True)\n",
      "\u001b[01mmyst-nb v1.1.1:\u001b[39;49;00m NbParserConfig(custom_formats={}, metadata_key='mystnb', cell_metadata_key='mystnb', kernel_rgx_aliases={}, eval_name_regex='^[a-zA-Z_][a-zA-Z0-9_]*$', execution_mode='cache', execution_cache_path='', execution_excludepatterns=[], execution_timeout=-1, execution_in_temp=False, execution_allow_errors=False, execution_raise_on_error=False, execution_show_tb=False, merge_streams=False, render_plugin='default', remove_code_source=False, remove_code_outputs=False, code_prompt_show='Show code cell {type}', code_prompt_hide='Hide code cell {type}', number_source_lines=False, output_stderr='show', render_text_lexer='myst-ansi', render_error_lexer='ipythontb', render_image_options={}, render_figure_options={}, render_markdown_format='commonmark', output_folder='build', append_css=True, metadata_to_fm=False)\n",
      "Using jupyter-cache at: /home/webroot/ce-3105-webroot/ce3105notes/_build/.jupyter_cache\n",
      "\u001b[01msphinx-multitoc-numbering v0.1.3:\u001b[39;49;00m Loaded\n",
      "\u001b[01mbuilding [mo]: \u001b[39;49;00mtargets for 0 po files that are out of date\n",
      "\u001b[01mwriting output... \u001b[39;49;00m\n",
      "\u001b[01mbuilding [html]: \u001b[39;49;00mtargets for 2 source files that are out of date\n",
      "\u001b[01mupdating environment: \u001b[39;49;00m1 added, 3 changed, 0 removed\n",
      "/home/webroot/ce-3105-webroot/ce3105notes/lessons/laboratory8/Lab 8 - Guidelines.ipynb: Executing notebook using local CWD [mystnb]\n",
      "/home/webroot/ce-3105-webroot/ce3105notes/lessons/laboratory8/Lab 8 - Guidelines.ipynb: Executed notebook in 3.07 seconds [mystnb]\n",
      "/home/webroot/ce-3105-webroot/ce3105notes/lessons/laboratory8/Lab 8 - Guidelines.ipynb: Cached executed notebook: ID=18 [mystnb]\n",
      "/home/webroot/ce-3105-webroot/ce3105notes/lessons/laboratory8/laboratory8.ipynb: Using cached notebook: ID=10 [mystnb]\n",
      "/home/webroot/ce-3105-webroot/ce3105notes/lessons/laboratory8/laboratory8_sample_protocol.ipynb: Executing notebook using local CWD [mystnb]\n",
      "/home/webroot/ce-3105-webroot/ce3105notes/lessons/laboratory8/laboratory8_sample_protocol.ipynb: Executed notebook in 1.32 seconds [mystnb]\n",
      "/home/webroot/ce-3105-webroot/ce3105notes/lessons/laboratory8/laboratory8_sample_protocol.ipynb: Cached executed notebook: ID=19 [mystnb]\n",
      "\n",
      "\u001b[91m/home/webroot/ce-3105-webroot/ce3105notes/lessons/laboratory8/Lab 8 - Guidelines.ipynb:10002: WARNING: Document headings start at H2, not H1 [myst.header]\u001b[39;49;00m\n",
      "\u001b[91m/home/webroot/ce-3105-webroot/ce3105notes/lessons/laboratory8/Lab 8 - Guidelines.ipynb:20002: WARNING: Document headings start at H2, not H1 [myst.header]\u001b[39;49;00m\n",
      "\u001b[91m/home/webroot/ce-3105-webroot/ce3105notes/lessons/laboratory8/Lab 8 - Guidelines.ipynb:20046: WARNING: Document headings start at H2, not H1 [myst.header]\u001b[39;49;00m\n",
      "\u001b[01mlooking for now-outdated files... \u001b[39;49;00mnone found\n",
      "\u001b[01mpickling environment... \u001b[39;49;00mdone\n",
      "\u001b[01mchecking consistency... \u001b[39;49;00m\u001b[91m/home/webroot/ce-3105-webroot/ce3105notes/lessons/laboratory1/Laboratory1_Background.md: WARNING: document isn't included in any toctree\u001b[39;49;00m\n",
      "\u001b[91m/home/webroot/ce-3105-webroot/ce3105notes/lessons/laboratory1/Laboratory1_Procedure.md: WARNING: document isn't included in any toctree\u001b[39;49;00m\n",
      "\u001b[91m/home/webroot/ce-3105-webroot/ce3105notes/lessons/laboratory1/Laboratory1_Protocol.md: WARNING: document isn't included in any toctree\u001b[39;49;00m\n",
      "\u001b[91m/home/webroot/ce-3105-webroot/ce3105notes/lessons/laboratory1/Laboratory1_Sample_Report.md: WARNING: document isn't included in any toctree\u001b[39;49;00m\n",
      "\u001b[91m/home/webroot/ce-3105-webroot/ce3105notes/lessons/laboratory1/laboratory1-Copy1.ipynb: WARNING: document isn't included in any toctree\u001b[39;49;00m\n",
      "\u001b[91m/home/webroot/ce-3105-webroot/ce3105notes/lessons/laboratory1/laboratory1_restructured.md: WARNING: document isn't included in any toctree\u001b[39;49;00m\n",
      "\u001b[91m/home/webroot/ce-3105-webroot/ce3105notes/lessons/laboratory4/Lab 4 - solution.ipynb: WARNING: document isn't included in any toctree\u001b[39;49;00m\n",
      "\u001b[91m/home/webroot/ce-3105-webroot/ce3105notes/lessons/laboratory5/Lab 5 - solution.ipynb: WARNING: document isn't included in any toctree\u001b[39;49;00m\n",
      "\u001b[91m/home/webroot/ce-3105-webroot/ce3105notes/lessons/laboratory6/Lab 6 - solution.ipynb: WARNING: document isn't included in any toctree\u001b[39;49;00m\n",
      "\u001b[91m/home/webroot/ce-3105-webroot/ce3105notes/lessons/laboratory8/Lab 8 - Guidelines.ipynb: WARNING: document isn't included in any toctree\u001b[39;49;00m\n",
      "done\n",
      "\u001b[01mpreparing documents... \u001b[39;49;00mdone\n",
      "\u001b[01mcopying assets... \u001b[39;49;00m\n",
      "\u001b[01mcopying static files... \u001b[39;49;00mdone\n",
      "\u001b[01mcopying extra files... \u001b[39;49;00mdone\n",
      "\u001b[01mcopying assets: \u001b[39;49;00mdone\n",
      "\u001b[2K\u001b[01mwriting output... \u001b[39;49;00m[100%] \u001b[32mlessons/laboratory8/laboratory8_sample_protocol\u001b[39;49;00m\n",
      "\u001b[01mgenerating indices... \u001b[39;49;00mgenindex done\n",
      "\u001b[01mwriting additional pages... \u001b[39;49;00msearch done\n",
      "\u001b[2K\u001b[01mcopying images... \u001b[39;49;00m[100%] \u001b[33mlessons/laboratory8/hydjumppicture.png\u001b[39;49;00m00m;00mce107aa43370d02ac0f59144b6ece3b.png\u001b[39;49;00m\n",
      "\u001b[01mdumping search index in English (code: en)... \u001b[39;49;00mdone\n",
      "\u001b[01mdumping object inventory... \u001b[39;49;00mdone\n",
      "\u001b[01mbuild succeeded, 13 warnings.\u001b[39;49;00m\n",
      "\n",
      "The HTML pages are in ce3105notes/_build/html.\n",
      "\n",
      "\u001b[92m===============================================================================\u001b[0m\n",
      "\n",
      "Finished generating HTML for book.\n",
      "Your book's HTML pages are here:\n",
      "    ce3105notes/_build/html/\n",
      "You can look at your book by opening this file in a browser:\n",
      "    ce3105notes/_build/html/index.html\n",
      "Or paste this line directly into your browser bar:\n",
      "    file:///home/webroot/ce-3105-webroot/ce3105notes/_build/html/index.html            \n",
      "\n",
      "\u001b[92m===============================================================================\u001b[0m\n",
      "\n"
     ]
    }
   ],
   "source": [
    "! jupyter-book build ce3105notes"
   ]
  },
  {
   "cell_type": "code",
   "execution_count": null,
   "metadata": {},
   "outputs": [],
   "source": []
  }
 ],
 "metadata": {
  "kernelspec": {
   "display_name": "Python Common Environment",
   "language": "python",
   "name": "python-my-env"
  },
  "language_info": {
   "codemirror_mode": {
    "name": "ipython",
    "version": 3
   },
   "file_extension": ".py",
   "mimetype": "text/x-python",
   "name": "python",
   "nbconvert_exporter": "python",
   "pygments_lexer": "ipython3",
   "version": "3.10.12"
  }
 },
 "nbformat": 4,
 "nbformat_minor": 4
}
