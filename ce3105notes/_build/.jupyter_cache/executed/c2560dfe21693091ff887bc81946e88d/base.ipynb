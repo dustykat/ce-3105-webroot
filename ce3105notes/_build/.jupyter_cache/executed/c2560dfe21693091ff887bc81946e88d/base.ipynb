{
 "cells": [
  {
   "cell_type": "code",
   "execution_count": 1,
   "id": "cd9a40bc-7888-4e65-b899-7fd965eb2804",
   "metadata": {},
   "outputs": [
    {
     "name": "stdout",
     "output_type": "stream",
     "text": [
      "Flow rate by beaker time to fill =  0.0726  liters/second\n"
     ]
    }
   ],
   "source": [
    "def beakerflow(volume,time2fill):\n",
    "    beakerflow = volume/time2fill\n",
    "    return beakerflow\n",
    "\n",
    "volume = 2 #liters\n",
    "time2fill = 27.55 #seconds\n",
    "\n",
    "print(\"Flow rate by beaker time to fill = \",round(beakerflow(volume,time2fill),4),\" liters/second\")"
   ]
  },
  {
   "cell_type": "code",
   "execution_count": 2,
   "id": "8c975115-aa11-45e0-82b9-64b5492eb80d",
   "metadata": {},
   "outputs": [
    {
     "name": "stdout",
     "output_type": "stream",
     "text": [
      "Meter Constant =  0.0023  LPS/count\n"
     ]
    }
   ],
   "source": [
    "def meterconstant(flowrate,counts):\n",
    "    meterconstant = flowrate/float(counts)\n",
    "    return meterconstant\n",
    "\n",
    "flowrate = 0.0726 #LPS\n",
    "counts = 31 #counts/dwell time\n",
    "\n",
    "print(\"Meter Constant = \",round(meterconstant(flowrate,counts),4),\" LPS/count\")"
   ]
  },
  {
   "cell_type": "code",
   "execution_count": 3,
   "id": "a3bd1561-bb2a-45c1-9be1-0e0abad82b46",
   "metadata": {},
   "outputs": [
    {
     "name": "stdout",
     "output_type": "stream",
     "text": [
      "Venturi Flow Rate  1.0082  LPS \n"
     ]
    }
   ],
   "source": [
    "def venturi(cd,a1,a2,h1,h2,g):\n",
    "    import math\n",
    "    venturi = cd*a2*((2*g)/(1-(a2**2)/(a1**2)))*math.sqrt(h1-h2)\n",
    "    return venturi\n",
    "\n",
    "cventuri = 1.0\n",
    "area1 = 530.9 #mm^2\n",
    "area2 = 201.1 #mm^2\n",
    "h1 = 158 #mm\n",
    "h2 = 110 #mm\n",
    "g = 9.800 #m/s^2\n",
    "area1 = area1/1000/1000\n",
    "area2 = area2/1000/1000\n",
    "h1 = h1/1000\n",
    "h2 = h2/1000\n",
    "\n",
    "print(\"Venturi Flow Rate \",round(1000*venturi(cventuri,area1,area2,h1,h2,g),4),\" LPS \")"
   ]
  },
  {
   "cell_type": "code",
   "execution_count": 4,
   "id": "fa715a23-641f-42e8-9dc1-5f8eba098f12",
   "metadata": {},
   "outputs": [
    {
     "name": "stdout",
     "output_type": "stream",
     "text": [
      "Orifice Flow Rate  2.6821  LPS \n"
     ]
    }
   ],
   "source": [
    "def orifice(cd,a1,a2,h1,h2,g):\n",
    "    import math\n",
    "    orifice = cd*a1*((2*g)/(1-(a2**2)/(a1**2)))*math.sqrt(h1-h2)\n",
    "    return orifice\n",
    "\n",
    "corifice = 1.0\n",
    "area1 = 2116 #mm^2\n",
    "area2 = 314.16 #mm^2\n",
    "h1 = 306 #mm\n",
    "h2 = 302 #mm\n",
    "g = 9.800 #m/s^2\n",
    "area1 = area1/1000/1000\n",
    "area2 = area2/1000/1000\n",
    "h1 = h1/1000\n",
    "h2 = h2/1000\n",
    "\n",
    "print(\"Orifice Flow Rate \",round(1000*orifice(corifice,area1,area2,h1,h2,g),4),\" LPS \")"
   ]
  },
  {
   "cell_type": "code",
   "execution_count": 5,
   "id": "f8dc43fa-58d1-461c-b192-128b718f3c3b",
   "metadata": {},
   "outputs": [
    {
     "name": "stdout",
     "output_type": "stream",
     "text": [
      "Expansion Flow Rate  0.1984  LPS \n"
     ]
    }
   ],
   "source": [
    "def expansion(cd,a1,a2,h1,h2,g):\n",
    "    import math\n",
    "    expansion = cd*math.sqrt(2*g*abs(h1-h2))/((1/a1)-(1/a2))\n",
    "    return expansion\n",
    "\n",
    "cexpansion = 1.0\n",
    "area1 = 530.9 #mm^2\n",
    "area2 = 2116 #mm^2\n",
    "h1 = 306 #mm\n",
    "h2 = 302 #mm\n",
    "g = 9.800 #m/s^2\n",
    "area1 = area1/1000/1000\n",
    "area2 = area2/1000/1000\n",
    "h1 = h1/1000\n",
    "h2 = h2/1000\n",
    "\n",
    "print(\"Expansion Flow Rate \",round(1000*expansion(cexpansion,area1,area2,h1,h2,g),4),\" LPS \")"
   ]
  },
  {
   "cell_type": "code",
   "execution_count": 6,
   "id": "2890c607-d6d2-4bc7-9d8c-4057b3a3b0de",
   "metadata": {},
   "outputs": [
    {
     "name": "stdout",
     "output_type": "stream",
     "text": [
      "Cross Section Area =  314.159  sq.mm. \n"
     ]
    }
   ],
   "source": [
    "import math\n",
    "d = 20/1000\n",
    "area = 0.25*math.pi*d**2\n",
    "print(\"Cross Section Area = \",round(area*1000*1000,3),\" sq.mm. \")"
   ]
  }
 ],
 "metadata": {
  "kernelspec": {
   "display_name": "Python Common Environment",
   "language": "python",
   "name": "python-my-env"
  },
  "language_info": {
   "codemirror_mode": {
    "name": "ipython",
    "version": 3
   },
   "file_extension": ".py",
   "mimetype": "text/x-python",
   "name": "python",
   "nbconvert_exporter": "python",
   "pygments_lexer": "ipython3",
   "version": "3.10.12"
  }
 },
 "nbformat": 4,
 "nbformat_minor": 5
}