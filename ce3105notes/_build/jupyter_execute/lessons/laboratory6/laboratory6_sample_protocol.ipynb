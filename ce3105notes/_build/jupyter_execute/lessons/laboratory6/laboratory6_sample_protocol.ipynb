{
 "cells": [
  {
   "cell_type": "markdown",
   "metadata": {},
   "source": [
    "# Laboratory 6 Sample Protocol\n",
    "\n",
    "## Momentum Transfer in a Jet"
   ]
  },
  {
   "cell_type": "markdown",
   "metadata": {},
   "source": [
    "## Objectives\n",
    "- To demonstrate that the force on a vane is proportional to the rate of delivery of momentum\n",
    "- To show that you can predict the force on a vane from a combination of its surface shape and the properties of the jet directed at it"
   ]
  },
  {
   "cell_type": "markdown",
   "metadata": {},
   "source": [
    "## Safety considerations\n",
    "\n",
    "1. Don't drink the water!\n",
    "2. Don't come to lab intoxicated!\n",
    "3. Don't wear shorts, skirt. \n",
    "4. Don't wear sandals; shoes or boots (closed toe, Crocks don't count)\n",
    "5. What about electricity and water?\n",
    "6. What about moving water and your eyeballs?"
   ]
  },
  {
   "cell_type": "markdown",
   "metadata": {},
   "source": [
    "## Procedure\n",
    "\n",
    "**Flat Plate Vane**\n",
    "\n",
    "0. Install the Vane\n",
    "1. Ensure the weight beam is balanced at the zero position \n",
    "2. Start the hydraulic bench and adjust flow (work from high flow to low flow)\n",
    "3. Move the jockey weight until the beam balances again\n",
    "   - Record distance, y, from the zero position\n",
    "   - Record the flow rate using the hydraulic bench\n",
    "4. Change the hydraulic bench flow rate in relatively equal increments for 4 additional readings\n",
    "   - Record distance, y, from the zero position for each trial\n",
    "   - Record the flow rate using the hydraulic bench for each trial\n",
    "\n",
    "**Hemispherical Cup Vane**\n",
    "\n",
    "0. Install the Cup\n",
    "1. Ensure the weight beam is balanced at the zero position \n",
    "2. Start the hydraulic bench and adjust flow (work from high flow to low flow)\n",
    "3. Move the jockey weight until the beam balances again\n",
    "   - Record distance, y, from the zero position\n",
    "   - Record the flow rate using the hydraulic bench\n",
    "4. Change the hydraulic bench flow rate in relatively equal increments for 4 additional readings\n",
    "   - Record distance, y, from the zero position for each trial\n",
    "   - Record the flow rate using the hydraulic bench for each trial"
   ]
  },
  {
   "cell_type": "markdown",
   "metadata": {},
   "source": []
  },
  {
   "cell_type": "markdown",
   "metadata": {
    "jp-MarkdownHeadingCollapsed": true
   },
   "source": [
    "## Data Acquisition\n",
    "\n",
    "<!--![](variablelist.png)-->\n",
    "\n",
    "Follow the procedure above, be sure to record your trails in the tables below\n",
    "\n",
    "**Flat Plate**\n",
    "\n",
    "|Trial|Distance ($y$)|Volume ($ml$)|Time ($s$)|\n",
    "|:---|:---|:---|:---|\n",
    "|1||||\n",
    "|2||||\n",
    "|3||||\n",
    "|4||||\n",
    "|5||||\n",
    "\n",
    "**Hemispherical Cup**\n",
    "\n",
    "|Trial|Distance ($y$)|Volume ($ml$)|Time ($s$)|\n",
    "|:---|:---|:---|:---|\n",
    "|1||||\n",
    "|2||||\n",
    "|3||||\n",
    "|4||||\n",
    "|5||||\n"
   ]
  },
  {
   "cell_type": "markdown",
   "metadata": {},
   "source": [
    "## Data Analysis\n",
    "\n",
    "The table below contains some constants you will need to complete the analysis described below\n",
    "\n",
    "![](variablelist.png)\n",
    "\n",
    "<hr>\n",
    "\n",
    "**Flat Plate**\n",
    "1. Convert flow rate to mass flow rate, $\\dot m$\n",
    "2. Calculate the flow velocity, $u$\n",
    "3. Calculate $u_0$\n",
    "4. Calculate rate of delivery of momentum, $\\dot m u_0$\n",
    "5. Calculate force, $F$\n",
    "6. Create a plot of force, $F$ (y-axis) vs. rate of delivery of momentum, $\\dot m u_0$(x-axis)\n",
    "  - Create a trendline for the data points\n",
    "  - The slope of the trendline indicates the coefficient for theoretical force\n",
    "  \n",
    "|Trial|Discharge ($Q$)|Mass Flow ($\\dot m$)|Distance ($y$)|Velocity ($u$)|Velocity ($u_0$)|Momentum Flux ($\\dot m u_0$)|Force ($F$)|\n",
    "|:---|:---|:---|:---|:---|:---|:---|:---|\n",
    "|1||||||||\n",
    "|2||||||||\n",
    "|3||||||||\n",
    "|4||||||||\n",
    "|5||||||||\n",
    "\n",
    "<hr>\n",
    "  \n",
    "**Hemispherical Cup**\n",
    "1. Convert flow rate to mass flow rate, $\\dot m$\n",
    "2. Calculate the flow velocity, $u$\n",
    "3. Calculate $u_0$\n",
    "4. Calculate rate of delivery of momentum, $\\dot m u_0$\n",
    "5. Calculate force, $F$\n",
    "6. Create a plot of force, $F$ (y-axis) vs. rate of delivery of momentum, $\\dot m u_0$(x-axis)\n",
    "  - Create a trendline for the data points\n",
    "  - The slope of the trendline indicates the coefficient for theoretical force\n",
    "\n",
    "|Trial|Discharge ($Q$)|Mass Flow ($\\dot m$)|Distance ($y$)|Velocity ($u$)|Velocity ($u_0$)|Momentum Flux ($\\dot m u_0$)|Force ($F$)|\n",
    "|:---|:---|:---|:---|:---|:---|:---|:---|\n",
    "|1||||||||\n",
    "|2||||||||\n",
    "|3||||||||\n",
    "|4||||||||\n",
    "|5||||||||"
   ]
  },
  {
   "cell_type": "markdown",
   "metadata": {},
   "source": [
    "## Discussion/Interpretation\n",
    "\n",
    "1. What percentage of velocity compared to that exiting the nozzle is lost as the jet deflects from the Flat Plate Vane?\n",
    "2. What percentage of velocity compared to that exiting the nozzle is lost as the jet deflects from the Hemispherical Cup Vane?\n",
    "3. Compare the coefficient of theoretical force found using the plot in Calculations 6b with the given, typical values for the coefficient of theoretical force on a Flat Plate Vane\n",
    "  - Compare your values for each trial using difference or some other mathematical comparison.\n",
    "4. Compare the coefficient of theoretical force found using the plot in Calculations 6b with the given, typical values for the coefficient of theoretical force on a Hemispherical Cup Vane\n",
    "  - Compare your values for each trial using percentage difference or some other mathematical comparison\n",
    "5. If an Angled Plate Vane, with an angle of 300, was examined using Impact Jets, would you expect the coefficient of theoretical force to be higher or lower than the coefficients of theoretical force for Flat Plate and Hemispherical Cup Vanes?\n",
    "  - Justify your answer using data found in this experiment\n",
    "6. Which source of error do you think is most significant in your experi- ment, and why?\n",
    "7. Give an example of a real-life application of the principles and theories explored in this lab"
   ]
  },
  {
   "cell_type": "markdown",
   "metadata": {},
   "source": [
    "## Data Records\n",
    "\n",
    "Record your readings in the tables already provided."
   ]
  },
  {
   "cell_type": "code",
   "execution_count": null,
   "metadata": {},
   "outputs": [],
   "source": []
  }
 ],
 "metadata": {
  "kernelspec": {
   "display_name": "Python 3 (ipykernel)",
   "language": "python",
   "name": "python3"
  },
  "language_info": {
   "codemirror_mode": {
    "name": "ipython",
    "version": 3
   },
   "file_extension": ".py",
   "mimetype": "text/x-python",
   "name": "python",
   "nbconvert_exporter": "python",
   "pygments_lexer": "ipython3",
   "version": "3.10.12"
  }
 },
 "nbformat": 4,
 "nbformat_minor": 4
}