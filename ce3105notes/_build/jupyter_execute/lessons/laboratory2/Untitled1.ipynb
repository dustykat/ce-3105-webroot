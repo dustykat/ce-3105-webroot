{
 "cells": [
  {
   "cell_type": "markdown",
   "id": "e58ebd20-0a86-4454-9d62-7a788974cab8",
   "metadata": {},
   "source": [
    "# Scoring Rubric for Laboratory Reports\n",
    "\n",
    "1. Report Structure & Organization (20 Points)\n",
    "  - Title & Authors (2 pts): Clear and descriptive title with author names and team number.\n",
    "  - Objective (3 pts): Clearly stated purpose of the experiment.\n",
    "  - Introduction (5 pts): Provides context, relevant theory, and specific objectives.\n",
    "  - Materials & Methods (5 pts): Clearly describes the experimental setup and procedure in a logical sequence.\n",
    "  - References (5 pts): Properly formatted citations with relevant sources.\n",
    "    \n",
    "2. Clarity & Readability (15 Points)\n",
    "  - Writing Style (5 pts): Concise, professional, and free from major grammar/spelling errors.\n",
    "  - Logical Flow (5 pts): Information is structured logically, with clear transitions.\n",
    "  - Figures, Tables, & Graphs (5 pts): Well-labeled and properly referenced in the text.\n",
    "    \n",
    "3. Experimental Data & Analysis (35 Points)\n",
    "  - Data Collection (10 pts):\n",
    "  - Data is systematically recorded.\n",
    "  - Temperature measurements are included and noted.\n",
    "  - Numerical Accuracy (10 pts):\n",
    "  - Values should be within the correct order of magnitude.\n",
    "  - Literature values are referenced where necessary.\n",
    "  - Use of Equations & Calculations (10 pts):\n",
    "  - Correct application of equations (e.g., Archimedes’ Principle, hydrostatic force calculations).\n",
    "  - Sample calculations shown where applicable.\n",
    "  - Discussion of Uncertainty & Errors (5 pts):\n",
    "  - Identifies potential sources of error (e.g., instrument precision, experimental setup).\n",
    "    \n",
    "4. Interpretation of Results & Discussion (20 Points)\n",
    "  - Comparison to Theory (10 pts):\n",
    "  - Interpretation of findings aligns with theoretical expectations.\n",
    "  - Explanation of discrepancies, if any.\n",
    "  - Critical Thinking & Insights (5 pts):\n",
    "  - Highlights key learnings and possible experimental improvements.\n",
    "  - Temperature Considerations (5 pts):\n",
    "  - Acknowledges the effect of temperature on fluid properties (e.g., density of water).\n",
    "\n",
    "5. Conclusions (10 Points)\n",
    "  - Summarizes Key Findings (5 pts):\n",
    "  - Clearly summarizes experimental results and their significance.\n",
    "  - Addresses Objectives (5 pts):\n",
    "  - Directly relates conclusions back to the original research questions."
   ]
  },
  {
   "cell_type": "code",
   "execution_count": null,
   "id": "d5faf687-bb9e-4593-ab68-37a38d3c1ffc",
   "metadata": {},
   "outputs": [],
   "source": []
  }
 ],
 "metadata": {
  "kernelspec": {
   "display_name": "Python Common Environment",
   "language": "python",
   "name": "python-my-env"
  },
  "language_info": {
   "codemirror_mode": {
    "name": "ipython",
    "version": 3
   },
   "file_extension": ".py",
   "mimetype": "text/x-python",
   "name": "python",
   "nbconvert_exporter": "python",
   "pygments_lexer": "ipython3",
   "version": "3.10.12"
  }
 },
 "nbformat": 4,
 "nbformat_minor": 5
}