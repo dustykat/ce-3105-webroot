{
 "cells": [
  {
   "cell_type": "markdown",
   "id": "edb5e7ca-5608-47d8-a183-fba628c29a1e",
   "metadata": {},
   "source": [
    "# Lab 7A. Bilge Pump Performance\n",
    "\n",
    ":::{admonition} Course Website\n",
    "[http://54.243.252.9/ce-3105-webroot/](http://54.243.252.9/ce-3105-webroot/)\n",
    ":::\n",
    "\n",
    "This laboratory determines performance characteristics of a small bilge pump in various flow configurations."
   ]
  },
  {
   "cell_type": "markdown",
   "id": "0d551adf-dacd-477b-9ea2-a00a48cb8dd8",
   "metadata": {},
   "source": [
    "## Readings\n",
    "\n",
    "1. [Holman, J.P., (2012) Experimental Methods for Engineers, 8th Ed. (Chapters 5,6, and 10)](https://mech.at.ua/HolmanICS.pdf)\n",
    "\n",
    "\n",
    "**General Readings about Pumps**\n",
    "\n",
    "1. [Pump Selection](http://54.243.252.9/ce-3105-webroot/ce3105notes/lessons/laboratory7/PumpSelection.pdf)\n",
    "2. [Pump Suction Conditions](http://54.243.252.9/ce-3105-webroot/ce3105notes/lessons/laboratory7/PumpSuctionConditions.pdf)\n",
    "3. [Net Positive Suction Head](http://54.243.252.9/ce-3105-webroot/ce3105notes/lessons/laboratory7/NPSH-Explain.pdf)\n",
    "4. [Pumps and Lift Stations (excerpt from Water Systems Design)](http://54.243.252.9/ce-3105-webroot/ce3105notes/lessons/laboratory7/Lecture06.pdf)\n",
    "5. [Submersible Lift Stations Design (City of Houston Manual)](http://54.243.252.9/ce-3105-webroot/ce3105notes/lessons/laboratory7/2011_coh_design_manual_submersible_lift_stations.pdf)\n",
    "6. [FHWA Lift Station Design](http://54.243.252.9/ce-3105-webroot/ce3105notes/lessons/laboratory7/FHWA-NHI-01-007-LiftStationDesign.pdf)\n",
    "\n",
    "<!--9. [Laboratory 7 Example Report](http://54.243.252.9/ce-3105-webroot/2-Exercises/laboratory7/Goby7.pdf)-->"
   ]
  },
  {
   "cell_type": "markdown",
   "id": "8e987c00-bf33-4892-aeff-a0680f41d358",
   "metadata": {},
   "source": [
    "### Objective\n",
    "To empirically determine the relationship between discharge (Q), head (H), and power input (P) for a small DC pump operating at variable discharge elevations. Students will produce a pump curve (H vs Q) and evaluate power consumption."
   ]
  },
  {
   "cell_type": "markdown",
   "id": "fa74aa05",
   "metadata": {
    "jp-MarkdownHeadingCollapsed": true
   },
   "source": [
    "### Background Theory\n",
    "A pump curve is a graph showing how the head (H) produced by a pump varies with flow rate (Q).\n",
    "\n",
    "**Key Concepts:**\n",
    "- **Total Dynamic Head (TDH)** is approximated here by the vertical height from pump to discharge.\n",
    "- **Flow Rate (Q)** is measured in L/min from the flow meter.\n",
    "- **Power Input (P)** is computed using: \n",
    "  $$ P = V \\times I $$ \n",
    "  where V is voltage and I is current.\n",
    "\n",
    "- (Optional) **Efficiency** can be estimated by:\n",
    "  \n",
    "  $$ \\eta = \\frac{\\rho g Q H}{P} $$\n",
    "  where $ \\rho $ is water density and $ g $ is gravity."
   ]
  },
  {
   "cell_type": "markdown",
   "id": "1a33c886",
   "metadata": {},
   "source": [
    "### Apparatus\n",
    "\n",
    "The experimental set-up is comprised of:\n",
    "- 12V DC pump\n",
    "- Variable power supply\n",
    "- Flow meter\n",
    "- Flexible discharge pipe\n",
    "- Ruler or measuring tape\n",
    "- Water container\n",
    "- Stopwatch (optional)\n",
    "\n",
    "An image of the system in operation is shown below\n",
    "\n",
    "![](IMG_2975.jpg)\n",
    "\n",
    "The current-limited power supply is visible on the left as is the flowmeter data collector; flow can also be determined by bucket-and-stopwatch.  The discharge outlet can be moved to different locations above the supply tank to produce a pump curve.  There is considerable splash and overflow, so a hose (not pictured) is used to keep the orange tank always full, ensuring a constant head at the supply location.\n",
    "\n",
    "### Experimental Setup\n",
    "1. Connect pump to water reservoir.\n",
    "2. Attach flexible pipe and flow meter inline.\n",
    "3. Elevate discharge outlet to different known heights.\n",
    "4. Measure V, I, Q, and elevation H.\n",
    "\n",
    "The figure below is a close-up of the power supply. In the figure the voltage is read from the left display, and current from the right display.  The current can be limited by the experimenter - in current limited conditions a small red indicator appears in the display.\n",
    "\n",
    "![](IMG_2976.jpg)\n",
    "\n",
    "Discharge is measured using the flowmeter as in prior laboratories; also you can use a bucket and stopwatch approach."
   ]
  },
  {
   "cell_type": "markdown",
   "id": "eea3d231",
   "metadata": {},
   "source": [
    "### Procedure\n",
    "1. Fix power supply voltage (e.g., 12V).\n",
    "2. Begin with lowest discharge height.\n",
    "3. Record:\n",
    "   - Voltage (V)\n",
    "   - Current (I)\n",
    "   - Flow Rate (Q)\n",
    "   - Height (H)\n",
    "4. Repeat for multiple heights.\n",
    "5. (Optional) Repeat at different voltage."
   ]
  },
  {
   "cell_type": "code",
   "execution_count": 1,
   "id": "57dbf2b7",
   "metadata": {},
   "outputs": [
    {
     "data": {
      "text/html": [
       "<div>\n",
       "<style scoped>\n",
       "    .dataframe tbody tr th:only-of-type {\n",
       "        vertical-align: middle;\n",
       "    }\n",
       "\n",
       "    .dataframe tbody tr th {\n",
       "        vertical-align: top;\n",
       "    }\n",
       "\n",
       "    .dataframe thead th {\n",
       "        text-align: right;\n",
       "    }\n",
       "</style>\n",
       "<table border=\"1\" class=\"dataframe\">\n",
       "  <thead>\n",
       "    <tr style=\"text-align: right;\">\n",
       "      <th></th>\n",
       "      <th>Trial</th>\n",
       "      <th>Voltage (V)</th>\n",
       "      <th>Current (A)</th>\n",
       "      <th>Flow Rate Q (L/min)</th>\n",
       "      <th>Head H (m)</th>\n",
       "      <th>Power Input P (W)</th>\n",
       "    </tr>\n",
       "  </thead>\n",
       "  <tbody>\n",
       "    <tr>\n",
       "      <th>0</th>\n",
       "      <td>1</td>\n",
       "      <td>None</td>\n",
       "      <td>None</td>\n",
       "      <td>None</td>\n",
       "      <td>None</td>\n",
       "      <td>None</td>\n",
       "    </tr>\n",
       "    <tr>\n",
       "      <th>1</th>\n",
       "      <td>2</td>\n",
       "      <td>None</td>\n",
       "      <td>None</td>\n",
       "      <td>None</td>\n",
       "      <td>None</td>\n",
       "      <td>None</td>\n",
       "    </tr>\n",
       "    <tr>\n",
       "      <th>2</th>\n",
       "      <td>3</td>\n",
       "      <td>None</td>\n",
       "      <td>None</td>\n",
       "      <td>None</td>\n",
       "      <td>None</td>\n",
       "      <td>None</td>\n",
       "    </tr>\n",
       "    <tr>\n",
       "      <th>3</th>\n",
       "      <td>4</td>\n",
       "      <td>None</td>\n",
       "      <td>None</td>\n",
       "      <td>None</td>\n",
       "      <td>None</td>\n",
       "      <td>None</td>\n",
       "    </tr>\n",
       "    <tr>\n",
       "      <th>4</th>\n",
       "      <td>5</td>\n",
       "      <td>None</td>\n",
       "      <td>None</td>\n",
       "      <td>None</td>\n",
       "      <td>None</td>\n",
       "      <td>None</td>\n",
       "    </tr>\n",
       "  </tbody>\n",
       "</table>\n",
       "</div>"
      ],
      "text/plain": [
       "   Trial Voltage (V) Current (A) Flow Rate Q (L/min) Head H (m)  \\\n",
       "0      1        None        None                None       None   \n",
       "1      2        None        None                None       None   \n",
       "2      3        None        None                None       None   \n",
       "3      4        None        None                None       None   \n",
       "4      5        None        None                None       None   \n",
       "\n",
       "  Power Input P (W)  \n",
       "0              None  \n",
       "1              None  \n",
       "2              None  \n",
       "3              None  \n",
       "4              None  "
      ]
     },
     "execution_count": 1,
     "metadata": {},
     "output_type": "execute_result"
    }
   ],
   "source": [
    "import pandas as pd\n",
    "\n",
    "# Data table template\n",
    "data = pd.DataFrame({\n",
    "    'Trial': [1, 2, 3, 4, 5],\n",
    "    'Voltage (V)': [None]*5,\n",
    "    'Current (A)': [None]*5,\n",
    "    'Flow Rate Q (L/min)': [None]*5,\n",
    "    'Head H (m)': [None]*5,\n",
    "    'Power Input P (W)': [None]*5\n",
    "})\n",
    "data"
   ]
  },
  {
   "cell_type": "code",
   "execution_count": 2,
   "id": "3bf1f4d6",
   "metadata": {},
   "outputs": [
    {
     "data": {
      "image/png": "[encoded data removed]",
      "text/plain": [
       "<Figure size 640x480 with 1 Axes>"
      ]
     },
     "metadata": {},
     "output_type": "display_data"
    }
   ],
   "source": [
    "import numpy as np\n",
    "import matplotlib.pyplot as plt\n",
    "from numpy.polynomial.polynomial import Polynomial\n",
    "\n",
    "# Sample data entry (replace with your measurements)\n",
    "Q = np.array([4, 3.5, 3, 2.5, 2])  # L/min\n",
    "H = np.array([0.2, 0.4, 0.6, 0.8, 1.0])  # meters\n",
    "\n",
    "# Fit a 2nd-degree polynomial\n",
    "coefs = Polynomial.fit(Q, H, 2).convert().coef\n",
    "#print(f\"Fitted Pump Curve Equation: H(Q) = {coefs[0]:.3f} + {coefs[1]:.3f}Q + {coefs[2]:.3f}Q^2\")\n",
    "addtitle = f\"Fitted Pump Curve Equation: H(Q) = {coefs[0]:.3f} + {coefs[1]:.3f}Q + {coefs[2]:.3f}Q^2\"\n",
    "# Plot\n",
    "Q_fit = np.linspace(min(Q), max(Q), 100)\n",
    "H_fit = coefs[0] + coefs[1]*Q_fit + coefs[2]*Q_fit**2\n",
    "\n",
    "plt.figure()\n",
    "plt.plot(Q, H, 'o', label='Measured')\n",
    "plt.plot(Q_fit, H_fit, '-', label='Fitted Curve')\n",
    "plt.xlabel('Flow Rate Q (L/min)')\n",
    "plt.ylabel('Head H (m)')\n",
    "plt.title('Pump Curve: Head vs Flow Rate\\n' + addtitle)\n",
    "plt.legend()\n",
    "plt.grid(True)\n",
    "plt.show()\n"
   ]
  },
  {
   "cell_type": "markdown",
   "id": "69491495",
   "metadata": {},
   "source": [
    "### Discussion Questions\n",
    "1. How does head change as flow rate increases?\n",
    "2. How does power consumption relate to flow rate?\n",
    "3. Would this pump be suitable for a head requirement of 1.2 m?\n",
    "4. What measurement errors may affect your results?\n",
    "<!-- 5. How would pipe friction affect the pump curve in real systems? -->"
   ]
  },
  {
   "cell_type": "markdown",
   "id": "d5a333a2-96e6-4995-9f34-457be5e943fb",
   "metadata": {},
   "source": [
    "## Deliverables\n",
    "- Completed data table\n",
    "- Graphs (H vs Q and optionally P vs Q)\n",
    "- Fitted pump curve equation\n",
    "- Answers to discussion questions"
   ]
  },
  {
   "cell_type": "code",
   "execution_count": null,
   "id": "528d44ae-e71f-4795-af0e-904c51f47c7f",
   "metadata": {},
   "outputs": [],
   "source": []
  }
 ],
 "metadata": {
  "kernelspec": {
   "display_name": "Python Common Environment",
   "language": "python",
   "name": "python-my-env"
  },
  "language_info": {
   "codemirror_mode": {
    "name": "ipython",
    "version": 3
   },
   "file_extension": ".py",
   "mimetype": "text/x-python",
   "name": "python",
   "nbconvert_exporter": "python",
   "pygments_lexer": "ipython3",
   "version": "3.10.12"
  }
 },
 "nbformat": 4,
 "nbformat_minor": 5
}