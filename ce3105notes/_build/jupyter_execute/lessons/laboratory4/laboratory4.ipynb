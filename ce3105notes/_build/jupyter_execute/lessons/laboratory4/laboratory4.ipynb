{
 "cells": [
  {
   "cell_type": "markdown",
   "metadata": {},
   "source": [
    "# 4. Pipe Friction\n",
    "\n",
    "1 Objectives\n",
    "\u000f Observe the behavior of ow with change in velocity and Reynolds\n",
    "number\n",
    "\u000f Observe the variation of frictional loss with change in velocity\n",
    "2 Theory\n",
    "Laminar ow occurs at low velocities when the particles of waters move in\n",
    "parallel straight lines. The ow is smooth and well-ordered. As the velocity\n",
    "increases, the movement becomes undulating and at one point it breaks into\n",
    "vortices. The ow is turbulent in this case. Reynolds number can determine\n",
    "whether the ow is laminar or turbulent. For a circular pipe, it can be ex-\n",
    "pressed as\n",
    "Re = \u001avD\n",
    "\u0016 (1)\n",
    "or\n",
    "Re = vD\n",
    "\u0017 (where \u0017 = \u0016\n",
    "\u001a ) (2)\n",
    "It is nearly impossible for turbulent ow to occur at Reynolds number less\n",
    "than 2000 as the turbulence will be restrained by the viscous resistance.\n",
    "However, there is a stage when laminar ow is becoming turbulent or turbu-\n",
    "lent becoming laminar. During this time, the ow is transitional ow. For\n",
    "smooth pipes, the common rule is\n",
    "\u000f Laminar Flow: Re < 2000\n",
    "\u000f Transitional Flow: Re = 2000 to 4000\n",
    "\u000f Turbulent Flow: Re > 4000\n",
    "For laminar ow, the head loss due to friction is directly proportional to the\n",
    "velocity:\n",
    "i / v\n"
   ]
  },
  {
   "cell_type": "markdown",
   "metadata": {},
   "source": [
    "## Modified Bernoulli Equation"
   ]
  },
  {
   "cell_type": "markdown",
   "metadata": {},
   "source": [
    "## Flow Regimes"
   ]
  },
  {
   "cell_type": "markdown",
   "metadata": {},
   "source": [
    "## Friction Factors"
   ]
  },
  {
   "cell_type": "markdown",
   "metadata": {},
   "source": [
    "## Link to Laboratory Document\n",
    "\n",
    "1. [Laboratory 4 Tasklist](http://54.243.252.9/ce-3105-webroot/2-Exercises/laboratory4/laboratory4.html)\n",
    "2. [Laboratory 4 Instructional Video by Dr. Uddameri](https://www.youtube.com/watch?v=Xu132UBglpw)"
   ]
  },
  {
   "cell_type": "markdown",
   "metadata": {},
   "source": [
    "## References\n"
   ]
  },
  {
   "cell_type": "code",
   "execution_count": null,
   "metadata": {},
   "outputs": [],
   "source": []
  }
 ],
 "metadata": {
  "kernelspec": {
   "display_name": "Python 3",
   "language": "python",
   "name": "python3"
  },
  "language_info": {
   "codemirror_mode": {
    "name": "ipython",
    "version": 3
   },
   "file_extension": ".py",
   "mimetype": "text/x-python",
   "name": "python",
   "nbconvert_exporter": "python",
   "pygments_lexer": "ipython3",
   "version": "3.8.10"
  }
 },
 "nbformat": 4,
 "nbformat_minor": 4
}