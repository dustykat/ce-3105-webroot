{
 "cells": [
  {
   "cell_type": "markdown",
   "metadata": {},
   "source": [
    "# Laboratory 5 Sample Protocol\n",
    "\n",
    "## Fitting Losses in a Pipe System"
   ]
  },
  {
   "cell_type": "markdown",
   "metadata": {},
   "source": [
    "## Objectives\n",
    "- To understand and calculate the losses in pipe networks due to bends, changes in diameter, junctions and valves.\n",
    "- To evaluate characteristics of flow in different pipe fittings and determine minor loss coefficients.\n"
   ]
  },
  {
   "cell_type": "markdown",
   "metadata": {},
   "source": [
    "## Data Acquisition\n",
    "\n",
    "Follow the procedure below (and in the preamble), remember to record pipe diameters (these are stenciled onto the apparatus).\n",
    "\n",
    "1. Close the exit valve on the left side of the flow circuit, and then turn on the water source\n",
    "2. Slowly open the exit valve on the apparatus, and watch the water levels in the manometer tubes\n",
    "3. Determine the flow rate of the liquid by measuring the time it takes to fill a known volume.\n",
    "4. Record the differential pressure readings across each of the fittings\n",
    "5. Repeat step 3 and 4 to obtain data for at least five different flow rates by adjusting the exit valve"
   ]
  },
  {
   "cell_type": "markdown",
   "metadata": {},
   "source": [
    "## Data Analysis\n",
    "\n",
    "1. For the mitre, elbow and bend, plot the measured head loss (y- axis) vs. the velocity head for the smaller bore pipes (x- axis) on the same plot\n",
    "2. For the sudden expansion and contraction, plot the total head loss (y-axis) vs. the velocity head for the smaller bore pipes (x- axis) on the same plot\n",
    "3. Add a best fit line through the data points and determine the \"slope\" of the line, which is the empirical value of the loss coefficient. Remember to ignore any excess scatter at the lower and higher flow rates for the expansion and contraction"
   ]
  },
  {
   "cell_type": "markdown",
   "metadata": {},
   "source": [
    "## Discussion/Interpretation\n",
    "\n",
    "1. Explain the calculated loss coefficient values for different fittings. How do they differ?\n",
    "2. Compare the calculated loss coefficient values with the theoretical values. How do they differ?\n",
    "3. Which fitting is best to design a pipe system?\n",
    "4. Describe the characteristics of flow through bends where loss coefficient, K is a function of the geometric ratio R/D"
   ]
  },
  {
   "cell_type": "markdown",
   "metadata": {},
   "source": [
    "## Data Records\n",
    "\n",
    "Record the relevant measurements in the table below (or make your own).  Remember to record the various pipe diameters on the device.\n",
    "\n",
    "<!--![](datasheet.png)-->"
   ]
  },
  {
   "cell_type": "markdown",
   "metadata": {},
   "source": [
    "Water Temperature: \\____ $^o$C<br>\n",
    "\n",
    "Density: \\____ $\\frac{kg}{m^3}$<br>\n",
    "\n",
    "|Reading_ID|Volume (L)|Time (s)|Flow Rate|$m_1$ (mm)|$m_2$ (mm)|$m_3$ (mm)|$m_4$ (mm)|$m_5$ (mm)|$m_6$ (mm)|$m_7$ (mm)|$m_8$ (mm)|$m_9$ (mm)|$m_{10}$ (mm)|\n",
    "|:---|---:|---:|---:|---:|---:|---:|---:|---:|---:|---:|---:|---:|---:|\n",
    "|1||||||||||||||\n",
    "|2||||||||||||||\n",
    "|3||||||||||||||\n",
    "|4||||||||||||||\n",
    "|5||||||||||||||\n",
    "\n",
    "$m_i$ is the manometer reading (numbered from left to right)"
   ]
  }
 ],
 "metadata": {
  "kernelspec": {
   "display_name": "Python 3 (ipykernel)",
   "language": "python",
   "name": "python3"
  },
  "language_info": {
   "codemirror_mode": {
    "name": "ipython",
    "version": 3
   },
   "file_extension": ".py",
   "mimetype": "text/x-python",
   "name": "python",
   "nbconvert_exporter": "python",
   "pygments_lexer": "ipython3",
   "version": "3.10.12"
  }
 },
 "nbformat": 4,
 "nbformat_minor": 4
}