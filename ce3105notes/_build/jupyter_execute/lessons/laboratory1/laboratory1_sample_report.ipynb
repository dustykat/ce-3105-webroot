{
 "cells": [
  {
   "cell_type": "markdown",
   "id": "1e64b542-c67e-457d-bf88-42baab9ff7b1",
   "metadata": {},
   "source": [
    "# Laboratory 1 Sample Report\n",
    "\n",
    "## Laboratory Report: Fluid Properties\n",
    "\n",
    "### Title\n",
    "Measurement of Density, Specific Gravity, and Viscosity of Fluids\n",
    "\n",
    "### Authors\n",
    "P. N. Guinn and P. Olar Bear (Team 1)\n",
    "\n",
    "### Objective\n",
    "To measure the density, specific gravity, and viscosity of three assigned fluids using gravimetric and experimental methods, and to compare the results to standard reference values."
   ]
  },
  {
   "cell_type": "markdown",
   "id": "d792c44e-eb51-43fe-9a15-c8e9b16e5f13",
   "metadata": {},
   "source": [
    "### Background/Theory\n",
    "1. **Density**: Defined as the mass per unit volume, calculated as:\n",
    "   \\[ \n",
    "ho = \f",
    "rac{m}{V} \\]\n",
    "   where \\( m \\) is mass and \\( V \\) is volume.\n",
    "   \n",
    "2. **Specific Gravity**: The ratio of a fluid's density to the density of water, a dimensionless quantity.\n",
    "   \n",
    "3. **Viscosity**: A measure of a fluid’s resistance to shear or flow, determined using Stoke’s Law for a falling sphere:\n",
    "   \\[ \\mu = \f",
    "rac{2r^2 (\n",
    "ho_s - \n",
    "ho_f) g}{9u} \\]\n",
    "   where:\n",
    "   - \\( r \\): radius of the sphere\n",
    "   - \\( \n",
    "ho_s \\): density of the sphere\n",
    "   - \\( \n",
    "ho_f \\): density of the fluid\n",
    "   - \\( g \\): gravitational acceleration\n",
    "   - \\( u \\): terminal velocity of the sphere."
   ]
  },
  {
   "cell_type": "markdown",
   "id": "ffd17129-7c51-49ce-a828-355876ba8d98",
   "metadata": {},
   "source": []
  },
  {
   "cell_type": "markdown",
   "id": "4d7f3d98-7c2e-4bfb-9524-ff17fd60f273",
   "metadata": {},
   "source": [
    "### Materials and Equipment\n",
    "1. Precision balance\n",
    "2. Graduated cylinder\n",
    "3. Hydrometer\n",
    "4. Tall column for viscosity measurement\n",
    "5. Steel spheres\n",
    "6. Stopwatch\n",
    "7. Thermometer"
   ]
  },
  {
   "cell_type": "markdown",
   "id": "b43fb1a9-b98d-4e44-aacc-155abdcafb15",
   "metadata": {},
   "source": [
    "### Procedure\n",
    "\n",
    "#### **Density Measurement**\n",
    "1. Measure the fluid's temperature.\n",
    "2. Weigh the empty beaker.\n",
    "3. Fill the beaker with the fluid and measure its combined mass.\n",
    "4. Measure the fluid's volume using a graduated cylinder.\n",
    "\n",
    "#### **Specific Gravity Measurement**\n",
    "1. Submerge the hydrometer in the fluid.\n",
    "2. Record the hydrometer reading at the lower meniscus level.\n",
    "\n",
    "#### **Viscosity Measurement**\n",
    "1. Measure the diameter of the steel sphere.\n",
    "2. Release the sphere in the fluid column.\n",
    "3. Record the time it takes to travel between two markers."
   ]
  },
  {
   "cell_type": "markdown",
   "id": "9bb95302-473d-4138-b8e2-9d1a3ce33f4f",
   "metadata": {
    "jp-MarkdownHeadingCollapsed": true
   },
   "source": [
    "### Data and Analysis\n",
    "\n",
    "#### **Density**\n",
    "| Fluid        | Temperature (°C) | Mass (g) | Volume (mL) | Density (g/mL) | Density (literature) |\n",
    "|--------------|------------------|----------|-------------|----------------|----------------------|\n",
    "| Water        |                  |          |             |                |                      |\n",
    "| Salt Water   |                  |          |             |                |                      |\n",
    "| Glycerine    |                  |          |             |                |                      |\n",
    "\n",
    "#### **Specific Gravity**\n",
    "| Fluid        | SG (from density) | SG (Hydrometer) |\n",
    "|--------------|-------------------|-----------------|\n",
    "| Water        |                   |                 |\n",
    "| Salt Water   |                   |                 |\n",
    "| Glycerine    |                   |                 |\n",
    "\n",
    "#### **Viscosity**\n",
    "| Sphere ID | Diameter (mm) | Time (s) | Kinematic Viscosity (mm²/s) | Dynamic Viscosity (mPa·s) |\n",
    "|-----------|---------------|----------|-----------------------------|---------------------------|\n",
    "|     1     |               |          |                             |                           |\n",
    "|     2     |               |          |                             |                           |\n",
    "|    ...    |               |          |                             |                           |\n",
    "\n",
    "---"
   ]
  },
  {
   "cell_type": "markdown",
   "id": "ca0ad88e-2521-4944-a47f-6098f11d30b9",
   "metadata": {},
   "source": [
    "### Discussion\n",
    "1. Discuss the agreement between measured and reference values for density, specific gravity, and viscosity.\n",
    "2. Analyze the effect of temperature on fluid properties.\n",
    "3. Identify potential sources of error and their implications for the results.\n",
    "4. Suggest improvements for the experimental setup."
   ]
  },
  {
   "cell_type": "markdown",
   "id": "f2254fc5-8993-46d8-826e-4a9cb07c48f4",
   "metadata": {},
   "source": [
    "### Conclusion\n",
    "Summarize the key findings, including:\n",
    "1. Comparison of experimental values with reference data.\n",
    "2. Insights gained regarding the fluid properties."
   ]
  },
  {
   "cell_type": "markdown",
   "id": "ecd8c1c8-5174-436c-a41d-b779117529a1",
   "metadata": {},
   "source": [
    "\n",
    "### References\n",
    "1. Cleveland, T. G. (2024) Fluid Mechanics Laboratory Notes to accompany CE-3105, Department of Civil, Environmental, and Construction Engineering, Whitacre College of Engineering.\n",
    "2. Holman, J.P. (2012). *Experimental Methods for Engineers*, 8th Ed."
   ]
  }
 ],
 "metadata": {
  "kernelspec": {
   "display_name": "Python Common Environment",
   "language": "python",
   "name": "python-my-env"
  },
  "language_info": {
   "codemirror_mode": {
    "name": "ipython",
    "version": 3
   },
   "file_extension": ".py",
   "mimetype": "text/x-python",
   "name": "python",
   "nbconvert_exporter": "python",
   "pygments_lexer": "ipython3",
   "version": "3.10.12"
  }
 },
 "nbformat": 4,
 "nbformat_minor": 5
}