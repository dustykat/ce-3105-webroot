{
 "cells": [
  {
   "cell_type": "code",
   "execution_count": 66,
   "id": "3039d103-4c61-4e62-a432-98b0c3c6c256",
   "metadata": {},
   "outputs": [
    {
     "name": "stdout",
     "output_type": "stream",
     "text": [
      "0.334425\n"
     ]
    }
   ],
   "source": [
    "h = 52/1000#m\n",
    "b = 180/1000#m\n",
    "w = 75/1000 #m\n",
    "rho = 980 #N/m3\n",
    "#$M_{calc}$ = $ \\rho_{w} \\cdot W \\cdot \\left( \\frac{3b}{8} \\right) \\cdot h $ <br>\n",
    "m = (rho*w*3*b*h/8 + rho*w*(0.2**2)*h/2)\n",
    "\n",
    "print(m)"
   ]
  },
  {
   "cell_type": "code",
   "execution_count": 68,
   "id": "ec3303c4-9952-4f00-b3db-ba6f4e3dd931",
   "metadata": {},
   "outputs": [
    {
     "name": "stdout",
     "output_type": "stream",
     "text": [
      "1.176\n"
     ]
    }
   ],
   "source": [
    "mass = 600/1000#kg\n",
    "arm = 200/1000 #m\n",
    "mom = mass*9.8*arm\n",
    "print(mom)"
   ]
  },
  {
   "cell_type": "code",
   "execution_count": null,
   "id": "5f67c984-4dd9-486e-b304-bf816aa65161",
   "metadata": {},
   "outputs": [],
   "source": []
  }
 ],
 "metadata": {
  "kernelspec": {
   "display_name": "Python Common Environment",
   "language": "python",
   "name": "python-my-env"
  },
  "language_info": {
   "codemirror_mode": {
    "name": "ipython",
    "version": 3
   },
   "file_extension": ".py",
   "mimetype": "text/x-python",
   "name": "python",
   "nbconvert_exporter": "python",
   "pygments_lexer": "ipython3",
   "version": "3.10.12"
  }
 },
 "nbformat": 4,
 "nbformat_minor": 5
}
