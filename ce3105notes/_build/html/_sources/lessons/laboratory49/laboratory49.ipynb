{
 "cells": [
  {
   "cell_type": "markdown",
   "metadata": {},
   "source": [
    "# Lab 4.9 - Reynolds Experiment\n",
    "\n",
    ":::{admonition} Course Website\n",
    "[http://54.243.252.9/ce-3105-webroot/](http://54.243.252.9/ce-3105-webroot/)\n",
    ":::"
   ]
  },
  {
   "cell_type": "markdown",
   "metadata": {},
   "source": [
    "This experiment replicates Reynolds' experiment using a dye injection into laminar, transition, and turbulent flow regimes.\n",
    "\n",
    ":::{Warning}\n",
    "Under construction - will insert if completed in time for 2025-1 semester\n",
    ":::"
   ]
  },
  {
   "cell_type": "markdown",
   "metadata": {},
   "source": [
    "## Readings\n",
    "\n",
    "1. [HY??? User Manual](#)\n",
    "3. [Holman, J.P. (2012) *Experimental Methods for Engineers*, 8th Ed. (Chapters 1-3)](https://mech.at.ua/HolmanICS.pdf)\n",
    "4. [Mass Flow Meter & Datalogger Scripts](http://54.243.252.9/ce-3105-webroot/ce3105notes/_build/html/lessons/laboratory3/massflowmeters.html)  "
   ]
  },
  {
   "cell_type": "markdown",
   "metadata": {},
   "source": [
    "## Videos\n",
    "\n",
    "1. \n",
    "2. "
   ]
  },
  {
   "cell_type": "markdown",
   "metadata": {},
   "source": [
    "## Objectives\n",
    "\n",
    "1. Observe how flow behavior changes with velocity and Reynolds number.\n",
    "2. Verify the flow regime ranges reported in the literature for laminar, transitional, and turbulent flows.\n",
    "3. Photographically document the three flow regimes using the dye injection apparatus.\n",
    "4. Develop continued experience with automated data acquisition using:\n",
    "   - A calibrated flowmeter (from a prior laboratory exercise).\n",
    "   - A Raspberry Pi-based datalogger.\n",
    "5. Develop an experimental protocol to:\n",
    "   - Measure flow using two methods (manual and automated).\n",
    "   - Determine flow regime visually and using Reynolds number (calculated).\n",
    "6. Conduct experiments in triplicate to measure flow and pressure drop.\n",
    "7. Document the experiments in a laboratory report, including:\n",
    "   - A comparison of flow rates measured manually (bucket and stopwatch) and with the flowmeter. Are low flows measurable with the flowmeter?\n",
    "   - Identification of potential sources of error.\n",
    "   - Comparison of observed flow regimes with those predicted by Reynolds number calculations.\n"
   ]
  },
  {
   "cell_type": "markdown",
   "metadata": {},
   "source": [
    "## Background\n",
    "\n",
    "Osborne Reynolds' 1883 experiment revolutionized fluid dynamics by introducing a dimensionless number (\\(Re\\)) that predicts flow behavior. His iconic experiment used a dye stream to visualize flow regimes in a glass pipe. Reynolds observed:\n",
    "- **Laminar flow**: Smooth, straight dye stream ($Re < 2000$).\n",
    "- **Transitional flow**: Undulating dye stream ($2000 \\leq Re \\leq 4000$).\n",
    "- **Turbulent flow**: Dispersed, chaotic dye stream ($Re > 4000$).\n",
    "\n",
    "The Reynolds number remains a cornerstone of engineering analysis for fluid systems."
   ]
  },
  {
   "cell_type": "markdown",
   "metadata": {},
   "source": [
    "## Flow Regimes\n",
    "Laminar flow occurs at low velocities when the particles of waters move in\n",
    "parallel straight lines. The flow is smooth and well-ordered. As the velocity\n",
    "increases, the movement becomes undulating and at some point it breaks into\n",
    "vortices. The flow is turbulent in this case. Reynolds number classifies\n",
    "whether the flow is laminar or turbulent. For a circular pipe, it can be expressed as\n",
    "\n",
    "$$Re = \\frac{\\rho vD}{\\mu} = \\frac{vD}{\\nu}$$\n",
    "\n",
    "It is nearly impossible for turbulent flow to occur at Reynolds number less\n",
    "than 2000 as the turbulence will be restrained by the viscous resistance.\n",
    "However, there is a stage when laminar flow is becoming turbulent or turbulent is becoming laminar. This is transitional flow. \n",
    "\n",
    "For smooth pipes, the common classifications are:\n",
    "\n",
    "- Laminar Flow: $Re < 2000$\n",
    "- Transitional Flow: $2000 \\le Re \\le 4000$\n",
    "- Turbulent Flow: $Re > 4000$\n",
    "\n",
    "For laminar flow, the head loss due to friction is directly proportional to the velocity:\n",
    "$\\frac{\\Delta h}{L} \\propto v$\n",
    "\n",
    "For turbulent flow, the head loss due to friction is proportional to the velocity\n",
    "to a given power, $n$:\n",
    "$\\frac{\\Delta h}{L} \\propto v^n$\n",
    "\n",
    "The exponent, $n$ varies between 1.75 and 2. \n",
    "\n",
    "The flow velocity, $u$ can be found from the continuity equation when the\n",
    "cross-sectional area of the pipe is known:\n",
    "\n",
    "$$u = \\frac{Q}{A}$$\n",
    "\n",
    "---"
   ]
  },
  {
   "cell_type": "markdown",
   "metadata": {},
   "source": [
    "## Laboratory Setup\n",
    "\n",
    "[Insert Photograph of Apparatus here](#)\n",
    "\n",
    "- **Equipment**:\n",
    "  - Glass column with dye injection apparatus.\n",
    "  - Flowmeter with Raspberry Pi-based datalogger.\n",
    "  - Stopwatch and beaker for manual flow rate measurement.\n",
    "  - Water heater to modify viscosity if needed.\n",
    "- **Key Measurements**:\n",
    "  - Flow rate (manual and automated).\n",
    "  - Flow regime (visual and calculated via \\(Re\\)).\n",
    "    "
   ]
  },
  {
   "cell_type": "markdown",
   "metadata": {},
   "source": [
    "## Laboratory Objectives\n",
    "1. Observe how flow behavior changes with velocity and Reynolds number.\n",
    "2. Photographically document the three flow regimes in the dye injection apparatus.\n",
    "3. Develop continued experience with automated data aquisition, by using the flowmeter calibrated in a prior laboratory.\n",
    "4.  Develop an experimental protocol (step-by-step instructions) to measure flow (two methods), determine flow regime (laminar, transition, turbulent).\n",
    "6. Upon approval of the protocol, conduct a set of experiments in triplicate to measure measure flow, and pressure drop.\n",
    "7. Document the experiment(s) into a laboratory report and address the following in the report:\n",
    "  - Compare the flow rate using stopwatch and bucket to the flowmeter (Raspberry Pi); are the low flows even measurable with the flowmeter? \n",
    "  - What are some potential sources of errors in your lab experiments. \n",
    " \n",
    ":::{warning}\n",
    "The protocol is evaluated to ensure that the envisioned procedures can be safely conducted under appropriate supervision.  The experiments may produce incomplete results if steps are ommitted.  \n",
    ":::"
   ]
  },
  {
   "cell_type": "markdown",
   "metadata": {},
   "source": [
    "## Deliverables\n",
    "\n",
    "### Protocol\n",
    "Develop a detailed experimental protocol with the following elements:\n",
    "1. Step-by-step instructions for:\n",
    "   - Measuring flow rates manually and using the flowmeter.\n",
    "   - Classifying flow regimes (visual observation and Reynolds number calculation).\n",
    "2. Submit the protocol for instructor approval before conducting the experiment. The protocol will be incorporated into the laboratory report.\n",
    "\n",
    "### Laboratory Report\n",
    "The report must include:\n",
    "1. A summary of the experiment and objectives.\n",
    "2. Documented flow regimes with photographic evidence.\n",
    "3. A comparison of flow rate measurements (manual vs. automated).\n",
    "4. Calculated Reynolds numbers and a discussion of their alignment with observed flow regimes.\n",
    "5. An analysis of potential error sources and their impacts on results.\n",
    "6. Triplicate experimental data with mean and standard deviation values."
   ]
  },
  {
   "cell_type": "markdown",
   "metadata": {},
   "source": [
    "## End of Section"
   ]
  }
 ],
 "metadata": {
  "kernelspec": {
   "display_name": "Python 3 (ipykernel)",
   "language": "python",
   "name": "python3"
  },
  "language_info": {
   "codemirror_mode": {
    "name": "ipython",
    "version": 3
   },
   "file_extension": ".py",
   "mimetype": "text/x-python",
   "name": "python",
   "nbconvert_exporter": "python",
   "pygments_lexer": "ipython3",
   "version": "3.10.12"
  }
 },
 "nbformat": 4,
 "nbformat_minor": 4
}
