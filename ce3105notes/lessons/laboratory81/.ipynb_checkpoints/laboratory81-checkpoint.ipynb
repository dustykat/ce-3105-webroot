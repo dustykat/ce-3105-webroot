{
 "cells": [
  {
   "cell_type": "code",
   "execution_count": null,
   "metadata": {},
   "outputs": [],
   "source": []
  },
  {
   "cell_type": "markdown",
   "metadata": {},
   "source": [
    "# Lab 81. - Final Exam (Practical)\n",
    "\n",
    ":::{admonition} Course Website\n",
    "[http://54.243.252.9/ce-3105-webroot/](http://54.243.252.9/ce-3105-webroot/)\n",
    ":::"
   ]
  },
  {
   "cell_type": "markdown",
   "metadata": {
    "jp-MarkdownHeadingCollapsed": true
   },
   "source": [
    "## References\n",
    "\n",
    "1. Koutitas, C. G. 1983. Elements of Computational Hydraulics. ISBN 0-412-00361-9. Pentech Press Ltd. London. (Chapter 4) [http://54.243.252.9/ce-5362-webroot/3-Readings/PracticalComputationalHydraulics-Kousitas/ElementsOfComputationalHydraulics.pdf](http://54.243.252.9/ce-5362-webroot/3-Readings/PracticalComputationalHydraulics-Kousitas/ElementsOfComputationalHydraulics.pdf)\n",
    "\n",
    "2. Roberson, J. A., Cassidy, J.J., and Chaudry, M. H., (1988) Hydraulic Engineering, Houghton Mifflin Co (Chapter 10) [http://54.243.252.9/ce-5362-webroot/3-Readings/HydraulicEngineering/](http://54.243.252.9/ce-5362-webroot/3-Readings/HydraulicEngineering/)\n",
    "\n",
    "3. Sturm T.W (2001) Open Channel Hydraulics, 1ed., McGraw-Hill, New York. Note: This PDF is from an international edition published in Singapore. [http://54.243.252.9/ce-5362-webroot/3-Readings/OpenChannelHYdraulics/](http://54.243.252.9/ce-5362-webroot/3-Readings/OpenChannelHYdraulics/)\n",
    "\n",
    "4. Cunge, J.A., Holly, F.M., Verwey, A. (1980). Practical Aspects of Computational\n",
    "River Hydraulics. Pittman Publishing Inc. , Boston, MA. pp. 7-50\n",
    "\n",
    "5. [USBR (United States Bureau of Reclamation) (2001). Water Measurement Manual, 3rd Edition Revised Reprinted. Technical report, Water Resources Research Laboratory, US Department of the Interior (p. 317). ](https://www.usbr.gov/tsc/techreferences/mands/wmm/WMM_3rd_2001.pdf)"
   ]
  },
  {
   "cell_type": "markdown",
   "metadata": {},
   "source": [
    "## Videos\n"
   ]
  },
  {
   "cell_type": "markdown",
   "metadata": {},
   "source": [
    "## Purpose:\n",
    "The purpose of Laboratory 81 is for students to compare a computed water surface profile to an experimental profile and confirm or refute the ability of computational hydraulics to predict behavior of real systems.  \n",
    "\n",
    "## Methods:\n",
    "Using a computer and provided algorithms, create a computed water surface profile for the conditions of the laboratory flume.  \n",
    "\n",
    "The computer program will need the channel cross-section geometry (rectangular), channel discharge ($Q$ - unknown, but measurable using principles of sharp-crested weir), the channel slope, the channel resistance term (Manning's $n$).\n",
    "\n",
    "The experimental measurements include the depth of flow over the weir crest (assumed critical depth - this is the only reliable way to estimate discharge), the channel slope, the depth of flow at stations $-30,-60, ... ,300 cm$ marked on the channel walls."
   ]
  },
  {
   "cell_type": "markdown",
   "metadata": {},
   "source": [
    "## Procedure:\n",
    "1. Measure the height of the weir crest. (Use DTW probe - take some care to make an accurate measurement)\n",
    "2. Set the DTW probe to read 0 at weir crest height, with probe in middle of its up-down range.  This will make later calculations easier.\n",
    "3. Measure flume width.\n",
    "4. The laboratory instructor will set a channel slope and a flow-rate.  Once a steady condition is obtained the student(s) will\n",
    "5. Determine channel slope by direct measurement(s); measure distance on two points on the flume to the floor, calculate the slope.\n",
    "6. Determine channel slope from the channel slope indicator.\n",
    "7. Measure the height of the water surface above the weir crest.\n",
    "8. Measure the height of the water surface above the channel bottom at the 12 stations marked on the flume.\n",
    "9. Calculate the flow rate based on the weir measurements.\n",
    "10. Calculate the water-surface position using an appropriate tool to produce a *simulated water surface profile*\n",
    "11. Plot the *simulated water surface profile* and the *measured water surface profile* on the same graph.\n",
    "12. Adjust the value of Manning's $n$, until the *simulated water surface profile* and the *measured water surface profile* are as similar.\n",
    "13. Report the \"best\" value of Manning's $n$.\n",
    "14. Compute a metric of the modeling error."
   ]
  },
  {
   "cell_type": "markdown",
   "metadata": {},
   "source": [
    "### Weir Discharge Formula\n",
    "\n",
    "A sketch of the elevation view at a weir is \n",
    "\n",
    "![](sideviewweir.png)\n",
    "\n",
    "An end view of the weir is\n",
    "\n",
    "![](endviewweir.png)\n",
    "\n",
    "A simple formula to compute discharge over a *suppressed* sharp crested weir (in SI units) is\n",
    "\n",
    "$$ Q = 1.84LH^{3/2} $$\n",
    "\n",
    "where,\n",
    "\n",
    "$Q$ is the discharge in $m^3/sec$ <br>\n",
    "$L$ is the weir crest width (channel width, $B$, in this case) in $m$ <br>\n",
    "$H$ is the water surface height above the elevation of the weir crest in $m$ <br>\n",
    "\n",
    "In the experimental apparatus, and the flow depths used, the weir is indeed a suppressed weir. Consult [USBR (United States Bureau of Reclamation) (2001). Water Measurement Manual, 3rd Edition Revised Reprinted. Technical report, Water Resources Research Laboratory, US Department of the Interior (p. 317). ](https://www.usbr.gov/tsc/techreferences/mands/wmm/WMM_3rd_2001.pdf) to learn the conditions for a *suppressed* sharp crested weir formula to be applicable.\n",
    "\n",
    "The water surface height approaching the weir is made at a location just upstream of where \"curvature\" of the free surface appears - it is a bit subjective"
   ]
  },
  {
   "cell_type": "markdown",
   "metadata": {},
   "source": [
    "|words         |words         |words         |words         |words           |wprds         |\n",
    "|--------------|--------------|--------------|--------------|----------------|--------------|\n",
    "|number        |              |              |              |                |              |\n",
    "\n",
    "$P$ = weir crest height (m) \\_\\_\\_\\_\\_\\_ <br>\n",
    "$L$  = weir crest width (m)  \\_\\_\\_\\_\\_\\_ <br>\n",
    "$S_0$ = channel slope ($\\%$)  \\_\\_\\_\\_\\_\\_ <br>\n",
    "\n",
    "|STATION_ID          |x-coordinate (m)   |depth-to-water (mm)|water depth (DTW + WH)    |words           |wprds         |\n",
    "|--------------------|------------------:|--------------|--------------|----------------|--------------|\n",
    "|0 : ~ weir          |            0.00   |              |              |                |              |\n",
    "|1                   |         -0.30     |              |              |                |              |\n",
    "|2                   |         -0.60     |              |              |                |              |\n",
    "|3                   |         -0.90     |              |              |                |              |\n",
    "|4                   |         -1.20     |              |              |                |              |\n",
    "|5                   |         -1.50     |              |              |                |              |\n",
    "|6                   |         -1.80     |              |              |                |              |\n",
    "|7                   |         -2.10     |              |              |                |              |\n",
    "|8                   |         -2.40     |              |              |                |              |\n",
    "|9                   |         -2.70     |              |              |                |              |\n",
    "|10                  |         -3.00     |              |              |                |              |\n",
    "|11                  |         -3.30     |              |              |                |              |\n",
    "|12 : ~ head tank    |          -3.60    |              |              |                |              |"
   ]
  },
  {
   "cell_type": "markdown",
   "metadata": {},
   "source": [
    "## Deliverables\n",
    "1. Calculations to estimate flow over a sharp crested weir (spreadsheet, Jupyter Notebook, or by-hand calculations)\n",
    "2. Data tables populated with measurements\n",
    "3. The computer script (code) used; if a spreadsheet is used, be sure to turn on \"display equations\" mode, so the actual code shows, not just tabl;es of values.\n",
    "4. The plot of the *simulated water surface profile* and the *measured water surface profile* on the same graph."
   ]
  },
  {
   "cell_type": "markdown",
   "metadata": {},
   "source": [
    "## Background: Computation of Water Surface Profiles\n",
    "Two types of methods\n",
    "1. Explicit or direct step method: distance is determined for a specified depth change\n",
    "- Mostly for prismatic channels where cross-sectional properties don’t change with distance x.\n",
    "2. Implicit methods: depth is computed from distance changes\n",
    "- Unknown appears on both sides of the equation dy = f(y)dx\n",
    "- For natural channels for which cross-sectional properties are determined beforehand at particular locations.\n",
    "\n",
    "**Important Assumptions**\n",
    "Slope of the energy grade line, $S_f$, can be evaluated from Manning's or Chezy's equation using the local value of depth.\n",
    "\n",
    "In either method class, there is a slope averaging component to approximate the energy slope at a section especially impotent in natural channels described in our textbook on pg 185\n",
    "\n",
    "![](slopeaveraging1.png)\n",
    "\n",
    "\n",
    "\n",
    "![](slopeaveraging2.png)\n",
    "\n",
    "In the scripts in this JupyterBook, the average conveyence is used in the direct step and fixed space step method examples.\n",
    "\n",
    ":::{note}\n",
    "In the examples the goal is to illustrate the computational methods employed, averaging the conveyence is just a bit easier programming (not by much). Readers can obviously reverse engineer the scripts and satisfy their own needs.\n",
    ":::"
   ]
  },
  {
   "cell_type": "markdown",
   "metadata": {},
   "source": [
    "## Background: Depth-Step Backwater Method\n",
    "\n",
    "The direct step method computes distances from changes in flow depths.  This is the method you may have learned in CE 3305 Engineering Fluid Mechanics.  "
   ]
  },
  {
   "cell_type": "markdown",
   "metadata": {},
   "source": [
    "The depth-step refers to fixed changes in depth for which we solve to find the variable spatial steps. \n",
    "The method is a very simple method for computing water surface profiles in prismatic channels. \n",
    "A prismatic channel is a channel of uniform cross sectional geometry with constant bed (topographic) slope.\n",
    "\n",
    ":::{note}\n",
    "The textbook calls this the **Direct Step Method**\n",
    ":::\n",
    "\n",
    "In such channels with smooth (non-jump) steady flow the continunity and momentum equations are:\n",
    "\n",
    "**Continunity**\n",
    "\n",
    "$$Q = AV$$ \n",
    "\n",
    "where <br>\n",
    "\n",
    "$Q$ is volumetric discharge, <br>\n",
    "$A$ is cross sectional flow area, and<br>\n",
    "$V$ is the mean section velocity. <br>\n",
    "\n",
    "**Momentum**\n",
    "\n",
    "$$ \\frac{V}{g}\\frac{dV}{dx} + \\frac{dy}{dx} = S_0 - S_f $$\n",
    "\n",
    "where $y$ is the flow depth (above the bottom), and $x$ is horizontal the distance along the channel.\n",
    "\n",
    "For the depth-step method, the momentum equation is rewritten as a difference equation (after application of calculus to gather terms) then rearranged to solve for the spatial step dimension\n",
    "\n",
    "$$ \\frac{\\frac{V_{i+1}^2}{2g}-\\frac{V_i^2}{2g}}{\\Delta x} + \\frac{h_{i+1}-h_i}{\\Delta x} = S_0 - \\bar S_f$$\n",
    "\n",
    "where $\\bar S$ is the average slope of the energy grade line between two sections (along a reach of length $\\Delta x$, the unknown value).\n",
    "\n",
    "Rearrangement to isolate $\\Delta x$ produces an explicit update equation that can be evaluated to find the different values of $\\Delta x$ associated with different flow depths. The plot of the accumulated spatial changes versus the sum of the flow depth and bottom elevation is the water surface profile.\n",
    "\n",
    "$$\\Delta x = \\frac{(y_{i+1}+\\frac{V_{i+1}^2}{2g} )- (y_{i}+\\frac{V_{i}^2}{2g} )}{S_0-\\bar S_f}$$\n",
    "\n",
    "The distance between two sections with known discharges is computed using the\n",
    "equation, all the terms on the left hand side are known values. The mean energy\n",
    "gradient ($\\bar S_f$ ) is computed from the mean of the velocity, depth, area, and hydraulic radius for the two sections.\n",
    "\n",
    "The friction slope can be computed using Manning’s, Chezy, or the Darcy-Weisbach friction equations adapted for non-circular, free-surface conduits.\n"
   ]
  },
  {
   "cell_type": "markdown",
   "metadata": {},
   "source": [
    "### Example 1A\n",
    "\n",
    "The figure below is a backwater curve for a rectangular channel with discharge over a weir (on the right hand side — not depicted).The channel width is 5 meters, bottom slope 0.001, Manning’s n = 0.02 and discharge Q = 55.4m$^3$.\n",
    "\n",
    "![](bw_curve1.png)\n",
    "\n",
    ":::{note}\n",
    "The figure is from: Page 85. Koutitas, C.G. (1983). Elements of Computational Hydraulics. Pentech Press, London 138p. ISBN 0-7273-0503-4\n",
    ":::\n",
    "\n",
    "The goal is to replicate the fugure using computational thinking (ENGR 1330) methods.  The depth-step method already described is an algorithm, we have to simply determine the direction to integrate - supply known depths at a control section and the target depth (normal) for the algorithm, and let the computer do the heavy lifting.\n",
    "\n",
    "In this example, it is simple enough to create an Excel Spreadsheet as depicted below\n",
    "\n",
    "![](GVF-RECTANGLE.png)\n",
    "\n",
    "For complete documentation, include a \"Show Formulas\" version like\n",
    "\n",
    "![](GVF-RECTANGLE-FORMULAS.png)\n"
   ]
  },
  {
   "cell_type": "markdown",
   "metadata": {},
   "source": [
    "Our plot and computed location to normal depth is for all purposes the same as the original document."
   ]
  },
  {
   "cell_type": "markdown",
   "metadata": {},
   "source": [
    "## Background: Spatial-Step Backwater Method"
   ]
  },
  {
   "cell_type": "markdown",
   "metadata": {},
   "source": [
    "This method is used in most practical GVF solvers.\n",
    "- This method solves sequentially for y1, y2, y3, ... starting at the control section (upstream or downstream end) with known water depth y0.\n",
    "- Step size ($\\Delta x$) must be small enough so that changes in water depth aren’t very large. Otherwise estimates of the friction slope and the velocity head are inaccurate\n",
    ">1. For subcritical flows, calculations start downstream.\n",
    ">2. For supercritical flows, calculations start upstream.\n",
    "\n",
    ":::{note}\n",
    "The fixed-depth change, variable-space result above is a useful tool, but not terribly practical because we mostly perform engineering hydraulics calculations to estimate values (depth, pressure, force) at prescribed locations in space, so we need another approach to the problem where we can prescribe the spatial locations, and solve for the depths.\n",
    ":::"
   ]
  },
  {
   "cell_type": "markdown",
   "metadata": {},
   "source": [
    "### Analysis and Script\n",
    "\n",
    "First the gradually varied flow equation is rearranged for relating the change in specific energy between two section to the spatial difference and the slope differences as\n",
    "\n",
    "$$ \\Delta h_s = \\Delta (h + \\frac{V^2}{2g}) = \\Delta x (S_o - S_f) $$\n",
    "\n",
    "The computation of $h_{i+1},V_{i+1}$ from $h_i,V_i$ is performed by iteration.\n",
    "An initial value for $h_{i+1}$ that is known to be too large is used in the above Equation  along with the known value of $h_i$ to compute a trial value $h_{s(i+1)}$.\n",
    "\n",
    "Then the trial value is used in the right hand side of the Equation \n",
    "\n",
    "$$ h_s = (h + \\frac{V^2}{2g}) $$\n",
    "\n",
    "The two trial values are compared and the next value of $h_{i+1}$ is computed by sucessively decreasing until the two values computed by the difference equation and the definition of specific energy coincide.  Performing these calculations in a spreadsheet is complex, because the spreadsheet has to interate internally before moving to the next row (assuming flow is organized top to bottom). \n",
    "\n",
    "Far easier is to use our ENGR 1330 scripting skills, as in the the example below that uses a method from Hamming to make the comparisons and adjust the guesses until they are sufficiently close enough."
   ]
  },
  {
   "cell_type": "markdown",
   "metadata": {},
   "source": [
    "### Example 1B\n",
    "\n",
    "The figure below is a backwater curve for a rectangular channel with discharge over a weir (on the right hand side — not depicted).The channel width is 5 meters, bottom slope 0.001, Manning’s n = 0.02 and discharge Q = 55.4m$^3$.\n",
    "\n",
    "![](bw_curve1.png)\n",
    "\n",
    ":::{note}\n",
    "The figure is from: Page 85. Koutitas, C.G. (1983). Elements of Computational Hydraulics. Pentech Press, London 138p. ISBN 0-7273-0503-4\n",
    ":::\n",
    "\n",
    "This is the same conditions as above, except we are fixing the space locations and computing the depths."
   ]
  },
  {
   "cell_type": "markdown",
   "metadata": {},
   "source": [
    "The method employed is attributed to Hamming (cite and link to readings) that implements a Newton's-like method to match the left and right side of the difference equation.  \n",
    "\n",
    "Here is our algorithm, first we set up some problem constants:"
   ]
  },
  {
   "cell_type": "code",
   "execution_count": 1,
   "metadata": {},
   "outputs": [],
   "source": [
    "# Hamming's Method for Backwater Curve\n",
    "imax = 15             #number of computational stations\n",
    "dx = -758.0            #spacing between stations\n",
    "manningsN = 0.02     #mannings n value\n",
    "slopeChan = 0.001     #channel slope\n",
    "normalD  = 5.0       #upstream station normal depth\n",
    "controlD = 8.0       #downstream station control depth\n",
    "discharge = 55.4       #steady discharge"
   ]
  },
  {
   "cell_type": "markdown",
   "metadata": {},
   "source": [
    "Next we define the plan view geometry, in this example we explicitly enter the values, but we could just as well read the geometry from a file to generalize the script."
   ]
  },
  {
   "cell_type": "code",
   "execution_count": 2,
   "metadata": {},
   "outputs": [],
   "source": [
    "topwidth = [5 for i in range(imax)]\n",
    "topwidth = [float(i) for i in topwidth] # use of range() to set indices"
   ]
  },
  {
   "cell_type": "markdown",
   "metadata": {},
   "source": [
    "With topwidth defined, we can compute values of velocity at the control section (downstream pool in the example). The conrtol section has position 0 in the various lists within our script. Observe the two ways we can populate the vectors with constants, use whichever you fancy!"
   ]
  },
  {
   "cell_type": "code",
   "execution_count": 3,
   "metadata": {},
   "outputs": [],
   "source": [
    "velo = [0] * imax # allocate a velocity vector, put zeroes everywhere\n",
    "velo[0] = discharge/topwidth[0]/controlD #set velocity at control section\n",
    "depth = [normalD for i in range(0,imax)] # allocate a depth vector, put zeroes everywhere\n",
    "spDepth = [0 for i in range(0,imax)] # allocate a sp. depth vector, put zeroes everywhere\n",
    "spDepthT = [0 for i in range(0,imax)] # allocate a sp. depth vector, put zeroes everywhere"
   ]
  },
  {
   "cell_type": "markdown",
   "metadata": {},
   "source": [
    "Now set control section depth, and specific energy"
   ]
  },
  {
   "cell_type": "code",
   "execution_count": 4,
   "metadata": {},
   "outputs": [],
   "source": [
    "depth[0] = controlD # set control section depth\n",
    "spDepth[0] = ((velo[0]**2)/(2.0*9.81)) + depth[0]"
   ]
  },
  {
   "cell_type": "markdown",
   "metadata": {},
   "source": [
    "Now we implement the algorithm, starting from section 1 (just upstream of the control section) we use the difference equation and Hamming's method to find a value of depth that satisfies the difference equation.  Here are three loops, an outer one that processes each section and two inner loops that perform the balancing act - notice how the script breaks from a loop, when the conditions are satisfied."
   ]
  },
  {
   "cell_type": "code",
   "execution_count": 27,
   "metadata": {},
   "outputs": [],
   "source": [
    "## begin for loop 0 \n",
    "for i in range(1,imax):\n",
    "    depth[i] = 8.1 # set to greater than pool depth\n",
    "    difn = 1.0\n",
    "    dh = 0.00001\n",
    "### begin do while loop 1\n",
    "    while (dh > 0.00000001):\n",
    "        dif = difn\n",
    "        ntest = 0\n",
    "        depth[i] = depth[i]-dh\n",
    "#### begin do while loop 2\n",
    "        while (dh > 0):\n",
    "            velo[i] =discharge/topwidth[i]/depth[i]\n",
    "            avgDepth = 0.5*(depth[i-1]+depth[i])\n",
    "            avgTopW = 0.5*(topwidth[i-1]+topwidth[i])\n",
    "            avgV = discharge/avgTopW/avgDepth\n",
    "            hydR = avgDepth*avgTopW/(avgTopW+2.0*avgDepth)\n",
    "            sFric = (avgV**2)*(manningsN**2)/(hydR**(1.33))\n",
    "            spDepth[i] = spDepth[i-1]+(slopeChan-sFric)*dx\n",
    "            spDepthT[i] = depth[i]+(velo[i]**2/(2.0*9.81))\n",
    "            difn = spDepthT[i]-spDepth[i]\n",
    "# update\n",
    "            if(ntest > 0):\n",
    "                dh = dh/10.0\n",
    "                break #break from do while loop 2\n",
    "            if(dif*difn > 0):\n",
    "                break #break from do while loop 2\n",
    "            depth[i] = depth[i] + dh\n",
    "            ntest = 1\n",
    "#### end do while loop 2\n",
    "### end do while loop 1\n",
    "## end for loop 0"
   ]
  },
  {
   "cell_type": "markdown",
   "metadata": {},
   "source": [
    "Now we prepare the output for plotting"
   ]
  },
  {
   "cell_type": "code",
   "execution_count": 28,
   "metadata": {},
   "outputs": [],
   "source": [
    "distance = [0]*imax\n",
    "bottom = [0]*imax\n",
    "watersurface = [0]*imax\n",
    "for i in range(1,imax):\n",
    "    distance[i] = distance[i-1]+dx \n",
    "    bottom[i] = -distance[i]*slopeChan\n",
    "    watersurface[i] = depth[i]+bottom[i]\n",
    "watersurface[0] = depth[0]+bottom[0] # don't forget the control section!"
   ]
  },
  {
   "cell_type": "markdown",
   "metadata": {},
   "source": [
    "Here we just reuse the plotting methods from prior lessons, but substitute in the correct vector names"
   ]
  },
  {
   "cell_type": "code",
   "execution_count": 29,
   "metadata": {
    "scrolled": true
   },
   "outputs": [
    {
     "data": {
      "image/png": "[encoded data removed]",
      "text/plain": [
       "<Figure size 1600x800 with 1 Axes>"
      ]
     },
     "metadata": {},
     "output_type": "display_data"
    }
   ],
   "source": [
    "# Now plot the water surface profile\n",
    "import matplotlib.pyplot\n",
    "myfigure = matplotlib.pyplot.figure(figsize = (16,8)) # generate a object from the figure class, set aspect ratio\n",
    "# Built the plot\n",
    "matplotlib.pyplot.plot(distance, bottom,  color ='brown', linewidth=3)\n",
    "matplotlib.pyplot.plot(distance, watersurface,  color ='blue', linewidth=5)\n",
    "matplotlib.pyplot.ylabel(\"Elevation (meters)\")\n",
    "matplotlib.pyplot.xlabel(\"Distance (meters)\")\n",
    "mytitle = \"Water Surface Profile - Fixed Spatial Step Method\"\n",
    "matplotlib.pyplot.title(mytitle)\n",
    "matplotlib.pyplot.show()"
   ]
  },
  {
   "cell_type": "raw",
   "metadata": {
    "scrolled": true
   },
   "source": [
    "# Hamming's Method for Backwater Curve\n",
    "imax      = 13            #number of computational stations\n",
    "dx        = -0.3            #spacing between stations (meters)\n",
    "manningsN = 0.012         #mannings n value\n",
    "slopeChan = 0.0148         #channel slope\n",
    "normalD   = 0.21456       #upstream station normal depth\n",
    "controlD  = 0.26788       #downstream station control depth\n",
    "discharge = 0.00413       #steady discharge (compute from weir measurement)\n",
    "topwidth = [0.3048 for i in range(imax)]\n",
    "topwidth = [float(i) for i in topwidth] # use of range() to set indices\n",
    "observeD = [0.26788,0.26706,0.26214,0.25849,0.25392,0.24910,0.24456,0.24018,0.23511,0.23018,0.22574,0.22017,0.21456]\n",
    "############# BUILD LISTS TO STORE RESULTS #################\n",
    "velo = [0] * imax # allocate a velocity vector, put zeroes everywhere\n",
    "velo[0] = discharge/topwidth[0]/controlD #set velocity at control section\n",
    "depth = [controlD for i in range(0,imax)] # allocate a depth vector, put zeroes everywhere\n",
    "spDepth = [0 for i in range(0,imax)] # allocate a sp. depth vector, put zeroes everywhere\n",
    "spDepthT = [0 for i in range(0,imax)] # allocate a sp. depth vector, put zeroes everywheredepth[0] = controlD # set control section depth\n",
    "spDepth[0] = ((velo[0]**2)/(2.0*9.81)) + depth[0]## begin for loop 0 \n",
    "############# COMPUTATION LOOP(S) ##########################\n",
    "for i in range(1,imax):\n",
    "    depth[i] = 1.0 # modify as needed to get convergence\n",
    "    difn = 1.0\n",
    "    dh = 0.00001 # modify as needed for convergence\n",
    "### begin do while loop 1\n",
    "    while (dh > 0.00000001):\n",
    "        dif = difn\n",
    "        ntest = 0\n",
    "        depth[i] = depth[i]-dh\n",
    "#### begin do while loop 2\n",
    "        while (dh > 0):\n",
    "            velo[i] =discharge/topwidth[i]/depth[i]\n",
    "            avgDepth = 0.5*(depth[i-1]+depth[i])\n",
    "            avgTopW = 0.5*(topwidth[i-1]+topwidth[i])\n",
    "            avgV = discharge/avgTopW/avgDepth\n",
    "            hydR = avgDepth*avgTopW/(avgTopW+2.0*avgDepth)\n",
    "            sFric = (avgV**2)*(manningsN**2)/(hydR**(1.33))\n",
    "            spDepth[i] = spDepth[i-1]+(slopeChan-sFric)*dx\n",
    "            spDepthT[i] = depth[i]+(velo[i]**2/(2.0*9.81))\n",
    "            difn = spDepthT[i]-spDepth[i]\n",
    "# update    print(ntest)\n",
    "            if(ntest > 0):\n",
    "                dh = dh/10.0\n",
    "                break #break from do while loop 2\n",
    "            if(dif*difn > 0):\n",
    "                break #break from do while loop 2\n",
    "            depth[i] = depth[i] + dh\n",
    "            ntest = 1\n",
    "#### end do while loop 2\n",
    "### end do while loop 1\n",
    "## end for loop 0\n",
    "############ PREPARE LISTS FOR PLOTTING ################\n",
    "distance = [0]*imax\n",
    "bottom = [0]*imax\n",
    "watersurface = [0]*imax\n",
    "observedsurface = [0]*imax\n",
    "for i in range(1,imax):\n",
    "    distance[i] = distance[i-1]+dx \n",
    "    bottom[i] = -distance[i]*slopeChan\n",
    "    watersurface[i] = depth[i]+bottom[i]\n",
    "    observedsurface[i] = observeD[i]+bottom[i]\n",
    "watersurface[0] = depth[0]+bottom[0] # don't forget the control section!\n",
    "observedsurface[0]=observeD[0]+bottom[0]\n",
    "# Compute some error metrics\n",
    "sse = 0.0\n",
    "rpe = 0.0\n",
    "mae = 0.0\n",
    "for i in range(imax):\n",
    "    err=(watersurface[i]-observedsurface[i])\n",
    "    sse=sse+err**2\n",
    "    rpe= rpe + (err)/observedsurface[i]\n",
    "    \n",
    "mse = sse/float(imax)\n",
    "rms = math.sqrt(mse)\n",
    "mpe = rpe/float(imax)\n",
    "\n",
    "# Now plot the water surface profile\n",
    "import matplotlib.pyplot\n",
    "myfigure = matplotlib.pyplot.figure(figsize = (12,6)) # generate a object from the figure class, set aspect ratio\n",
    "# Built the plot\n",
    "matplotlib.pyplot.plot(distance, bottom, label=\"Channel Bottom\",  color ='brown', linewidth=5)\n",
    "matplotlib.pyplot.plot(distance, watersurface, label=\"Computed Water Surface\", color ='blue', linewidth=3)\n",
    "matplotlib.pyplot.plot(distance, observedsurface, label=\"Observed Water Surface\",  color ='black', marker='o',linestyle='none', markersize=10,markerfacecolor='none')\n",
    "matplotlib.pyplot.ylabel(\"Elevation (meters)\")\n",
    "matplotlib.pyplot.xlabel(\"Distance (meters)\")\n",
    "mytitle = \"Water Surface Profile - Fixed Spatial Step Method\" + \\\n",
    "\"\\n Channel Discharge = \" + str(round(discharge,4)) + \\\n",
    "\"\\n Channel Slope = \" + str(round(slopeChan,4)) + \\\n",
    "\"\\n Mean Squared Error = \" + str(round(rms, 4)) + \\\n",
    "\"\\n Mean Relative Prediction Error = \" + str(round(mpe, 4)) + \\\n",
    "\"\\n Root Mean Squared Error = \"  + str(round(rms, 4))\n",
    "matplotlib.pyplot.title(mytitle)\n",
    "matplotlib.pyplot.legend()\n",
    "matplotlib.pyplot.grid(True)\n",
    "matplotlib.pyplot.show()"
   ]
  },
  {
   "cell_type": "raw",
   "metadata": {},
   "source": [
    "for i in range(imax):\n",
    "    print(round(distance[i],3),round(depth[i],4),round(observeD[i],4))"
   ]
  },
  {
   "cell_type": "code",
   "execution_count": null,
   "metadata": {},
   "outputs": [],
   "source": []
  }
 ],
 "metadata": {
  "kernelspec": {
   "display_name": "Python 3 (ipykernel)",
   "language": "python",
   "name": "python3"
  },
  "language_info": {
   "codemirror_mode": {
    "name": "ipython",
    "version": 3
   },
   "file_extension": ".py",
   "mimetype": "text/x-python",
   "name": "python",
   "nbconvert_exporter": "python",
   "pygments_lexer": "ipython3",
   "version": "3.10.12"
  }
 },
 "nbformat": 4,
 "nbformat_minor": 4
}
