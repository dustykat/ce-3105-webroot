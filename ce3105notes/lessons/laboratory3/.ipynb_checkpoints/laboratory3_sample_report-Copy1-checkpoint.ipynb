{
 "cells": [
  {
   "cell_type": "markdown",
   "id": "39719457-4c8c-4b7c-94b8-ecaa00d05e15",
   "metadata": {},
   "source": [
    "# Laboratory 3 Sample Report"
   ]
  },
  {
   "cell_type": "code",
   "execution_count": null,
   "id": "00f71438-f446-41d9-a5ba-050bb5ead6d7",
   "metadata": {},
   "outputs": [],
   "source": [
    "%%html\n",
    "<style> table {margin-left: 0 !important;} </style>"
   ]
  },
  {
   "cell_type": "markdown",
   "id": "8311d28a-46ff-4c69-86d6-f4868b9809e5",
   "metadata": {},
   "source": [
    "## Flow Measurement\n",
    "\n",
    "### 1. Introduction\n",
    "\n",
    "The purpose of this laboratory exercise is to determine the flow rate of an incompressible fluid using various flow measurement devices, including Venturi meter, orifice plate meter, and rotameter, and to evaluate their accuracy and suitability for subsequent measurements."
   ]
  },
  {
   "cell_type": "markdown",
   "id": "e6c4cd9c-c76e-4617-b7cf-7a1f77ec546a",
   "metadata": {},
   "source": [
    "### 2. Experimental Method\n",
    "\n",
    "#### Apparatus and Materials\n",
    "- Hydraulic bench with adjustable flow control\n",
    "- Venturi meter\n",
    "- Orifice plate meter\n",
    "- Rotameter\n",
    "- Stopwatch\n",
    "- Measuring beaker\n",
    "- Manometer tubes\n",
    "- Raspberry Pi Zero-W computer\n",
    "- Mass Flow Meter\n",
    "- Safety goggles\n",
    "\n",
    "#### Procedure\n",
    "1. **Setup Preparation**:\n",
    "   - Close all valves and ensure the hydraulic bench pump is turned off.\n",
    "   - Connect the Venturi meter, orifice plate meter, and rotameter to the hydraulic bench in series.\n",
    "\n",
    "2. **Flow Initialization**:\n",
    "   - Open the inlet valve gradually.\n",
    "   - Start the pump and adjust the discharge valve until the rotameter indicates a reading of approximately 10 mm.\n",
    "   \n",
    "3. **Data Collection**:\n",
    "   - Use the beaker and stopwatch to measure volumetric discharge at the outlet.  Usually record time to fill the beaker, repeat several times (at least 3), then compute the average time to fill the beaker.\n",
    "   - Record the rotameter and manometer readings for each flow condition.\n",
    "   - Incrementally increase the rotameter reading to approximately 220 mm, recording at least five measurements.\n",
    "   - Connect to the Raspberry Pi computer, find and start the measurement program (the instructor will usually get this working in advance as well as plumb the mass flow meter into the system); you can either program it to read meter counts or liters.\n",
    "   - Collect adequate readings to populate the data tables below (be sure you have 5 different flow rates)\n",
    "\n",
    "4. **Shutdown**:\n",
    "   - Stop the mass flow meter program (do an elegant exit from the program).\n",
    "   - Turn off the Raspberry Pi (from the console type \"sudo shutdown -h now\")\n",
    "   - Close the discharge valve, then the inlet valve, and turn off the pump.\n",
    "\n",
    "### Safety Considerations\n",
    "- Always wear safety goggles when handling pressurized systems and adding air to manometers.\n",
    "- Ensure that the bench and surrounding area are free of obstructions to avoid tripping hazards.\n",
    "- Follow TA instructions when troubleshooting equipment, especially when dealing with flooded manometer tubes."
   ]
  },
  {
   "cell_type": "markdown",
   "id": "9ed4f444-3898-40df-9ad2-62235883d88c",
   "metadata": {},
   "source": [
    "### 3. Results\n",
    "The table below is the actual data collected for five (5) different flow settings.  All the values are direct readings except for the time-to-fill, which are arithmetic means from three repeated measurements.\n",
    "\n",
    "**Notes**\n",
    "\n",
    "1. Rotometer outlet heads were not read.\n",
    "2. Time to fill is arithmetic mean of three readings.\n",
    "\n",
    "|Quantity                |Device           |Trial 1|Trial 2|Trial 3|Trial 4|Trial 5|\n",
    "|:-----------------------|:----------------|-----:|-----:|-----:|-----:|-----:|\n",
    "|        |Venturi-In| 158 | 210 | 170 |  214 | 310 |\n",
    "|        |Venturi-Out| 110 | 132 | 80  | 90 | 302 |\n",
    "|        |Expansion-In| 150 | 196| 150 | 192 | 306  |\n",
    "|        |Expansion-Out| 170 | 192 | 170  |  192  | 302  |\n",
    "|Manometer Reading    |Orifice-In| 152 | 210 | 162 | 220 | 306  |\n",
    "|  (mm of water)      |Orfice-Out| 108 | 126 | 70  | 78 | 302 |\n",
    "|        |Elbow-In| 118 | 140 | 88 | 100|  302 |\n",
    "|        |Elbow-Out| 117 | 138 |  84 | 96 | 303  |\n",
    "|        |Rotometer-Out| --  |  --  |  --  | -- |  -- |\n",
    "|________________________|_________________|______|_______|_______|_______|_______|\n",
    "|Time to Fill (sec)|Beaker (2L)| 12.49 |  9.06 |  7.6 | 6.71 |  27.55 |\n",
    "|Counts per second |Mass Flow Meter| 85 | 113 | 122 | 146 | 31 |\n",
    "|Plummet height (mm) |Rotameter| 75 | 100 | 110 | 130 | 20 |\n",
    "|________________________|_________________|______|_______|_______|_______|_______|\n",
    "\n",
    "Formulas employed\n",
    "\n",
    "1. Venturi: $Q =C_{venturi} A_2~(\\frac{2g}{1-\\frac{A_2^2}{A_1^2}})~\\sqrt{\\frac{P_1}{\\rho g}-\\frac{P_2}{\\rho g}} $\n",
    "2. Expansion: $Q = C_{expansion} \\frac{\\sqrt{2g(h_1-h_2)}}{\\frac{1}{A_1}-\\frac{1}{A_2}} $\n",
    "3. Orifice: $Q =  C_{orifice} A_u~(\\frac{2g}{1-\\frac{A_d^2}{A_u^2}})~\\sqrt{\\frac{P_u}{\\rho g}-\\frac{P_d}{\\rho g}} $\n",
    "4. Flow Meter: $Q = C_{meter} \\frac{\\text{count}}{\\text{dwell interval}} $\n",
    "\n",
    "Scripts to accomplish the calculations are included below.\n",
    "\n",
    "The table below is populated with calculated values.  The flow rates are computed using the formulas listed above with meter constants set to 1.0. Once these flows are computed the appropriate meter constant is computed from the *true* flow, which is the value determined using the beaker and stopwatch.  These meter constants appear in the following table.\n",
    "\n",
    "**Notes**\n",
    "\n",
    "1. Flows in table are with meter constant of unity.\n",
    "2. Elbow not useful to meter flow, $\\Delta h$ values are too small (unreadable)\n",
    "\n",
    "|Quantity                |Device           |Trial 1|Trial 2|Trial 3|Trial 4|Trial 5|\n",
    "|:-----------------------|:----------------|-----:|-----:|-----:|-----:|-----:|\n",
    "|Volume Flow (l/sec)|Beaker|0.1601|0.2208|0.2632|0.2981|0.0726|\n",
    "|Volume Flow (l/sec)|Venturi|1.0082|1.2852|1.3806|1.6205|0.4116|\n",
    "|Volume Flow (l/sec)|Expansion|0.4437|0.1984|0.4437|0.1403|0.1984|\n",
    "|Volume Flow (l/sec)|Orifice|8.8957|12.2911|12.8631|15.9807|2.6821|\n",
    "|Volume Flow (l/sec)|Elbow|--|--|--|--|--|\n",
    "|________________________|_________________|______|_______|_______|_______|_______|\n",
    "\n",
    "The table below is a listing of the meter constants for the various devices.\n",
    "\n",
    "**Notes**\n",
    "\n",
    "1. Divide Beaker flow (above) by device flow to determine meter constant; use to populate table below.\n",
    "\n",
    "|Quantity                |Device           |Trial 1|Trial 2|Trial 3|Trial 4|Trial 5|\n",
    "|:-----------------------|:----------------|-----:|-----:|-----:|-----:|-----:|\n",
    "|Meter Constant|Rotameter|0.0021|0.0022|0.0024|0.0023|0.0036|\n",
    "|Meter Constant|Venturi|0.1587|0.1718|0.1906|0.1839|0.1764|\n",
    "|Meter Constant|Expansion|0.3608|1.1129|0.5931|2.1247|0.3659|\n",
    "|Meter Constant|Orifice|0.0179|0.0179|0.0205|0.0186|0.0271|\n",
    "|Meter Constant|Mass Flow Meter|0.0019|0.002|0.0022|0.002|0.0023|\n",
    "|________________________|_________________|______|_______|_______|_______|_______|\n",
    "\n",
    "The flows can be converted to mass flows by multiplication of the flow rate with the specific mass (density) of the liquid.\n",
    "\n",
    "<!--\n",
    "|Quantity                |Device           |Trial 1|Trial 2|Trial 3|Trial 4|Trial 5|\n",
    "|:-----------------------|:----------------|-----:|-----:|-----:|-----:|-----:|\n",
    "|                        |Venturi          |      |       |       |       |       |\n",
    "|                        |Orifice          |      |       |       |       |       |\n",
    "|Mass Flow (kg/sec)      |Rotameter        |      |       |       |       |       |\n",
    "|                        |Beaker           |      |       |       |       |       |\n",
    "|                        |Mass Flow Meter  |      |       |       |       |       |\n",
    "|________________________|_________________|______|_______|_______|_______|_______|\n",
    "\n",
    "<!--|        |Venturi|      |       |       |       |       |\n",
    "|        |Orifice|      |       |       |       |       |\n",
    "|Head Loss (meters)     |Rotameter|      |       |       |       |       |\n",
    "|        |Diffuser|      |       |       |       |       |\n",
    "|        |Elbow|      |       |       |       |       |\n",
    "|________________________|_________________|______|_______|_______|_______|_______|\n",
    "|        |Venturi|      |       |       |       |       |\n",
    "|        |Orifice|      |       |       |       |       |\n",
    "|$\\Delta H$/Kinetic Head$_{inlet}$     |Rotameter|      |       |       |       |       |\n",
    "|        |Diffuser|      |       |       |       |       |\n",
    "|        |Elbow|      |       |       |       |       |\n",
    "-->\n",
    "\n",
    "- Include sample calculations for discharge and mass flow.\n",
    "\n",
    "### 4. Discussion of Experimental Results\n",
    "\n",
    "The purpose of this experiment was to analyze the accuracy and reliability of different flow measurement devices and compare their performance against theoretical predictions. Each device was calibrated using a stopwatch and beaker—our reference measurement—which provided the most direct and fundamental means of determining flow rate. The devices under evaluation included a mass flow meter (hall effect counter), a venturi device, an expansion fitting, an orifice plate, and a rotameter.\n",
    "\n",
    "#### Accuracy and Reliability of Devices\n",
    "\n",
    "Among the devices tested, the mass flow meter, orifice plate, and rotameter demonstrated the most stable performance, returning consistent meter constants across multiple trials. This suggests that their measurement mechanisms are inherently more reliable under our test conditions. The mass flow meter, in particular, relies on a turbine rotation count correlated to flow rate through a predefined meter constant. While the theoretical meter constant was used initially, some deviation from expected values was observed. Refining this constant based on experimental data may yield a more accurate calibration.\n",
    "\n",
    "|Device           |Meter Constant|Standard Deviation|\n",
    "|:----------------|-----:|-----:|\n",
    "|Venturi          |0.1763|0.0122|\n",
    "|Expansion        |0.0911|0.7441|\n",
    "|Orifice          |0.0204|0.0039|\n",
    "|Rotameter        |0.0025|0.0006|\n",
    "|Mass Flow Meter  |0.0021|0.0001|\n",
    "|________________________|_________________|______|\n",
    "\n",
    "In contrast, the venturi device and expansion fitting exhibited significant measurement variability, with standard deviations comparable to or exceeding the mean constant value by an order of magnitude.\n",
    "\n",
    "One probable source of error was the use of manometers to gauge pressure differences. The manometers proved difficult to read with sufficient precision, and minor fluctuations in fluid levels led to inconsistencies in derived flow rates. Additionally, the pressure changes measured across these devices were not large enough to generate a distinct and meaningful difference between readings, reducing the effectiveness of these methods for accurate flow measurement.\n",
    "\n",
    "#### Comparison with Theoretical Predictions\n",
    "\n",
    "Theoretically, each device should follow well-established flow equations—Bernoulli’s equation for differential pressure-based meters (venturi, expansion, orifice plate), empirical correlations for the rotameter, and manufacturer specifications for the mass flow meter. While the mass flow meter and orifice plate remained within expected tolerances, the venturi and expansion fittings deviated significantly. The expansion fitting, in particular, demonstrated poor reliability, reinforcing the idea that it is not a suitable method for precise flow measurement. Its sensitivity to small pressure changes, compounded by possible air entrapment or minor obstructions, likely contributed to its erratic readings.\n",
    "\n",
    "#### Sources of Error and Their Impact\n",
    "\n",
    "Several key sources of error influenced our results:\n",
    "\n",
    "1. Manometer Reading Difficulties – Small fluid level changes were challenging to distinguish, making pressure-based calculations prone to error.\n",
    "2. Measurement Resolution – Some devices did not produce large enough differences in readings to be reliably distinguished from background variation.\n",
    "3. Calibration and Meter Constants – The mass flow meter’s performance was dependent on its meter constant. While generally reliable, refining the constant based on experimental results could improve accuracy.\n",
    "4. Flow Variability – Minor pulsations or fluctuations in flow rate could have introduced additional inconsistencies, particularly in devices sensitive to small changes in pressure.\n",
    "\n",
    "Overall, while the mass flow meter, orifice plate, and rotameter provided useful and repeatable data, the venturi device and expansion fitting were less effective in this experimental setup. The expansion fitting, in particular, should not be relied upon for accurate flow measurement due to its inherent instability and sensitivity to measurement errors."
   ]
  },
  {
   "cell_type": "markdown",
   "id": "812a1436-3c80-4450-a21a-186128862a9e",
   "metadata": {},
   "source": [
    "### 5. Conclusion\n",
    "This experiment evaluated the accuracy and reliability of various flow measurement devices, with results highlighting both effective and ineffective methods under the given conditions. The key findings are summarized as follows:\n",
    "\n",
    "- Reliable Devices: The mass flow meter, orifice plate, and rotameter produced consistent meter constants, indicating that they can be reliably used for flow measurement when properly calibrated. The mass flow meter, in particular, exhibited a very small standard deviation, making it a strong candidate for precise liquid flow measurements, provided the liquid is compatible with its operating materials.\n",
    "\n",
    "- Unreliable Devices: The venturi device and expansion fitting showed significant variability, with standard deviations on the same order as or exceeding their mean meter constants. This suggests that these devices, under the tested conditions, were ineffective for accurate flow measurement. The primary sources of error were difficulties in reading manometers and insufficient pressure differentials to yield meaningful readings.\n",
    "\n",
    "- Experimental Validation of Flow Equations: The experimentally determined meter constants will be presented alongside the governing equations for each instrument, demonstrating how theoretical principles apply in practice and where deviations occur. The mass flow meter and orifice plate aligned well with theoretical expectations, while the venturi and expansion devices deviated significantly due to measurement limitations.\n",
    "\n",
    "---\n",
    "#### Mass Flow Meter \n",
    "\n",
    "The equation for using the mass flow meter is \n",
    "\n",
    "$Q = C_{meter} \\frac{\\text{count}}{\\text{dwell interval}} $\n",
    "\n",
    "with\n",
    "\n",
    "$C_{meter} = 0.0021$\n",
    "\n",
    "<font color='green'>**Recomended for measurements in future laboratory experiments**</font> because it is accurate and portable in contrast to the Rotameter which is nearly as accurate, but not moveable (in our lab).\n",
    "\n",
    "---\n",
    "\n",
    "#### Rotameter\n",
    "\n",
    "The equation for using the Rotameter meter is \n",
    "\n",
    "$Q = C_{rotameter} ~\\text{Plummet Location} $\n",
    "\n",
    "with\n",
    "\n",
    "$C_{rotameter} = 0.0025$\n",
    "\n",
    "<font color='orange'>**Suitable for measurements in future laboratory experiments**</font> because it is accurate, but not moveable to other lab set ups.\n",
    "\n",
    "---\n",
    "\n",
    "#### Orifice Plate\n",
    "The equation for using the orifice plate as a flow meter is \n",
    "\n",
    "$Q =  C_{orifice} A_u~(\\frac{2g}{1-\\frac{A_d^2}{A_u^2}})~\\sqrt{\\frac{P_u}{\\rho g}-\\frac{P_d}{\\rho g}} $\n",
    "\n",
    "with\n",
    "\n",
    "$C_{orifice} = 0.0204$\n",
    "\n",
    "---\n",
    "#### Venturi Meter\n",
    "\n",
    "The equation for using a venturi meter is \n",
    "\n",
    "$Q =C_{venturi} A_2~(\\frac{2g}{1-\\frac{A_2^2}{A_1^2}})~\\sqrt{\\frac{P_1}{\\rho g}-\\frac{P_2}{\\rho g}} $\n",
    "\n",
    "with\n",
    "\n",
    "$C_{venturi} = 0.1763$\n",
    "\n",
    "<font color='red'>**Not recomended for vital measurements in future laboratory experiments**</font>\n",
    "\n",
    "---\n",
    "#### Expansion Meter\n",
    "\n",
    "The equation for using an expansion as a meter is \n",
    "\n",
    "$Q = C_{expansion} \\frac{\\sqrt{2g(h_1-h_2)}}{\\frac{1}{A_1}-\\frac{1}{A_2}} $\n",
    "\n",
    "with\n",
    "\n",
    "$C_{expansion} = 0.0911$\n",
    "\n",
    "<font color='red'>**Not recomended for vital measurements in future laboratory experiments**</font>\n",
    "\n",
    "---\n",
    "\n",
    "#### Implications for Fluid Mechanics\n",
    "\n",
    "These findings reinforce the importance of selecting appropriate flow measurement methods based on precision requirements and operating conditions. Devices that rely on pressure differentials must generate sufficiently large and readable values to be effective, while those with inherently stable sensor-based mechanisms, such as the mass flow meter, can provide highly reliable data. The study highlights the necessity of experimental validation in fluid mechanics applications, ensuring that theoretical assumptions align with real-world performance."
   ]
  },
  {
   "cell_type": "markdown",
   "id": "6d078d8e-eda3-41cf-88f1-6f0a541d7ba8",
   "metadata": {},
   "source": [
    "### 6. References\n",
    "\n",
    "1. Holman, J.P., Experimental Methods for Engineers, 8th Ed., McGraw-Hill, 2012.\n",
    "1. [Engineering Fluid Mechanics - Chapter 2](http://54.243.252.9/ce-3105-webroot/2-Exercises/laboratory1/EFM-2.pdf)\n",
    "2. [Engineering Fluid Mechanics - Chapter 11 (Cd for spheres, p.414)](http://54.243.252.9/ce-3105-webroot/2-Exercises/laboratory1/EFM-22.pdf)\n",
    "3. [Holman, J.P. (2012) *Experimental Methods for Engineers*, 8th Ed. (Chapters 1-3)](https://mech.at.ua/HolmanICS.pdf)\n",
    "4. [Mass Flow Meter & Datalogger Scripts](http://54.243.252.9/ce-3105-webroot/ce3105notes/_build/html/lessons/laboratory3/massflowmeters.html)  Programs used in the laboratory \n",
    "\n"
   ]
  },
  {
   "cell_type": "markdown",
   "id": "98733398-8f37-4645-b392-0fe14497c81b",
   "metadata": {},
   "source": [
    "### 7. Analysis Scripts"
   ]
  },
  {
   "cell_type": "code",
   "execution_count": 92,
   "id": "cd9a40bc-7888-4e65-b899-7fd965eb2804",
   "metadata": {},
   "outputs": [
    {
     "name": "stdout",
     "output_type": "stream",
     "text": [
      "Flow rate by beaker time to fill =  0.0726  liters/second\n"
     ]
    }
   ],
   "source": [
    "def beakerflow(volume,time2fill):\n",
    "    beakerflow = volume/time2fill\n",
    "    return beakerflow\n",
    "\n",
    "volume = 2 #liters\n",
    "time2fill = 27.55 #seconds\n",
    "\n",
    "print(\"Flow rate by beaker time to fill = \",round(beakerflow(volume,time2fill),4),\" liters/second\")"
   ]
  },
  {
   "cell_type": "code",
   "execution_count": 93,
   "id": "8c975115-aa11-45e0-82b9-64b5492eb80d",
   "metadata": {},
   "outputs": [
    {
     "name": "stdout",
     "output_type": "stream",
     "text": [
      "Meter Constant =  0.0023  LPS/count\n"
     ]
    }
   ],
   "source": [
    "def meterconstant(flowrate,counts):\n",
    "    meterconstant = flowrate/float(counts)\n",
    "    return meterconstant\n",
    "\n",
    "flowrate = 0.0726 #LPS\n",
    "counts = 31 #counts/dwell time\n",
    "\n",
    "print(\"Meter Constant = \",round(meterconstant(flowrate,counts),4),\" LPS/count\")"
   ]
  },
  {
   "cell_type": "code",
   "execution_count": 94,
   "id": "a3bd1561-bb2a-45c1-9be1-0e0abad82b46",
   "metadata": {},
   "outputs": [
    {
     "name": "stdout",
     "output_type": "stream",
     "text": [
      "Venturi Flow Rate  1.0082  LPS \n"
     ]
    }
   ],
   "source": [
    "def venturi(cd,a1,a2,h1,h2,g):\n",
    "    import math\n",
    "    venturi = cd*a2*((2*g)/(1-(a2**2)/(a1**2)))*math.sqrt(h1-h2)\n",
    "    return venturi\n",
    "\n",
    "cventuri = 1.0\n",
    "area1 = 530.9 #mm^2\n",
    "area2 = 201.1 #mm^2\n",
    "h1 = 158 #mm\n",
    "h2 = 110 #mm\n",
    "g = 9.800 #m/s^2\n",
    "area1 = area1/1000/1000\n",
    "area2 = area2/1000/1000\n",
    "h1 = h1/1000\n",
    "h2 = h2/1000\n",
    "\n",
    "print(\"Venturi Flow Rate \",round(1000*venturi(cventuri,area1,area2,h1,h2,g),4),\" LPS \")"
   ]
  },
  {
   "cell_type": "code",
   "execution_count": 95,
   "id": "fa715a23-641f-42e8-9dc1-5f8eba098f12",
   "metadata": {},
   "outputs": [
    {
     "name": "stdout",
     "output_type": "stream",
     "text": [
      "Orifice Flow Rate  2.6821  LPS \n"
     ]
    }
   ],
   "source": [
    "def orifice(cd,a1,a2,h1,h2,g):\n",
    "    import math\n",
    "    orifice = cd*a1*((2*g)/(1-(a2**2)/(a1**2)))*math.sqrt(h1-h2)\n",
    "    return orifice\n",
    "\n",
    "corifice = 1.0\n",
    "area1 = 2116 #mm^2\n",
    "area2 = 314.16 #mm^2\n",
    "h1 = 306 #mm\n",
    "h2 = 302 #mm\n",
    "g = 9.800 #m/s^2\n",
    "area1 = area1/1000/1000\n",
    "area2 = area2/1000/1000\n",
    "h1 = h1/1000\n",
    "h2 = h2/1000\n",
    "\n",
    "print(\"Orifice Flow Rate \",round(1000*orifice(corifice,area1,area2,h1,h2,g),4),\" LPS \")"
   ]
  },
  {
   "cell_type": "code",
   "execution_count": 96,
   "id": "f8dc43fa-58d1-461c-b192-128b718f3c3b",
   "metadata": {},
   "outputs": [
    {
     "name": "stdout",
     "output_type": "stream",
     "text": [
      "Expansion Flow Rate  0.1984  LPS \n"
     ]
    }
   ],
   "source": [
    "def expansion(cd,a1,a2,h1,h2,g):\n",
    "    import math\n",
    "    expansion = cd*math.sqrt(2*g*abs(h1-h2))/((1/a1)-(1/a2))\n",
    "    return expansion\n",
    "\n",
    "cexpansion = 1.0\n",
    "area1 = 530.9 #mm^2\n",
    "area2 = 2116 #mm^2\n",
    "h1 = 306 #mm\n",
    "h2 = 302 #mm\n",
    "g = 9.800 #m/s^2\n",
    "area1 = area1/1000/1000\n",
    "area2 = area2/1000/1000\n",
    "h1 = h1/1000\n",
    "h2 = h2/1000\n",
    "\n",
    "print(\"Expansion Flow Rate \",round(1000*expansion(cexpansion,area1,area2,h1,h2,g),4),\" LPS \")"
   ]
  },
  {
   "cell_type": "code",
   "execution_count": 97,
   "id": "2890c607-d6d2-4bc7-9d8c-4057b3a3b0de",
   "metadata": {},
   "outputs": [
    {
     "name": "stdout",
     "output_type": "stream",
     "text": [
      "Cross Section Area =  314.159  sq.mm. \n"
     ]
    }
   ],
   "source": [
    "import math\n",
    "d = 20/1000\n",
    "area = 0.25*math.pi*d**2\n",
    "print(\"Cross Section Area = \",round(area*1000*1000,3),\" sq.mm. \")"
   ]
  }
 ],
 "metadata": {
  "kernelspec": {
   "display_name": "Python Common Environment",
   "language": "python",
   "name": "python-my-env"
  },
  "language_info": {
   "codemirror_mode": {
    "name": "ipython",
    "version": 3
   },
   "file_extension": ".py",
   "mimetype": "text/x-python",
   "name": "python",
   "nbconvert_exporter": "python",
   "pygments_lexer": "ipython3",
   "version": "3.10.12"
  }
 },
 "nbformat": 4,
 "nbformat_minor": 5
}
