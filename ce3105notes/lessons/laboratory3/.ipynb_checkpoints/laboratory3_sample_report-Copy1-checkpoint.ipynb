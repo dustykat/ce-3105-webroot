{
 "cells": [
  {
   "cell_type": "markdown",
   "id": "6aeb6a43-7a76-4a8f-8000-7be412c9047b",
   "metadata": {},
   "source": [
    "# Laboratory 3 Sample Report\n",
    "\n",
    "## Title: [Insert Experiment Title]\n",
    "\n",
    "### 1. Introduction\n",
    "- Provide an overview of flow measurement principles.\n",
    "- State the objectives of the experiment.\n",
    "\n",
    "### 2. Methods\n",
    "- Describe the experimental setup and procedure in detail.\n",
    "\n",
    "### 3. Results\n",
    "- Present recorded data in tables and graphs (e.g., calibration curves).\n",
    "\n",
    "The table below is the actual data collected for five (5) different flow settings.  All the values are direct readings except for the time-to-fill, which are arithmetic means from three repeated measurements.\n",
    "\n",
    "**Notes**\n",
    "\n",
    "1. Rotometer outlet heads were not read.\n",
    "2. Time to fill is arithmetic mean of three readings.\n",
    "\n",
    "|Quantity                |Device           |Trial 1|Trial 2|Trial 3|Trial 4|Trial 5|\n",
    "|:-----------------------|:----------------|-----:|-----:|-----:|-----:|-----:|\n",
    "|        |Venturi-In| 158 | 210 | 170 |  214 | 310 |\n",
    "|        |Venturi-Out| 110 | 132 | 80  | 90 | 302 |\n",
    "|        |Expansion-In| 150 | 196| 150 | 192 | 306  |\n",
    "|        |Expansion-Out| 170 | 192 | 170  |  192  | 302  |\n",
    "|Manometer Reading    |Orifice-In| 152 | 210 | 162 | 220 | 306  |\n",
    "|  (mm of water)      |Orfice-Out| 108 | 126 | 70  | 78 | 302 |\n",
    "|        |Elbow-In| 118 | 140 | 88 | 100|  302 |\n",
    "|        |Elbow-Out| 117 | 138 |  84 | 96 | 303  |\n",
    "|        |Rotometer-Out| --  |  --  |  --  | -- |  -- |\n",
    "|________________________|_________________|______|_______|_______|_______|_______|\n",
    "|Time to Fill (sec)|Beaker (2L)| 12.49 |  9.06 |  7.6 | 6.71 |  27.55 |\n",
    "|Counts per second |Mass Flow Meter| 85 | 113 | 122 | 146 | 31 |\n",
    "|Plummet height (mm) |Rotameter| 75 | 100 | 110 | 130 | 20 |\n",
    "|________________________|_________________|______|_______|_______|_______|_______|\n",
    "\n",
    "Formulas employed\n",
    "\n",
    "1. Venturi: $Q =C_{venturi} A_2~(\\frac{2g}{1-\\frac{A_2^2}{A_1^2}})~\\sqrt{\\frac{P_1}{\\rho g}-\\frac{P_2}{\\rho g}} $\n",
    "2. Expansion: $Q = C_{expansion} \\frac{\\sqrt{2g(h_1-h_2)}}{\\frac{1}{A_1}-\\frac{1}{A_2}} $\n",
    "3. Orifice: $Q =  C_{orifice} A_u~(\\frac{2g}{1-\\frac{A_d^2}{A_u^2}})~\\sqrt{\\frac{P_u}{\\rho g}-\\frac{P_d}{\\rho g}} $\n",
    "\n",
    "The table below is populated with calculated values\n",
    "\n",
    "**Notes**\n",
    "\n",
    "1. Venturi flow needs a meter constant to read correctly.\n",
    "2. Expansion uses same equation as venturi, but different meter constant\n",
    "3. Orifice plate uses same equation as venturi, but different meter constant\n",
    "4. Elbow not useful to meter flow, $\\Delta h$ values are too small (unreadable)\n",
    "\n",
    "|Quantity                |Device           |Trial 1|Trial 2|Trial 3|Trial 4|Trial 5|\n",
    "|:-----------------------|:----------------|-----:|-----:|-----:|-----:|-----:|\n",
    "|Volume Flow (l/sec)|Beaker|0.1601|0.2208|0.2632|0.2981|0.0726|\n",
    "|Volume Flow (l/sec)|Venturi|1.0082|1.2852|1.3806|1.6205|0.4116|\n",
    "|Volume Flow (l/sec)|Expansion|0.4437|0.1984|0.4437|0.1403|0.1984|\n",
    "|Volume Flow (l/sec)|Orifice|8.8957|12.2911|12.8631|15.9807|2.6821|\n",
    "|Volume Flow (l/sec)|Elbow|--|--|--|--|--|\n",
    "|Meter Constant|Mass Flow Meter|0.0019|0.002|0.0022|0.002|0.0023|\n",
    "|Meter Constant|Rotameter|0.0021|0.0022|0.0024|0.0023|0.0036|\n",
    "|Meter Constant|Venturi|0.1587|0.1718|0.1906|0.1839|0.1764|\n",
    "|Meter Constant|Expansion|0.3608|1.1129|0.5931|2.1247|0.3659|\n",
    "|        |Beaker|0.1601|0.2208|0.2632|0.2981|0.0726|\n",
    "|Meter Constant|Mass Flow Meter|      |       |       |       |       |\n",
    "|________________________|_________________|______|_______|_______|_______|_______|\n",
    "|        |Venturi|      |       |       |       |       |\n",
    "|        |Orifice|      |       |       |       |       |\n",
    "|Mass Flow (kg/sec)     |Rotameter|      |       |       |       |       |\n",
    "|        |Beaker|      |       |       |       |       |\n",
    "|        |Mass Flow Meter|      |       |       |       |       |\n",
    "|________________________|_________________|______|_______|_______|_______|_______|\n",
    "|        |Venturi|      |       |       |       |       |\n",
    "|        |Orifice|      |       |       |       |       |\n",
    "|Head Loss (meters)     |Rotameter|      |       |       |       |       |\n",
    "|        |Diffuser|      |       |       |       |       |\n",
    "|        |Elbow|      |       |       |       |       |\n",
    "|________________________|_________________|______|_______|_______|_______|_______|\n",
    "|        |Venturi|      |       |       |       |       |\n",
    "|        |Orifice|      |       |       |       |       |\n",
    "|$\\Delta H$/Kinetic Head$_{inlet}$     |Rotameter|      |       |       |       |       |\n",
    "|        |Diffuser|      |       |       |       |       |\n",
    "|        |Elbow|      |       |       |       |       |\n",
    "\n",
    "- Include sample calculations for discharge and mass flow.\n",
    "\n",
    "### 4. Discussion\n",
    "- Analyze the accuracy and reliability of each device.\n",
    "- Compare experimental results with theoretical predictions.\n",
    "- Does the mass flow meter have the correct meter constant (a value that relates turbine rotations to flow rate); if not suggest a better constant.\n",
    "- Identify potential sources of error and their impact.\n",
    "\n",
    "- Expansion fitting is not a reliable means to measure flow rate.\n",
    "\n",
    "### 5. Conclusion\n",
    "- Summarize key findings and their implications for fluid mechanics.\n",
    "\n",
    "### 6. References\n",
    "- List all sources, including manuals, instructional videos, and textbooks.\n"
   ]
  },
  {
   "cell_type": "code",
   "execution_count": 6,
   "id": "cd9a40bc-7888-4e65-b899-7fd965eb2804",
   "metadata": {},
   "outputs": [
    {
     "name": "stdout",
     "output_type": "stream",
     "text": [
      "Flow rate by beaker time to fill =  0.0726  liters/second\n"
     ]
    }
   ],
   "source": [
    "def beakerflow(volume,time2fill):\n",
    "    beakerflow = volume/time2fill\n",
    "    return beakerflow\n",
    "\n",
    "volume = 2 #liters\n",
    "time2fill = 27.55 #seconds\n",
    "\n",
    "print(\"Flow rate by beaker time to fill = \",round(beakerflow(volume,time2fill),4),\" liters/second\")"
   ]
  },
  {
   "cell_type": "code",
   "execution_count": 17,
   "id": "8c975115-aa11-45e0-82b9-64b5492eb80d",
   "metadata": {},
   "outputs": [
    {
     "name": "stdout",
     "output_type": "stream",
     "text": [
      "Meter Constant =  0.0023  LPS/count\n"
     ]
    }
   ],
   "source": [
    "def meterconstant(flowrate,counts):\n",
    "    meterconstant = flowrate/float(counts)\n",
    "    return meterconstant\n",
    "\n",
    "flowrate = 0.0726 #LPS\n",
    "counts = 31 #counts/dwell time\n",
    "\n",
    "print(\"Meter Constant = \",round(meterconstant(flowrate,counts),4),\" LPS/count\")"
   ]
  },
  {
   "cell_type": "code",
   "execution_count": 57,
   "id": "a3bd1561-bb2a-45c1-9be1-0e0abad82b46",
   "metadata": {},
   "outputs": [
    {
     "name": "stdout",
     "output_type": "stream",
     "text": [
      "Venturi Flow Rate  1.0082  LPS \n"
     ]
    }
   ],
   "source": [
    "def venturi(cd,a1,a2,h1,h2,g):\n",
    "    import math\n",
    "    venturi = cd*a2*((2*g)/(1-(a2**2)/(a1**2)))*math.sqrt(h1-h2)\n",
    "    return venturi\n",
    "\n",
    "cventuri = 1.0\n",
    "area1 = 530.9 #mm^2\n",
    "area2 = 201.1 #mm^2\n",
    "h1 = 158 #mm\n",
    "h2 = 110 #mm\n",
    "g = 9.800 #m/s^2\n",
    "area1 = area1/1000/1000\n",
    "area2 = area2/1000/1000\n",
    "h1 = h1/1000\n",
    "h2 = h2/1000\n",
    "\n",
    "print(\"Venturi Flow Rate \",round(1000*venturi(cventuri,area1,area2,h1,h2,g),4),\" LPS \")"
   ]
  },
  {
   "cell_type": "code",
   "execution_count": 77,
   "id": "fa715a23-641f-42e8-9dc1-5f8eba098f12",
   "metadata": {},
   "outputs": [
    {
     "name": "stdout",
     "output_type": "stream",
     "text": [
      "Orifice Flow Rate  2.6821  LPS \n"
     ]
    }
   ],
   "source": [
    "def orifice(cd,a1,a2,h1,h2,g):\n",
    "    import math\n",
    "    orifice = cd*a1*((2*g)/(1-(a2**2)/(a1**2)))*math.sqrt(h1-h2)\n",
    "    return orifice\n",
    "\n",
    "corifice = 1.0\n",
    "area1 = 2116 #mm^2\n",
    "area2 = 314.16 #mm^2\n",
    "h1 = 306 #mm\n",
    "h2 = 302 #mm\n",
    "g = 9.800 #m/s^2\n",
    "area1 = area1/1000/1000\n",
    "area2 = area2/1000/1000\n",
    "h1 = h1/1000\n",
    "h2 = h2/1000\n",
    "\n",
    "print(\"Orifice Flow Rate \",round(1000*orifice(corifice,area1,area2,h1,h2,g),4),\" LPS \")"
   ]
  },
  {
   "cell_type": "code",
   "execution_count": 72,
   "id": "f8dc43fa-58d1-461c-b192-128b718f3c3b",
   "metadata": {},
   "outputs": [
    {
     "name": "stdout",
     "output_type": "stream",
     "text": [
      "Expansion Flow Rate  0.1984  LPS \n"
     ]
    }
   ],
   "source": [
    "def expansion(cd,a1,a2,h1,h2,g):\n",
    "    import math\n",
    "    expansion = cd*math.sqrt(2*g*abs(h1-h2))/((1/a1)-(1/a2))\n",
    "    return expansion\n",
    "\n",
    "cexpansion = 1.0\n",
    "area1 = 530.9 #mm^2\n",
    "area2 = 2116 #mm^2\n",
    "h1 = 306 #mm\n",
    "h2 = 302 #mm\n",
    "g = 9.800 #m/s^2\n",
    "area1 = area1/1000/1000\n",
    "area2 = area2/1000/1000\n",
    "h1 = h1/1000\n",
    "h2 = h2/1000\n",
    "\n",
    "print(\"Expansion Flow Rate \",round(1000*expansion(cexpansion,area1,area2,h1,h2,g),4),\" LPS \")"
   ]
  },
  {
   "cell_type": "code",
   "execution_count": 46,
   "id": "2890c607-d6d2-4bc7-9d8c-4057b3a3b0de",
   "metadata": {},
   "outputs": [
    {
     "name": "stdout",
     "output_type": "stream",
     "text": [
      "0.0003141592653589793\n"
     ]
    }
   ],
   "source": [
    "import math\n",
    "d = 20/1000\n",
    "area = 0.25*math.pi*d**2\n",
    "print(area)"
   ]
  },
  {
   "cell_type": "code",
   "execution_count": null,
   "id": "d167d07e-10a8-411a-a6f2-df89e7ec0b25",
   "metadata": {},
   "outputs": [],
   "source": []
  }
 ],
 "metadata": {
  "kernelspec": {
   "display_name": "Python Common Environment",
   "language": "python",
   "name": "python-my-env"
  },
  "language_info": {
   "codemirror_mode": {
    "name": "ipython",
    "version": 3
   },
   "file_extension": ".py",
   "mimetype": "text/x-python",
   "name": "python",
   "nbconvert_exporter": "python",
   "pygments_lexer": "ipython3",
   "version": "3.10.12"
  }
 },
 "nbformat": 4,
 "nbformat_minor": 5
}
