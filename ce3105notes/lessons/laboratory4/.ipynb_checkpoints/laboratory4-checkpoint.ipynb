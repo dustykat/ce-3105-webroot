{
 "cells": [
  {
   "cell_type": "markdown",
   "metadata": {},
   "source": [
    "# Lab 4 - Pipe Friction\n",
    "\n",
    ":::{admonition} Course Website\n",
    "[http://54.243.252.9/ce-3105-webroot/](http://54.243.252.9/ce-3105-webroot/)\n",
    ":::"
   ]
  },
  {
   "cell_type": "markdown",
   "metadata": {},
   "source": [
    "This experiment examines the friction in a narrow diameter tube (pipe).\n",
    "\n"
   ]
  },
  {
   "cell_type": "markdown",
   "metadata": {},
   "source": [
    "## Readings\n",
    "\n",
    "1. [Laboratory 4 (circa 2020)](http://54.243.252.9/ce-3105-webroot/pdf-source/Experiment4FrictionLossinaPipe.pdf)\n",
    "2. [H-7 Friction Loss in a Pipe (User Manual)](http://54.243.252.9/ce-3105-webroot/7-user-manuals/H7-FrictionLossInAPipe.pdf)\n",
    "3. [Holman, J.P. (2012) *Experimental Methods for Engineers*, 8th Ed. (Chapters 1-3)](https://mech.at.ua/HolmanICS.pdf)\n",
    "4. [Mass Flow Meter & Datalogger Scripts](http://54.243.252.9/ce-3105-webroot/ce3105notes/_build/html/lessons/laboratory3/massflowmeters.html)  \n",
    "5. [Pressure Transducers & Datalogger Scripts  (Pressure Measurements with Analog to Digital Conversion)](http://54.243.252.9/ce-3105-webroot/ce3105notes/_build/html/lessons/laboratory44/laboratory44.html) Programs used in the laboratory (this section is also in the left navigation bar)"
   ]
  },
  {
   "cell_type": "markdown",
   "metadata": {},
   "source": [
    "## Videos\n",
    "\n",
    "1. [Laboratory 4 Instructional Video by Dr. Uddameri](https://www.youtube.com/watch?v=Xu132UBglpw)\n",
    "2. [Experiment #4: Head Loss in Pipes (UT Arlington)](https://www.youtube.com/watch?v=CuuNFqIEhQg)  A similar apparatus to the TTU set-up"
   ]
  },
  {
   "cell_type": "markdown",
   "metadata": {},
   "source": [
    "## Objective\n",
    "\n",
    "Observe flow behavior with varying velocity and Reynolds number; quantify the frictional loss as velocity is changed."
   ]
  },
  {
   "cell_type": "markdown",
   "metadata": {},
   "source": [
    "## Background"
   ]
  },
  {
   "cell_type": "markdown",
   "metadata": {},
   "source": [
    "## Modified Bernoulli Equation\n",
    "\n",
    "The equation below is the one-dimensional steady flow form of the energy equation typically applied for pressurized conduit hydraulics.\n",
    " \n",
    "$$\n",
    "\\frac{p_1}{\\rho g}+\\alpha_1 \\frac{V_1^2}{2g} + z_1 + h_p =\n",
    "\\frac{p_2}{\\rho g}+\\alpha_2 \\frac{V_2^2}{2g} + z_2 + h_t + h_l\n",
    "$$\n",
    "\n",
    "where $\\frac{p}{\\rho g}$ is the pressure head at a location, $\\alpha \\frac{V^2}{2g}$ is the velocity head at a location, $z$ is the elevation, $h_p$ is the added head from a pump, $h_t$ is the added head extracted by a turbine, and $h_l$ is the head loss between sections 1 and 2.   {numref}`closed-conduit-energy` is a sketch that illustrates the various components in the energy equation.\n",
    "\n",
    "```{figure} closed-conduit-energy.png\n",
    "---\n",
    "width: 400px\n",
    "name: closed-conduit-energy\n",
    "---\n",
    "Definition sketch for energy equation\n",
    "```\n",
    "\n",
    "In pipeline analysis this energy equation is applied to a link that joins two nodes.\n",
    "Pumps and turbines would be treated as separate components (links) and their hydraulic behavior must be supplied using their respective pump/turbine curves."
   ]
  },
  {
   "cell_type": "markdown",
   "metadata": {},
   "source": [
    "## Flow Regimes\n",
    "Laminar flow occurs at low velocities when the particles of waters move in\n",
    "parallel straight lines. The flow is smooth and well-ordered. As the velocity\n",
    "increases, the movement becomes undulating and at some point it breaks into\n",
    "vortices. The flow is turbulent in this case. Reynolds number classifies\n",
    "whether the flow is laminar or turbulent. For a circular pipe, it can be expressed as\n",
    "\n",
    "$$Re = \\frac{\\rho vD}{\\mu} = \\frac{vD}{\\nu}$$\n",
    "\n",
    "It is nearly impossible for turbulent flow to occur at Reynolds number less\n",
    "than 2000 as the turbulence will be restrained by the viscous resistance.\n",
    "However, there is a stage when laminar flow is becoming turbulent or turbulent is becoming laminar. This is transitional flow. \n",
    "\n",
    "For smooth pipes, the common classifications are:\n",
    "\n",
    "- Laminar Flow: $Re < 2000$\n",
    "- Transitional Flow: $2000 \\le Re \\le 4000$\n",
    "- Turbulent Flow: $Re > 4000$\n",
    "\n",
    "For laminar flow, the head loss due to friction is directly proportional to the velocity:\n",
    "$\\frac{\\Delta h}{L} \\propto v$\n",
    "\n",
    "For turbulent flow, the head loss due to friction is proportional to the velocity\n",
    "to a given power, $n$:\n",
    "$\\frac{\\Delta h}{L} \\propto v^n$\n",
    "\n",
    "The exponent, $n$ varies between 1.75 and 2. \n",
    "\n",
    "The flow velocity, $u$ can be found from the continuity equation when the\n",
    "cross-sectional area of the pipe is known:\n",
    "\n",
    "$$u = \\frac{Q}{A}$$\n",
    "\n",
    ":::{note}\n",
    "Osborne Reynolds, a British physicist and engineer, conducted his famous experiment in 1883 to study the transition between laminar and turbulent flow in pipes. His setup included a glass tube through which water flowed, with a small stream of dye introduced at the inlet. By varying the flow rate, Reynolds observed that:\n",
    "- At low velocities, the dye remained as a smooth, straight line, indicating laminar flow.\n",
    "- At higher velocities, the dye became irregular and dispersed, showing turbulent flow.\n",
    "- Between these two states, he noted a transitional phase.\n",
    "\n",
    "From his observations, Reynolds formulated a dimensionless number—now known as the Reynolds number ($Re_D$)—to characterize flow behavior. This number combines fluid properties (density and viscosity), flow velocity, and a characteristic length (such as pipe diameter). \n",
    "\n",
    "Reynolds' work established the critical thresholds for flow regimes:\n",
    "\n",
    "- Laminar flow: $Re<2000$\n",
    "- Transitional flow: $2000≤Re≤4000$\n",
    "- Turbulent flow: $Re>4000$\n",
    "\n",
    "Reynolds' experiment provided a foundation for understanding fluid dynamics, and the Reynolds number remains a fundamental tool in engineering, used to predict and analyze flow behavior in various systems.\n",
    "\n",
    ":::"
   ]
  },
  {
   "cell_type": "markdown",
   "metadata": {},
   "source": [
    "## Friction Factors in Fluid Flow\n",
    "\n",
    "Friction factors quantify the resistance to flow in closed (pipes, ducts) and open conduits (sewers, streams, flumes) from internal shear forces and surface roughness. Different models have been developed to describe friction losses under various conditions, with the most notable being the Darcy-Weisbach equation, the Chezy-Manning equation, and the Hazen-Williams equation.\n",
    "\n",
    "1. Darcy-Weisbach Equation\n",
    "\n",
    "The Darcy-Weisbach equation is the **most fundamental** and widely applicable model for frictional head loss in pipes. It expresses the head loss ($h_f$) due to friction as:\n",
    "\n",
    "$$h_f=f\\frac{L}{D}\\frac{v^2}{2g}$$\n",
    "\n",
    "\n",
    "Where:\n",
    "\n",
    "- $f$: Darcy friction factor (dimensionless)\n",
    "- $L$: Pipe length\n",
    "- $D$: Pipe diameter\n",
    "- $V$: Flow velocity\n",
    "- $g$: Gravitational acceleration\n",
    "\n",
    "The Darcy friction factor ($f$) depends on the Reynolds number ($Re$) and the relative roughness ($k/D$) of the pipe. For laminar flow ($Re<2000$), $f$ is directly proportional to $Re^{-1}$. For transitional and turbulent flow ($Re>2000$), empirical correlations like the Colebrook-White equation or the Moody chart are used to determine $f$.\n",
    "\n",
    "2. Chezy-Manning Equation\n",
    "\n",
    "The Chezy-Manning equation is typically used in open channel flow analysis. It relates the flow velocity ($v$) to the hydraulic radius ($R_h$) and slope of the energy gradient ($S_f$):\n",
    "\n",
    "$$v=\\frac{1}{n} {R_h}^{2/3}{S_f}^{1/2}$$\n",
    "\n",
    "\n",
    "\n",
    "Where:\n",
    "\n",
    "- $n$: Manning’s roughness coefficient\n",
    "- $R_h$: Hydraulic radius (A/PA/P, where AA is the flow area and PP is the wetted perimeter)\n",
    "- $S_f$: Energy slope (head loss per unit length)\n",
    "\n",
    "Manning's $n$ is an empirical coefficient that accounts for channel roughness, with values typically determined from tabulated data for different materials (e.g., concrete, soil, vegetation).\n",
    "\n",
    ":::{note}\n",
    "Rearranged as a head loss equation, Manning's Equation (SI Units) is\n",
    "\n",
    "$$h_f = \\frac{n^2 L v^2}{{R_h}^{4/3}}$$\n",
    "\n",
    "There are some references that relate roughness properties to Manning's $n$. (CITE Limneros)\n",
    "\n",
    ":::\n",
    "\n",
    "3. Hazen-Williams Equation\n",
    "\n",
    "The Hazen-Williams equation is an empirical formula widely used in water distribution systems (common in the USA, and some commonwealth nations). It estimates flow velocity ($v$) or discharge ($Q$) based on pipe roughness and diameter:\n",
    "\n",
    "$v=kCD^{0.63}S^{0.54}$\n",
    "\n",
    "Or equivalently:\n",
    "$Q=kCD^{2.63}S^{0.54}$\n",
    "\n",
    "\n",
    "Where:\n",
    "\n",
    "- $C$: Hazen-Williams roughness coefficient\n",
    "- $k$: Unit conversion constant\n",
    "- $D$: Pipe diameter\n",
    "- $S$: Hydraulic slope\n",
    "\n",
    "The Hazen-Williams coefficient ($C$) is specific to pipe material and condition, with higher values indicating smoother pipes. Unlike the Darcy-Weisbach equation, this formula is limited to turbulent flow in water systems and assumes a fixed dependency on flow conditions.\n",
    "\n",
    "Comparing the Models\n",
    "\n",
    "- Darcy-Weisbach: The most theoretically consistent with fluid mechanics.  It is versatile, applicable to all fluids, flow regimes, and pipe conditions. Requires iterative solutions in turbulent flow due to its dependence on $Re$ and $k/D$.\n",
    "- Chezy-Manning: Ideal for open channel flows. It simplifies calculations by focusing on geometric and material properties but lacks general applicability to pressurized flows.\n",
    "- Hazen-Williams: Convenient for design purposes in water supply systems but is inaccurate for extreme conditions or non-water fluids.\n",
    "\n",
    "Practical Applications\n",
    "\n",
    "- Darcy-Weisbach: Pipe design in chemical, mechanical, and civil engineering.\n",
    "- Chezy-Manning: Hydraulic analysis of natural streams, irrigation channels, and culverts.\n",
    "- Hazen-Williams: Urban water distribution networks and large pipelines.\n",
    "\n",
    "\n",
    "The friction factor in the laboratory will be determined using the Darcy-Weisbach model where, $f$ can be found as:\n",
    "\n",
    "$$f = \\frac{2 \\Delta h~g D}{L v^2} $$\n",
    "\n",
    "The necessary physical water properties corresponding to water temperature\n",
    "should be used. They can be found in tables such as [http://54.243.252.9/toolbox/fluidmechanics/WaterPropertiesUS/WaterPropertiesUS.html](http://54.243.252.9/toolbox/fluidmechanics/WaterPropertiesUS/WaterPropertiesUS.html), or from any fluid mechanics textbook.\n",
    "\n",
    "{numref}`labsetup` is a photograph of the experimental setup\n",
    "\n",
    "```{figure} labsetup.png\n",
    "---\n",
    "width: 400px\n",
    "name: labsetup\n",
    "---\n",
    "Photograph of Laboratory Set-Up (for Low-Flow Measurements)\n",
    "```"
   ]
  },
  {
   "cell_type": "markdown",
   "metadata": {},
   "source": [
    "## Laboratory Setup\n",
    "\n",
    "The experimental setup (pictured above) includes:\n",
    "\n",
    "- Hydraulic bench connected to a header tank and test pipe.\n",
    "- A hand-held pressure meter for measurements.\n",
    "- Equipment for flow rate adjustments and air bleeding.\n",
    "\n",
    "When available the experiment will also incorporate the flowmeter/datalogger as described elsewhere, and a pressure transducer/datalogger described at [Pressure Transducer/Datalogger](http://54.243.252.9/ce-3105-webroot/ce3105notes/_build/html/lessons/laboratory44/laboratory44.html)"
   ]
  },
  {
   "cell_type": "markdown",
   "metadata": {},
   "source": [
    "## References\n",
    "\n",
    "1. [Laboratory 4 (circa 2020)](http://54.243.252.9/ce-3105-webroot/pdf-source/Experiment4FrictionLossinaPipe.pdf)\n",
    "2. [H-7 Friction Loss in a Pipe (User Manual)](http://54.243.252.9/ce-3105-webroot/7-user-manuals/H7-FrictionLossInAPipe.pdf)"
   ]
  },
  {
   "cell_type": "markdown",
   "metadata": {},
   "source": [
    "## Laboratory Objectives\n",
    "1. Observe how flow behavior changes with velocity and Reynolds number.\n",
    "2. Measure the variation in frictional loss with changing velocity.\n",
    "3. Develop continued experience with automated data aquisition, by using the flowmeter calibrated in a prior laboratory (**you will need the correct meter constant you determined in the prior lab exercise**)\n",
    "4. Employ electronic pressure transducers using a similar end-user programmed automated data logger (**you will find the voltage to pressure conversion constant as part of this lab**)\n",
    "5. Develop an experimental protocol (step-by-step instructions) to measure flow (two methods), pressure drop (three methods), and head loss (computed), and Reynolds' number (computed).\n",
    "6. Upon approval of the protocol, conduct a set of experiments in triplicate to measure measure flow, and pressure drop.\n",
    "7. Document the experiment(s) into a laboratory report and address the following in the report:\n",
    "  - Compare the flow rate using stopwatch and bucketto the flowmeter (Raspberry Pi); are the low flows even measurable with the flowmeter? \n",
    "  - Compare the pressure drop using the manometers and calculator, the handheld pressure instrument, and the automated datalogger system.  Using the manometer and hand-held as \"ground-truth\" determine the multiplier on the output voltages from the datalogger required to convert these readings into a pressure.  Do the transducers appear to be linear?\n",
    "  - Experiments are conducted in triplicate, so you can compute mean values and standard deviations; what does this information tell us about the accuracy of the measurements?, What does it tell us about the repeatability of the measurements?\n",
    "  - Do the automated methods (because of high sampling rate) provide a benefit in terms of mean and variance?\n",
    " - What are some potential sources of errors in your lab experiments. \n",
    " \n",
    ":::{warning}\n",
    "The protocol is evaluated to ensure that the envisioned procedures can be safely conducted under appropriate supervision.  The experiments may produce incomplete results if steps are ommitted.  \n",
    ":::"
   ]
  },
  {
   "cell_type": "markdown",
   "metadata": {},
   "source": [
    "## Deliverables\n",
    "\n",
    "1. Develop an **experimental protocol** (step-by-step instructions) Develop an experimental protocol (step-by-step instructions) to measure flow (two methods), pressure drop (three methods), and head loss (computed), and Reynolds' number (computed).  Submitted in advance for instructor approval - the protocol becomes part of your laboratory report.\n",
    "2. **Laboratory Report** documenting the actual experiments, and other required content including comparison to tabulated values."
   ]
  }
 ],
 "metadata": {
  "kernelspec": {
   "display_name": "Python 3 (ipykernel)",
   "language": "python",
   "name": "python3"
  },
  "language_info": {
   "codemirror_mode": {
    "name": "ipython",
    "version": 3
   },
   "file_extension": ".py",
   "mimetype": "text/x-python",
   "name": "python",
   "nbconvert_exporter": "python",
   "pygments_lexer": "ipython3",
   "version": "3.10.12"
  }
 },
 "nbformat": 4,
 "nbformat_minor": 4
}
